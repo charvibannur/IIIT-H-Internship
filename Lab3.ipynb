{
  "cells": [
    {
      "cell_type": "markdown",
      "metadata": {
        "id": "3Eu9VZbF01eq"
      },
      "source": [
        "#SRISHTI'23 Tutorial 03 <br>\n",
        "\n",
        "# Machine learning terms and metrics\n",
        "Module Coordinator: Amit Pandey amit.pandey@research.iiit.ac.in <br>\n",
        "<br>\n",
        "\n",
        " In this lab, we will show a part of the ML pipeline by extracting features, training and testing. We will also explore how data augmentation affects accuracy."
      ]
    },
    {
      "cell_type": "code",
      "execution_count": 1,
      "metadata": {
        "id": "8qBvyEem0vLi"
      },
      "outputs": [],
      "source": [
        "import matplotlib.pyplot as plt\n",
        "import numpy as np\n",
        "from sklearn import datasets\n",
        "# set randomseed\n",
        "rng = np.random.default_rng(seed=42)"
      ]
    },
    {
      "cell_type": "markdown",
      "metadata": {
        "id": "u3t59g5s1HfC"
      },
      "source": [
        "In this lab, we will use the California Housing dataset. There are 20640 samples, each with 8 attributes like income of the block, age of the houses per district etc. The task is to predict the cost of the houses per district. \n",
        "\n",
        "Let us download and examine the dataset. "
      ]
    },
    {
      "cell_type": "code",
      "execution_count": 2,
      "metadata": {
        "colab": {
          "base_uri": "https://localhost:8080/"
        },
        "id": "8LpqjN991GGJ",
        "outputId": "134d032f-4098-4677-b5da-a30f56115ca8"
      },
      "outputs": [
        {
          "output_type": "stream",
          "name": "stdout",
          "text": [
            "(20640, 8)\n",
            "(20640,)\n"
          ]
        },
        {
          "output_type": "stream",
          "name": "stderr",
          "text": [
            "<ipython-input-2-60ae2e9a125e>:4: DeprecationWarning: `np.int` is a deprecated alias for the builtin `int`. To silence this warning, use `int` by itself. Doing this will not modify any behavior and is safe. When replacing `np.int`, you may wish to use e.g. `np.int64` or `np.int32` to specify the precision. If you wish to review your current use, check the release note link for additional information.\n",
            "Deprecated in NumPy 1.20; for more details and guidance: https://numpy.org/devdocs/release/1.20.0-notes.html#deprecations\n",
            "  dataset.target = dataset.target.astype(np.int) # so that we can classify\n"
          ]
        }
      ],
      "source": [
        " dataset =  datasets.fetch_california_housing()\n",
        " # print(dataset.DESCR)  # uncomment this if you want to know more about this dataset\n",
        " # print(dataset.keys())  # if you want to know what else is there in this dataset\n",
        " dataset.target = dataset.target.astype(np.int) # so that we can classify\n",
        " print(dataset.data.shape)\n",
        " print(dataset.target.shape)"
      ]
    },
    {
      "cell_type": "markdown",
      "metadata": {
        "id": "iNx4174W5xRg"
      },
      "source": [
        "Here is a function for calculating the 1-nearest neighbours"
      ]
    },
    {
      "cell_type": "code",
      "execution_count": 3,
      "metadata": {
        "colab": {
          "base_uri": "https://localhost:8080/"
        },
        "id": "ut5lj4HsaTfp",
        "outputId": "4e6d45b6-3fd4-4cc4-9fb0-70cc46631d14"
      },
      "outputs": [
        {
          "output_type": "execute_result",
          "data": {
            "text/plain": [
              "(sklearn.utils._bunch.Bunch,\n",
              " '.. _california_housing_dataset:\\n\\nCalifornia Housing dataset\\n--------------------------\\n\\n**Data Set Characteristics:**\\n\\n    :Number of Instances: 20640\\n\\n    :Number of Attributes: 8 numeric, predictive attributes and the target\\n\\n    :Attribute Information:\\n        - MedInc        median income in block group\\n        - HouseAge      median house age in block group\\n        - AveRooms      average number of rooms per household\\n        - AveBedrms     average number of bedrooms per household\\n        - Population    block group population\\n        - AveOccup      average number of household members\\n        - Latitude      block group latitude\\n        - Longitude     block group longitude\\n\\n    :Missing Attribute Values: None\\n\\nThis dataset was obtained from the StatLib repository.\\nhttps://www.dcc.fc.up.pt/~ltorgo/Regression/cal_housing.html\\n\\nThe target variable is the median house value for California districts,\\nexpressed in hundreds of thousands of dollars ($100,000).\\n\\nThis dataset was derived from the 1990 U.S. census, using one row per census\\nblock group. A block group is the smallest geographical unit for which the U.S.\\nCensus Bureau publishes sample data (a block group typically has a population\\nof 600 to 3,000 people).\\n\\nA household is a group of people residing within a home. Since the average\\nnumber of rooms and bedrooms in this dataset are provided per household, these\\ncolumns may take surprisingly large values for block groups with few households\\nand many empty houses, such as vacation resorts.\\n\\nIt can be downloaded/loaded using the\\n:func:`sklearn.datasets.fetch_california_housing` function.\\n\\n.. topic:: References\\n\\n    - Pace, R. Kelley and Ronald Barry, Sparse Spatial Autoregressions,\\n      Statistics and Probability Letters, 33 (1997) 291-297\\n')"
            ]
          },
          "metadata": {},
          "execution_count": 3
        }
      ],
      "source": [
        "type(dataset), dataset.DESCR"
      ]
    },
    {
      "cell_type": "code",
      "execution_count": 4,
      "metadata": {
        "colab": {
          "base_uri": "https://localhost:8080/"
        },
        "id": "07zpydQj1hIQ",
        "outputId": "aae306f3-02a1-41d9-fbba-70027bbcac75"
      },
      "outputs": [
        {
          "output_type": "execute_result",
          "data": {
            "text/plain": [
              "(0, 0)"
            ]
          },
          "metadata": {},
          "execution_count": 4
        }
      ],
      "source": [
        "def NN1(traindata, trainlabel, query):\n",
        "  diff  = traindata - query  # find the difference between features. Numpy automatically takes care of the size here \n",
        "  sq = diff*diff # square the differences\n",
        "  dist = sq.sum(1) # add up the squares\n",
        "  label = trainlabel[np.argmin(dist)] # our predicted label is the label of the training data which has the least distance from the query\n",
        "  return label\n",
        "\n",
        "def NN(traindata, trainlabel, testdata):\n",
        "  # we will run nearest neighbour for each sample in the test data \n",
        "  # and collect the predicted classes in an array using list comprehension\n",
        "  predlabel = np.array([NN1(traindata, trainlabel, i) for i in testdata])\n",
        "  return predlabel\n",
        "\n",
        "\n",
        "\n",
        "5,5\n",
        "6,6\n",
        "8,8\n",
        "\n",
        "\n",
        "0,0"
      ]
    },
    {
      "cell_type": "markdown",
      "metadata": {
        "id": "03JktkfIGaje"
      },
      "source": [
        "We will also define a 'random classifier', which randomly allots labels to each sample"
      ]
    },
    {
      "cell_type": "code",
      "execution_count": 5,
      "metadata": {
        "id": "fogWAtjyGhAH"
      },
      "outputs": [],
      "source": [
        "def RandomClassifier(traindata, trainlabel, testdata):\n",
        "  # in reality, we don't need these arguments\n",
        "\n",
        "  classes = np.unique(trainlabel)\n",
        "  rints = rng.integers(low=0, high=len(classes), size=len(testdata))\n",
        "  predlabel = classes[rints]\n",
        "  return predlabel"
      ]
    },
    {
      "cell_type": "markdown",
      "metadata": {
        "id": "1Hjf1KHs7fU5"
      },
      "source": [
        "Let us define a metric 'Accuracy' to see how good our learning algorithm is. Accuracy is the ratio of the number of correctly classified samples to the total number of samples. The higher the accuracy, the better the algorithm. "
      ]
    },
    {
      "cell_type": "code",
      "execution_count": 6,
      "metadata": {
        "id": "ouuCqWU07bz-"
      },
      "outputs": [],
      "source": [
        "def Accuracy(gtlabel, predlabel):\n",
        "  assert len(gtlabel)==len(predlabel), \"Length of the groundtruth labels and predicted labels should be the same\"\n",
        "  correct = (gtlabel==predlabel).sum() # count the number of times the groundtruth label is equal to the predicted label.\n",
        "  return correct/len(gtlabel)"
      ]
    },
    {
      "cell_type": "markdown",
      "metadata": {
        "id": "4vJFwBFa9Klw"
      },
      "source": [
        "Let us make a function to split the dataset with the desired probability."
      ]
    },
    {
      "cell_type": "code",
      "execution_count": 7,
      "metadata": {
        "id": "Ko0VzpSM2Tdi"
      },
      "outputs": [],
      "source": [
        "def split(data, label, percent):\n",
        "  # generate a random number for each sample\n",
        "  rnd = rng.random(len(label))\n",
        "  split1 = rnd<percent\n",
        "  split2 = rnd>=percent\n",
        "  split1data = data[split1,:]\n",
        "  split1label = label[split1]\n",
        "  split2data = data[split2,:]\n",
        "  split2label = label[split2]\n",
        "  return split1data, split1label, split2data, split2label"
      ]
    },
    {
      "cell_type": "markdown",
      "metadata": {
        "id": "AcK3LEAJ_LGC"
      },
      "source": [
        "We will reserve 20% of our dataset as the test set. We will not change this portion throughout our experiments"
      ]
    },
    {
      "cell_type": "code",
      "execution_count": 8,
      "metadata": {
        "colab": {
          "base_uri": "https://localhost:8080/"
        },
        "id": "bBZkHBLJ1iU-",
        "outputId": "26e80a7b-a8bc-4ea4-d177-f6927032734b"
      },
      "outputs": [
        {
          "output_type": "stream",
          "name": "stdout",
          "text": [
            "Number of test samples =  4144\n",
            "Number of other samples =  16496\n",
            "Percent of test data =  20.07751937984496 %\n"
          ]
        }
      ],
      "source": [
        "testdata, testlabel, alltraindata, alltrainlabel = split(dataset.data, dataset.target, 20/100)\n",
        "print('Number of test samples = ', len(testlabel))\n",
        "print('Number of other samples = ', len(alltrainlabel))\n",
        "print('Percent of test data = ', len(testlabel)*100/len(dataset.target),'%')"
      ]
    },
    {
      "cell_type": "markdown",
      "metadata": {
        "id": "a6Ss0Z6IAGNV"
      },
      "source": [
        "## Experiments with splits\n",
        "\n",
        "Let us reserve some of our train data as a validation set"
      ]
    },
    {
      "cell_type": "code",
      "execution_count": 9,
      "metadata": {
        "id": "WFew2iry_7W7"
      },
      "outputs": [],
      "source": [
        "traindata, trainlabel, valdata, vallabel = split(alltraindata, alltrainlabel, 75/100)"
      ]
    },
    {
      "cell_type": "markdown",
      "metadata": {
        "id": "60hiu4clFN1i"
      },
      "source": [
        "What is the accuracy of our classifiers on the train dataset?"
      ]
    },
    {
      "cell_type": "code",
      "execution_count": 10,
      "metadata": {
        "colab": {
          "base_uri": "https://localhost:8080/"
        },
        "id": "DBlZDTHUFTZx",
        "outputId": "ac494e75-0b84-41d6-e0bf-44c14b41657c"
      },
      "outputs": [
        {
          "output_type": "stream",
          "name": "stdout",
          "text": [
            "Train accuracy using nearest neighbour is  1.0\n",
            "Train accuracy using random classifier is  0.164375808538163\n"
          ]
        }
      ],
      "source": [
        "trainpred = NN(traindata, trainlabel, traindata)\n",
        "trainAccuracy = Accuracy(trainlabel, trainpred)\n",
        "print(\"Train accuracy using nearest neighbour is \", trainAccuracy)\n",
        "\n",
        "trainpred = RandomClassifier(traindata, trainlabel, traindata)\n",
        "trainAccuracy = Accuracy(trainlabel, trainpred)\n",
        "print(\"Train accuracy using random classifier is \", trainAccuracy)"
      ]
    },
    {
      "cell_type": "code",
      "execution_count": 11,
      "metadata": {
        "colab": {
          "base_uri": "https://localhost:8080/"
        },
        "id": "jnMblJyaXKZZ",
        "outputId": "c26dc26c-1fe2-476f-cab9-24e10795035c"
      },
      "outputs": [
        {
          "output_type": "execute_result",
          "data": {
            "text/plain": [
              "(15, 5)"
            ]
          },
          "metadata": {},
          "execution_count": 11
        }
      ],
      "source": [
        "A = 15\n",
        "B = 16\n",
        "C = 10\n",
        "\n",
        "5,5 -A\n",
        "6,6 -B\n",
        "7,7 -C\n",
        "\n",
        "8,8 - A | C\n",
        "0,0 -B | A   - 0\n",
        "\n",
        "10,10     -A\n",
        "15,15     -C"
      ]
    },
    {
      "cell_type": "markdown",
      "metadata": {
        "id": "tW_I-YuhbQqA"
      },
      "source": [
        "## Interesting: See how train accuracy of nearest neighbour is 1 i.e. 100%. Ponder and Explain."
      ]
    },
    {
      "cell_type": "markdown",
      "source": [
        "### Answer"
      ],
      "metadata": {
        "id": "TtaGolVfKvN7"
      }
    },
    {
      "cell_type": "markdown",
      "source": [
        "This happens because the k-NN algorithm is a type of instance-based or memory-based learning algorithm.\n",
        "\n",
        "In k-NN with k=1, during the training phase, the algorithm simply memorizes all the training instances along with their corresponding class labels. When it comes to classifying a new instance, the algorithm looks for the nearest neighbor(s) in the training set, based on a distance metric such as Euclidean distance, and assigns the class label of the nearest neighbor(s) to the new instance.\n",
        "\n",
        "Since k=1, the algorithm finds the nearest neighbor in the training set, which will always be the instance itself during the training phase. Consequently, the algorithm perfectly matches the new instance to its own identical training instance and assigns the correct class label. Therefore, the train accuracy of 1 is obtained."
      ],
      "metadata": {
        "id": "EuZI3cb2Kqlr"
      }
    },
    {
      "cell_type": "markdown",
      "metadata": {
        "id": "7h08-9gJDtSy"
      },
      "source": [
        "For nearest neighbour, the train accuracy is always 1. The accuracy of the random classifier is close to 1/(number of classes) which is 0.1666 in our case.\n",
        "\n",
        "Let us predict the labels for our validation set and get the accuracy"
      ]
    },
    {
      "cell_type": "code",
      "execution_count": 12,
      "metadata": {
        "colab": {
          "base_uri": "https://localhost:8080/"
        },
        "id": "4h7bXoW_2H3v",
        "outputId": "541d6c04-254f-4965-8edb-71bc4aa55654"
      },
      "outputs": [
        {
          "output_type": "stream",
          "name": "stdout",
          "text": [
            "Validation accuracy using nearest neighbour is  0.34108527131782945\n",
            "Validation accuracy using random classifier is  0.1688468992248062\n"
          ]
        }
      ],
      "source": [
        "valpred = NN(traindata, trainlabel, valdata)\n",
        "valAccuracy = Accuracy(vallabel, valpred)\n",
        "print(\"Validation accuracy using nearest neighbour is \", valAccuracy)\n",
        "\n",
        "valpred = RandomClassifier(traindata, trainlabel, valdata)\n",
        "valAccuracy = Accuracy(vallabel, valpred)\n",
        "print(\"Validation accuracy using random classifier is \", valAccuracy)"
      ]
    },
    {
      "cell_type": "markdown",
      "metadata": {
        "id": "py9bLguFEjfg"
      },
      "source": [
        "Validation accuracy of nearest neighbour is considerably less than its train accuracy while the validation accuracy of random classifier is the same. However, the validation accuracy of nearest neighbour is twice that of the random classifier. \n",
        "\n",
        "Now let us try another random split and check the validation accuracy"
      ]
    },
    {
      "cell_type": "code",
      "execution_count": 13,
      "metadata": {
        "colab": {
          "base_uri": "https://localhost:8080/"
        },
        "id": "ujm3cyYzEntE",
        "outputId": "fafd50f5-bbff-46c1-e8d3-5b1ad578bea6"
      },
      "outputs": [
        {
          "output_type": "stream",
          "name": "stdout",
          "text": [
            "Validation accuracy of nearest neighbour is  0.34048257372654156\n"
          ]
        }
      ],
      "source": [
        "traindata, trainlabel, valdata, vallabel = split(alltraindata, alltrainlabel, 75/100)\n",
        "valpred = NN(traindata, trainlabel, valdata)\n",
        "valAccuracy = Accuracy(vallabel, valpred)\n",
        "print(\"Validation accuracy of nearest neighbour is \", valAccuracy)"
      ]
    },
    {
      "cell_type": "markdown",
      "metadata": {
        "id": "oSOx7U83EKie"
      },
      "source": [
        "You can run the above cell multiple times to try with different random splits. \n",
        "We notice that the accuracy is different for each run, but close together. \n",
        "\n",
        "Now let us compare it with the accuracy we get on the test dataset. "
      ]
    },
    {
      "cell_type": "code",
      "execution_count": 14,
      "metadata": {
        "colab": {
          "base_uri": "https://localhost:8080/"
        },
        "id": "PNEZ5ToYBEDW",
        "outputId": "a4613cb0-37dd-44fe-83d2-b69ada3238dc"
      },
      "outputs": [
        {
          "output_type": "stream",
          "name": "stdout",
          "text": [
            "Test accuracy is  0.34917953667953666\n"
          ]
        }
      ],
      "source": [
        "testpred = NN(alltraindata, alltrainlabel, testdata)\n",
        "testAccuracy = Accuracy(testlabel, testpred)\n",
        "print('Test accuracy is ', testAccuracy)"
      ]
    },
    {
      "cell_type": "markdown",
      "metadata": {
        "id": "w3dGD531K3gH"
      },
      "source": [
        "### Try it out for yourself and answer:\n",
        "1. How is the accuracy of the validation set affected if we increase the percentage of validation set? What happens when we reduce it?\n",
        "2. How does the size of the train and validation set affect how well we can predict the accuracy on the test set using the validation set?\n",
        "3. What do you think is a good percentage to reserve for the validation set so that thest two factors are balanced? \n",
        "\n",
        "Answer for both nearest neighbour and random classifier. You can note down the values for your experiments and plot a graph using  <a href=https://matplotlib.org/stable/gallery/lines_bars_and_markers/step_demo.html#sphx-glr-gallery-lines-bars-and-markers-step-demo-py>plt.plot<href>. Check also for extreme values for splits, like 99.9% or 0.1%"
      ]
    },
    {
      "cell_type": "markdown",
      "source": [
        "### Answers"
      ],
      "metadata": {
        "id": "Ez9WedcBH2Gf"
      }
    },
    {
      "cell_type": "markdown",
      "source": [
        "Question 1"
      ],
      "metadata": {
        "id": "YzfRlsXlH5HJ"
      }
    },
    {
      "cell_type": "code",
      "source": [
        "traindata, trainlabel, valdata, vallabel = split(alltraindata, alltrainlabel, 40/100)\n",
        "valpred = NN(traindata, trainlabel, valdata)\n",
        "valAccuracy = Accuracy(vallabel, valpred)\n",
        "print(\"Validation accuracy of nearest neighbour is \", valAccuracy)"
      ],
      "metadata": {
        "colab": {
          "base_uri": "https://localhost:8080/"
        },
        "id": "O69ddfHaHKMh",
        "outputId": "b0adb28c-566e-49af-95e3-c1a0cae7edb9"
      },
      "execution_count": 18,
      "outputs": [
        {
          "output_type": "stream",
          "name": "stdout",
          "text": [
            "Validation accuracy of nearest neighbour is  0.33440514469453375\n"
          ]
        }
      ]
    },
    {
      "cell_type": "code",
      "source": [
        "traindata, trainlabel, valdata, vallabel = split(alltraindata, alltrainlabel, 60/100)\n",
        "valpred = NN(traindata, trainlabel, valdata)\n",
        "valAccuracy = Accuracy(vallabel, valpred)\n",
        "print(\"Validation accuracy of nearest neighbour is \", valAccuracy)"
      ],
      "metadata": {
        "colab": {
          "base_uri": "https://localhost:8080/"
        },
        "id": "SL2n7SZEHcpg",
        "outputId": "84506bc3-8fcf-4391-d8e4-bba84b890dd0"
      },
      "execution_count": 17,
      "outputs": [
        {
          "output_type": "stream",
          "name": "stdout",
          "text": [
            "Validation accuracy of nearest neighbour is  0.3386532907736738\n"
          ]
        }
      ]
    },
    {
      "cell_type": "code",
      "source": [
        "traindata, trainlabel, valdata, vallabel = split(alltraindata, alltrainlabel, 80/100)\n",
        "valpred = NN(traindata, trainlabel, valdata)\n",
        "valAccuracy = Accuracy(vallabel, valpred)\n",
        "print(\"Validation accuracy of nearest neighbour is \", valAccuracy)"
      ],
      "metadata": {
        "colab": {
          "base_uri": "https://localhost:8080/"
        },
        "id": "VE5ghTlrHk_L",
        "outputId": "4709f131-db19-4f4e-ae7a-84d5137f6127"
      },
      "execution_count": 21,
      "outputs": [
        {
          "output_type": "stream",
          "name": "stdout",
          "text": [
            "Validation accuracy of nearest neighbour is  0.34130105900151286\n"
          ]
        }
      ]
    },
    {
      "cell_type": "code",
      "source": [
        "traindata, trainlabel, valdata, vallabel = split(alltraindata, alltrainlabel, 90/100)\n",
        "valpred = NN(traindata, trainlabel, valdata)\n",
        "valAccuracy = Accuracy(vallabel, valpred)\n",
        "print(\"Validation accuracy of nearest neighbour is \", valAccuracy)"
      ],
      "metadata": {
        "colab": {
          "base_uri": "https://localhost:8080/"
        },
        "id": "ChlchxuXIXSP",
        "outputId": "48522c86-e4dd-47a3-f804-11f55c00b43a"
      },
      "execution_count": 22,
      "outputs": [
        {
          "output_type": "stream",
          "name": "stdout",
          "text": [
            "Validation accuracy of nearest neighbour is  0.36292270531400966\n"
          ]
        }
      ]
    },
    {
      "cell_type": "code",
      "source": [
        "traindata, trainlabel, valdata, vallabel = split(alltraindata, alltrainlabel, 99.9/100)\n",
        "valpred = NN(traindata, trainlabel, valdata)\n",
        "valAccuracy = Accuracy(vallabel, valpred)\n",
        "print(\"Validation accuracy of nearest neighbour is \", valAccuracy)"
      ],
      "metadata": {
        "colab": {
          "base_uri": "https://localhost:8080/"
        },
        "id": "coMj0e27JBr-",
        "outputId": "f021ce75-88a4-49ac-d2f1-26535a3dc565"
      },
      "execution_count": 23,
      "outputs": [
        {
          "output_type": "stream",
          "name": "stdout",
          "text": [
            "Validation accuracy of nearest neighbour is  0.4444444444444444\n"
          ]
        }
      ]
    },
    {
      "cell_type": "code",
      "source": [
        "traindata, trainlabel, valdata, vallabel = split(alltraindata, alltrainlabel, 0.01/100)\n",
        "valpred = NN(traindata, trainlabel, valdata)\n",
        "valAccuracy = Accuracy(vallabel, valpred)\n",
        "print(\"Validation accuracy of nearest neighbour is \", valAccuracy)"
      ],
      "metadata": {
        "colab": {
          "base_uri": "https://localhost:8080/"
        },
        "id": "_AlFso-kJE_R",
        "outputId": "1a9ea0c5-8649-45b5-acac-c0c030e6ecef"
      },
      "execution_count": 25,
      "outputs": [
        {
          "output_type": "stream",
          "name": "stdout",
          "text": [
            "Validation accuracy of nearest neighbour is  0.289395501121688\n"
          ]
        }
      ]
    },
    {
      "cell_type": "markdown",
      "source": [
        "The accuracy of the validation set can be affected when we increase or decrease the percentage of data allocated to it. Here's how it typically works:\n",
        "\n",
        "Increasing the percentage of the validation set: When you allocate a larger portion of your data to the validation set, it usually leads to a decrease in the accuracy of the validation set. This happens because with a larger validation set, the model has access to fewer training examples, which can limit its ability to learn and generalize effectively. As a result, the model may struggle to perform well on unseen data, leading to a decrease in validation accuracy.\n",
        "\n",
        "Decreasing the percentage of the validation set: Conversely, when you reduce the percentage of the validation set, it often results in an increase in the accuracy of the validation set. By reducing the amount of data used for validation, you allocate more data for training the model. With a larger training set, the model has access to more diverse examples, which can help it learn better representations and improve its generalization. Consequently, the model may perform better on unseen data, leading to an increase in validation accuracy"
      ],
      "metadata": {
        "id": "FCll7NP5HJEA"
      }
    },
    {
      "cell_type": "markdown",
      "source": [
        "Question 2"
      ],
      "metadata": {
        "id": "ZSaxBKZwH7ta"
      }
    },
    {
      "cell_type": "markdown",
      "source": [
        "The size of the train and validation set can have an impact on how accurately we can predict the performance of the model on the test set using the validation set. Here's how it generally works:\n",
        "\n",
        "Larger train and validation sets: When you have larger train and validation sets, you typically get more reliable predictions of the model's performance on the test set. With more data for training and validation, the model has a better opportunity to learn robust patterns and generalize well. This allows for a more accurate estimation of its performance on unseen data. However, it's important to ensure that the train and validation sets are representative of the test set to obtain reliable predictions.\n",
        "\n",
        "Smaller train and validation sets: Conversely, if the train and validation sets are relatively small, the predictions of the model's performance on the test set using the validation set may be less reliable. With limited data, the model may struggle to capture the full complexity of the problem and may not generalize well. Consequently, the estimated accuracy on the test set based on a small validation set might not be a true reflection of the model's actual performance."
      ],
      "metadata": {
        "id": "sWGpbm4gIS6A"
      }
    },
    {
      "cell_type": "markdown",
      "source": [
        "Question 3"
      ],
      "metadata": {
        "id": "L3tbxMM0Id0g"
      }
    },
    {
      "cell_type": "markdown",
      "source": [
        "Determining the optimal percentage to reserve for the validation set depends on several factors, including the size of your overall dataset, the complexity of the problem, and the availability of data. While there is no one-size-fits-all answer, a commonly used practice is to allocate around 20% to 30% of the data for the validation set. This range is often considered a good balance between having enough data for training and ensuring a sufficiently sized validation set for reliable performance estimation."
      ],
      "metadata": {
        "id": "G6cdMFi8IgjC"
      }
    },
    {
      "cell_type": "markdown",
      "source": [
        "plots"
      ],
      "metadata": {
        "id": "jI6sU_09Jfaz"
      }
    },
    {
      "cell_type": "code",
      "source": [
        "import matplotlib.pyplot as plt\n",
        "\n",
        "# Data points\n",
        "x_values = [0.01, 40, 60, 80, 90, 99.9]\n",
        "y_values = [28.9, 33.4, 33.8, 34.1, 36.3, 44.4]\n",
        "\n",
        "# Plotting the line graph\n",
        "plt.plot(x_values, y_values, marker='o', linestyle='-', color='b')\n",
        "\n",
        "# Labeling the axes\n",
        "plt.xlabel('Train split')\n",
        "plt.ylabel('Accuracy')\n",
        "\n",
        "# Title of the graph\n",
        "plt.title('Line Graph')\n",
        "\n",
        "# Displaying the graph\n",
        "plt.show()\n"
      ],
      "metadata": {
        "colab": {
          "base_uri": "https://localhost:8080/",
          "height": 472
        },
        "id": "9_76A5FtJg2O",
        "outputId": "96e2e546-170e-448c-e58a-f465f4c90e78"
      },
      "execution_count": 26,
      "outputs": [
        {
          "output_type": "display_data",
          "data": {
            "text/plain": [
              "<Figure size 640x480 with 1 Axes>"
            ],
            "image/png": "[encoded data removed]"
          },
          "metadata": {}
        }
      ]
    },
    {
      "cell_type": "code",
      "source": [
        "import matplotlib.pyplot as plt\n",
        "\n",
        "# Data points\n",
        "x_values = [99.99, 60, 40, 20, 10, 0.1]\n",
        "y_values = [28.9, 33.4, 33.8, 34.1, 36.3, 44.4]\n",
        "\n",
        "# Plotting the line graph\n",
        "plt.plot(x_values, y_values, marker='o', linestyle='-', color='b')\n",
        "\n",
        "# Labeling the axes\n",
        "plt.xlabel('Val split')\n",
        "plt.ylabel('Accuracy')\n",
        "\n",
        "# Title of the graph\n",
        "plt.title('Line Graph')\n",
        "\n",
        "# Displaying the graph\n",
        "plt.show()\n"
      ],
      "metadata": {
        "colab": {
          "base_uri": "https://localhost:8080/",
          "height": 472
        },
        "id": "vQWUbLHJKKwu",
        "outputId": "d25dc134-41d1-40f9-817e-75b2b756d031"
      },
      "execution_count": 28,
      "outputs": [
        {
          "output_type": "display_data",
          "data": {
            "text/plain": [
              "<Figure size 640x480 with 1 Axes>"
            ],
            "image/png": "[encoded data removed]"
          },
          "metadata": {}
        }
      ]
    },
    {
      "cell_type": "markdown",
      "metadata": {
        "id": "PnYvkAZLQY7h"
      },
      "source": [
        "## Multiple Splits\n",
        "\n",
        "One way to get more accurate estimates for the test accuracy is by using <b>crossvalidation</b>. Here, we will try a simple version, where we do multiple train/val splits and take the average of validation accuracies as the test accuracy estimation. Here is a function for doing this. Note that this function will take a long time to execute. "
      ]
    },
    {
      "cell_type": "code",
      "execution_count": null,
      "metadata": {
        "id": "k-HGXSovYQ1v"
      },
      "outputs": [],
      "source": [
        "#100 --- 80 --- 75|5.   12345, 1234|5. 2345|1, 1345|2\n"
      ]
    },
    {
      "cell_type": "code",
      "execution_count": 29,
      "metadata": {
        "id": "E4nGCUQXBTzo"
      },
      "outputs": [],
      "source": [
        "# you can use this function for random classifier also\n",
        "def AverageAccuracy(alldata, alllabel, splitpercent, iterations, classifier=NN):\n",
        "  accuracy = 0\n",
        "  for ii in range(iterations):\n",
        "    traindata, trainlabel, valdata, vallabel = split(alldata, alllabel, splitpercent)\n",
        "    valpred = classifier(traindata, trainlabel, valdata)\n",
        "    accuracy += Accuracy(vallabel, valpred)\n",
        "  return accuracy/iterations # average of all accuracies"
      ]
    },
    {
      "cell_type": "code",
      "execution_count": 30,
      "metadata": {
        "colab": {
          "base_uri": "https://localhost:8080/"
        },
        "id": "H3qtNar7Bbik",
        "outputId": "f0083537-e5a7-41eb-9f2e-c29df81e468a"
      },
      "outputs": [
        {
          "output_type": "stream",
          "name": "stdout",
          "text": [
            "Average validation accuracy is  0.33796493560185425\n",
            "test accuracy is  0.34917953667953666\n"
          ]
        }
      ],
      "source": [
        "print('Average validation accuracy is ', AverageAccuracy(alltraindata, alltrainlabel, 75/100, 10, classifier=NN))\n",
        "testpred = NN(alltraindata, alltrainlabel, testdata)\n",
        "print('test accuracy is ',Accuracy(testlabel, testpred) )"
      ]
    },
    {
      "cell_type": "markdown",
      "metadata": {
        "id": "33GIn4x5VH-d"
      },
      "source": [
        "This is a very simple way of doing cross-validation. There are many well-known algorithms for cross-validation, like k-fold cross-validation, leave-one-out etc. This will be covered in detail in a later module. For more information about cross-validation, check <a href=https://en.wikipedia.org/wiki/Cross-validation_(statistics)>Cross-validatioin (Wikipedia)</a>\n",
        "\n",
        "### Questions\n",
        "1. Does averaging the validation accuracy across multiple splits give more consistent results?\n",
        "2. Does it give more accurate estimate of test accuracy?\n",
        "3. What is the effect of the number of iterations on the estimate? Do we get a better estimate with higher iterations?\n",
        "4. Consider the results you got for the previous questions. Can we deal with a very small train dataset or validation dataset by increasing the iterations?\n"
      ]
    },
    {
      "cell_type": "markdown",
      "source": [
        "### Answers"
      ],
      "metadata": {
        "id": "Qj84OJvwNIJn"
      }
    },
    {
      "cell_type": "markdown",
      "source": [
        "Question 1\n",
        "\n",
        "Averaging across multiple splits reduces the dependency on a single split, providing a more representative estimate of the model's performance.\n",
        "It allows for increased utilization of the dataset by leveraging the entire data for training and evaluation.\n",
        "Averaging results from multiple splits provides a better assessment of the model's generalization capabilities by capturing variations in the dataset.\n",
        "It enhances stability and confidence in the reported accuracy by smoothing out variations across different splits."
      ],
      "metadata": {
        "id": "-NskL-S7N1yW"
      }
    },
    {
      "cell_type": "markdown",
      "source": [
        "Question 2\n",
        "\n",
        "The above does not directly impact the test accuracy as it is merely a glimpse into the how the model will perform on unseen data."
      ],
      "metadata": {
        "id": "B-pyc8QCN4qd"
      }
    },
    {
      "cell_type": "markdown",
      "source": [
        "Question 3\n",
        "\n",
        "Increasing the number of iterations in cross-validation improves the estimate of the model's performance by providing a more stable and reliable evaluation. However, it comes with increased computational cost. While more iterations generally lead to better estimates, there are diminishing returns beyond a certain point. The optimal number of iterations depends on factors such as dataset size, variability, desired accuracy, and available computational resources."
      ],
      "metadata": {
        "id": "2YgSWXFBPVbS"
      }
    },
    {
      "cell_type": "markdown",
      "source": [
        "Question 4\n",
        "\n",
        "Increasing the number of iterations in cross-validation can help mitigate the impact of a small train or validation dataset. It provides a more comprehensive assessment by training on different subsets of the small training dataset and evaluating on different subsets of the small validation dataset. However, while it improves the estimate, it may not completely compensate for the limitations of a very small dataset. Additional techniques like data augmentation or acquiring more data may be needed in such cases."
      ],
      "metadata": {
        "id": "J-ZdLEjFPW56"
      }
    },
    {
      "cell_type": "markdown",
      "metadata": {
        "id": "UUft9G1acwlB"
      },
      "source": [
        "## Now let us see how augmentation affects accuracy. We will pick components from what we studied in the last module"
      ]
    },
    {
      "cell_type": "markdown",
      "metadata": {
        "id": "XtU3AfVDkkYM"
      },
      "source": [
        "we will experiment with MNIST dataset\n"
      ]
    },
    {
      "cell_type": "code",
      "execution_count": 31,
      "metadata": {
        "colab": {
          "base_uri": "https://localhost:8080/"
        },
        "id": "47HIwFsMkebm",
        "outputId": "4b228162-af4f-4fe8-970d-bdaa17c56c8b"
      },
      "outputs": [
        {
          "output_type": "stream",
          "name": "stdout",
          "text": [
            "Downloading data from https://storage.googleapis.com/tensorflow/tf-keras-datasets/mnist.npz\n",
            "11490434/11490434 [==============================] - 0s 0us/step\n",
            "(28, 28) 5\n"
          ]
        }
      ],
      "source": [
        "import numpy as np\n",
        "import matplotlib.pyplot as plt\n",
        "from keras.datasets import mnist\n",
        "# set randomseed\n",
        "rng = np.random.default_rng(seed=42)\n",
        "from sklearn.utils.extmath import cartesian\n",
        "from skimage.transform import rotate, AffineTransform, warp\n",
        "import math\n",
        "\n",
        "#loading the dataset\n",
        "(train_X, train_y), (test_X, test_y) = mnist.load_data()\n",
        "\n",
        "print(train_X[0].shape,train_y[0])\n",
        "\n"
      ]
    },
    {
      "cell_type": "code",
      "execution_count": 32,
      "metadata": {
        "id": "WW6ZGBcTkyXB"
      },
      "outputs": [],
      "source": [
        "train_X = train_X/255\n",
        "test_X = test_X/255\n",
        "\n",
        "#train_X[0].shape, train_X[0]"
      ]
    },
    {
      "cell_type": "code",
      "execution_count": 33,
      "metadata": {
        "id": "64ATS9mtk_mA"
      },
      "outputs": [],
      "source": [
        "train_X = train_X[::1200,:,:].copy() # subsample. Otherwise it will take too long!\n",
        "train_y = train_y[::1200].copy() # do the same to the labels"
      ]
    },
    {
      "cell_type": "code",
      "execution_count": 34,
      "metadata": {
        "id": "1WileBUqC404"
      },
      "outputs": [],
      "source": [
        "## Augmentation functions:\n",
        "\n",
        "\n",
        "\n",
        "def augRotate(sample, angleconstraint):\n",
        "  if angleconstraint==0:\n",
        "    return sample\n",
        "\n",
        "  print(\"shape of sample before is:\", sample.shape)\n",
        "  print(\"len(sample.shape)\", len(sample.shape))\n",
        "  if len(sample.shape)==2:\n",
        "    sample = np.expand_dims(sample, 0)  # make sure the sample is 3 dimensional\n",
        "    print(\"shape of sample is:\", sample.shape)\n",
        "  angle = rng.random(len(sample)) # generate random numbers for angles\n",
        "  print(\"angle is:\", angle)\n",
        "  angle = (angle-0.5)*angleconstraint # make the random angle constrained\n",
        "  print(\"angle with constraint is:\", angle)\n",
        "  nsample = sample.copy() # preallocate the augmented array to make it faster\n",
        "  for ii in range(len(sample)):\n",
        "    nsample[ii] = rotate(sample[ii], angle[ii])\n",
        "  return np.squeeze(nsample) # take care if the input had only one sample.\n",
        "\n",
        "\n",
        "def NN1(traindata, trainlabel, query):\n",
        "  diff  = traindata - query  # find the difference between features. Numpy automatically takes care of the size here \n",
        "  sq = diff*diff # square the differences\n",
        "  dist = sq.sum(1) # add up the squares\n",
        "  label = trainlabel[np.argmin(dist)] # our predicted label is the label of the training data which has the least distance from the query\n",
        "  return label\n",
        "\n",
        "def NN(traindata, trainlabel, testdata):\n",
        "  # we will run nearest neighbour for each sample in the test data \n",
        "  # and collect the predicted classes in an array using list comprehension\n",
        "  traindata = traindata.reshape(-1, 28*28)\n",
        "  testdata = testdata.reshape(-1,28*28)\n",
        "  predlabel = np.array([NN1(traindata, trainlabel, i) for i in testdata])\n",
        "  return predlabel\n",
        "\n",
        "def Accuracy(gtlabel, predlabel):\n",
        "  assert len(gtlabel)==len(predlabel), \"Length of the groundtruth labels and predicted labels should be the same\"\n",
        "  correct = (gtlabel==predlabel).sum() # count the number of times the groundtruth label is equal to the predicted label.\n",
        "  return correct/len(gtlabel)"
      ]
    },
    {
      "cell_type": "code",
      "execution_count": 35,
      "metadata": {
        "id": "BIsZ_Q5LqWEs"
      },
      "outputs": [],
      "source": [
        "def shear(sample, amount):\n",
        "  tform = AffineTransform(shear = amount) # create the shear transform\n",
        "  img = warp(sample, tform) # apply the shear\n",
        "  # this makes the digit off-center. Since all the images in the test set are centralized, we will do the same here\n",
        "  col = img.sum(0).nonzero()[0]\n",
        "  row = img.sum(1).nonzero()[0]\n",
        "  if len(col)>0 and len(row)>0:\n",
        "    xshift = int(sample.shape[0]/2 - (row[0]+row[-1])/2)\n",
        "    yshift = int(sample.shape[1]/2 - (col[0]+col[-1])/2)\n",
        "    img = np.roll(img, (xshift, yshift),(0,1))\n",
        "  return img\n",
        "\n",
        "def augShear(sample, shearconstraint):\n",
        "  if shearconstraint==0:\n",
        "    return sample\n",
        "  if len(sample.shape)==2:\n",
        "    sample = np.expand_dims(sample, 0)  # make sure the sample is 3 dimensional\n",
        "  amt = rng.random(len(sample)) # generate random numbers for shear\n",
        "  amt = (amt-0.5)*shearconstraint # make the random shear constrained\n",
        "  nsample = sample.copy() # preallocate the augmented array to make it faster\n",
        "  for ii in range(len(sample)):\n",
        "    nsample[ii] = shear(sample[ii], amt[ii])\n",
        "  return np.squeeze(nsample) # take care if the input had only one sample.\n",
        "\n",
        "\n"
      ]
    },
    {
      "cell_type": "markdown",
      "metadata": {
        "id": "vAFpOzQFj-2r"
      },
      "source": [
        "In this lab, we will use the image pixels themselves as features, instead of extracting features. Each image has 28*28 pixels, so we will flatten them to 784 pixels to use as features. Note that this is very compute intensive and will take a long time.\n",
        "\n",
        "Let us check the baseline accuracy on the test set without any augmentations. We hope that adding augmentations will help us to get better results."
      ]
    },
    {
      "cell_type": "code",
      "execution_count": 36,
      "metadata": {
        "colab": {
          "base_uri": "https://localhost:8080/"
        },
        "id": "dPNdNyFVj4pX",
        "outputId": "8cb0ae8b-2cf9-4337-f0a5-791863ea20ec"
      },
      "outputs": [
        {
          "output_type": "stream",
          "name": "stdout",
          "text": [
            "Baseline accuracy without augmentation is  0.6472\n"
          ]
        }
      ],
      "source": [
        "testpred = NN(train_X, train_y, test_X)\n",
        "print('Baseline accuracy without augmentation is ', Accuracy(test_y, testpred))"
      ]
    },
    {
      "cell_type": "markdown",
      "metadata": {
        "id": "MckdgpPflSYh"
      },
      "source": [
        "Let us try to improve this accuracy using augmentations. When we create augmentations, we have to make sure that the changes reflect what will naturally occur in the dataset. For example, we should not add colour to our samples as an augmentation because they do not naturally occur. We should not also flip the images in MNIST, because flipped images have different meanings for digits."
      ]
    },
    {
      "cell_type": "markdown",
      "metadata": {
        "id": "7aWfHHggmqu7"
      },
      "source": [
        "Let us augment the whole dataset and see if this improves the test accuracy"
      ]
    },
    {
      "cell_type": "code",
      "execution_count": 37,
      "metadata": {
        "colab": {
          "base_uri": "https://localhost:8080/"
        },
        "id": "Kdn0TZ_tlMg3",
        "outputId": "e55752ee-ca14-478b-8f77-7d1ebd314252"
      },
      "outputs": [
        {
          "output_type": "stream",
          "name": "stdout",
          "text": [
            "shape of sample before is: (50, 28, 28)\n",
            "len(sample.shape) 3\n",
            "angle is: [0.77395605 0.43887844 0.85859792 0.69736803 0.09417735 0.97562235\n",
            " 0.7611397  0.78606431 0.12811363 0.45038594 0.37079802 0.92676499\n",
            " 0.64386512 0.82276161 0.4434142  0.22723872 0.55458479 0.06381726\n",
            " 0.82763117 0.6316644  0.75808774 0.35452597 0.97069802 0.89312112\n",
            " 0.7783835  0.19463871 0.466721   0.04380377 0.15428949 0.68304895\n",
            " 0.74476216 0.96750973 0.32582536 0.37045971 0.46955581 0.18947136\n",
            " 0.12992151 0.47570493 0.22690935 0.66981399 0.43715192 0.8326782\n",
            " 0.7002651  0.31236664 0.8322598  0.80476436 0.38747838 0.2883281\n",
            " 0.6824955  0.13975248]\n",
            "angle with constraint is: [ 16.43736291  -3.66729361  21.51587519  11.84208174 -24.34935913\n",
            "  28.5373411   15.66838212  17.16385832 -22.31318204  -2.97684373\n",
            "  -7.75211855  25.60589933   8.6319072   19.3656968   -3.39514807\n",
            " -16.36567669   3.27508722 -26.17096463  19.65787032   7.89986395\n",
            "  15.48526441  -8.72844191  28.24188146  23.58726728  16.70300982\n",
            " -18.32167753  -1.99673978 -27.37177405 -20.74263048  10.98293719\n",
            "  14.68572935  28.05058395 -10.45047851  -7.77241764  -1.82665132\n",
            " -18.63171845 -22.20470968  -1.45770443 -16.38543906  10.18883968\n",
            "  -3.77088487  19.96069176  12.01590612 -11.25800152  19.93558808\n",
            "  18.28586145  -6.75129726 -12.70031376  10.94973024 -21.61485098]\n",
            "shape of sample before is: (50, 28, 28)\n",
            "len(sample.shape) 3\n",
            "angle is: [0.1999082  0.00736227 0.78692438 0.66485086 0.70516538 0.78072903\n",
            " 0.45891578 0.5687412  0.139797   0.11453007 0.66840296 0.47109621\n",
            " 0.56523611 0.76499886 0.63471832 0.5535794  0.55920716 0.3039501\n",
            " 0.03081783 0.43671739 0.21458467 0.40852864 0.85340307 0.23393949\n",
            " 0.05830274 0.28138389 0.29359376 0.66191651 0.55703215 0.78389821\n",
            " 0.66431354 0.40638686 0.81402038 0.16697292 0.02271207 0.09004786\n",
            " 0.72235935 0.46187723 0.16127178 0.50104478 0.1523121  0.69632038\n",
            " 0.44615628 0.38102123 0.30151209 0.63028259 0.36181261 0.08764992\n",
            " 0.1180059  0.96189766]\n",
            "angle with constraint is: [-18.00550785 -29.55826381  17.21546265   9.8910514   12.30992272\n",
            "  16.84374186  -2.46505347   4.12447176 -21.61218011 -23.12819559\n",
            "  10.10417771  -1.73422763   3.91416639  15.89993144   8.0830992\n",
            "   3.21476404   3.55242964 -11.76299412 -28.15092993  -3.79695665\n",
            " -17.12491963  -5.48828138  21.2041844  -15.96363085 -26.5018355\n",
            " -13.11696648 -12.38437453   9.71499088   3.42192914  17.03389255\n",
            "   9.85881242  -5.61678831  18.84122308 -19.98162481 -28.63727561\n",
            " -24.59712835  13.34156104  -2.28736618 -20.32369326   0.06268651\n",
            " -20.86127384  11.7792225   -3.23062347  -7.13872643 -11.90927465\n",
            "   7.81695559  -8.29124337 -24.74100484 -22.91964587  27.71385987]\n",
            "shape of sample before is: (50, 28, 28)\n",
            "len(sample.shape) 3\n",
            "angle is: [0.90858069 0.69970713 0.26586996 0.96917638 0.7787509  0.71689019\n",
            " 0.4493615  0.27224156 0.09639096 0.9026024  0.45577629 0.20236336\n",
            " 0.30595662 0.57921957 0.17677278 0.85661428 0.75851953 0.71946296\n",
            " 0.43209304 0.62730884 0.58409797 0.6498466  0.08444432 0.4158074\n",
            " 0.04161417 0.49399082 0.32986121 0.14452419 0.10340297 0.58764457\n",
            " 0.17059297 0.92512012 0.58106114 0.3468698  0.59091549 0.02280387\n",
            " 0.95855921 0.48230344 0.78273523 0.08273    0.48665833 0.49070699\n",
            " 0.93782645 0.57172805 0.4734894  0.26697566 0.331569   0.5206724\n",
            " 0.43891146 0.02161208]\n",
            "angle with constraint is: [ 24.51484144  11.98242803 -14.04780231  28.15058264  16.72505424\n",
            "  13.01341135  -3.03830987 -13.66550629 -24.21654227  24.15614379\n",
            "  -2.65342261 -17.85819811 -11.64260255   4.75317414 -19.39363302\n",
            "  21.39685705  15.51117179  13.16777736  -4.07441761   7.63853044\n",
            "   5.04587813   8.99079609 -24.93334073  -5.05155587 -27.50314957\n",
            "  -0.36055085 -10.20832726 -21.32854867 -23.79582194   5.25867433\n",
            " -19.76442189  25.5072071    4.86366838  -9.18781173   5.45492949\n",
            " -28.63176774  27.51355279  -1.06179378  16.96411364 -25.0362\n",
            "  -0.80050015  -0.55758034  26.2695873    4.30368314  -1.59063594\n",
            " -13.98146021 -10.10586016   1.24034415  -3.66531238 -28.70327521]\n",
            "shape of sample before is: (50, 28, 28)\n",
            "len(sample.shape) 3\n",
            "angle is: [0.82629192 0.89616077 0.14024909 0.55403614 0.10857574 0.67224009\n",
            " 0.28123378 0.65942263 0.72699461 0.76864749 0.10774095 0.91601185\n",
            " 0.23021399 0.03741256 0.55485247 0.37092228 0.82978974 0.80825147\n",
            " 0.31713889 0.9528994  0.29091784 0.51505713 0.25596509 0.93604357\n",
            " 0.16460782 0.04491062 0.43509706 0.99237556 0.89167727 0.74860802\n",
            " 0.89079249 0.89344664 0.51885836 0.31592905 0.77201243 0.66166126\n",
            " 0.37365773 0.09446667 0.74678961 0.26246052 0.93681315 0.24097058\n",
            " 0.12275793 0.83111267 0.15328432 0.17926831 0.59938279 0.87456204\n",
            " 0.19643467 0.31032367]\n",
            "angle with constraint is: [ 19.57751545  23.76964631 -21.58505466   3.24216861 -23.48545553\n",
            "  10.33440558 -13.12597297   9.56535808  13.61967686  16.11884952\n",
            " -23.53554324  24.96071071 -16.18716055 -27.75524663   3.29114816\n",
            "  -7.74466297  19.78738459  18.49508832 -10.97166643  27.1739637\n",
            " -12.54492971   0.90342775 -14.64209457  26.1626142  -20.12353095\n",
            " -27.30536284  -3.8941764   29.54253384  23.50063598  14.91648117\n",
            "  23.44754945  23.60679838   1.13150162 -11.04425689  16.32074593\n",
            "   9.69967579  -7.58053627 -24.33199992  14.80737668 -14.25236904\n",
            "  26.20878903 -15.5417655  -22.63452406  19.86676033 -20.802941\n",
            " -19.24390151   5.96296749  22.47372245 -18.21392006 -11.38057963]\n",
            "shape of sample before is: (50, 28, 28)\n",
            "len(sample.shape) 3\n",
            "angle is: [0.77740484 0.97182643 0.50074119 0.1438975  0.01393629 0.22965603\n",
            " 0.13182222 0.67765867 0.1218325  0.50632993 0.69426244 0.58111661\n",
            " 0.19977565 0.80412453 0.71540713 0.738984   0.13105775 0.1237538\n",
            " 0.92756255 0.39757819 0.30094869 0.48858405 0.66286421 0.95562326\n",
            " 0.28644623 0.92480843 0.02485949 0.55519804 0.63397511 0.1058974\n",
            " 0.1403396  0.41911432 0.96623191 0.59604255 0.93302322 0.80436092\n",
            " 0.4673816  0.78476345 0.01783678 0.109144   0.82942861 0.79681709\n",
            " 0.23264074 0.53076959 0.60601582 0.86773895 0.60310716 0.41257157\n",
            " 0.37418404 0.42588209]\n",
            "angle with constraint is: [ 16.64429029  28.30958556   0.04447117 -21.36614985 -29.16382274\n",
            " -16.2206382  -22.09066693  10.65952042 -22.69004972   0.3797959\n",
            "  11.65574614   4.86699655 -18.0134609   18.24747157  12.92442778\n",
            "  14.33904023 -22.13653491 -22.57477178  25.65375306  -6.14530837\n",
            " -11.94307849  -0.68495728   9.77185277  27.33739542 -12.81322639\n",
            "  25.48850576 -28.50843052   3.31188254   8.0385067  -23.64615577\n",
            " -21.57962418  -4.85314084  27.97391473   5.76255319  25.9813933\n",
            "  18.26165494  -1.95710391  17.08580696 -28.92979296 -23.45136019\n",
            "  19.76571689  17.8090253  -16.04155548   1.84617544   6.36094924\n",
            "  22.06433723   6.18642944  -5.24570584  -7.5489574   -4.44707482]\n",
            "Accuracy after rotation augmentation is  0.6742\n"
          ]
        }
      ],
      "source": [
        "# hyperparameters\n",
        "angleconstraint = 60\n",
        "naugmentations = 5\n",
        "\n",
        "# augment\n",
        "augdata = train_X # we include the original images also in the augmented dataset\n",
        "auglabel = train_y\n",
        "for ii in range(naugmentations):\n",
        "  augdata = np.concatenate((augdata, augRotate(train_X, angleconstraint))) # concatenate the augmented data to the set\n",
        "  auglabel = np.concatenate((auglabel, train_y))  # the labels don't change when we augment\n",
        "\n",
        "# check the test accuracy\n",
        "testpred = NN(augdata, auglabel, test_X)\n",
        "print('Accuracy after rotation augmentation is ', Accuracy(test_y, testpred))"
      ]
    },
    {
      "cell_type": "markdown",
      "metadata": {
        "id": "R6vwKYxNnjvS"
      },
      "source": [
        "The angle constraint is a hyperparameter which we have to tune using a validation set. (Here we are not doing that for time constraints). Let us try a grid search to find the best angle constraint."
      ]
    },
    {
      "cell_type": "code",
      "execution_count": 38,
      "metadata": {
        "colab": {
          "base_uri": "https://localhost:8080/"
        },
        "id": "2TuE7cTCnZ9g",
        "outputId": "de8aefe2-6016-45a5-859b-edee324fdfc3"
      },
      "outputs": [
        {
          "output_type": "stream",
          "name": "stderr",
          "text": [
            "<ipython-input-38-2f14d3721156>:2: DeprecationWarning: `np.float` is a deprecated alias for the builtin `float`. To silence this warning, use `float` by itself. Doing this will not modify any behavior and is safe. If you specifically wanted the numpy scalar type, use `np.float64` here.\n",
            "Deprecated in NumPy 1.20; for more details and guidance: https://numpy.org/devdocs/release/1.20.0-notes.html#deprecations\n",
            "  accuracies = np.zeros(len(angleconstraints), dtype=np.float) # we will save the values here\n"
          ]
        },
        {
          "output_type": "stream",
          "name": "stdout",
          "text": [
            "Accuracy after rotation augmentation constrained by  0  is  0.6472\n",
            "shape of sample before is: (50, 28, 28)\n",
            "len(sample.shape) 3\n",
            "angle is: [0.65193103 0.86749063 0.45389688 0.24783956 0.23666236 0.74601428\n",
            " 0.81656876 0.10527808 0.06655886 0.59443366 0.14617324 0.82466419\n",
            " 0.31033467 0.14387193 0.92097047 0.16553172 0.28472008 0.1536134\n",
            " 0.11549006 0.02114802 0.05539541 0.17464147 0.05338193 0.59114382\n",
            " 0.68071453 0.39363046 0.3179911  0.50452624 0.87500494 0.85113163\n",
            " 0.04347506 0.18149841 0.23674487 0.24938758 0.57123265 0.41626243\n",
            " 0.04925412 0.37361414 0.52375295 0.1016719  0.83345855 0.05196187\n",
            " 0.92484187 0.09911314 0.84357495 0.90265314 0.97957068 0.80202588\n",
            " 0.77947754 0.64248328]\n",
            "angle with constraint is: [ 1.51931026  3.67490632 -0.46103118 -2.52160437 -2.63337637  2.4601428\n",
            "  3.16568763 -3.9472192  -4.33441143  0.94433664 -3.53826756  3.2466419\n",
            " -1.89665326 -3.56128067  4.20970472 -3.34468277 -2.15279918 -3.46386605\n",
            " -3.84509936 -4.78851984 -4.44604591 -3.25358529 -4.46618067  0.91143816\n",
            "  1.80714527 -1.06369543 -1.82008903  0.04526237  3.75004942  3.51131627\n",
            " -4.56524938 -3.1850159  -2.63255129 -2.50612424  0.71232652 -0.83737574\n",
            " -4.5074588  -1.26385862  0.23752949 -3.98328097  3.33458554 -4.48038134\n",
            "  4.24841869 -4.00886858  3.43574952  4.02653144  4.79570681  3.0202588\n",
            "  2.79477541  1.42483276]\n",
            "shape of sample before is: (50, 28, 28)\n",
            "len(sample.shape) 3\n",
            "angle is: [0.77899635 0.13455221 0.53606804 0.51422287 0.85757214 0.46279937\n",
            " 0.3850895  0.63956327 0.26646332 0.13976841 0.47787727 0.41688937\n",
            " 0.23256994 0.36751181 0.36639245 0.32749556 0.37946408 0.68574335\n",
            " 0.29687647 0.94885793 0.91634802 0.48091043 0.32836121 0.53543479\n",
            " 0.84856049 0.65258734 0.80439183 0.53272228 0.63291763 0.28815561\n",
            " 0.73489316 0.20240459 0.69479813 0.86071907 0.13210284 0.61437974\n",
            " 0.09509575 0.72571563 0.08449322 0.93593982 0.13740793 0.95888025\n",
            " 0.80088418 0.593682   0.7826241  0.79511484 0.94602706 0.25338335\n",
            " 0.5900759  0.0950492 ]\n",
            "angle with constraint is: [ 2.78996355 -3.65447792  0.36068036  0.1422287   3.57572144 -0.37200634\n",
            " -1.14910504  1.39563271 -2.33536682 -3.60231589 -0.22122726 -0.83110631\n",
            " -2.67430059 -1.3248819  -1.3360755  -1.72504436 -1.2053592   1.85743345\n",
            " -2.03123525  4.48857927  4.1634802  -0.19089572 -1.71638795  0.3543479\n",
            "  3.48560489  1.52587341  3.04391828  0.32722276  1.32917629 -2.11844386\n",
            "  2.34893162 -2.97595407  1.94798129  3.60719068 -3.67897163  1.14379741\n",
            " -4.04904252  2.25715628 -4.15506781  4.35939823 -3.6259207   4.58880246\n",
            "  3.00884176  0.93682004  2.82624105  2.95114839  4.46027063 -2.46616646\n",
            "  0.90075895 -4.04950802]\n",
            "shape of sample before is: (50, 28, 28)\n",
            "len(sample.shape) 3\n",
            "angle is: [0.6161657  0.1712913  0.56495061 0.57243051 0.46598515 0.52263178\n",
            " 0.76392339 0.79924472 0.49215322 0.59959344 0.93123624 0.11973359\n",
            " 0.11710357 0.08770901 0.65786329 0.4186083  0.77432142 0.67123141\n",
            " 0.33363776 0.89836655 0.76253215 0.27053494 0.36419202 0.31443998\n",
            " 0.15761165 0.14778337 0.93612746 0.43790404 0.38331982 0.72968571\n",
            " 0.55299307 0.93613999 0.78030149 0.47936956 0.37635947 0.98663154\n",
            " 0.71776024 0.95119466 0.11847858 0.85053368 0.63707388 0.12192168\n",
            " 0.588258   0.68609637 0.01230269 0.45431796 0.82539951 0.29535903\n",
            " 0.45854808 0.44231413]\n",
            "angle with constraint is: [ 1.161657   -3.28708696  0.64950611  0.72430514 -0.34014847  0.22631776\n",
            "  2.6392339   2.99244717 -0.07846784  0.99593442  4.31236236 -3.80266411\n",
            " -3.82896434 -4.12290988  1.57863285 -0.81391699  2.74321416  1.71231413\n",
            " -1.66362242  3.98366547  2.62532147 -2.29465059 -1.35807982 -1.8556002\n",
            " -3.42388351 -3.52216627  4.36127463 -0.62095963 -1.16680177  2.29685709\n",
            "  0.52993065  4.36139987  2.80301494 -0.20630436 -1.23640527  4.86631545\n",
            "  2.17760236  4.5119466  -3.81521423  3.50533679  1.37073884 -3.78078322\n",
            "  0.88258     1.86096365 -4.87697314 -0.45682038  3.25399511 -2.04640975\n",
            " -0.41451918 -0.57685873]\n",
            "shape of sample before is: (50, 28, 28)\n",
            "len(sample.shape) 3\n",
            "angle is: [0.30192739 0.9184419  0.78129404 0.11058841 0.99703466 0.87920002\n",
            " 0.28390844 0.83689658 0.10641953 0.99910473 0.66568474 0.65012502\n",
            " 0.09044073 0.8970334  0.0289995  0.24082806 0.14302188 0.77676794\n",
            " 0.19820423 0.91063823 0.65626904 0.03616271 0.00542983 0.05165792\n",
            " 0.60592518 0.80148181 0.23855282 0.84940884 0.05723194 0.80096385\n",
            " 0.92779543 0.7721084  0.69812078 0.83798022 0.0401513  0.20178211\n",
            " 0.12492368 0.50453099 0.74518813 0.63001184 0.8511311  0.15521299\n",
            " 0.73462109 0.19304149 0.27075875 0.7099047  0.98020478 0.61154361\n",
            " 0.05450031 0.61630897]\n",
            "angle with constraint is: [-1.98072609  4.18441896  2.81294035 -3.89411589  4.97034658  3.79200024\n",
            " -2.16091562  3.3689658  -3.93580468  4.9910473   1.65684736  1.50125016\n",
            " -4.09559273  3.97033399 -4.71000497 -2.59171942 -3.56978125  2.76767941\n",
            " -3.01795773  4.10638227  1.56269039 -4.6383729  -4.94570166 -4.48342083\n",
            "  1.05925178  3.01481811 -2.61447179  3.49408843 -4.4276806   3.00963854\n",
            "  4.2779543   2.72108399  1.98120784  3.37980219 -4.598487   -2.98217889\n",
            " -3.75076321  0.0453099   2.45188128  1.30011845  3.511311   -3.44787008\n",
            "  2.34621092 -3.06958509 -2.29241249  2.09904697  4.80204785  1.11543606\n",
            " -4.45499685  1.1630897 ]\n",
            "shape of sample before is: (50, 28, 28)\n",
            "len(sample.shape) 3\n",
            "angle is: [0.04235055 0.88414571 0.70957829 0.17312785 0.09172101 0.18353323\n",
            " 0.98002718 0.45856064 0.78408095 0.63640834 0.57241315 0.14513025\n",
            " 0.94602445 0.30134263 0.57801722 0.69977594 0.64923316 0.94059441\n",
            " 0.14843899 0.50835274 0.40403439 0.47416873 0.11921753 0.13409461\n",
            " 0.27807555 0.3047046  0.42790321 0.61098755 0.63462912 0.4118109\n",
            " 0.40878311 0.21762853 0.58830625 0.31704091 0.03605983 0.41840004\n",
            " 0.47413268 0.22559287 0.57245793 0.5657719  0.70200218 0.64794848\n",
            " 0.65243306 0.31621415 0.78743222 0.54914438 0.4314182  0.62601248\n",
            " 0.36065733 0.51273924]\n",
            "angle with constraint is: [-4.57649448  3.84145711  2.09578285 -3.26872154 -4.08278994 -3.16466771\n",
            "  4.8002718  -0.41439358  2.84080948  1.36408342  0.7241315  -3.54869745\n",
            "  4.46024454 -1.98657367  0.78017216  1.99775945  1.49233155  4.4059441\n",
            " -3.5156101   0.08352738 -0.95965609 -0.25831271 -3.80782474 -3.6590539\n",
            " -2.21924454 -1.95295396 -0.72096786  1.10987547  1.34629117 -0.88189103\n",
            " -0.91216891 -2.82371473  0.88306248 -1.82959089 -4.63940166 -0.81599956\n",
            " -0.25867325 -2.74407132  0.72457933  0.657719    2.02002181  1.47948482\n",
            "  1.52433057 -1.83785848  2.87432222  0.49144384 -0.68581805  1.26012481\n",
            " -1.39342666  0.12739245]\n",
            "Accuracy after rotation augmentation constrained by  10  is  0.672\n",
            "shape of sample before is: (50, 28, 28)\n",
            "len(sample.shape) 3\n",
            "angle is: [0.73670569 0.88640289 0.9210572  0.50363293 0.52027511 0.79987041\n",
            " 0.31445069 0.83738236 0.49414165 0.11585672 0.07205915 0.84199321\n",
            " 0.05556792 0.28061144 0.33413004 0.17299445 0.31389337 0.74269257\n",
            " 0.01468284 0.82717342 0.85654802 0.37226157 0.1536129  0.60084041\n",
            " 0.11967256 0.36491936 0.95842918 0.99546447 0.77210489 0.31096151\n",
            " 0.68766505 0.70540637 0.3878417  0.64088863 0.01072764 0.20905766\n",
            " 0.5250883  0.1637513  0.16590687 0.83630429 0.989133   0.55596943\n",
            " 0.83906973 0.99032166 0.14159589 0.44824561 0.39257272 0.08004928\n",
            " 0.75533017 0.43377903]\n",
            "angle with constraint is: [ 4.73411377  7.72805773  8.42114395  0.0726585   0.40550229  5.99740822\n",
            " -3.71098617  6.74764725 -0.11716707 -7.68286551 -8.55881706  6.83986422\n",
            " -8.88864166 -4.38777128 -3.31739919 -6.5401111  -3.7221326   4.85385133\n",
            " -9.70634313  6.54346849  7.13096047 -2.55476854 -6.92774202  2.01680816\n",
            " -7.60654888 -2.70161278  9.16858362  9.90928945  5.44209783 -3.7807698\n",
            "  3.75330098  4.10812731 -2.2431661   2.81777269 -9.7854471  -5.81884683\n",
            "  0.50176606 -6.72497391 -6.68186264  6.72608581  9.78266005  1.11938856\n",
            "  6.78139462  9.80643329 -7.16808223 -1.03508773 -2.14854568 -8.39901433\n",
            "  5.10660346 -1.32441945]\n",
            "shape of sample before is: (50, 28, 28)\n",
            "len(sample.shape) 3\n",
            "angle is: [0.46932693 0.15067297 0.18092665 0.90710362 0.04464909 0.23285228\n",
            " 0.29205933 0.49019754 0.58644517 0.49328998 0.08411533 0.24366745\n",
            " 0.84358838 0.6375887  0.64914905 0.67020326 0.76290302 0.05810848\n",
            " 0.36660838 0.53952744 0.33845648 0.84447887 0.48257251 0.76862759\n",
            " 0.85201552 0.50479148 0.90955224 0.58712394 0.8502743  0.3405908\n",
            " 0.49881696 0.53141104 0.10497972 0.39855251 0.91733767 0.63083224\n",
            " 0.17750658 0.33885564 0.19160301 0.02482313 0.92746046 0.44820733\n",
            " 0.30753507 0.59847719 0.00731446 0.27802211 0.70303347 0.63376977\n",
            " 0.98180595 0.62035771]\n",
            "angle with constraint is: [-0.61346132 -6.98654052 -6.38146696  8.14207244 -9.10701822 -5.3429543\n",
            " -4.15881339 -0.19604915  1.72890346 -0.13420048 -8.31769331 -5.12665092\n",
            "  6.8717677   2.75177401  2.982981    3.40406511  5.25806038 -8.83783037\n",
            " -2.6678323   0.79054871 -3.23087033  6.88957747 -0.34854983  5.37255179\n",
            "  7.04031034  0.09582966  8.19104488  1.74247881  7.00548598 -3.18818409\n",
            " -0.02366083  0.62822082 -7.90040568 -2.02894987  8.34675345  2.61664481\n",
            " -6.44986835 -3.22288729 -6.16793981 -9.50353736  8.54920917 -1.03585343\n",
            " -3.84929855  1.96954383 -9.85371087 -4.43955787  4.06066931  2.67539546\n",
            "  9.63611895  2.40715419]\n",
            "shape of sample before is: (50, 28, 28)\n",
            "len(sample.shape) 3\n",
            "angle is: [0.47750587 0.76143256 0.90332787 0.72069595 0.96321122 0.78200517\n",
            " 0.86680144 0.11410407 0.7324135  0.4400887  0.5531038  0.65410241\n",
            " 0.96981512 0.98457808 0.28822825 0.7337535  0.74998354 0.34649286\n",
            " 0.12386977 0.04094696 0.77734313 0.48969974 0.98554017 0.46497346\n",
            " 0.97791698 0.411576   0.79368215 0.08481927 0.55546171 0.80205979\n",
            " 0.92470167 0.82258309 0.03697073 0.37270234 0.04869847 0.10928229\n",
            " 0.67530563 0.7132582  0.77372068 0.86545655 0.73943147 0.80087159\n",
            " 0.04896371 0.23453515 0.62189777 0.8581253  0.00450012 0.51462934\n",
            " 0.6772874  0.02960729]\n",
            "angle with constraint is: [-0.44988253  5.22865126  8.06655744  4.41391893  9.26422447  5.64010341\n",
            "  7.33602877 -7.71791858  4.64827006 -1.19822601  1.06207605  3.08204819\n",
            "  9.39630233  9.69156163 -4.23543509  4.67506995  4.99967076 -3.07014277\n",
            " -7.5226045  -9.18106079  5.54686255 -0.20600516  9.71080339 -0.70053088\n",
            "  9.55833958 -1.76847996  5.87364301 -8.30361455  1.1092342   6.04119574\n",
            "  8.49403334  6.45166181 -9.26058546 -2.54595317 -9.02603055 -7.81435418\n",
            "  3.50611257  4.26516393  5.47441366  7.30913096  4.78862937  6.01743184\n",
            " -9.0207258  -5.30929699  2.43795547  7.16250609 -9.9099975   0.29258684\n",
            "  3.54574799 -9.40785422]\n",
            "shape of sample before is: (50, 28, 28)\n",
            "len(sample.shape) 3\n",
            "angle is: [0.40135556 0.89563488 0.67161281 0.23765836 0.85278113 0.34803142\n",
            " 0.85334467 0.29894365 0.59032025 0.39694007 0.27482505 0.88655756\n",
            " 0.18759368 0.08481159 0.34192694 0.71763915 0.80743161 0.99874337\n",
            " 0.29636206 0.40794195 0.13682128 0.57487193 0.99758004 0.70088101\n",
            " 0.59521284 0.39236909 0.91529876 0.4969166  0.13436691 0.36537846\n",
            " 0.06716667 0.20197904 0.01766878 0.45327992 0.63454026 0.34329246\n",
            " 0.42038177 0.95920927 0.75196312 0.54085664 0.28454088 0.8969968\n",
            " 0.23509712 0.32534273 0.90906481 0.52954206 0.74231795 0.59074479\n",
            " 0.65343921 0.29938329]\n",
            "angle with constraint is: [-1.97288885  7.91269763  3.43225618 -5.24683273  7.05562259 -3.03937153\n",
            "  7.06689342 -4.02112698  1.80640502 -2.06119865 -4.50349898  7.73115124\n",
            " -6.24812636 -8.30376818 -3.16146123  4.35278295  6.14863212  9.9748674\n",
            " -4.07275886 -1.84116098 -7.26357444  1.49743859  9.95160075  4.0176202\n",
            "  1.90425681 -2.15261814  8.30597521 -0.06166808 -7.31266173 -2.69243074\n",
            " -8.65666662 -5.96041925 -9.64662438 -0.93440167  2.6908053  -3.13415075\n",
            " -1.59236457  9.18418546  5.03926243  0.81713274 -4.3091825   7.93993598\n",
            " -5.29805766 -3.49314539  8.18129629  0.59084111  4.84635899  1.81489588\n",
            "  3.06878418 -4.01233417]\n",
            "shape of sample before is: (50, 28, 28)\n",
            "len(sample.shape) 3\n",
            "angle is: [0.24137206 0.32249235 0.15544156 0.87431437 0.28324693 0.56148939\n",
            " 0.79197443 0.78382411 0.43838626 0.47625731 0.99470175 0.67459748\n",
            " 0.81463844 0.90255397 0.78758984 0.18517934 0.56217073 0.10189416\n",
            " 0.65292213 0.95534943 0.51273206 0.43297249 0.03584275 0.95977452\n",
            " 0.10300268 0.04107909 0.24606661 0.06553043 0.45511784 0.5160878\n",
            " 0.31256995 0.05096048 0.11160037 0.38450438 0.06052845 0.69818973\n",
            " 0.20702054 0.30207157 0.39412578 0.41660963 0.00166071 0.11207037\n",
            " 0.86276456 0.00123306 0.50816736 0.48950201 0.33309416 0.43132702\n",
            " 0.78058114 0.84120371]\n",
            "angle with constraint is: [-5.17255877 -3.55015306 -6.89116872  7.48628731 -4.33506133  1.22978789\n",
            "  5.8394885   5.67648219 -1.23227483 -0.47485383  9.89403498  3.49194954\n",
            "  6.29276886  8.05107938  5.75179672 -6.2964131   1.24341467 -7.96211685\n",
            "  3.05844253  9.10698856  0.25464129 -1.34055014 -9.28314497  9.19549045\n",
            " -7.93994632 -9.17841813 -5.07866777 -8.68939132 -0.89764315  0.32175603\n",
            " -3.74860102 -8.98079035 -7.76799264 -2.30991244 -8.78943098  3.96379451\n",
            " -5.85958917 -3.95856862 -2.11748446 -1.66780734 -9.96678585 -7.75859258\n",
            "  7.25529127 -9.97533875  0.16334712 -0.20995987 -3.33811678 -1.3734596\n",
            "  5.61162275  6.82407412]\n",
            "Accuracy after rotation augmentation constrained by  20  is  0.6708\n",
            "shape of sample before is: (50, 28, 28)\n",
            "len(sample.shape) 3\n",
            "angle is: [0.26034854 0.32249044 0.24248285 0.4798634  0.68325836 0.22825288\n",
            " 0.33073574 0.93038462 0.04856929 0.46076961 0.71155804 0.15045401\n",
            " 0.04737402 0.13820537 0.91882319 0.00925978 0.18832197 0.03128351\n",
            " 0.11062947 0.62014929 0.24163891 0.56921205 0.59019538 0.84943533\n",
            " 0.00474139 0.85336946 0.61911909 0.16274349 0.77293739 0.85549154\n",
            " 0.25426348 0.91879368 0.45445743 0.60342445 0.98464953 0.36153608\n",
            " 0.81315935 0.31839912 0.79921352 0.60073392 0.2163557  0.41402609\n",
            " 0.31763563 0.07810839 0.02983477 0.34647866 0.01903415 0.16548776\n",
            " 0.72518332 0.70809124]\n",
            "angle with constraint is: [ -7.1895437   -5.32528677  -7.72551441  -0.60409798   5.49775073\n",
            "  -8.15241374  -5.07792774  12.91153853 -13.5429213   -1.17691184\n",
            "   6.34674125 -10.48637965 -13.5787794  -10.85383885  12.56469581\n",
            " -14.72220655  -9.35034076 -14.06149461 -11.68111597   3.6044786\n",
            "  -7.75083274   2.07636151   2.70586148  10.48305999 -14.85775821\n",
            "  10.60108378   3.57357259 -10.11769542   8.18812164  10.66474625\n",
            "  -7.37209549  12.56381043  -1.36627709   3.10273363  14.53948601\n",
            "  -4.15391764   9.39478037  -5.44802647   8.97640567   3.02201757\n",
            "  -8.50932914  -2.57921719  -5.47093097 -12.65674821 -14.1049569\n",
            "  -4.60564034 -14.42897557 -10.03536727   6.75549963   6.24273707]\n",
            "shape of sample before is: (50, 28, 28)\n",
            "len(sample.shape) 3\n",
            "angle is: [0.73858039 0.31715317 0.89001946 0.59383055 0.12602634 0.14371866\n",
            " 0.69309543 0.17294394 0.5072927  0.99177448 0.0040076  0.0165798\n",
            " 0.99308458 0.58463883 0.12690998 0.8973022  0.8803803  0.53620041\n",
            " 0.62179203 0.27318719 0.0505197  0.59456761 0.29475519 0.66362105\n",
            " 0.83624518 0.01816054 0.59571377 0.23128054 0.8738885  0.25366451\n",
            " 0.61077013 0.55354084 0.3961665  0.67762076 0.72576963 0.5669378\n",
            " 0.75842224 0.98341708 0.41927239 0.51458305 0.01246988 0.79602856\n",
            " 0.52023007 0.40796143 0.09407196 0.88965642 0.39500724 0.6825816\n",
            " 0.14937416 0.96154963]\n",
            "angle with constraint is: [  7.15741159  -5.48540487  11.70058371   2.81491644 -11.21920975\n",
            " -10.68844016   5.79286281  -9.81168191   0.21878105  14.75323428\n",
            " -14.87977186 -14.50260594  14.79253746   2.53916502 -11.19270073\n",
            "  11.91906599  11.411409     1.08601239   3.6537609   -6.80438425\n",
            " -13.48440911   2.83702827  -6.1573442    4.9086314   10.08735531\n",
            " -14.45518368   2.87141324  -8.06158381  11.21665494  -7.3900648\n",
            "   3.323104     1.6062252   -3.115005     5.32862291   6.77308904\n",
            "   2.00813386   7.75266712  14.50251228  -2.42182836   0.43749156\n",
            " -14.62590366   8.88085669   0.60690201  -2.76115709 -12.17784111\n",
            "  11.68969265  -3.1497828    5.47744795 -10.51877531  13.84648889]\n",
            "shape of sample before is: (50, 28, 28)\n",
            "len(sample.shape) 3\n",
            "angle is: [0.17844176 0.19954199 0.85898286 0.91258274 0.21214741 0.46980089\n",
            " 0.7334949  0.87836573 0.3790527  0.51701949 0.74171641 0.73113598\n",
            " 0.78296013 0.56993382 0.1046151  0.90397329 0.86557254 0.79809744\n",
            " 0.09986248 0.20439737 0.74360037 0.02314009 0.97922463 0.37714468\n",
            " 0.71931253 0.88757109 0.39462989 0.31913249 0.60874113 0.58098937\n",
            " 0.40913998 0.60177476 0.93538137 0.46764026 0.19674218 0.37720598\n",
            " 0.39410698 0.13110869 0.1628715  0.68456207 0.33947775 0.95489839\n",
            " 0.24359675 0.09892451 0.75350456 0.88103605 0.27811336 0.2020881\n",
            " 0.18576613 0.5220123 ]\n",
            "angle with constraint is: [ -9.64674715  -9.01374021  10.76948582  12.37748232  -8.63557777\n",
            "  -0.90597335   7.00484714  11.35097201  -3.62841915   0.51058461\n",
            "   7.25149232   6.9340793    8.4888039    2.09801456 -11.8615471\n",
            "  12.11919873  10.96717618   8.94292307 -12.00412569  -8.86807899\n",
            "   7.30801095 -14.30579716  14.37673901  -3.68565959   6.57937601\n",
            "  11.62713265  -3.16110336  -5.42602534   3.26223387   2.42968121\n",
            "  -2.72580067   3.05324268  13.06144109  -0.9707923   -9.09773458\n",
            "  -3.68382051  -3.17679052 -11.06673921 -10.11385498   5.5368622\n",
            "  -4.81566737  13.64695176  -7.69209764 -12.03226485   7.60513689\n",
            "  11.43108156  -6.65659929  -8.93735695  -9.42701595   0.66036904]\n",
            "shape of sample before is: (50, 28, 28)\n",
            "len(sample.shape) 3\n",
            "angle is: [0.46841664 0.25943984 0.04517312 0.48149134 0.95933235 0.6525192\n",
            " 0.49550656 0.11069207 0.25243629 0.29477395 0.76480355 0.8767108\n",
            " 0.90164185 0.98456861 0.98236668 0.95299913 0.07182214 0.13779354\n",
            " 0.30446653 0.55289825 0.09697789 0.84579696 0.61675618 0.5423644\n",
            " 0.16531132 0.25325547 0.16031202 0.85193316 0.58422786 0.73512943\n",
            " 0.29603286 0.37125264 0.40485496 0.76001497 0.77235299 0.20681353\n",
            " 0.94153886 0.12065534 0.89612208 0.10039565 0.26453981 0.84647854\n",
            " 0.17949207 0.41356793 0.4498593  0.24525897 0.7102452  0.85133465\n",
            " 0.87457514 0.33932215]\n",
            "angle with constraint is: [ -0.94750076  -7.2168048  -13.64480649  -0.55525979  13.77997043\n",
            "   4.57557602  -0.1348033  -11.67923778  -7.42691128  -6.15678151\n",
            "   7.94410658  11.30132392  12.04925561  14.53705825  14.47100049\n",
            "  13.58997398 -12.84533578 -10.86619392  -5.86600421   1.58694762\n",
            " -12.09066334  10.37390873   3.50268537   1.27093207 -10.0406603\n",
            "  -7.40233577 -10.19063925  10.55799473   2.5268358    7.05388283\n",
            "  -6.11901411  -3.86242089  -2.85435107   7.80044915   8.17058963\n",
            "  -8.79559417  13.2461657  -11.38033988  11.88366247 -11.98813063\n",
            "  -7.06380567  10.39435608  -9.61523783  -2.59296206  -1.504221\n",
            "  -7.64223081   6.30735604  10.54003948  11.2372542   -4.82033563]\n",
            "shape of sample before is: (50, 28, 28)\n",
            "len(sample.shape) 3\n",
            "angle is: [0.53085039 0.2484064  0.2447965  0.16125406 0.94001901 0.88798883\n",
            " 0.77735871 0.51766152 0.49060792 0.52974567 0.53656801 0.43456308\n",
            " 0.13175483 0.12566385 0.95224972 0.48203076 0.95320552 0.16357688\n",
            " 0.55441655 0.20771725 0.25318461 0.03005458 0.11895331 0.91684841\n",
            " 0.32153299 0.60812921 0.46501413 0.40045125 0.53188609 0.18723894\n",
            " 0.9886039  0.81830787 0.74161463 0.4687593  0.15287712 0.92066586\n",
            " 0.34138707 0.05010669 0.34240368 0.79445703 0.62270874 0.75083858\n",
            " 0.79363538 0.21195461 0.92378332 0.4379896  0.63901365 0.00230877\n",
            " 0.9933685  0.28089639]\n",
            "angle with constraint is: [  0.92551183  -7.54780788  -7.65610495 -10.16237811  13.20057032\n",
            "  11.63966486   8.3207614    0.52984564  -0.28176253   0.89236999\n",
            "   1.09704041  -1.96310746 -11.04735501 -11.23008441  13.56749148\n",
            "  -0.53907721  13.59616575 -10.09269367   1.63249656  -8.7684824\n",
            "  -7.40446182 -14.09836264 -11.43140068  12.50545223  -5.35401026\n",
            "   3.24387636  -1.04957604  -2.98646264   0.95658274  -9.38283166\n",
            "  14.65811696   9.54923606   7.24843898  -0.93722109 -10.41368634\n",
            "  12.61997575  -4.75838798 -13.49679931  -4.7278897    8.83371091\n",
            "   3.68126235   7.52515754   8.80906152  -8.64136167  12.71349948\n",
            "  -1.86031191   4.17040948 -14.93073682  14.80105495  -6.57310842]\n",
            "Accuracy after rotation augmentation constrained by  30  is  0.6852\n",
            "shape of sample before is: (50, 28, 28)\n",
            "len(sample.shape) 3\n",
            "angle is: [0.06206311 0.45826204 0.12903006 0.15232671 0.63228281 0.39292739\n",
            " 0.92185245 0.31915649 0.72618013 0.46109943 0.6599513  0.59969536\n",
            " 0.47278397 0.95006109 0.34271364 0.1772355  0.67809406 0.84600756\n",
            " 0.04025374 0.44963269 0.89248769 0.74961862 0.99180772 0.53141381\n",
            " 0.65999572 0.30248028 0.9475356  0.36633549 0.73851071 0.4031402\n",
            " 0.56181893 0.71978254 0.50893415 0.90708633 0.41930099 0.6470718\n",
            " 0.34236243 0.40815667 0.44005011 0.12580702 0.09172368 0.66748992\n",
            " 0.65551774 0.66290971 0.01976645 0.32654684 0.19780985 0.77815142\n",
            " 0.8606304  0.24668038]\n",
            "angle with constraint is: [-17.51747574  -1.66951834 -14.83879771 -13.90693159   5.29131252\n",
            "  -4.28290434  16.87409801  -7.23374022   9.04720514  -1.55602279\n",
            "   6.39805205   3.98781427  -1.08864109  18.00244378  -6.29145429\n",
            " -12.91057995   7.12376244  13.84030245 -18.3898504   -2.01469246\n",
            "  15.69950759   9.98474476  19.67230866   1.25655246   6.39982875\n",
            "  -7.90078875  17.90142399  -5.34658046   9.54042851  -3.87439184\n",
            "   2.4727572    8.7913014    0.35736607  16.28345308  -3.22796048\n",
            "   5.88287193  -6.30550267  -3.67373327  -2.39799567 -14.96771927\n",
            " -16.33105284   6.69959693   6.22070953   6.51638857 -19.20934219\n",
            "  -6.93812629 -12.08760611  11.1260569   14.42521606 -10.13278491]\n",
            "shape of sample before is: (50, 28, 28)\n",
            "len(sample.shape) 3\n",
            "angle is: [0.66784916 0.1293628  0.27515253 0.1386545  0.28352077 0.67473655\n",
            " 0.91032691 0.20252241 0.54207903 0.7013911  0.95292247 0.61006048\n",
            " 0.25510693 0.62547816 0.32049116 0.97612839 0.39967614 0.68542772\n",
            " 0.02322758 0.40006145 0.87510761 0.61022744 0.44394289 0.9359375\n",
            " 0.85398438 0.32221567 0.5445484  0.48982426 0.6322025  0.33411127\n",
            " 0.244205   0.91267184 0.9238745  0.84332289 0.97820443 0.74499153\n",
            " 0.76466723 0.76259009 0.48060763 0.45645219 0.24022628 0.64481919\n",
            " 0.28932014 0.25780841 0.58596137 0.40998239 0.21885661 0.81605602\n",
            " 0.86056992 0.16769952]\n",
            "angle with constraint is: [  6.71396635 -14.82548786  -8.99389898 -14.45382015  -8.65916934\n",
            "   6.98946189  16.41307641 -11.89910368   1.6831614    8.05564405\n",
            "  18.11689874   4.40241932  -9.79572276   5.01912628  -7.18035353\n",
            "  19.04513563  -4.01295459   7.41710883 -19.07089671  -3.99754215\n",
            "  15.00430453   4.40909778  -2.24228454  17.43749998  14.15937505\n",
            "  -7.11137305   1.78193608  -0.40702976   5.2881      -6.63554932\n",
            " -10.23179997  16.50687341  16.95497998  13.73291543  19.12817723\n",
            "   9.79966103  10.58668914  10.50360368  -0.77569476  -1.74191222\n",
            " -10.39094895   5.79276777  -8.42719456  -9.68766361   3.43845496\n",
            "  -3.60070447 -11.24573565  12.64224067  14.42279677 -13.29201921]\n",
            "shape of sample before is: (50, 28, 28)\n",
            "len(sample.shape) 3\n",
            "angle is: [0.00750703 0.33612997 0.79751084 0.83917387 0.13832907 0.7743359\n",
            " 0.11570417 0.39006259 0.99860952 0.19259082 0.15396358 0.42280033\n",
            " 0.61966853 0.93290078 0.98082115 0.06964064 0.13799752 0.79073797\n",
            " 0.27063215 0.88484906 0.66345326 0.1118448  0.83252928 0.17635638\n",
            " 0.42349539 0.55218493 0.50076615 0.68616292 0.65268673 0.99204201\n",
            " 0.99942191 0.5164594  0.09519909 0.7278433  0.97666408 0.31832639\n",
            " 0.46120889 0.42477692 0.05141915 0.67226443 0.3533377  0.78746387\n",
            " 0.83212008 0.82123079 0.416666   0.32154568 0.74882078 0.80138943\n",
            " 0.49125745 0.89303102]\n",
            "angle with constraint is: [-19.69971869  -6.55480126  11.90043343  13.56695465 -14.4668372\n",
            "  10.97343605 -15.37183331  -4.39749639  19.9443806  -12.29636707\n",
            " -13.8414567   -3.0879867    4.78674104  17.3160313   19.23284582\n",
            " -17.21437454 -14.48009931  11.62951896  -9.17471391  15.39396238\n",
            "   6.53813029 -15.5262079   13.3011714  -12.9457448   -3.06018421\n",
            "   2.08739714   0.03064596   7.44651662   6.10746939  19.68168022\n",
            "  19.97687637   0.65837611 -16.19203652   9.11373196  19.06656313\n",
            "  -7.26694449  -1.55164457  -3.00892301 -17.94323382   6.89057725\n",
            "  -5.8664922   11.49855499  13.28480301  12.84923146  -3.33336008\n",
            "  -7.13817271   9.95283119  12.05557735  -0.34970214  15.72124078]\n",
            "shape of sample before is: (50, 28, 28)\n",
            "len(sample.shape) 3\n",
            "angle is: [1.43908696e-01 8.79068780e-01 9.60952330e-02 1.53525522e-01\n",
            " 5.33840013e-01 6.75184802e-02 5.28071014e-02 5.18744166e-04\n",
            " 4.36316660e-01 7.74623881e-01 3.48383503e-02 6.52257606e-01\n",
            " 8.23127317e-01 1.68000849e-01 1.46863735e-01 8.60800974e-01\n",
            " 8.23124610e-01 5.38941766e-01 8.19199879e-01 9.27560774e-02\n",
            " 3.94481518e-01 7.37797556e-01 2.57451959e-01 7.52328914e-01\n",
            " 5.04178604e-01 7.50265988e-01 4.64679638e-01 3.67904340e-01\n",
            " 2.19189216e-01 2.08379341e-01 7.51490811e-01 1.18910348e-01\n",
            " 8.59823501e-02 1.76291365e-01 1.75346511e-01 8.23107623e-01\n",
            " 3.98506623e-01 9.90388457e-01 1.37211258e-01 6.53539826e-01\n",
            " 4.48729507e-01 3.92918177e-01 8.75084199e-01 9.75595646e-01\n",
            " 8.72858959e-01 1.92300679e-01 2.20797921e-01 6.56073879e-01\n",
            " 2.89083582e-01 7.34725131e-01]\n",
            "angle with constraint is: [-14.24365216  15.16275119 -16.15619068 -13.85897912   1.35360053\n",
            " -17.29926079 -17.88771594 -19.97925023  -2.54733361  10.98495525\n",
            " -18.60646599   6.09030426  12.9250927  -13.27996606 -14.12545061\n",
            "  14.43203894  12.9249844    1.55767065  12.76799517 -16.2897569\n",
            "  -4.22073928   9.51190224  -9.70192163  10.09315658   0.16714418\n",
            "  10.01063952  -1.41281449  -5.28382639 -11.23243134 -11.66482634\n",
            "  10.05963242 -15.24358608 -16.560706   -12.9483454  -12.98613954\n",
            "  12.92430491  -4.05973506  19.61553829 -14.51154969   6.14159303\n",
            "  -2.05081971  -4.28327293  15.00336796  19.02382583  14.91435835\n",
            " -12.30797284 -11.16808315   6.24295516  -8.43665673   9.38900523]\n",
            "shape of sample before is: (50, 28, 28)\n",
            "len(sample.shape) 3\n",
            "angle is: [0.56642065 0.55090877 0.82854692 0.71053277 0.02657776 0.04945914\n",
            " 0.60155845 0.48619208 0.26018466 0.41865609 0.75791032 0.82661148\n",
            " 0.56122307 0.38536948 0.27069676 0.52191847 0.31474962 0.56409514\n",
            " 0.67665238 0.06607921 0.00106747 0.21227714 0.8945115  0.64629076\n",
            " 0.17196035 0.89026396 0.46995594 0.47609176 0.93554194 0.05948669\n",
            " 0.21517827 0.58577133 0.19548651 0.67952701 0.21409229 0.09915697\n",
            " 0.20698516 0.42273403 0.1761383  0.13469202 0.86028189 0.3203972\n",
            " 0.36075869 0.05527041 0.35736962 0.26480718 0.61048507 0.2053903\n",
            " 0.88836545 0.92966662]\n",
            "angle with constraint is: [  2.65682603   2.03635074  13.14187699   8.42131087 -18.9368894\n",
            " -18.02163451   4.0623381   -0.55231698  -9.59261379  -3.25375651\n",
            "  10.31641275  13.06445939   2.44892272  -4.58522077  -9.17212954\n",
            "   0.87673883  -7.41001526   2.56380548   7.0660953  -17.35683156\n",
            " -19.9573014  -11.50891445  15.78045991   5.85163053 -13.12158592\n",
            "  15.61055847  -1.20176239  -0.95632973  17.42167775 -17.62053231\n",
            " -11.39286901   3.43085301 -12.18053962   7.18108037 -11.43630843\n",
            " -16.03372118 -11.72059361  -3.09063863 -12.95446803 -14.612319\n",
            "  14.41127545  -7.18411186  -5.56965254 -17.78918362  -5.70521506\n",
            "  -9.40771291   4.41940269 -11.78438809  15.53461812  17.18666484]\n",
            "Accuracy after rotation augmentation constrained by  40  is  0.6808\n",
            "shape of sample before is: (50, 28, 28)\n",
            "len(sample.shape) 3\n",
            "angle is: [0.09983106 0.10740296 0.11532644 0.61956926 0.12196896 0.85238232\n",
            " 0.75427151 0.81980886 0.52606053 0.99667721 0.0441751  0.40126496\n",
            " 0.32393667 0.9486455  0.57686096 0.80619097 0.17034119 0.97863414\n",
            " 0.49863955 0.49367208 0.97088473 0.38073236 0.39752502 0.5847527\n",
            " 0.12805261 0.32108563 0.19320832 0.10328348 0.86614461 0.58933117\n",
            " 0.35867279 0.40866938 0.431519   0.63314918 0.92676939 0.93277962\n",
            " 0.39149198 0.32926246 0.4510465  0.56793423 0.46181791 0.65875341\n",
            " 0.55439902 0.32071555 0.34573081 0.37859279 0.09463977 0.16606263\n",
            " 0.7231138  0.38909671]\n",
            "angle with constraint is: [-20.00844714 -19.62985219 -19.23367809   5.97846282 -18.90155179\n",
            "  17.6191159   12.71357575  15.99044291   1.30302634  24.83386058\n",
            " -22.79124485  -4.93675179  -8.80316655  22.43227494   3.84304792\n",
            "  15.30954827 -16.48294032  23.9317072   -0.06802266  -0.31639619\n",
            "  23.54423643  -5.96338194  -5.12374877   4.23763514 -18.59736947\n",
            "  -8.94571868 -15.33958388 -19.83582604  18.30723032   4.46655831\n",
            "  -7.06636042  -4.56653113  -3.42404982   6.65745911  21.33846957\n",
            "  21.63898098  -5.42540102  -8.53687702  -2.44767499   3.39671152\n",
            "  -1.90910443   7.93767049   2.71995117  -8.96422267  -7.71345971\n",
            "  -6.07036062 -20.26801159 -16.69686838  11.15569011  -5.54516442]\n",
            "shape of sample before is: (50, 28, 28)\n",
            "len(sample.shape) 3\n",
            "angle is: [0.21453897 0.56267241 0.75553954 0.25742236 0.82678988 0.92750486\n",
            " 0.59739453 0.66894766 0.05257599 0.94551989 0.39248473 0.9239004\n",
            " 0.57897752 0.0046188  0.038542   0.68041881 0.56266801 0.02653244\n",
            " 0.74345996 0.85214534 0.49641748 0.46575744 0.00547311 0.78664971\n",
            " 0.33071607 0.87876362 0.37306059 0.56507791 0.27034179 0.16058831\n",
            " 0.7749079  0.49659048 0.53648792 0.96541595 0.96357991 0.85564212\n",
            " 0.18760929 0.59427269 0.87814742 0.37446394 0.10110617 0.8109629\n",
            " 0.48176355 0.56439268 0.9821443  0.60721143 0.42497939 0.36998437\n",
            " 0.41761929 0.11839908]\n",
            "angle with constraint is: [-14.27305137   3.13362053  12.77697712 -12.12888188  16.3394941\n",
            "  21.37524298   4.86972645   8.44738295 -22.37120048  22.27599455\n",
            "  -5.37576329  21.19502003   3.94887624 -24.76906006 -23.07290003\n",
            "   9.02094028   3.13340069 -23.67337814  12.17299806  17.60726685\n",
            "  -0.17912588  -1.71212798 -24.72634456  14.33248562  -8.46419666\n",
            "  18.93818099  -6.34697062   3.25389553 -11.48291059 -16.97058437\n",
            "  13.74539517  -0.17047606   1.82439619  23.27079767  23.17899561\n",
            "  17.78210609 -15.61953536   4.71363472  18.90737123  -6.27680318\n",
            " -19.9446917   15.54814511  -0.91182243   3.21963402  24.10721482\n",
            "   5.36057152  -3.75103072  -6.50078161  -4.11903537 -19.08004584]\n",
            "shape of sample before is: (50, 28, 28)\n",
            "len(sample.shape) 3\n",
            "angle is: [0.79475056 0.83771686 0.28439713 0.30379662 0.87433426 0.02397036\n",
            " 0.52045744 0.46367571 0.69012677 0.1633917  0.66833074 0.37673401\n",
            " 0.61871478 0.04009501 0.4617272  0.52225089 0.2143264  0.13962365\n",
            " 0.1884743  0.34414108 0.09681015 0.9473198  0.40499406 0.8089696\n",
            " 0.97441712 0.08073528 0.65166947 0.87140909 0.63423443 0.42902612\n",
            " 0.43107636 0.03589889 0.53460075 0.993543   0.95870753 0.04039923\n",
            " 0.705797   0.30176487 0.90298915 0.04511475 0.9358741  0.83747574\n",
            " 0.11750438 0.05982434 0.83470766 0.15575767 0.53489815 0.91574486\n",
            " 0.56744811 0.3972333 ]\n",
            "angle with constraint is: [ 14.73752792  16.88584291 -10.78014327  -9.81016908  18.71671282\n",
            " -23.80148222   1.02287219  -1.81621427   9.50633848 -16.83041499\n",
            "   8.41653704  -6.16329961   5.93573891 -22.99524951  -1.91364014\n",
            "   1.1125447  -14.28367986 -18.01881729 -15.57628485  -7.7929461\n",
            " -20.15949253  22.36598979  -4.75029693  15.44848013  23.72085616\n",
            " -20.963236     7.5834734   18.57045434   6.7117217   -3.54869393\n",
            "  -3.44618212 -23.2050557    1.73003756  24.67714984  22.9353763\n",
            " -22.98003856  10.28985018  -9.91175667  20.14945767 -22.74426271\n",
            "  21.7937051   16.87378719 -19.12478089 -22.00878313  16.73538322\n",
            " -17.21211645   1.74490765  20.78724289   3.37240568  -5.13833493]\n",
            "shape of sample before is: (50, 28, 28)\n",
            "len(sample.shape) 3\n",
            "angle is: [0.44501605 0.06311717 0.96875232 0.31065419 0.18936349 0.2860473\n",
            " 0.96437319 0.09428605 0.86730304 0.70784389 0.83001918 0.97589754\n",
            " 0.84215466 0.94338235 0.12693526 0.79578857 0.54567569 0.5434956\n",
            " 0.89892158 0.97180382 0.70483832 0.48293839 0.45640386 0.38634146\n",
            " 0.36159903 0.39150684 0.08975324 0.07743609 0.77986984 0.44607289\n",
            " 0.93068449 0.61222101 0.03517598 0.15752334 0.20581979 0.97573602\n",
            " 0.21870423 0.51575568 0.93617693 0.97719273 0.23636044 0.04911764\n",
            " 0.15360183 0.06332848 0.19512424 0.56856971 0.9124488  0.53721888\n",
            " 0.62598956 0.20186725]\n",
            "angle with constraint is: [ -2.74919726 -21.84414146  23.43761607  -9.46729075 -15.53182542\n",
            " -10.69763491  23.21865974 -20.28569733  18.36515203  10.39219472\n",
            "  16.50095896  23.79487702  17.10773278  22.16911756 -18.65323716\n",
            "  14.78942826   2.2837847    2.17477975  19.94607882  23.59019093\n",
            "  10.24191615  -0.85308053  -2.1798071   -5.68292714  -6.92004852\n",
            "  -5.42465792 -20.51233824 -21.12819574  13.99349219  -2.69635535\n",
            "  21.53422443   5.61105043 -23.24120089 -17.12383293 -14.70901035\n",
            "  23.78680122 -14.06478869   0.78778381  21.80884658  23.8596365\n",
            " -13.18197823 -22.54411781 -17.31990837 -21.83357606 -15.24378795\n",
            "   3.42848574  20.62243981   1.86094418   6.29947783 -14.90663742]\n",
            "shape of sample before is: (50, 28, 28)\n",
            "len(sample.shape) 3\n",
            "angle is: [0.80058362 0.61778891 0.86413683 0.94884311 0.34790078 0.09057906\n",
            " 0.22592896 0.43784157 0.94569365 0.37830982 0.77077321 0.54047669\n",
            " 0.18280877 0.32073412 0.65319189 0.67285339 0.43475975 0.2286456\n",
            " 0.72190678 0.16887304 0.93666969 0.18790358 0.10731236 0.4976477\n",
            " 0.5195496  0.50819291 0.43666749 0.99481489 0.48628061 0.47794658\n",
            " 0.42176606 0.06682575 0.59295663 0.22796777 0.63760898 0.05083346\n",
            " 0.9813871  0.46900508 0.89675537 0.47556117 0.06033082 0.82221355\n",
            " 0.64818373 0.78175705 0.42816986 0.63793674 0.856229   0.63106544\n",
            " 0.34767363 0.66252959]\n",
            "angle with constraint is: [ 15.02918103   5.88944543  18.20684146  22.44215535  -7.60496121\n",
            " -20.47104707 -13.7035521   -3.10792172  22.28468259  -6.08450888\n",
            "  13.53866068   2.02383461 -15.85956148  -8.96329405   7.65959425\n",
            "   8.64266973  -3.26201266 -13.56771987  11.09533898 -16.55634792\n",
            "  21.83348459 -15.60482105 -19.63438186  -0.11761488   0.97747991\n",
            "   0.40964574  -3.16662553  24.74074464  -0.68596937  -1.10267096\n",
            "  -3.91169686 -21.65871226   4.64783156 -13.60161139   6.88044901\n",
            " -22.4583269   24.06935506  -1.54974605  19.83776858  -1.22194134\n",
            " -21.98345907  16.1106773    7.40918648  14.08785238  -3.59150682\n",
            "   6.89683721  17.81145019   6.55327214  -7.61631826   8.12647972]\n",
            "Accuracy after rotation augmentation constrained by  50  is  0.6779\n",
            "shape of sample before is: (50, 28, 28)\n",
            "len(sample.shape) 3\n",
            "angle is: [0.67185419 0.96058696 0.37091232 0.42508177 0.81212296 0.50576231\n",
            " 0.73657309 0.45970946 0.21549514 0.74520384 0.13115517 0.19858366\n",
            " 0.62682498 0.7472698  0.89468789 0.2725865  0.11072426 0.95604666\n",
            " 0.15442309 0.19766698 0.29132945 0.52939135 0.88282557 0.76054602\n",
            " 0.70815755 0.17518057 0.35768263 0.47840493 0.14742595 0.2734297\n",
            " 0.3083332  0.1272762  0.55023969 0.7050282  0.06993163 0.4811231\n",
            " 0.7822112  0.74799013 0.8150731  0.44824063 0.82055708 0.24075307\n",
            " 0.36081056 0.17635558 0.46748454 0.39206002 0.24092712 0.75178071\n",
            " 0.31384677 0.27280433]\n",
            "angle with constraint is: [ 10.31125132  27.63521775  -7.74526071  -4.49509395  18.72737767\n",
            "   0.34573888  14.19438559  -2.41743213 -17.07029149  14.71223057\n",
            " -22.13068985 -18.08498019   7.60949897  14.83618801  23.68127321\n",
            " -13.64481016 -23.35654448  27.36279957 -20.73461472 -18.13998106\n",
            " -12.52023279   1.76348124  22.96953396  15.63276136  12.48945323\n",
            " -19.48916593  -8.53904211  -1.29570443 -21.15444279 -13.59421787\n",
            " -11.50000776 -22.3634281    3.01438151  12.30169179 -25.80410211\n",
            "  -1.13261389  16.93267172  14.87940774  18.90438577  -3.10556201\n",
            "  19.23342496 -15.55481573  -8.35136631 -19.41866541  -1.95092763\n",
            "  -6.47639866 -15.54437302  15.10684255 -11.16919367 -13.63174019]\n",
            "shape of sample before is: (50, 28, 28)\n",
            "len(sample.shape) 3\n",
            "angle is: [0.13089033 0.4388217  0.30296463 0.36927284 0.23599726 0.76315549\n",
            " 0.93000335 0.49793185 0.64299842 0.86717228 0.99882964 0.61351648\n",
            " 0.88977947 0.90860825 0.79145149 0.46093139 0.081154   0.01580556\n",
            " 0.47720063 0.49431453 0.40736239 0.56816735 0.5521627  0.83661304\n",
            " 0.1086571  0.22517767 0.79300498 0.84783687 0.99482421 0.87291202\n",
            " 0.88989901 0.31434794 0.40166163 0.2680851  0.6062994  0.93880535\n",
            " 0.34464089 0.55700178 0.29629963 0.16979997 0.19518553 0.05794534\n",
            " 0.94929352 0.40287961 0.83412089 0.68132947 0.19192116 0.17546225\n",
            " 0.8119882  0.26471171]\n",
            "angle with constraint is: [-22.14658015  -3.67069789 -11.82212227  -7.84362952 -15.84016424\n",
            "  15.78932939  25.80020084  -0.12408883   8.5799054   22.0303366\n",
            "  29.92977824   6.81098908  23.38676799  24.51649479  17.48708927\n",
            "  -2.34411654 -25.13075997 -29.05166667  -1.367962    -0.34112799\n",
            "  -5.55825673   4.09004108   3.1297622   20.19678246 -23.4805738\n",
            " -16.48934003  17.58029874  20.87021203  29.68945282  22.37472098\n",
            "  23.39394042 -11.13912344  -5.90030196 -13.91489371   6.37796389\n",
            "  26.32832125  -9.32154681   3.42010691 -12.22202217 -19.81200157\n",
            " -18.28886821 -26.52327933  26.95761138  -5.82722349  20.04725352\n",
            "  10.87976836 -18.48473032 -19.47226521  18.71929209 -14.11729736]\n",
            "shape of sample before is: (50, 28, 28)\n",
            "len(sample.shape) 3\n",
            "angle is: [0.91328518 0.1400554  0.67770861 0.81447388 0.23525639 0.27620736\n",
            " 0.96451889 0.26459761 0.42995705 0.43251559 0.25303475 0.77579109\n",
            " 0.77184934 0.37831801 0.83512579 0.21307493 0.00430578 0.57116736\n",
            " 0.99407777 0.03864431 0.20799807 0.51891464 0.80994074 0.08904201\n",
            " 0.39523465 0.7470758  0.37154321 0.18883642 0.19549583 0.41004879\n",
            " 0.47941707 0.86181442 0.64225242 0.69040195 0.98298717 0.41184344\n",
            " 0.4033544  0.92334697 0.24587559 0.72981525 0.75457314 0.097788\n",
            " 0.46823141 0.20056247 0.18537527 0.46382811 0.28942971 0.79606045\n",
            " 0.90760489 0.80272061]\n",
            "angle with constraint is: [ 24.79711102 -21.59667572  10.66251687  18.86843256 -15.8846167\n",
            " -13.42755819  27.87113317 -14.12414368  -4.20257701  -4.04906441\n",
            " -14.817915    16.54746519  16.31096059  -7.30091915  20.10754746\n",
            " -17.21550394 -29.74165346   4.27004172  29.64466635 -27.68134141\n",
            " -17.52011558   1.13487855  18.59644419 -24.6574797   -6.28592077\n",
            "  14.82454804  -7.7074075  -18.66981477 -18.27025036  -5.39707279\n",
            "  -1.23497551  21.70886507   8.53514511  11.42411727  28.97923029\n",
            "  -5.28939358  -5.79873581  25.40081806 -15.24746478  13.78891478\n",
            "  15.27438829 -24.13272015  -1.90611566 -17.96625172 -18.87748363\n",
            "  -2.17031337 -12.63421755  17.76362686  24.45629348  18.16323632]\n",
            "shape of sample before is: (50, 28, 28)\n",
            "len(sample.shape) 3\n",
            "angle is: [0.26603087 0.27413439 0.25472835 0.1350381  0.94379837 0.4020478\n",
            " 0.22468947 0.84667105 0.3991953  0.03511681 0.16194157 0.63925034\n",
            " 0.78290527 0.21093439 0.91739559 0.85099712 0.84838075 0.22766115\n",
            " 0.05053599 0.86742354 0.30580023 0.61891638 0.75996688 0.12829326\n",
            " 0.78083835 0.93851146 0.72837497 0.44122275 0.87667814 0.52745763\n",
            " 0.74477093 0.82050594 0.74935286 0.28785488 0.1178439  0.23833853\n",
            " 0.50287494 0.50527692 0.58264435 0.39510184 0.78689138 0.91315375\n",
            " 0.24672505 0.73652322 0.67797185 0.5230905  0.18853023 0.79523226\n",
            " 0.96062629 0.72183633]\n",
            "angle with constraint is: [-14.03814764 -13.55193638 -14.71629899 -21.89771424  26.62790209\n",
            "  -5.87713211 -16.51863153  20.80026303  -6.04828184 -27.89299133\n",
            " -20.28350579   8.35502042  16.97431645 -17.34393669  25.04373536\n",
            "  21.0598272   20.90284524 -16.34033119 -26.96784068  22.04541237\n",
            " -11.65198628   7.13498287  15.59801302 -22.30240449  16.85030127\n",
            "  26.31068754  13.70249794  -3.52663509  22.60068833   1.6474578\n",
            "  14.68625567  19.23035663  14.9611717  -12.72870744 -22.92936595\n",
            " -15.69968824   0.17249622   0.31661534   4.95866096  -6.29388975\n",
            "  17.21348289  24.78922502 -15.19649679  14.19139306  10.67831115\n",
            "   1.38542996 -18.68818597  17.71393551  27.63757714  13.31017993]\n",
            "shape of sample before is: (50, 28, 28)\n",
            "len(sample.shape) 3\n",
            "angle is: [0.91786    0.98418526 0.35205067 0.63822355 0.47393274 0.98662875\n",
            " 0.09380782 0.41237491 0.87553904 0.28405131 0.78779285 0.38278316\n",
            " 0.97997854 0.88352984 0.30132036 0.77019311 0.33685654 0.60636284\n",
            " 0.65848077 0.82959541 0.02445084 0.22015789 0.71191781 0.56352324\n",
            " 0.49560508 0.05520996 0.34827588 0.86510023 0.03089284 0.39643624\n",
            " 0.94514829 0.05088073 0.74970575 0.25761262 0.86660883 0.74606798\n",
            " 0.88570517 0.21592479 0.53129275 0.77926994 0.24569974 0.23074631\n",
            " 0.02718213 0.95851529 0.71001688 0.63556035 0.74399472 0.53161292\n",
            " 0.47613382 0.44953224]\n",
            "angle with constraint is: [ 25.0715998   29.0511159   -8.87695955   8.29341318  -1.56403574\n",
            "  29.19772481 -24.37153056  -5.25750514  22.53234267 -12.95692137\n",
            "  17.26757104  -7.03301023  28.79871239  23.01179019 -11.92077854\n",
            "  16.21158681  -9.78860737   6.38177041   9.5088461   19.77572455\n",
            " -28.53294955 -16.79052653  12.71506864   3.81139422  -0.26369531\n",
            " -26.6874026   -9.10344699  21.90601391 -28.14642978  -6.21382588\n",
            "  26.70889726 -26.94715593  14.98234506 -14.54324303  21.99652993\n",
            "  14.76407874  23.14231025 -17.04451257   1.87756529  16.75619661\n",
            " -15.25801542 -16.15522168 -28.36907199  27.51091764  12.6010128\n",
            "   8.13362124  14.63968336   1.89677512  -1.43197073  -3.02806553]\n",
            "Accuracy after rotation augmentation constrained by  60  is  0.6728\n",
            "shape of sample before is: (50, 28, 28)\n",
            "len(sample.shape) 3\n",
            "angle is: [0.64043921 0.20153498 0.8880587  0.81175237 0.34956361 0.5786093\n",
            " 0.1410273  0.97234625 0.90289269 0.92189751 0.33216305 0.16913471\n",
            " 0.21177216 0.09000139 0.12011063 0.07130453 0.98982307 0.07405768\n",
            " 0.13254208 0.8272546  0.58024022 0.7744172  0.63091201 0.88217507\n",
            " 0.63846753 0.52212509 0.71274969 0.44739275 0.34606382 0.46765245\n",
            " 0.16971411 0.79657173 0.26070378 0.15353155 0.24635224 0.84207015\n",
            " 0.3302013  0.68604987 0.85640963 0.07774467 0.76502441 0.30766547\n",
            " 0.21662236 0.68890145 0.90979662 0.29501921 0.56883381 0.28983411\n",
            " 0.55428559 0.62186203]\n",
            "angle with constraint is: [  9.83074485 -20.89255172  27.16410865  21.82266599 -10.5305472\n",
            "   5.50265078 -25.128089    33.06423736  28.20248813  29.53282545\n",
            " -11.74858666 -23.16057048 -20.17594856 -28.69990263 -26.59225589\n",
            " -30.00868261  34.28761484 -29.81596216 -25.72205433  22.90782169\n",
            "   5.61681517  19.20920432   9.16384054  26.75225492   9.69272694\n",
            "   1.5487565   14.89247856  -3.68250737 -10.7755324   -2.26432833\n",
            " -23.12001264  20.76002109 -16.75073531 -24.25279176 -17.75534308\n",
            "  23.94491062 -11.88590931  13.02349087  24.94867415 -29.55787332\n",
            "  18.55170836 -13.46341735 -19.83643451  13.22310167  28.68576359\n",
            " -14.34865539   4.81836638 -14.71161203   3.799991     8.53034215]\n",
            "shape of sample before is: (50, 28, 28)\n",
            "len(sample.shape) 3\n",
            "angle is: [6.10335389e-01 6.23546370e-01 1.35079792e-01 6.93540470e-01\n",
            " 6.74750356e-01 6.82588122e-01 7.40705527e-02 4.46838842e-01\n",
            " 4.09035132e-01 8.67114836e-02 2.22367928e-01 4.40962632e-01\n",
            " 7.42906310e-01 2.37062077e-01 8.29749910e-01 5.45798286e-01\n",
            " 7.60421685e-01 4.72555983e-01 4.99194225e-01 6.19719389e-01\n",
            " 9.27970608e-01 4.91812581e-01 5.28657538e-01 6.01996964e-01\n",
            " 7.37515137e-01 7.18503355e-02 5.15687439e-01 4.81591589e-01\n",
            " 9.21684984e-01 4.93506580e-01 4.68320535e-01 9.62199989e-01\n",
            " 4.50576464e-01 1.80884430e-01 2.16916123e-01 9.51875383e-02\n",
            " 5.68129259e-04 4.31945661e-01 7.69242581e-01 7.33466443e-01\n",
            " 3.21490878e-02 5.69982904e-01 1.54283125e-01 9.41076285e-01\n",
            " 1.67365000e-01 6.26639218e-01 3.26238362e-01 6.41561326e-01\n",
            " 4.12258596e-01 7.59643052e-01]\n",
            "angle with constraint is: [  7.72347722   8.64824587 -25.54441454  13.54783287  12.23252495\n",
            "  12.78116856 -29.81506131  -3.72128103  -6.36754076 -28.93019614\n",
            " -19.43424505  -4.13261577  17.00344169 -18.40565461  23.08249371\n",
            "   3.20588     18.22951796  -1.92108117  -0.05640422   8.38035726\n",
            "  29.95794257  -0.5731193    2.00602767   7.13978745  16.62605961\n",
            " -29.97047652   1.0981207   -1.28858876  29.5179489   -0.45453937\n",
            "  -2.21756257  32.3539992   -3.45964755 -22.33808988 -19.8158714\n",
            " -28.33687232 -34.96023095  -4.76380373  18.84698069  16.342651\n",
            " -32.74956385   4.89880325 -24.20018122  30.87533993 -23.28445002\n",
            "   8.86474524 -12.16331465   9.90929282  -6.14189825  18.17501366]\n",
            "shape of sample before is: (50, 28, 28)\n",
            "len(sample.shape) 3\n",
            "angle is: [0.23067913 0.90579185 0.50020965 0.75609315 0.84973019 0.99882861\n",
            " 0.22394567 0.28689241 0.25043309 0.26287133 0.58244474 0.99352252\n",
            " 0.99027809 0.52677323 0.63902721 0.85997054 0.93293346 0.20386063\n",
            " 0.52854173 0.83283705 0.30320208 0.43980904 0.9856211  0.9850467\n",
            " 0.90610681 0.79844834 0.2691305  0.32085007 0.54728284 0.56077737\n",
            " 0.50550282 0.63667028 0.40832302 0.74917416 0.33354993 0.330677\n",
            " 0.12722596 0.18871221 0.85052088 0.44628234 0.22786779 0.7593411\n",
            " 0.55398113 0.02115601 0.31636146 0.17700141 0.65587286 0.27503104\n",
            " 0.06494678 0.05493499]\n",
            "angle with constraint is: [-1.88524612e+01  2.84054297e+01  1.46754519e-02  1.79265203e+01\n",
            "  2.44811134e+01  3.49180028e+01 -1.93238034e+01 -1.49175311e+01\n",
            " -1.74696839e+01 -1.65990067e+01  5.77113191e+00  3.45465766e+01\n",
            "  3.43194661e+01  1.87412620e+00  9.73190472e+00  2.51979381e+01\n",
            "  3.03053421e+01 -2.07297561e+01  1.99792103e+00  2.32985938e+01\n",
            " -1.37758546e+01 -4.21336703e+00  3.39934771e+01  3.39532688e+01\n",
            "  2.84274768e+01  2.08913841e+01 -1.61608649e+01 -1.25404948e+01\n",
            "  3.30979888e+00  4.25441622e+00  3.85197355e-01  9.56691959e+00\n",
            " -6.41738842e+00  1.74421910e+01 -1.16515051e+01 -1.18526102e+01\n",
            " -2.60941827e+01 -2.17901453e+01  2.45364615e+01 -3.76023630e+00\n",
            " -1.90492549e+01  1.81538770e+01  3.77867881e+00 -3.35190792e+01\n",
            " -1.28546980e+01 -2.26099012e+01  1.09111003e+01 -1.57478272e+01\n",
            " -3.04537255e+01 -3.11545508e+01]\n",
            "shape of sample before is: (50, 28, 28)\n",
            "len(sample.shape) 3\n",
            "angle is: [0.5817273  0.02172346 0.84879211 0.15539712 0.60656634 0.44468803\n",
            " 0.44285152 0.07179714 0.80275225 0.89305248 0.01101667 0.17860418\n",
            " 0.90390419 0.54949361 0.15003958 0.20279045 0.65998624 0.72481682\n",
            " 0.59942681 0.95314838 0.4940636  0.30027191 0.47723291 0.35966629\n",
            " 0.22441589 0.04596325 0.35221249 0.71140935 0.0184378  0.43917851\n",
            " 0.6440094  0.61040411 0.77664844 0.81051972 0.71170582 0.1027977\n",
            " 0.47502244 0.60340596 0.24556604 0.04255182 0.22359032 0.4548944\n",
            " 0.41393032 0.17666698 0.82441554 0.92568667 0.20134832 0.92957292\n",
            " 0.01786096 0.92496247]\n",
            "angle with constraint is: [  5.72091086 -33.4793581   24.41544792 -24.12220165   7.45964346\n",
            "  -3.87183804  -4.00039351 -29.97420003  21.19265751  27.51367393\n",
            " -34.22883328 -22.4977077   28.27329322   3.4645529  -24.49722952\n",
            " -20.80466832  11.1990371   15.73717756   6.9598766   31.72038659\n",
            "  -0.41554774 -13.98096615  -1.5936963   -9.82335944 -19.29088751\n",
            " -31.78257255 -10.34512545  14.79865434 -33.7093538   -4.25750408\n",
            "  10.0806581    7.72828764  19.36539051  21.7363801   14.81940746\n",
            " -27.80416127  -1.74842892   7.23841702 -17.81037728 -32.02137276\n",
            " -19.34867754  -3.15739188  -6.02487767 -22.63331131  22.70908799\n",
            "  29.79806681 -20.90561767  30.07010409 -33.74973286  29.74737309]\n",
            "shape of sample before is: (50, 28, 28)\n",
            "len(sample.shape) 3\n",
            "angle is: [0.95192879 0.01205186 0.7630193  0.97020157 0.90590222 0.97071016\n",
            " 0.55032351 0.07815614 0.8497892  0.61382826 0.61473674 0.41725361\n",
            " 0.57184198 0.15357978 0.73977003 0.07501731 0.72978077 0.84897842\n",
            " 0.47246868 0.50983037 0.31221427 0.96945858 0.73312447 0.36898855\n",
            " 0.17480739 0.21957959 0.46392229 0.9425684  0.73414635 0.21524375\n",
            " 0.85956113 0.37820052 0.85172218 0.2416996  0.61866061 0.92667049\n",
            " 0.25789401 0.69292659 0.98731262 0.15059829 0.08840229 0.67419519\n",
            " 0.33973595 0.07124448 0.47530562 0.75377068 0.2851224  0.33504688\n",
            " 0.8456994  0.52007191]\n",
            "angle with constraint is: [ 31.63501531 -34.15636959  18.41135077  32.91411008  28.41315532\n",
            "  32.94971128   3.5226454  -29.52907021  24.48524385   7.96797791\n",
            "   8.03157209  -5.79224731   5.02893836 -24.24941546  16.78390186\n",
            " -29.74878849  16.08465369  24.42848958  -1.92719257   0.68812562\n",
            " -13.1450009   32.86210086  16.31871322  -9.17080127 -22.76348296\n",
            " -19.62942855  -2.52543997  30.97978802  16.3902442  -19.93293763\n",
            "  25.16927934  -8.52596339  24.62055279 -18.08102814   8.30624284\n",
            "  29.86693417 -16.94741936  13.50486134  34.1118834  -24.45811989\n",
            " -28.81183965  12.19366347 -11.21848366 -30.01288658  -1.72860675\n",
            "  17.76394758 -15.04143197 -11.54671857  24.19895805   1.40503386]\n",
            "Accuracy after rotation augmentation constrained by  70  is  0.6676\n",
            "shape of sample before is: (50, 28, 28)\n",
            "len(sample.shape) 3\n",
            "angle is: [0.84273197 0.44638949 0.95297516 0.65079459 0.11589887 0.88509299\n",
            " 0.48926519 0.14163897 0.15269013 0.68753394 0.04737251 0.28659376\n",
            " 0.13978759 0.44107743 0.41435377 0.52187643 0.27963633 0.03204359\n",
            " 0.61438611 0.373718   0.651335   0.10866697 0.01377736 0.24829425\n",
            " 0.45654732 0.39407197 0.81030256 0.37783764 0.53044118 0.59351559\n",
            " 0.02183139 0.51513338 0.34483126 0.42128013 0.1002874  0.78282057\n",
            " 0.94240425 0.02226882 0.60137276 0.76384407 0.28480759 0.78755558\n",
            " 0.63235505 0.92916263 0.98100481 0.04234611 0.44493776 0.54698779\n",
            " 0.14674323 0.33628583]\n",
            "angle with constraint is: [ 27.4185575   -4.28884063  36.23801292  12.06356718 -30.72809077\n",
            "  30.80743906  -0.85878473 -28.66888256 -27.78478929  15.00271481\n",
            " -36.21019946 -17.07249881 -28.81699276  -4.71380563  -6.85169824\n",
            "   1.75011478 -17.62909367 -37.43651285   9.15088852 -10.10255977\n",
            "  12.1067999  -31.30664234 -38.89781158 -20.13646017  -3.47621416\n",
            "  -8.47424207  24.82420442  -9.77298846   2.43529437   7.4812474\n",
            " -38.25348867   1.21067015 -12.41349925  -6.29758979 -31.97700812\n",
            "  22.62564525  35.39234006 -38.21849435   8.10982102  21.10752538\n",
            " -17.21539291  23.00444679  10.58840406  34.33301058  38.48038491\n",
            " -36.61231088  -4.40497912   3.75902301 -28.26054134 -13.09713357]\n",
            "shape of sample before is: (50, 28, 28)\n",
            "len(sample.shape) 3\n",
            "angle is: [0.98764745 0.01623046 0.45250793 0.84265462 0.32390126 0.4797985\n",
            " 0.97804575 0.47487684 0.13092131 0.05172149 0.94541657 0.26580941\n",
            " 0.50406391 0.09070177 0.42365512 0.93010552 0.50241299 0.97113515\n",
            " 0.25883564 0.50454524 0.85953079 0.44825235 0.27948737 0.85547536\n",
            " 0.38988947 0.53072329 0.97652707 0.18648329 0.30140064 0.0310696\n",
            " 0.39183771 0.20018343 0.68003494 0.18132146 0.67481275 0.26347543\n",
            " 0.35521783 0.34886065 0.71675175 0.46650926 0.3612989  0.85262272\n",
            " 0.57195063 0.21383082 0.90009128 0.3426503  0.03897938 0.49460022\n",
            " 0.12393805 0.23846644]\n",
            "angle with constraint is: [ 39.01179582 -38.70156349  -3.79936548  27.41236974 -14.08789898\n",
            "  -1.61611978  38.24365966  -2.00985308 -29.52629503 -35.86228067\n",
            "  35.6333258  -18.73524694   0.32511253 -32.74385871  -6.10759036\n",
            "  34.40844154   0.19303949  37.69081214 -19.29314902   0.36361918\n",
            "  28.76246334  -4.13981164 -17.64101011  28.43802907  -8.80884249\n",
            "   2.45786328  38.12216531 -25.08133642 -15.88794906 -37.51443199\n",
            "  -8.65298321 -23.98532555  14.40279483 -25.4942833   13.98502019\n",
            " -18.92196574 -11.58257327 -12.09114784  17.34014001  -2.67925895\n",
            " -11.09608809  28.20981752   5.75605005 -22.8935343   32.00730225\n",
            " -12.58797632 -36.8816498   -0.43198208 -30.08495564 -20.9226845 ]\n",
            "shape of sample before is: (50, 28, 28)\n",
            "len(sample.shape) 3\n",
            "angle is: [0.74711087 0.13075181 0.80694422 0.93690729 0.6065321  0.71035919\n",
            " 0.71358661 0.99280796 0.34153826 0.16285655 0.51916723 0.53324981\n",
            " 0.17791249 0.61310942 0.01412473 0.9276684  0.26457428 0.03956021\n",
            " 0.10824944 0.24024895 0.27390617 0.03281    0.27935481 0.19294174\n",
            " 0.37862093 0.38516774 0.33900774 0.32792388 0.08973128 0.02520495\n",
            " 0.2021143  0.75664943 0.99080977 0.92852618 0.50421936 0.53182386\n",
            " 0.31458157 0.77393944 0.76475669 0.84427236 0.89550458 0.43434925\n",
            " 0.76687557 0.80639873 0.30845962 0.92924224 0.0943415  0.99426918\n",
            " 0.77009072 0.09327091]\n",
            "angle with constraint is: [ 19.76886981 -29.53985493  24.55553795  34.95258305   8.52256803\n",
            "  16.82873536  17.08692879  39.42463658 -12.67693902 -26.9714759\n",
            "   1.53337879   2.65998479 -25.76700094   9.04875352 -38.87002132\n",
            "  34.2134722  -18.83405777 -36.83518333 -31.34004468 -20.78008414\n",
            " -18.08750651 -37.37520004 -17.65161502 -24.56466108  -9.71032581\n",
            "  -9.18658101 -12.87938075 -13.76608932 -32.82149778 -37.98360423\n",
            " -23.83085599  20.53195419  39.26478124  34.282094     0.33754844\n",
            "   2.54590846 -14.83347448  21.91515509  21.18053503  27.54178861\n",
            "  31.64036618  -5.25206014  21.35004545  24.5118983  -15.3232302\n",
            "  34.33937952 -32.45267979  39.54153433  21.60725745 -32.53832757]\n",
            "shape of sample before is: (50, 28, 28)\n",
            "len(sample.shape) 3\n",
            "angle is: [0.65622965 0.03417941 0.77018695 0.79922292 0.60241025 0.85686039\n",
            " 0.09788328 0.27592384 0.41417752 0.04245795 0.44821609 0.26521346\n",
            " 0.39273501 0.42510263 0.87941173 0.27034097 0.89374313 0.42597096\n",
            " 0.32780772 0.50251205 0.41774329 0.25737231 0.50267932 0.15180173\n",
            " 0.35192994 0.56579022 0.41340824 0.82391236 0.25672176 0.96977158\n",
            " 0.78472202 0.96759303 0.83813655 0.14210393 0.52646009 0.16997852\n",
            " 0.81822735 0.58416215 0.26344931 0.92959897 0.11518605 0.5638624\n",
            " 0.72104055 0.05884854 0.59785603 0.81590122 0.06752731 0.51224297\n",
            " 0.25855718 0.66292445]\n",
            "angle with constraint is: [ 12.49837185 -37.26564713  21.61495596  23.93783373   8.19282025\n",
            "  28.54883135 -32.16933758 -17.92609264  -6.86579827 -36.60336377\n",
            "  -4.14271299 -18.78292351  -8.58119903  -5.99178944  30.35293868\n",
            " -18.37272236  31.4994503   -5.92232281 -13.77538234   0.20096395\n",
            "  -6.58053709 -19.41021496   0.21434598 -27.85586135 -11.84560456\n",
            "   5.26321755  -6.92734045  25.91298888 -19.46225908  37.58172631\n",
            "  22.77776167  37.40744208  27.05092439 -28.63168593   2.11680725\n",
            " -26.4017183   25.45818821   6.73297193 -18.92405485  34.36791776\n",
            " -30.78511573   5.10899228  17.68324437 -35.29211701   7.82848266\n",
            "  25.27209724 -34.59781485   0.97943769 -19.31542575  13.03395612]\n",
            "shape of sample before is: (50, 28, 28)\n",
            "len(sample.shape) 3\n",
            "angle is: [0.11867737 0.93705143 0.89472858 0.18597442 0.32326588 0.58763497\n",
            " 0.71806234 0.44265602 0.15629132 0.10415149 0.99976534 0.45535212\n",
            " 0.87253175 0.482376   0.92235764 0.08775938 0.11401919 0.92963219\n",
            " 0.94749305 0.31471745 0.35516489 0.45245023 0.41616168 0.19004522\n",
            " 0.89837538 0.2533076  0.70527241 0.06715568 0.03875133 0.65373047\n",
            " 0.33901586 0.65545939 0.0940212  0.94985138 0.74851447 0.87626723\n",
            " 0.13647055 0.32016097 0.36834416 0.53717265 0.29686849 0.06063074\n",
            " 0.36887838 0.25454931 0.38592129 0.19695954 0.26189637 0.62695234\n",
            " 0.38815383 0.34538339]\n",
            "angle with constraint is: [-30.50581063  34.96411445  31.57828654 -25.12204641 -14.13872925\n",
            "   7.01079797  17.44498693  -4.58751879 -27.49669424 -31.6678805\n",
            "  39.98122695  -3.57183028  29.80253993  -1.40991963  33.78861108\n",
            " -32.97924938 -30.87846469  34.37057502  35.7994436  -14.8226042\n",
            " -11.58680904  -3.80398121  -6.70706559 -24.79638272  31.87003072\n",
            " -19.73539194  16.42179276 -34.62754578 -36.89989348  12.29843781\n",
            " -12.87873139  12.43675142 -32.47830383  35.98811039  19.88115735\n",
            "  30.10137864 -29.08235568 -14.38712249 -10.53246686   2.97381187\n",
            " -16.25052116 -35.14954062 -10.48972954 -19.63605483  -9.12629668\n",
            " -24.24323659 -19.04829003  10.15618723  -8.94769323 -12.36932855]\n",
            "Accuracy after rotation augmentation constrained by  80  is  0.6504\n",
            "shape of sample before is: (50, 28, 28)\n",
            "len(sample.shape) 3\n",
            "angle is: [0.53390563 0.77186054 0.37886796 0.58751949 0.96620263 0.52198011\n",
            " 0.90979758 0.79367262 0.05871868 0.42909887 0.69831841 0.98671191\n",
            " 0.45837629 0.09278545 0.56200917 0.12656379 0.75151956 0.507677\n",
            " 0.72343137 0.86936183 0.62894802 0.61243933 0.7545703  0.842455\n",
            " 0.86905379 0.0364302  0.5561903  0.21626931 0.86034589 0.64839769\n",
            " 0.42022248 0.18810423 0.33902363 0.70377769 0.20435955 0.09358295\n",
            " 0.88802876 0.76421035 0.19979493 0.29231154 0.97207018 0.70818449\n",
            " 0.610522   0.30762849 0.29912514 0.03952362 0.72848187 0.04317523\n",
            " 0.00485734 0.72949509]\n",
            "angle with constraint is: [  3.05150695  24.46744868 -10.90188393   7.87675433  41.95823628\n",
            "   1.97821027  36.88178189  26.43053618 -39.71531865  -6.38110157\n",
            "  17.84865671  43.80407212  -3.7461338  -36.64930913   5.58082572\n",
            " -33.60925871  22.63676043   0.69092977  20.10882315  33.24256442\n",
            "  11.60532154  10.11953963  22.91132659  30.82095013  33.21484076\n",
            " -41.72128239   5.05712671 -25.53576212  32.43113017  13.35579167\n",
            "  -7.17997689 -28.07061947 -14.48787367  18.33999251 -26.60764093\n",
            " -36.57753492  34.92258824  23.77893146 -27.01845624 -18.69196109\n",
            "  42.48631594  18.73660381   9.94698038 -17.31343631 -18.07873703\n",
            " -41.44287432  20.56336802 -41.11422974 -44.5628396   20.65455791]\n",
            "shape of sample before is: (50, 28, 28)\n",
            "len(sample.shape) 3\n",
            "angle is: [0.94887376 0.75650305 0.47164019 0.48604525 0.43613642 0.32464367\n",
            " 0.52171421 0.43115096 0.59816788 0.89812008 0.99500942 0.07874329\n",
            " 0.38468347 0.1807062  0.35212047 0.28747302 0.17453713 0.76407605\n",
            " 0.49628874 0.91924558 0.03259244 0.06697801 0.40327358 0.08027732\n",
            " 0.2627296  0.98602974 0.20895961 0.19811774 0.57364067 0.49799829\n",
            " 0.5804383  0.37673528 0.82676236 0.13858055 0.42839265 0.68976185\n",
            " 0.86823644 0.36957161 0.5677456  0.06913995 0.17031909 0.06913816\n",
            " 0.72788089 0.28805997 0.72374529 0.06639828 0.8625478  0.8355302\n",
            " 0.08892874 0.02375651]\n",
            "angle with constraint is: [ 40.39863814  23.0852743   -2.55238284  -1.25592754  -5.74772196\n",
            " -15.78206996   1.95427928  -6.19641386   8.8351092   35.83080725\n",
            "  44.55084756 -37.91310391 -10.37848746 -28.73644238 -13.30915735\n",
            " -19.12742833 -29.29165815  23.76684481  -0.33401315  37.7321024\n",
            " -42.06668011 -38.97197882  -8.70537754 -37.77504116 -21.35433632\n",
            "  43.74267688 -26.19363533 -27.16940327   6.62766019  -0.18015383\n",
            "   7.23944675 -11.09382496  29.40861239 -32.52775037  -6.44466187\n",
            "  17.07856636  33.14127963 -11.73855543   6.09710392 -38.77740495\n",
            " -29.67128207 -38.77756538  20.50928028 -19.07460282  20.13707612\n",
            " -39.02415489  32.62930204  30.19771783 -36.99641313 -42.86191442]\n",
            "shape of sample before is: (50, 28, 28)\n",
            "len(sample.shape) 3\n",
            "angle is: [0.05628881 0.85363017 0.23470349 0.54827332 0.4262442  0.79552553\n",
            " 0.4888983  0.50066084 0.98909194 0.15012956 0.83070394 0.05174975\n",
            " 0.47764877 0.88633482 0.66521397 0.68521462 0.26331728 0.41857479\n",
            " 0.36658106 0.52144321 0.46222793 0.32689835 0.30548061 0.25085289\n",
            " 0.36504725 0.14994148 0.8721043  0.60211939 0.13378643 0.69385933\n",
            " 0.84766647 0.23753567 0.15060059 0.00861726 0.04725034 0.76225135\n",
            " 0.98718633 0.04488032 0.74807096 0.07186217 0.59213282 0.75607528\n",
            " 0.3592044  0.01093472 0.59518935 0.99124463 0.25761742 0.18949128\n",
            " 0.12392589 0.55525562]\n",
            "angle with constraint is: [-39.93400683  31.82671558 -23.87668599   4.34459861  -6.63802171\n",
            "  26.59729736  -0.99915287   0.05947566  44.01827455 -31.48833989\n",
            "  29.76335449 -40.3425229   -2.01161074  34.77013415  14.8692569\n",
            "  16.66931574 -21.3014446   -7.32826878 -12.00770429   1.92988891\n",
            "  -3.39948629 -15.57914833 -17.50674489 -22.42323975 -12.14574778\n",
            " -31.50526699  33.48938718   9.19074527 -32.9592217   17.44734008\n",
            "  31.28998212 -23.62178952 -31.44594651 -44.22444686 -40.7474695\n",
            "  23.60262135  43.84676988 -40.96077098  22.32638632 -38.53240507\n",
            "   8.29195424  23.04677542 -12.67160425 -44.0158751    8.56704169\n",
            "  44.21201653 -21.81443194 -27.94578505 -33.84666965   4.97300579]\n",
            "shape of sample before is: (50, 28, 28)\n",
            "len(sample.shape) 3\n",
            "angle is: [0.5964451  0.79227084 0.75307327 0.89254149 0.8057727  0.24726708\n",
            " 0.5558774  0.29741196 0.32978538 0.93194437 0.68189591 0.97459041\n",
            " 0.41691254 0.53743757 0.48711542 0.10728706 0.23670199 0.52763636\n",
            " 0.06737431 0.93146193 0.12384368 0.19798075 0.76532122 0.09693454\n",
            " 0.9002781  0.72570097 0.06862086 0.69184706 0.63162854 0.75734943\n",
            " 0.82819785 0.71835056 0.5861763  0.32246332 0.69727366 0.95697158\n",
            " 0.58752178 0.66434487 0.43712804 0.75612081 0.99766739 0.16038932\n",
            " 0.20240528 0.53943776 0.4813754  0.57156978 0.04907405 0.40427646\n",
            " 0.58297826 0.58519135]\n",
            "angle with constraint is: [  8.68005894  26.30437535  22.77659463  35.32873453  27.51954285\n",
            " -22.74596252   5.02896644 -18.23292368 -15.31931584  38.87499323\n",
            "  16.37063146  42.71313719  -7.4778717    3.3693816   -1.15961221\n",
            " -35.34416482 -23.69682049   2.48727245 -38.93631254  38.83157364\n",
            " -33.85406863 -27.18173282  23.87891015 -36.27589124  36.02502897\n",
            "  20.31308737 -38.82412286  17.26623552  11.8465688   23.16144895\n",
            "  29.53780672  19.65155069   7.75586657 -15.97830133  17.75462956\n",
            "  41.12744262   7.87696025  14.79103816  -5.6584762   23.05087288\n",
            "  44.79006531 -30.56496083 -26.78352484   3.54939828  -1.67621425\n",
            "   6.44128061 -40.5833357   -8.61511893   7.46804359   7.66722162]\n",
            "shape of sample before is: (50, 28, 28)\n",
            "len(sample.shape) 3\n",
            "angle is: [0.65733396 0.72021603 0.6415472  0.79024316 0.62476063 0.53750766\n",
            " 0.60619643 0.10119337 0.27315654 0.52739978 0.87298722 0.67905156\n",
            " 0.09040808 0.59227495 0.22173799 0.73401656 0.82744085 0.59345627\n",
            " 0.59136261 0.33859144 0.44625002 0.86410835 0.72332033 0.51975366\n",
            " 0.36823239 0.05037974 0.1430074  0.19302519 0.37338354 0.94414365\n",
            " 0.50515339 0.23484016 0.10575014 0.33830552 0.81573064 0.38334279\n",
            " 0.77250581 0.80270498 0.11082077 0.60865975 0.95909606 0.40213807\n",
            " 0.05094409 0.92330269 0.88366628 0.52214145 0.55225312 0.2117411\n",
            " 0.81945076 0.49860004]\n",
            "angle with constraint is: [ 14.16005656  19.81944261  12.7392483   26.12188399  11.22845712\n",
            "   3.37568963   9.5576786  -35.89259699 -20.41591133   2.46598026\n",
            "  33.56884939  16.11464007 -36.86327294   8.30474554 -25.04358111\n",
            "  21.06149038  29.46967673   8.41106453   8.22263488 -14.52677011\n",
            "  -4.8374981   32.76975184  20.09882979   1.77782937 -11.85908524\n",
            " -40.46582355 -32.12933388 -27.62773294 -11.39548111  39.97292824\n",
            "   0.46380554 -23.86438531 -35.48248763 -14.55250279  28.4157572\n",
            " -10.49914859  24.52552254  27.24344785 -35.02613073   9.77937774\n",
            "  41.3186457   -8.80757326 -40.41503199  38.09724212  34.52996534\n",
            "   1.99273025   4.70278083 -25.94330075  28.750568    -0.12599654]\n",
            "Accuracy after rotation augmentation constrained by  90  is  0.6467\n"
          ]
        }
      ],
      "source": [
        "angleconstraints = [0,10,20,30,40,50,60,70,80,90] # the values we want to test\n",
        "accuracies = np.zeros(len(angleconstraints), dtype=np.float) # we will save the values here\n",
        "\n",
        "for ii in range(len(angleconstraints)):\n",
        "  # create the augmented dataset\n",
        "  augdata = train_X # we include the original images also in the augmented dataset\n",
        "  auglabel = train_y\n",
        "  for jj in range(naugmentations):\n",
        "    augdata = np.concatenate((augdata, augRotate(train_X, angleconstraints[ii]))) # concatenate the augmented data to the set\n",
        "    auglabel = np.concatenate((auglabel, train_y))  # the labels don't change when we augment\n",
        "\n",
        "  # check the test accuracy\n",
        "  testpred = NN(augdata, auglabel, test_X)\n",
        "  accuracies[ii] = Accuracy(test_y, testpred)\n",
        "  print('Accuracy after rotation augmentation constrained by ',angleconstraints[ii], ' is ', accuracies[ii], flush=True)"
      ]
    },
    {
      "cell_type": "code",
      "execution_count": 39,
      "metadata": {
        "id": "ZPOH1A3RnqDr"
      },
      "outputs": [],
      "source": [
        "#Accuracy after rotation augmentation constrained by  90  is  0.6467"
      ]
    },
    {
      "cell_type": "markdown",
      "metadata": {
        "id": "8Le-7VJBoP8K"
      },
      "source": [
        "Let us see the best value for angle constraint: (Ideally this should be done on validation set, not test set)"
      ]
    },
    {
      "cell_type": "code",
      "execution_count": 40,
      "metadata": {
        "colab": {
          "base_uri": "https://localhost:8080/",
          "height": 482
        },
        "id": "xG__xE-FoQOg",
        "outputId": "99ed4061-465e-4f89-c482-51b1e9df6e5b"
      },
      "outputs": [
        {
          "output_type": "execute_result",
          "data": {
            "text/plain": [
              "<matplotlib.collections.PathCollection at 0x7fd0f2674490>"
            ]
          },
          "metadata": {},
          "execution_count": 40
        },
        {
          "output_type": "display_data",
          "data": {
            "text/plain": [
              "<Figure size 640x480 with 1 Axes>"
            ],
            "image/png": "[encoded data removed]"
          },
          "metadata": {}
        }
      ],
      "source": [
        "fig = plt.figure()\n",
        "ax = fig.add_axes([0.1, 0.1, 0.8, 0.8]) # main axes\n",
        "# plot the variation of accuracy\n",
        "ax.plot(angleconstraints, accuracies)\n",
        "ax.set_xlabel('angle')\n",
        "ax.set_ylabel('accuracy')\n",
        "# plot the maximum accuracy\n",
        "maxind = np.argmax(accuracies)\n",
        "plt.scatter(angleconstraints[maxind], accuracies[maxind], c='red')"
      ]
    },
    {
      "cell_type": "markdown",
      "metadata": {
        "id": "Vfy-LEb-qdUd"
      },
      "source": [
        "Let us do a grid search to find the best shear constraint."
      ]
    },
    {
      "cell_type": "code",
      "execution_count": 41,
      "metadata": {
        "colab": {
          "base_uri": "https://localhost:8080/"
        },
        "id": "22m9xPrBoSDi",
        "outputId": "230b00f0-e881-4b62-e2c4-0a967b9316a6"
      },
      "outputs": [
        {
          "output_type": "stream",
          "name": "stderr",
          "text": [
            "<ipython-input-41-8a89fef4983d>:2: DeprecationWarning: `np.float` is a deprecated alias for the builtin `float`. To silence this warning, use `float` by itself. Doing this will not modify any behavior and is safe. If you specifically wanted the numpy scalar type, use `np.float64` here.\n",
            "Deprecated in NumPy 1.20; for more details and guidance: https://numpy.org/devdocs/release/1.20.0-notes.html#deprecations\n",
            "  accuracies = np.zeros(len(shearconstraints), dtype=np.float) # we will save the values here\n"
          ]
        },
        {
          "output_type": "stream",
          "name": "stdout",
          "text": [
            "Accuracy after shear augmentation constrained by  0  is  0.6472\n",
            "Accuracy after shear augmentation constrained by  0.2  is  0.6198\n",
            "Accuracy after shear augmentation constrained by  0.4  is  0.6289\n",
            "Accuracy after shear augmentation constrained by  0.6  is  0.6444\n",
            "Accuracy after shear augmentation constrained by  0.8  is  0.6556\n",
            "Accuracy after shear augmentation constrained by  1.0  is  0.6561\n",
            "Accuracy after shear augmentation constrained by  1.2  is  0.6275\n",
            "Accuracy after shear augmentation constrained by  1.4  is  0.6244\n",
            "Accuracy after shear augmentation constrained by  1.6  is  0.596\n",
            "Accuracy after shear augmentation constrained by  1.8  is  0.6067\n",
            "Accuracy after shear augmentation constrained by  2.0  is  0.6345\n"
          ]
        }
      ],
      "source": [
        "shearconstraints = [0, 0.2,0.4,0.6,0.8,1.0,1.2,1.4,1.6,1.8,2.0] # the values we want to test\n",
        "accuracies = np.zeros(len(shearconstraints), dtype=np.float) # we will save the values here\n",
        "\n",
        "for ii in range(len(shearconstraints)):\n",
        "  # create the augmented dataset\n",
        "  augdata = train_X # we include the original images also in the augmented dataset\n",
        "  auglabel = train_y\n",
        "  for jj in range(naugmentations):\n",
        "    augdata = np.concatenate((augdata, augShear(train_X, shearconstraints[ii]))) # concatenate the augmented data to the set\n",
        "    auglabel = np.concatenate((auglabel, train_y))  # the labels don't change when we augment\n",
        "\n",
        "  # check the test accuracy\n",
        "  testpred = NN(augdata, auglabel, test_X)\n",
        "  accuracies[ii] = Accuracy(test_y, testpred)\n",
        "  print('Accuracy after shear augmentation constrained by ',shearconstraints[ii], ' is ', accuracies[ii], flush=True)"
      ]
    },
    {
      "cell_type": "code",
      "execution_count": 42,
      "metadata": {
        "colab": {
          "base_uri": "https://localhost:8080/",
          "height": 482
        },
        "id": "kBBum9xPqglf",
        "outputId": "5c81d572-98fa-494e-b080-8286f07961d0"
      },
      "outputs": [
        {
          "output_type": "execute_result",
          "data": {
            "text/plain": [
              "<matplotlib.collections.PathCollection at 0x7fd0f22a5480>"
            ]
          },
          "metadata": {},
          "execution_count": 42
        },
        {
          "output_type": "display_data",
          "data": {
            "text/plain": [
              "<Figure size 640x480 with 1 Axes>"
            ],
            "image/png": "[encoded data removed]"
          },
          "metadata": {}
        }
      ],
      "source": [
        "fig = plt.figure()\n",
        "ax = fig.add_axes([0.1, 0.1, 0.8, 0.8]) # main axes\n",
        "# plot the variation of accuracy\n",
        "ax.plot(shearconstraints, accuracies)\n",
        "ax.set_xlabel('angle')\n",
        "ax.set_ylabel('accuracy')\n",
        "# plot the maximum accuracy\n",
        "maxind = np.argmax(accuracies)\n",
        "plt.scatter(shearconstraints[maxind], accuracies[maxind], c='red')"
      ]
    },
    {
      "cell_type": "markdown",
      "metadata": {
        "id": "88Bu9veestqd"
      },
      "source": [
        "We can do multiple augmentations at the same time. Here is a function to do both shear and rotation to the sample. In this case, we will have two hyperparameters."
      ]
    },
    {
      "cell_type": "code",
      "execution_count": 43,
      "metadata": {
        "id": "T9CflCiur-lr"
      },
      "outputs": [],
      "source": [
        "def augRotateShear(sample, angleconstraint, shearconstraint):\n",
        "  if len(sample.shape)==2:\n",
        "    sample = np.expand_dims(sample, 0)  # make sure the sample is 3 dimensional\n",
        "  amt = rng.random(len(sample)) # generate random numbers for shear\n",
        "  amt = (amt-0.5)*shearconstraint # make the random shear constrained\n",
        "  angle = rng.random(len(sample)) # generate random numbers for angles\n",
        "  angle = (angle-0.5)*angleconstraint # make the random angle constrained\n",
        "  nsample = sample.copy() # preallocate the augmented array to make it faster\n",
        "  for ii in range(len(sample)):\n",
        "    nsample[ii] = rotate(shear(sample[ii], amt[ii]), angle[ii]) # first apply shear, then rotate\n",
        "  return np.squeeze(nsample) # take care if the input had only one sample."
      ]
    },
    {
      "cell_type": "markdown",
      "metadata": {
        "id": "-EdNnol9s4NZ"
      },
      "source": [
        "Since we have two hyperparameters, we have to do the grid search on a 2 dimensional matrix. We can use our previous experience to inform where to search for the best hyperparameters. "
      ]
    },
    {
      "cell_type": "code",
      "execution_count": 44,
      "metadata": {
        "colab": {
          "base_uri": "https://localhost:8080/"
        },
        "id": "UfmRisY-swyX",
        "outputId": "ceb18e02-b0bd-4ec8-bb10-c3e2b0659d09"
      },
      "outputs": [
        {
          "output_type": "stream",
          "name": "stderr",
          "text": [
            "<ipython-input-44-09de780976d0>:5: DeprecationWarning: `np.float` is a deprecated alias for the builtin `float`. To silence this warning, use `float` by itself. Doing this will not modify any behavior and is safe. If you specifically wanted the numpy scalar type, use `np.float64` here.\n",
            "Deprecated in NumPy 1.20; for more details and guidance: https://numpy.org/devdocs/release/1.20.0-notes.html#deprecations\n",
            "  accuracies = np.zeros(len(hyp), dtype=np.float) # we will save the values here\n"
          ]
        },
        {
          "output_type": "stream",
          "name": "stdout",
          "text": [
            "Accuracy after augmentation shear: 0.0 angle: 0.0  is  0.6332\n",
            "Accuracy after augmentation shear: 0.0 angle: 10.0  is  0.6057\n",
            "Accuracy after augmentation shear: 0.0 angle: 20.0  is  0.596\n",
            "Accuracy after augmentation shear: 0.0 angle: 30.0  is  0.6142\n",
            "Accuracy after augmentation shear: 0.0 angle: 40.0  is  0.6015\n",
            "Accuracy after augmentation shear: 0.0 angle: 50.0  is  0.6103\n",
            "Accuracy after augmentation shear: 0.0 angle: 60.0  is  0.5736\n",
            "Accuracy after augmentation shear: 0.2 angle: 0.0  is  0.6334\n",
            "Accuracy after augmentation shear: 0.2 angle: 10.0  is  0.6096\n",
            "Accuracy after augmentation shear: 0.2 angle: 20.0  is  0.5994\n",
            "Accuracy after augmentation shear: 0.2 angle: 30.0  is  0.5942\n",
            "Accuracy after augmentation shear: 0.2 angle: 40.0  is  0.5971\n",
            "Accuracy after augmentation shear: 0.2 angle: 50.0  is  0.6032\n",
            "Accuracy after augmentation shear: 0.2 angle: 60.0  is  0.6162\n",
            "Accuracy after augmentation shear: 0.4 angle: 0.0  is  0.6335\n",
            "Accuracy after augmentation shear: 0.4 angle: 10.0  is  0.5994\n",
            "Accuracy after augmentation shear: 0.4 angle: 20.0  is  0.606\n",
            "Accuracy after augmentation shear: 0.4 angle: 30.0  is  0.5943\n",
            "Accuracy after augmentation shear: 0.4 angle: 40.0  is  0.5832\n",
            "Accuracy after augmentation shear: 0.4 angle: 50.0  is  0.6034\n",
            "Accuracy after augmentation shear: 0.4 angle: 60.0  is  0.5979\n",
            "Accuracy after augmentation shear: 0.6 angle: 0.0  is  0.6339\n",
            "Accuracy after augmentation shear: 0.6 angle: 10.0  is  0.5842\n",
            "Accuracy after augmentation shear: 0.6 angle: 20.0  is  0.5929\n",
            "Accuracy after augmentation shear: 0.6 angle: 30.0  is  0.5941\n",
            "Accuracy after augmentation shear: 0.6 angle: 40.0  is  0.6015\n",
            "Accuracy after augmentation shear: 0.6 angle: 50.0  is  0.5978\n",
            "Accuracy after augmentation shear: 0.6 angle: 60.0  is  0.6146\n",
            "Accuracy after augmentation shear: 0.8 angle: 0.0  is  0.6342\n",
            "Accuracy after augmentation shear: 0.8 angle: 10.0  is  0.6061\n",
            "Accuracy after augmentation shear: 0.8 angle: 20.0  is  0.5963\n",
            "Accuracy after augmentation shear: 0.8 angle: 30.0  is  0.6129\n",
            "Accuracy after augmentation shear: 0.8 angle: 40.0  is  0.5882\n",
            "Accuracy after augmentation shear: 0.8 angle: 50.0  is  0.5878\n",
            "Accuracy after augmentation shear: 0.8 angle: 60.0  is  0.6076\n",
            "Accuracy after augmentation shear: 1.0 angle: 0.0  is  0.6333\n",
            "Accuracy after augmentation shear: 1.0 angle: 10.0  is  0.5871\n",
            "Accuracy after augmentation shear: 1.0 angle: 20.0  is  0.6012\n",
            "Accuracy after augmentation shear: 1.0 angle: 30.0  is  0.5937\n",
            "Accuracy after augmentation shear: 1.0 angle: 40.0  is  0.5888\n",
            "Accuracy after augmentation shear: 1.0 angle: 50.0  is  0.5852\n",
            "Accuracy after augmentation shear: 1.0 angle: 60.0  is  0.587\n",
            "Accuracy after augmentation shear: 1.2 angle: 0.0  is  0.6349\n",
            "Accuracy after augmentation shear: 1.2 angle: 10.0  is  0.5899\n",
            "Accuracy after augmentation shear: 1.2 angle: 20.0  is  0.5987\n",
            "Accuracy after augmentation shear: 1.2 angle: 30.0  is  0.5723\n",
            "Accuracy after augmentation shear: 1.2 angle: 40.0  is  0.6027\n",
            "Accuracy after augmentation shear: 1.2 angle: 50.0  is  0.5944\n",
            "Accuracy after augmentation shear: 1.2 angle: 60.0  is  0.6017\n",
            "Accuracy after augmentation shear: 1.4 angle: 0.0  is  0.6345\n",
            "Accuracy after augmentation shear: 1.4 angle: 10.0  is  0.6035\n",
            "Accuracy after augmentation shear: 1.4 angle: 20.0  is  0.6104\n",
            "Accuracy after augmentation shear: 1.4 angle: 30.0  is  0.5657\n",
            "Accuracy after augmentation shear: 1.4 angle: 40.0  is  0.5983\n",
            "Accuracy after augmentation shear: 1.4 angle: 50.0  is  0.5876\n",
            "Accuracy after augmentation shear: 1.4 angle: 60.0  is  0.6093\n",
            "Accuracy after augmentation shear: 1.6 angle: 0.0  is  0.6331\n",
            "Accuracy after augmentation shear: 1.6 angle: 10.0  is  0.6341\n",
            "Accuracy after augmentation shear: 1.6 angle: 20.0  is  0.591\n",
            "Accuracy after augmentation shear: 1.6 angle: 30.0  is  0.6079\n",
            "Accuracy after augmentation shear: 1.6 angle: 40.0  is  0.5987\n",
            "Accuracy after augmentation shear: 1.6 angle: 50.0  is  0.6035\n",
            "Accuracy after augmentation shear: 1.6 angle: 60.0  is  0.5965\n"
          ]
        }
      ],
      "source": [
        "shearconstraints = [0, 0.2,0.4,0.6,0.8,1.0,1.2,1.4,1.6] # the values we want to test\n",
        "angleconstraints = [0,10,20,30,40,50,60] # the values we want to test\n",
        "hyp = cartesian((shearconstraints, angleconstraints)) # cartesian product of both\n",
        "\n",
        "accuracies = np.zeros(len(hyp), dtype=np.float) # we will save the values here\n",
        "\n",
        "for ii in range(len(hyp)):\n",
        "  # create the augmented dataset\n",
        "  augdata = train_X # we include the original images also in the augmented dataset\n",
        "  auglabel = train_y\n",
        "  for jj in range(naugmentations):\n",
        "    augdata = np.concatenate((augdata, augRotateShear(train_X, hyp[ii][0], hyp[ii][1]))) # concatenate the augmented data to the set\n",
        "    auglabel = np.concatenate((auglabel, train_y))  # the labels don't change when we augment\n",
        "\n",
        "  # check the test accuracy\n",
        "  testpred = NN(augdata, auglabel, test_X)\n",
        "  accuracies[ii] = Accuracy(test_y, testpred)\n",
        "  print('Accuracy after augmentation shear:',hyp[ii][0], 'angle:',hyp[ii][1], ' is ', accuracies[ii], flush=True)"
      ]
    },
    {
      "cell_type": "markdown",
      "metadata": {
        "id": "twI4Tk5etBTE"
      },
      "source": [
        "Let us plot it two dimensionally to see which is the best value for the hyperparameters:"
      ]
    },
    {
      "cell_type": "code",
      "execution_count": 45,
      "metadata": {
        "id": "CS8X6jLAs7hW",
        "colab": {
          "base_uri": "https://localhost:8080/",
          "height": 482
        },
        "outputId": "a77cd1fe-29cf-46d5-9ce8-01b6662339b4"
      },
      "outputs": [
        {
          "output_type": "execute_result",
          "data": {
            "text/plain": [
              "<matplotlib.colorbar.Colorbar at 0x7fd0f235e050>"
            ]
          },
          "metadata": {},
          "execution_count": 45
        },
        {
          "output_type": "display_data",
          "data": {
            "text/plain": [
              "<Figure size 640x480 with 2 Axes>"
            ],
            "image/png": "[encoded data removed]"
          },
          "metadata": {}
        }
      ],
      "source": [
        "fig = plt.figure()\n",
        "ax = fig.add_axes([0.1, 0.1, 0.8, 0.8]) # main axes\n",
        "im = ax.imshow(accuracies.reshape((len(shearconstraints), len(angleconstraints))), cmap='inferno') \n",
        "ax.set_xlabel('angle')\n",
        "ax.set_ylabel('shear')\n",
        "ax.set_xticks(np.arange(len(angleconstraints)));\n",
        "ax.set_xticklabels(angleconstraints);\n",
        "ax.set_yticks(np.arange(len(shearconstraints)));\n",
        "ax.set_yticklabels(shearconstraints);\n",
        "plt.colorbar(im)"
      ]
    },
    {
      "cell_type": "markdown",
      "metadata": {
        "id": "JRnymka4vnla"
      },
      "source": [
        "It seems that rotation and shear don't mix! The best accuracy is when rotation is zero."
      ]
    },
    {
      "cell_type": "markdown",
      "metadata": {
        "id": "cU9AxYWJvs_P"
      },
      "source": [
        "## Questions\n",
        "Try these questions for better understanding. You may not be able to solve all of them. \n",
        "1. What is the best value for angle constraint and shear constraint you got? How much did the accuracy improve as compared to not using augmentations?\n",
        "2. Can you increase the accuracy by increasing the number of augmentations from each sample?\n",
        "3. Try implementing a few augmentations of your own and experimenting with them. A good reference is <a href=https://www.analyticsvidhya.com/blog/2019/12/image-augmentation-deep-learning-pytorch/>here. </a>\n",
        "4. Try combining various augmentations. What is the highest accuracy you can get? What is the smallest training dataset you can take and still get accuracy above 50%?\n",
        "\n",
        "Whenever you do any experiment, a good practice is to vary the hyperparameters gradually and create a graph of your results, like we did for gridsearch. "
      ]
    },
    {
      "cell_type": "markdown",
      "source": [
        "### Answers"
      ],
      "metadata": {
        "id": "0VqISiUZUm0u"
      }
    },
    {
      "cell_type": "markdown",
      "source": [
        "Question 1\n",
        "\n",
        "68.5 and 65. Accuracy improved by 4%."
      ],
      "metadata": {
        "id": "ua_nd9SJUof1"
      }
    },
    {
      "cell_type": "markdown",
      "source": [
        "Question 2\n",
        "\n",
        "By applying more augmentations to each sample, you effectively increase the diversity and variability of the training data. This can help the model learn to recognize and handle a wider range of variations and variations in the data, leading to improved accuracy."
      ],
      "metadata": {
        "id": "wrf88r3QU7BY"
      }
    },
    {
      "cell_type": "markdown",
      "source": [
        "Question 3"
      ],
      "metadata": {
        "id": "XB7XIl-qVYrv"
      }
    },
    {
      "cell_type": "markdown",
      "source": [
        "vertical flip"
      ],
      "metadata": {
        "id": "AiJ0FJuBW6Yk"
      }
    },
    {
      "cell_type": "code",
      "source": [
        "def flip(sample, flip_axis):\n",
        "    flipped_sample = np.flip(sample, axis=flip_axis)\n",
        "    return flipped_sample\n"
      ],
      "metadata": {
        "id": "i30Fs-CtWcQ9"
      },
      "execution_count": 48,
      "outputs": []
    },
    {
      "cell_type": "code",
      "source": [
        "angleconstraints = [0, 10, 20, 30, 40, 50, 60, 70, 80, 90]\n",
        "accuracies = np.zeros(len(angleconstraints), dtype=np.float)\n",
        "\n",
        "flip_axis=0\n",
        "\n",
        "for ii in range(len(angleconstraints)):\n",
        "    augdata = train_X  # Include the original images in the augmented dataset\n",
        "    auglabel = train_y\n",
        "    for jj in range(naugmentations):\n",
        "        augdata = np.concatenate((augdata, flip(train_X, flip_axis)))  # Concatenate the augmented data to the set\n",
        "        auglabel = np.concatenate((auglabel, train_y))  # Labels don't change during augmentation\n",
        "\n",
        "    testpred = NN(augdata, auglabel, test_X)\n",
        "    accuracies[ii] = Accuracy(test_y, testpred)\n",
        "    print('Accuracy after flip augmentation with flip_axis', flip_axis, ' is ', accuracies[ii], flush=True)\n"
      ],
      "metadata": {
        "colab": {
          "base_uri": "https://localhost:8080/"
        },
        "id": "u9SqIHK2WdYZ",
        "outputId": "0194230f-e55e-4a22-c9b7-87dd0935730f"
      },
      "execution_count": 50,
      "outputs": [
        {
          "output_type": "stream",
          "name": "stderr",
          "text": [
            "<ipython-input-50-a110b2cc69eb>:2: DeprecationWarning: `np.float` is a deprecated alias for the builtin `float`. To silence this warning, use `float` by itself. Doing this will not modify any behavior and is safe. If you specifically wanted the numpy scalar type, use `np.float64` here.\n",
            "Deprecated in NumPy 1.20; for more details and guidance: https://numpy.org/devdocs/release/1.20.0-notes.html#deprecations\n",
            "  accuracies = np.zeros(len(angleconstraints), dtype=np.float)\n"
          ]
        },
        {
          "output_type": "stream",
          "name": "stdout",
          "text": [
            "Accuracy after flip augmentation with flip_axis 0  is  0.6472\n",
            "Accuracy after flip augmentation with flip_axis 0  is  0.6472\n",
            "Accuracy after flip augmentation with flip_axis 0  is  0.6472\n",
            "Accuracy after flip augmentation with flip_axis 0  is  0.6472\n",
            "Accuracy after flip augmentation with flip_axis 0  is  0.6472\n",
            "Accuracy after flip augmentation with flip_axis 0  is  0.6472\n",
            "Accuracy after flip augmentation with flip_axis 0  is  0.6472\n",
            "Accuracy after flip augmentation with flip_axis 0  is  0.6472\n",
            "Accuracy after flip augmentation with flip_axis 0  is  0.6472\n",
            "Accuracy after flip augmentation with flip_axis 0  is  0.6472\n"
          ]
        }
      ]
    },
    {
      "cell_type": "markdown",
      "source": [
        "Horizontal flip"
      ],
      "metadata": {
        "id": "Kgr4kYlxW8yk"
      }
    },
    {
      "cell_type": "code",
      "source": [
        "angleconstraints = [0, 10, 20, 30, 40, 50, 60, 70, 80, 90]\n",
        "accuracies = np.zeros(len(angleconstraints), dtype=np.float)\n",
        "\n",
        "flip_axis=1\n",
        "\n",
        "for ii in range(len(angleconstraints)):\n",
        "    augdata = train_X  # Include the original images in the augmented dataset\n",
        "    auglabel = train_y\n",
        "    for jj in range(naugmentations):\n",
        "        augdata = np.concatenate((augdata, flip(train_X, flip_axis)))  # Concatenate the augmented data to the set\n",
        "        auglabel = np.concatenate((auglabel, train_y))  # Labels don't change during augmentation\n",
        "\n",
        "    testpred = NN(augdata, auglabel, test_X)\n",
        "    accuracies[ii] = Accuracy(test_y, testpred)\n",
        "    print('Accuracy after flip augmentation with flip_axis', flip_axis, ' is ', accuracies[ii], flush=True)\n"
      ],
      "metadata": {
        "colab": {
          "base_uri": "https://localhost:8080/"
        },
        "id": "t9Si6myoW__k",
        "outputId": "4ec7672d-f0bc-4b0a-ade2-cedc23643380"
      },
      "execution_count": 51,
      "outputs": [
        {
          "output_type": "stream",
          "name": "stderr",
          "text": [
            "<ipython-input-51-3924debc4fb3>:2: DeprecationWarning: `np.float` is a deprecated alias for the builtin `float`. To silence this warning, use `float` by itself. Doing this will not modify any behavior and is safe. If you specifically wanted the numpy scalar type, use `np.float64` here.\n",
            "Deprecated in NumPy 1.20; for more details and guidance: https://numpy.org/devdocs/release/1.20.0-notes.html#deprecations\n",
            "  accuracies = np.zeros(len(angleconstraints), dtype=np.float)\n"
          ]
        },
        {
          "output_type": "stream",
          "name": "stdout",
          "text": [
            "Accuracy after flip augmentation with flip_axis 1  is  0.6175\n",
            "Accuracy after flip augmentation with flip_axis 1  is  0.6175\n",
            "Accuracy after flip augmentation with flip_axis 1  is  0.6175\n",
            "Accuracy after flip augmentation with flip_axis 1  is  0.6175\n",
            "Accuracy after flip augmentation with flip_axis 1  is  0.6175\n",
            "Accuracy after flip augmentation with flip_axis 1  is  0.6175\n",
            "Accuracy after flip augmentation with flip_axis 1  is  0.6175\n",
            "Accuracy after flip augmentation with flip_axis 1  is  0.6175\n",
            "Accuracy after flip augmentation with flip_axis 1  is  0.6175\n",
            "Accuracy after flip augmentation with flip_axis 1  is  0.6175\n"
          ]
        }
      ]
    },
    {
      "cell_type": "markdown",
      "source": [
        "Question 4\n",
        "\n",
        "combining flip and rotate augmentations"
      ],
      "metadata": {
        "id": "ImHHxA3KXewq"
      }
    },
    {
      "cell_type": "code",
      "source": [
        "angleconstraints = [0, 10, 20, 30, 40, 50, 60, 70, 80, 90]\n",
        "flip_axis = 1  # Set the flip axis (e.g., 0 for vertical flipping, 1 for horizontal flipping)\n",
        "accuracies = np.zeros(len(angleconstraints), dtype=np.float)\n",
        "\n",
        "for ii in range(len(angleconstraints)):\n",
        "    augdata = train_X  # Include the original images in the augmented dataset\n",
        "    auglabel = train_y\n",
        "    for jj in range(naugmentations):\n",
        "        # Apply flipping augmentation\n",
        "        augdata = np.concatenate((augdata, flip(augRotate(train_X, angleconstraints[ii]), flip_axis)))\n",
        "        auglabel = np.concatenate((auglabel, train_y))\n",
        "\n",
        "    testpred = NN(augdata, auglabel, test_X)\n",
        "    accuracies[ii] = Accuracy(test_y, testpred)\n",
        "    print('Accuracy after combined augmentation (rotation and flipping) with angle constraint', angleconstraints[ii], ' is ', accuracies[ii], flush=True)\n"
      ],
      "metadata": {
        "colab": {
          "base_uri": "https://localhost:8080/"
        },
        "id": "JvOQqbTAXgcz",
        "outputId": "e96e514c-a505-45c9-836d-217d3f9e2dcb"
      },
      "execution_count": 52,
      "outputs": [
        {
          "output_type": "stream",
          "name": "stderr",
          "text": [
            "<ipython-input-52-1b122b2a5d5f>:3: DeprecationWarning: `np.float` is a deprecated alias for the builtin `float`. To silence this warning, use `float` by itself. Doing this will not modify any behavior and is safe. If you specifically wanted the numpy scalar type, use `np.float64` here.\n",
            "Deprecated in NumPy 1.20; for more details and guidance: https://numpy.org/devdocs/release/1.20.0-notes.html#deprecations\n",
            "  accuracies = np.zeros(len(angleconstraints), dtype=np.float)\n"
          ]
        },
        {
          "output_type": "stream",
          "name": "stdout",
          "text": [
            "Accuracy after combined augmentation (rotation and flipping) with angle constraint 0  is  0.6175\n",
            "shape of sample before is: (50, 28, 28)\n",
            "len(sample.shape) 3\n",
            "angle is: [0.49157328 0.5297462  0.10262234 0.43363289 0.4478753  0.99771434\n",
            " 0.04865317 0.31213893 0.49599527 0.84723535 0.46123712 0.29100645\n",
            " 0.53526821 0.2970268  0.54832147 0.68986026 0.53078235 0.60963522\n",
            " 0.03871744 0.65880008 0.96967539 0.49164475 0.80270823 0.54890534\n",
            " 0.70399872 0.30991215 0.96686415 0.21514498 0.15909762 0.04552439\n",
            " 0.54119056 0.61890091 0.64952197 0.17223148 0.65143709 0.16510656\n",
            " 0.75499316 0.27524459 0.42204592 0.36722704 0.36772305 0.72094348\n",
            " 0.99777292 0.52732975 0.40103889 0.29369911 0.62447823 0.45118322\n",
            " 0.77283587 0.60668914]\n",
            "angle with constraint is: [-0.0842672   0.29746196 -3.97377661 -0.66367113 -0.52124698  4.97714335\n",
            " -4.51346826 -1.87861075 -0.04004732  3.47235345 -0.38762885 -2.08993552\n",
            "  0.35268212 -2.02973196  0.48321472  1.89860259  0.30782355  1.09635216\n",
            " -4.61282558  1.58800079  4.69675395 -0.08355246  3.02708232  0.4890534\n",
            "  2.03998724 -1.90087845  4.66864148 -2.84855018 -3.40902377 -4.54475608\n",
            "  0.41190562  1.1890091   1.49521973 -3.27768515  1.51437092 -3.34893435\n",
            "  2.54993156 -2.24755407 -0.77954083 -1.32772956 -1.32276955  2.20943482\n",
            "  4.9777292   0.27329752 -0.98961106 -2.06300887  1.24478229 -0.48816785\n",
            "  2.72835868  1.06689139]\n",
            "shape of sample before is: (50, 28, 28)\n",
            "len(sample.shape) 3\n",
            "angle is: [0.41192139 0.95301125 0.01126458 0.68948802 0.41079146 0.12162183\n",
            " 0.09269545 0.64931899 0.14777315 0.85607605 0.31092799 0.34384286\n",
            " 0.66012444 0.22016388 0.00703921 0.44582934 0.52787978 0.44589553\n",
            " 0.4579917  0.6657389  0.84568879 0.36550556 0.79009355 0.06268377\n",
            " 0.48026086 0.37615192 0.46594058 0.09147786 0.13882932 0.29347996\n",
            " 0.27353163 0.38509658 0.45725888 0.22117252 0.61922044 0.37582156\n",
            " 0.06013528 0.24369671 0.56014729 0.60687716 0.79966087 0.24547866\n",
            " 0.56221495 0.47610522 0.84851517 0.72999174 0.13198546 0.95877415\n",
            " 0.35521464 0.95459139]\n",
            "angle with constraint is: [-0.88078612  4.53011253 -4.88735424  1.89488025 -0.89208543 -3.78378168\n",
            " -4.07304548  1.49318987 -3.5222685   3.56076045 -1.89072014 -1.56157139\n",
            "  1.60124436 -2.79836118 -4.9296079  -0.5417066   0.27879778 -0.5410447\n",
            " -0.42008295  1.65738898  3.45688787 -1.34494437  2.90093553 -4.37316234\n",
            " -0.19739144 -1.23848079 -0.34059422 -4.08522144 -3.61170675 -2.0652004\n",
            " -2.26468374 -1.14903417 -0.42741123 -2.78827484  1.19220436 -1.24178438\n",
            " -4.39864719 -2.56303289  0.60147294  1.06877158  2.9966087  -2.5452134\n",
            "  0.62214946 -0.23894781  3.48515174  2.29991735 -3.68014542  4.58774151\n",
            " -1.44785361  4.54591389]\n",
            "shape of sample before is: (50, 28, 28)\n",
            "len(sample.shape) 3\n",
            "angle is: [0.28522105 0.46893883 0.55046381 0.0635917  0.71566564 0.10471036\n",
            " 0.16416278 0.2902422  0.96074629 0.97311628 0.48931644 0.53332111\n",
            " 0.21184312 0.41804165 0.98441827 0.79079207 0.69739899 0.27841491\n",
            " 0.76305925 0.96655391 0.98795325 0.59979215 0.16073205 0.96407006\n",
            " 0.54137875 0.03834058 0.08149703 0.57725794 0.83529384 0.94152143\n",
            " 0.94443611 0.57861445 0.98140921 0.14959609 0.09466765 0.03027789\n",
            " 0.77413211 0.91659695 0.83983371 0.93963619 0.54806785 0.76304144\n",
            " 0.33670987 0.76657889 0.753046   0.43560288 0.04376565 0.26626296\n",
            " 0.88518504 0.58726666]\n",
            "angle with constraint is: [-2.14778952 -0.31061175  0.50463814 -4.36408297  2.15665636 -3.95289636\n",
            " -3.35837223 -2.09757796  4.60746294  4.73116281 -0.10683558  0.33321106\n",
            " -2.88156883 -0.81958354  4.84418274  2.90792074  1.97398992 -2.21585086\n",
            "  2.63059249  4.66553907  4.87953255  0.99792152 -3.39267952  4.64070057\n",
            "  0.41378749 -4.61659424 -4.18502974  0.77257935  3.35293837  4.41521428\n",
            "  4.44436111  0.78614454  4.81409211 -3.50403906 -4.05332349 -4.69722113\n",
            "  2.74132108  4.16596946  3.39833708  4.39636191  0.4806785   2.63041442\n",
            " -1.63290127  2.66578894  2.53045999 -0.64397123 -4.5623435  -2.33737041\n",
            "  3.85185038  0.87266659]\n",
            "shape of sample before is: (50, 28, 28)\n",
            "len(sample.shape) 3\n",
            "angle is: [0.40509325 0.94739533 0.3664419  0.32808293 0.77049602 0.35530463\n",
            " 0.44623322 0.72245803 0.43012018 0.32228794 0.01538884 0.86056966\n",
            " 0.52670379 0.85133187 0.61784213 0.20066638 0.36316095 0.41725818\n",
            " 0.73972599 0.54817319 0.63650351 0.75308017 0.27386132 0.8819918\n",
            " 0.45327695 0.66112189 0.2182023  0.23337236 0.7349894  0.35040608\n",
            " 0.87595777 0.66474709 0.66542892 0.3802673  0.90267032 0.94463946\n",
            " 0.25793925 0.51456257 0.90693185 0.10128055 0.297579   0.95442652\n",
            " 0.48497359 0.95153718 0.38016828 0.52749964 0.45412289 0.45721417\n",
            " 0.91771293 0.69464283]\n",
            "angle with constraint is: [-0.94906752  4.47395329 -1.33558103 -1.71917071  2.70496022 -1.4469537\n",
            " -0.53766778  2.22458032 -0.69879819 -1.77712058 -4.84611164  3.60569665\n",
            "  0.26703793  3.51331873  1.17842126 -2.99333618 -1.36839049 -0.82741824\n",
            "  2.39725987  0.48173192  1.36503507  2.53080169 -2.26138675  3.81991798\n",
            " -0.4672305   1.61121892 -2.81797701 -2.6662764   2.34989404 -1.49593923\n",
            "  3.75957768  1.6474709   1.65428918 -1.19732696  4.0267032   4.44639465\n",
            " -2.4206075   0.14562571  4.06931847 -3.98719455 -2.02421001  4.54426519\n",
            " -0.15026412  4.51537178 -1.19831721  0.27499639 -0.45877112 -0.42785828\n",
            "  4.17712927  1.94642828]\n",
            "shape of sample before is: (50, 28, 28)\n",
            "len(sample.shape) 3\n",
            "angle is: [0.94573148 0.32953201 0.99389389 0.70766445 0.13131021 0.41294311\n",
            " 0.2486678  0.23545935 0.92955284 0.95994949 0.0141667  0.13803674\n",
            " 0.27784518 0.84773534 0.61110575 0.56542772 0.59827436 0.95058702\n",
            " 0.27579044 0.12332211 0.60781537 0.96886908 0.71000426 0.89211636\n",
            " 0.89618985 0.21925709 0.68559846 0.86222089 0.10134089 0.65147829\n",
            " 0.27200316 0.82167051 0.22320762 0.3734205  0.67674259 0.55582616\n",
            " 0.11997602 0.22529514 0.88584006 0.98877959 0.69397204 0.00976467\n",
            " 0.74340066 0.64282558 0.41182036 0.22804581 0.16569785 0.08353686\n",
            " 0.63927038 0.33727457]\n",
            "angle with constraint is: [ 4.45731476 -1.70467994  4.93893889  2.07664451 -3.68689793 -0.87056894\n",
            " -2.51332201 -2.64540652  4.29552838  4.59949494 -4.858333   -3.61963261\n",
            " -2.22154815  3.47735341  1.11105749  0.6542772   0.98274357  4.5058702\n",
            " -2.24209561 -3.76677891  1.07815368  4.68869078  2.10004263  3.92116361\n",
            "  3.96189845 -2.80742909  1.85598456  3.62220892 -3.98659113  1.51478293\n",
            " -2.27996836  3.2167051  -2.76792385 -1.26579501  1.76742591  0.55826159\n",
            " -3.80023981 -2.7470486   3.85840063  4.88779591  1.9397204  -4.90235327\n",
            "  2.43400658  1.42825585 -0.88179645 -2.71954187 -3.34302146 -4.16463138\n",
            "  1.39270376 -1.62725426]\n",
            "Accuracy after combined augmentation (rotation and flipping) with angle constraint 10  is  0.5701\n",
            "shape of sample before is: (50, 28, 28)\n",
            "len(sample.shape) 3\n",
            "angle is: [0.51801326 0.52520837 0.60730248 0.59454601 0.51907674 0.15511776\n",
            " 0.02704316 0.5761848  0.42322    0.41011866 0.43006566 0.11354202\n",
            " 0.17926796 0.66215444 0.51378147 0.60966233 0.12934062 0.81413962\n",
            " 0.37263973 0.61307199 0.46565322 0.46832307 0.77858047 0.11034887\n",
            " 0.07479022 0.1010583  0.99530014 0.92714813 0.70055348 0.44754581\n",
            " 0.08507121 0.82089569 0.1894426  0.27284205 0.84079194 0.25733441\n",
            " 0.84457649 0.78593856 0.83729024 0.6742912  0.35212582 0.65316787\n",
            " 0.82910772 0.74941956 0.86202806 0.98353098 0.69014527 0.92812721\n",
            " 0.27177781 0.97348274]\n",
            "angle with constraint is: [ 0.36026518  0.50416736  2.14604968  1.89092022  0.38153487 -6.89764471\n",
            " -9.45913672  1.52369602 -1.53560002 -1.79762683 -1.39868686 -7.7291596\n",
            " -6.41464076  3.24308872  0.27562947  2.19324662 -7.41318755  6.28279243\n",
            " -2.54720549  2.26143976 -0.68693561 -0.63353859  5.57160941 -7.79302267\n",
            " -8.5041956  -7.97883393  9.90600277  8.54296259  4.01106952 -1.04908376\n",
            " -8.29857579  6.41791384 -6.21114801 -4.54315903  6.81583884 -4.85331186\n",
            "  6.89152978  5.71877126  6.74580482  3.48582404 -2.95748357  3.0633575\n",
            "  6.58215432  4.98839114  7.24056121  9.67061954  3.80290535  8.56254411\n",
            " -4.5644439   9.46965482]\n",
            "shape of sample before is: (50, 28, 28)\n",
            "len(sample.shape) 3\n",
            "angle is: [0.91032457 0.04124298 0.59044779 0.50297169 0.81560525 0.12634013\n",
            " 0.52763927 0.5012638  0.39553903 0.99218276 0.5395464  0.4132444\n",
            " 0.85640338 0.1390544  0.2875623  0.27889192 0.93370069 0.88032972\n",
            " 0.60668435 0.31962943 0.46810377 0.57114654 0.54008684 0.25593534\n",
            " 0.1304876  0.90763636 0.64084734 0.14509238 0.98984348 0.41127732\n",
            " 0.73297012 0.17671472 0.9327657  0.07920731 0.95582164 0.72712259\n",
            " 0.22724458 0.18090574 0.83710091 0.03992395 0.11428012 0.67285608\n",
            " 0.07736699 0.5412454  0.57405282 0.01787149 0.37716318 0.02853064\n",
            " 0.96688535 0.21532171]\n",
            "angle with constraint is: [ 8.20649133 -9.17514044  1.80895574  0.0594339   6.31210505 -7.47319733\n",
            "  0.55278547  0.02527592 -2.08921941  9.84365511  0.79092792 -1.73511192\n",
            "  7.12806767 -7.21891199 -4.24875399 -4.42216159  8.67401371  7.60659432\n",
            "  2.13368701 -3.60741144 -0.63792456  1.42293078  0.80173679 -4.88129311\n",
            " -7.39024792  8.15272715  2.81694686 -7.09815233  9.79686961 -1.77445368\n",
            "  4.65940236 -6.46570558  8.65531393 -8.41585386  9.11643286  4.54245183\n",
            " -5.45510847 -6.38188519  6.74201828 -9.20152097 -7.71439764  3.45712159\n",
            " -8.45266015  0.8249079   1.48105637 -9.64257014 -2.45673638 -9.42938725\n",
            "  9.33770696 -5.6935657 ]\n",
            "shape of sample before is: (50, 28, 28)\n",
            "len(sample.shape) 3\n",
            "angle is: [0.68971003 0.67376563 0.77223188 0.33532758 0.18439801 0.53050221\n",
            " 0.69433671 0.75530134 0.0489154  0.75265975 0.11243225 0.52464582\n",
            " 0.55541106 0.12705019 0.96399793 0.63801642 0.22389144 0.05089768\n",
            " 0.77502342 0.84131564 0.09063007 0.2574307  0.64237788 0.41897714\n",
            " 0.34251229 0.42445128 0.50530455 0.18466259 0.3880632  0.06982544\n",
            " 0.00605564 0.97519333 0.05480786 0.04347789 0.88996198 0.97603681\n",
            " 0.84453483 0.13955045 0.63953167 0.69692452 0.77166251 0.11288887\n",
            " 0.39075273 0.27609692 0.65451601 0.34360152 0.5088226  0.62643746\n",
            " 0.8658106  0.92091683]\n",
            "angle with constraint is: [ 3.79420057  3.4753125   5.44463766 -3.29344844 -6.31203986  0.61004424\n",
            "  3.88673413  5.10602678 -9.02169196  5.05319493 -7.75135491  0.49291642\n",
            "  1.10822112 -7.45899614  9.27995852  2.76032837 -5.52217112 -8.98204645\n",
            "  5.50046849  6.82631284 -8.1873987  -4.8513861   2.8475576  -1.62045728\n",
            " -3.14975423 -1.5109743   0.10609095 -6.30674822 -2.23873602 -8.60349121\n",
            " -9.87888719  9.50386663 -8.90384279 -9.1304421   7.79923951  9.52073621\n",
            "  6.89069652 -7.20899095  2.7906334   3.93849048  5.43325011 -7.74222263\n",
            " -2.18494538 -4.47806152  3.09032025 -3.12796969  0.17645207  2.52874917\n",
            "  7.316212    8.41833665]\n",
            "shape of sample before is: (50, 28, 28)\n",
            "len(sample.shape) 3\n",
            "angle is: [0.69344784 0.15639131 0.88891714 0.20451557 0.05318829 0.43727115\n",
            " 0.68463825 0.14936435 0.29936572 0.08005994 0.6182064  0.70823781\n",
            " 0.51968675 0.44443209 0.8477017  0.41918575 0.44176964 0.5773281\n",
            " 0.70384942 0.77703055 0.04081997 0.85115658 0.45132184 0.90587247\n",
            " 0.53634321 0.47583311 0.19538645 0.46960412 0.49292966 0.89447829\n",
            " 0.88708617 0.48641467 0.86756736 0.85439074 0.94838507 0.36160331\n",
            " 0.21222813 0.94392449 0.58486135 0.4666576  0.41145829 0.08475208\n",
            " 0.20409446 0.29158265 0.55131692 0.51671169 0.54286642 0.0764615\n",
            " 0.0097732  0.46315197]\n",
            "angle with constraint is: [ 3.8689568  -6.87217374  7.77834287 -5.90968853 -8.93623418 -1.25457697\n",
            "  3.69276491 -7.01271306 -4.0126856  -8.39880119  2.36412807  4.16475625\n",
            "  0.39373492 -1.11135824  6.95403391 -1.61628499 -1.16460723  1.54656195\n",
            "  4.07698848  5.54061097 -9.18360062  7.02313153 -0.97356312  8.11744934\n",
            "  0.72686412 -0.48333789 -6.09227108 -0.6079175  -0.14140675  7.88956573\n",
            "  7.74172348 -0.27170667  7.35134729  7.08781471  8.96770148 -2.76793372\n",
            " -5.75543731  8.87848977  1.69722695 -0.666848   -1.77083421 -8.30495842\n",
            " -5.91811072 -4.16834694  1.02633831  0.33423383  0.85732844 -8.47077001\n",
            " -9.8045361  -0.73696063]\n",
            "shape of sample before is: (50, 28, 28)\n",
            "len(sample.shape) 3\n",
            "angle is: [0.19348253 0.89168013 0.43091257 0.35199233 0.54400553 0.62860185\n",
            " 0.08196736 0.74133819 0.13757887 0.38673265 0.35686762 0.56916185\n",
            " 0.68946771 0.80081844 0.52714553 0.15539181 0.69595379 0.47879952\n",
            " 0.58893332 0.44370745 0.41629399 0.7013589  0.52410857 0.86779751\n",
            " 0.74344597 0.47631182 0.21420832 0.01757462 0.20539984 0.28126996\n",
            " 0.1181132  0.66909104 0.32607772 0.03024559 0.43687743 0.78431385\n",
            " 0.33974785 0.90233167 0.8527934  0.88937836 0.6677899  0.80659532\n",
            " 0.38897511 0.69321903 0.22390063 0.20471876 0.94361501 0.54881708\n",
            " 0.07167756 0.19730102]\n",
            "angle with constraint is: [-6.13034936  7.83360269 -1.3817486  -2.96015336  0.88011065  2.57203703\n",
            " -8.36065275  4.82676384 -7.24842253 -2.26534697 -2.8626476   1.38323708\n",
            "  3.78935421  6.01636872  0.54291062 -6.89216386  3.91907576 -0.4240097\n",
            "  1.7786665  -1.12585106 -1.67412019  4.02717798  0.4821715   7.35595012\n",
            "  4.86891946 -0.47376354 -5.7158336  -9.64850757 -5.89200329 -4.37460076\n",
            " -7.63773599  3.38182073 -3.4784456  -9.39508829 -1.26245136  5.68627691\n",
            " -3.20504295  8.04663344  7.05586807  7.78756716  3.35579808  6.13190631\n",
            " -2.22049786  3.86438061 -5.52198738 -5.90562488  8.87230028  0.97634157\n",
            " -8.5664487  -6.05397957]\n",
            "Accuracy after combined augmentation (rotation and flipping) with angle constraint 20  is  0.5538\n",
            "shape of sample before is: (50, 28, 28)\n",
            "len(sample.shape) 3\n",
            "angle is: [0.46133942 0.84589255 0.89595318 0.11345773 0.0620286  0.12168819\n",
            " 0.67139519 0.53282952 0.73789112 0.59335985 0.0958853  0.25763196\n",
            " 0.33155153 0.70769644 0.59685202 0.94682357 0.14552268 0.93862632\n",
            " 0.22015042 0.34346701 0.03457925 0.29652738 0.19970672 0.21725116\n",
            " 0.57220383 0.7807872  0.74495731 0.82914778 0.73133597 0.97650559\n",
            " 0.01847338 0.98789608 0.40982865 0.47780416 0.57735003 0.00852327\n",
            " 0.18170998 0.44597059 0.76951733 0.87008809 0.14773358 0.26298656\n",
            " 0.60737039 0.36098305 0.29791312 0.38332089 0.70159578 0.19860008\n",
            " 0.06190601 0.0034569 ]\n",
            "angle with constraint is: [ -1.15981736  10.37677664  11.87859528 -11.596268   -13.13914194\n",
            " -11.34935442   5.14185578   0.98488556   7.13673354   2.80079543\n",
            " -12.12344104  -7.27104109  -5.05345423   6.23089322   2.90556052\n",
            "  13.40470701 -10.63431955  13.15878961  -8.39548743  -4.69598974\n",
            " -13.96262253  -6.10417852  -9.00879848  -8.48246517   2.16611504\n",
            "   8.42361606   7.34871936   9.87443334   6.94007899  14.29516768\n",
            " -14.44579852  14.63688251  -2.70514063  -0.66587527   2.32050077\n",
            " -14.74430189  -9.54870051  -1.62088233   8.08551977  11.10264272\n",
            " -10.56799259  -7.11040328   3.22111159  -4.17050845  -6.06260628\n",
            "  -3.50037339   6.04787354  -9.04199748 -13.1428198  -14.89629301]\n",
            "shape of sample before is: (50, 28, 28)\n",
            "len(sample.shape) 3\n",
            "angle is: [0.52666992 0.25001737 0.56163864 0.88099152 0.29365796 0.18357046\n",
            " 0.00157531 0.98135292 0.51682671 0.80209447 0.85809946 0.99521448\n",
            " 0.85963296 0.29405879 0.56436661 0.96273551 0.63337803 0.76906376\n",
            " 0.90666186 0.613653   0.69246656 0.58827366 0.33863751 0.24879518\n",
            " 0.6335343  0.98112375 0.91613749 0.20985927 0.84275711 0.02110771\n",
            " 0.58944884 0.93033612 0.95933543 0.60305791 0.63081427 0.38990658\n",
            " 0.72363845 0.2457086  0.03387119 0.83530386 0.06036223 0.66470777\n",
            " 0.43693088 0.04325692 0.15981585 0.10071909 0.21440538 0.63527695\n",
            " 0.57062121 0.43293602]\n",
            "angle with constraint is: [  0.80009752  -7.49947888   1.84915919  11.42974558  -6.19026125\n",
            "  -9.49288612 -14.95274079  14.4405877    0.50480142   9.06283407\n",
            "  10.74298384  14.8564345   10.78898878  -6.17823637   1.93099832\n",
            "  13.88206538   4.00134075   8.07191295  12.19985577   3.40959014\n",
            "   5.77399668   2.64820988  -4.84087467  -7.53614448   4.00602914\n",
            "  14.43371244  12.48412469  -8.70422176  10.28271338 -14.36676874\n",
            "   2.68346508  12.91008371  13.78006284   3.09173739   3.92442817\n",
            "  -3.30280275   6.70915344  -7.62874206 -13.98386434  10.0591158\n",
            " -13.18913311   4.94123315  -1.89207373 -13.70229228 -10.20552447\n",
            " -11.97842737  -8.56783851   4.05830857   2.1186362   -2.01191929]\n",
            "shape of sample before is: (50, 28, 28)\n",
            "len(sample.shape) 3\n",
            "angle is: [0.84305348 0.75307792 0.68270702 0.5988639  0.69610981 0.22659387\n",
            " 0.25982172 0.29811531 0.74106273 0.43227468 0.95950382 0.04020187\n",
            " 0.3831668  0.15472683 0.81632069 0.47960876 0.62001695 0.5979496\n",
            " 0.0790662  0.78373818 0.82197679 0.6074393  0.28094734 0.72409183\n",
            " 0.70066579 0.91253891 0.11733354 0.90980372 0.88707203 0.2975274\n",
            " 0.71619777 0.26370816 0.23509582 0.64153494 0.05003333 0.09647726\n",
            " 0.66014362 0.95186919 0.03403878 0.02291844 0.07477169 0.00166445\n",
            " 0.92831246 0.47404196 0.69211355 0.41638688 0.99724501 0.47993139\n",
            " 0.93926589 0.64961045]\n",
            "angle with constraint is: [ 10.29160451   7.59233747   5.48121046   2.96591705   5.88329437\n",
            "  -8.20218377  -7.2053483   -6.05654077   7.2318818   -2.03175946\n",
            "  13.78511448 -13.79394403  -3.50499607 -10.35819515   9.48962057\n",
            "  -0.61173727   3.60050835   2.93848807 -12.62801389   8.51214548\n",
            "   9.65930362   3.22317887  -6.5715797    6.72275476   6.01997365\n",
            "  12.3761672  -11.47999385  12.29411154  11.61216104  -6.07417788\n",
            "   6.48593299  -7.08875531  -7.94712538   4.24604808 -13.49899997\n",
            " -12.10568226   4.80430869  13.55607573 -13.97883668 -14.31244679\n",
            " -12.75684937 -14.95006637  12.84937365  -0.77874123   5.76340644\n",
            "  -2.50839362  14.91735035  -0.60205841  13.17797659   4.48831353]\n",
            "shape of sample before is: (50, 28, 28)\n",
            "len(sample.shape) 3\n",
            "angle is: [0.94773819 0.49514176 0.87888009 0.33388673 0.66119838 0.61718479\n",
            " 0.48683615 0.5014826  0.17012113 0.90602711 0.45420981 0.15146915\n",
            " 0.70432851 0.7271611  0.04511721 0.33282022 0.58426068 0.82158257\n",
            " 0.31060517 0.29965495 0.73656797 0.21920441 0.8959987  0.79041555\n",
            " 0.89305531 0.35374572 0.16573593 0.58505775 0.18996897 0.26611316\n",
            " 0.4005676  0.46272848 0.32241331 0.28471994 0.24672696 0.6901359\n",
            " 0.30587842 0.69439781 0.74288474 0.71422987 0.91443733 0.95448566\n",
            " 0.14686061 0.32058712 0.7876667  0.78180315 0.07094304 0.96203709\n",
            " 0.85620457 0.89920417]\n",
            "angle with constraint is: [ 13.43214562  -0.14574726  11.36640283  -4.98339819   4.83595129\n",
            "   3.51554382  -0.39491536   0.04447806  -9.89636608  12.18081341\n",
            "  -1.37370569 -10.45592549   6.12985516   6.81483295 -13.64648358\n",
            "  -5.01539344   2.52782032   9.64747706  -5.68184485  -6.01035148\n",
            "   7.09703896  -8.42386783  11.87996096   8.71246655  11.79165931\n",
            "  -4.38762843 -10.02792197   2.55173245  -9.30093101  -7.01660521\n",
            "  -2.98297192  -1.11814567  -5.32760062  -6.45840186  -7.59819132\n",
            "   5.70407707  -5.82364728   5.8319344    7.2865423    6.42689619\n",
            "  12.43311999  13.6345699  -10.59418183  -5.38238636   8.6300009\n",
            "   8.45409444 -12.87170873  13.86111274  10.68613719  11.97612516]\n",
            "shape of sample before is: (50, 28, 28)\n",
            "len(sample.shape) 3\n",
            "angle is: [0.2043848  0.50091997 0.44054221 0.3602987  0.22735515 0.13960656\n",
            " 0.87050843 0.53043565 0.60082662 0.26160116 0.93505308 0.93637665\n",
            " 0.67145009 0.32055298 0.23284417 0.59527132 0.83287909 0.9669838\n",
            " 0.0681904  0.33419651 0.39114938 0.36902537 0.6677762  0.54720649\n",
            " 0.89137417 0.2225512  0.39933179 0.54115972 0.81679675 0.82323965\n",
            " 0.85937223 0.51913473 0.24159942 0.72625552 0.95467352 0.28529966\n",
            " 0.19838149 0.02247584 0.66646786 0.54501508 0.13471436 0.19951572\n",
            " 0.66222258 0.43601749 0.23323091 0.60582322 0.05266577 0.01620281\n",
            " 0.26087774 0.28951875]\n",
            "angle with constraint is: [ -8.86845615   0.02759896  -1.78373368  -4.19103912  -8.1793456\n",
            " -10.81180308  11.1152528    0.91306943   3.02479863  -7.15196515\n",
            "  13.05159244  13.09129947   5.14350272  -5.38341051  -8.01467488\n",
            "   2.85813968   9.98637278  14.00951401 -12.95428786  -4.97410483\n",
            "  -3.26551855  -3.92923877   5.03328588   1.41619457  11.74122501\n",
            "  -8.32346389  -3.02004634   1.23479153   9.50390258   9.69718955\n",
            "  10.78116687   0.57404183  -7.75201746   6.78766551  13.64020575\n",
            "  -6.44101006  -9.04855542 -14.32572481   4.99403594   1.35045251\n",
            " -10.9585691   -9.01452845   4.86667747  -1.91947531  -8.00307266\n",
            "   3.17469661 -13.42002683 -14.51391558  -7.17366795  -6.31443748]\n",
            "Accuracy after combined augmentation (rotation and flipping) with angle constraint 30  is  0.5417\n",
            "shape of sample before is: (50, 28, 28)\n",
            "len(sample.shape) 3\n",
            "angle is: [0.10436842 0.11486633 0.16780303 0.72460878 0.80616578 0.18160496\n",
            " 0.65677008 0.2336525  0.8800586  0.26892778 0.12977141 0.43914598\n",
            " 0.15421287 0.19836685 0.33906283 0.66072052 0.11685411 0.28410901\n",
            " 0.85836463 0.27376937 0.16844683 0.53361644 0.03331588 0.80395117\n",
            " 0.22246163 0.132858   0.80820276 0.84275491 0.73473151 0.23459687\n",
            " 0.5269889  0.96906601 0.4777661  0.94963973 0.67636838 0.84499586\n",
            " 0.19240001 0.92673484 0.85334447 0.78504966 0.94122309 0.78887886\n",
            " 0.57674711 0.6486902  0.82089427 0.74915792 0.59179154 0.59807934\n",
            " 0.88028212 0.00991161]\n",
            "angle with constraint is: [-15.82526305 -15.40534675 -13.28787882   8.98435123  12.2466311\n",
            " -12.73580177   6.27080314 -10.6538999   15.2023439   -9.24288864\n",
            " -14.80914349  -2.43416082 -13.83148539 -12.065326    -6.43748683\n",
            "   6.42882079 -15.32583565  -8.63563945  14.33458512  -9.04922531\n",
            " -13.26212672   1.34465758 -18.66736481  12.15804666 -11.10153474\n",
            " -14.68567982  12.32811053  13.71019651   9.38926046 -10.61612521\n",
            "   1.07955617  18.7626403   -0.88935604  17.98558907   7.05473534\n",
            "  13.79983442 -12.30399962  17.06939366  14.13377898  11.40198624\n",
            "  17.64892341  11.55515424   3.06988447   5.94760818  12.83577077\n",
            "   9.96631673   3.67166165   3.92317368  15.21128482 -19.60353543]\n",
            "shape of sample before is: (50, 28, 28)\n",
            "len(sample.shape) 3\n",
            "angle is: [0.71795358 0.56566098 0.83829399 0.20543696 0.52534357 0.12764431\n",
            " 0.65937467 0.76376786 0.62353247 0.55477128 0.34337896 0.63978428\n",
            " 0.89950544 0.72141828 0.02295304 0.50872143 0.73641694 0.50416303\n",
            " 0.59135005 0.91158441 0.87395006 0.08131441 0.51055321 0.62231632\n",
            " 0.85203137 0.26550061 0.13985394 0.5971546  0.46761213 0.2577052\n",
            " 0.94292814 0.31755598 0.05528593 0.05879923 0.20108224 0.11673582\n",
            " 0.39468871 0.08046472 0.5611652  0.40839122 0.59792516 0.98923655\n",
            " 0.99190159 0.41702904 0.36705393 0.68155288 0.36767961 0.77828158\n",
            " 0.60164599 0.19948722]\n",
            "angle with constraint is: [  8.7181433    2.62643937  13.53175972 -11.78252148   1.01374263\n",
            " -14.89422749   6.37498693  10.55071435   4.94129887   2.19085119\n",
            "  -6.26484162   5.59137135  15.98021745   8.85673128 -19.08187836\n",
            "   0.34885702   9.45667778   0.16652112   3.65400182  16.46337636\n",
            "  14.95800258 -16.74742368   0.42212829   4.89265263  14.08125492\n",
            "  -9.37997544 -14.40584241   3.88618415  -1.29551486  -9.69179194\n",
            "  17.71712566  -7.29776078 -17.78856281 -17.6480308  -11.95671033\n",
            " -15.33056701  -4.21245172 -16.78141135   2.44660808  -3.66435102\n",
            "   3.91700635  19.56946188  19.67606376  -3.31883833  -5.31784265\n",
            "   7.26211528  -5.29281543  11.13126304   4.06583968 -12.02051108]\n",
            "shape of sample before is: (50, 28, 28)\n",
            "len(sample.shape) 3\n",
            "angle is: [0.41483382 0.86365805 0.55335328 0.70991873 0.7098507  0.48215527\n",
            " 0.29549138 0.59633884 0.11305806 0.59737062 0.10273864 0.90179803\n",
            " 0.74387149 0.18120998 0.78466037 0.72585281 0.72844475 0.33528178\n",
            " 0.52274089 0.58577481 0.37697829 0.56039888 0.24401641 0.87488469\n",
            " 0.96033653 0.32673295 0.34239759 0.21621012 0.86477933 0.16336179\n",
            " 0.79885885 0.83232864 0.31621897 0.77679159 0.45297199 0.34845261\n",
            " 0.89337842 0.45352809 0.05522969 0.6345214  0.65800233 0.63465049\n",
            " 0.36031884 0.67861482 0.29109432 0.46436218 0.21670672 0.61325244\n",
            " 0.81050076 0.09766656]\n",
            "angle with constraint is: [ -3.4066472   14.54632195   2.13413133   8.396749     8.39402813\n",
            "  -0.71378912  -8.1803449    3.85355359 -15.47767749   3.89482479\n",
            " -15.89045458  16.07192121   9.75485977 -12.75160089  11.38641463\n",
            "   9.0341125    9.1377902   -6.58872866   0.90963572   3.4309922\n",
            "  -4.92086856   2.41595521 -10.23934376  14.99538752  18.41346117\n",
            "  -6.93068197  -6.3040965  -11.35159508  14.59117309 -13.46552821\n",
            "  11.95435398  13.29314553  -7.35124134  11.07166376  -1.88112031\n",
            "  -6.06189569  15.73513685  -1.85887625 -17.79081242   5.38085604\n",
            "   6.32009302   5.38601944  -5.58724641   7.14459285  -8.35622721\n",
            "  -1.42551296 -11.3317312    4.53009745  12.42003058 -16.09333748]\n",
            "shape of sample before is: (50, 28, 28)\n",
            "len(sample.shape) 3\n",
            "angle is: [0.02701234 0.7611344  0.32287982 0.32382548 0.56473953 0.48673756\n",
            " 0.12156003 0.76043513 0.17627148 0.82602822 0.76434764 0.16722661\n",
            " 0.75821367 0.66093953 0.98182012 0.71182889 0.39021745 0.62005764\n",
            " 0.66187222 0.74565033 0.46862585 0.82769443 0.28694177 0.96334031\n",
            " 0.31043064 0.03754616 0.20013492 0.92744042 0.79005138 0.43937088\n",
            " 0.9051553  0.24663305 0.23355824 0.1289583  0.4424323  0.51412561\n",
            " 0.14514119 0.1146055  0.39045189 0.23261887 0.574264   0.52433519\n",
            " 0.1624835  0.01327701 0.64478966 0.7728855  0.48827271 0.57550094\n",
            " 0.96171143 0.76770389]\n",
            "angle with constraint is: [-18.91950628  10.44537614  -7.08480737  -7.04698086   2.58958124\n",
            "  -0.53049741 -15.13759879  10.41740526 -12.94914092  13.04112895\n",
            "  10.5739057  -13.3109358   10.32854682   6.43758115  19.27280491\n",
            "   8.47315574  -4.39130187   4.80230572   6.47488897   9.82601333\n",
            "  -1.25496614  13.10777723  -8.52232904  18.53361223  -7.58277452\n",
            " -18.49815374 -11.99460324  17.09761686  11.60205521  -2.42516488\n",
            "  16.20621182 -10.13467798 -10.65767025 -14.84166789  -2.30270807\n",
            "   0.56502425 -14.19435257 -15.41578016  -4.38192458 -10.69524516\n",
            "   2.97055996   0.97340761 -13.5006598  -19.46891961   5.79158653\n",
            "  10.91541992  -0.46909168   3.02003771  18.4684572   10.70815548]\n",
            "shape of sample before is: (50, 28, 28)\n",
            "len(sample.shape) 3\n",
            "angle is: [0.33380987 0.85030167 0.54849224 0.52193444 0.69187192 0.42948498\n",
            " 0.88077254 0.16728443 0.42191329 0.06486363 0.70539429 0.27029523\n",
            " 0.42542467 0.88636221 0.18628554 0.00225153 0.5781198  0.43754524\n",
            " 0.05496073 0.29624567 0.23910602 0.26061813 0.78966238 0.3047498\n",
            " 0.4896265  0.26552008 0.95054017 0.77421382 0.42328261 0.72698337\n",
            " 0.31482522 0.08222989 0.4305222  0.56458535 0.34935467 0.40153839\n",
            " 0.71442882 0.89544738 0.89410604 0.57569181 0.62949036 0.53281127\n",
            " 0.37123572 0.7381597  0.11124528 0.89401417 0.28371947 0.21882215\n",
            " 0.27399421 0.81171693]\n",
            "angle with constraint is: [ -6.64760518  14.01206695   1.93968955   0.87737757   7.67487692\n",
            "  -2.82060084  15.23090145 -13.30862279  -3.12346831 -17.40545462\n",
            "   8.21577157  -9.18819097  -2.9830131   15.45448825 -12.54857845\n",
            " -19.90993887   3.12479201  -2.49819039 -17.80157092  -8.15017305\n",
            " -10.43575911  -9.57527472  11.58649533  -7.81000783  -0.41493987\n",
            "  -9.37919663  18.02160698  10.96855274  -3.06869547   9.07933498\n",
            "  -7.4069913  -16.71080447  -2.77911185   2.5834142   -6.02581323\n",
            "  -3.93846447   8.57715295  15.81789528  15.76424172   3.02767255\n",
            "   5.17961429   1.31245061  -5.15057125   9.52638784 -15.55018865\n",
            "  15.76056684  -8.65122124 -11.24711394  -9.04023171  12.46867739]\n",
            "Accuracy after combined augmentation (rotation and flipping) with angle constraint 40  is  0.5407\n",
            "shape of sample before is: (50, 28, 28)\n",
            "len(sample.shape) 3\n",
            "angle is: [0.26889451 0.60953858 0.34315777 0.65640371 0.59162654 0.99776652\n",
            " 0.31095599 0.34980737 0.19876755 0.46390817 0.83736021 0.21099804\n",
            " 0.96140983 0.01315728 0.80514873 0.69162574 0.90525347 0.52181251\n",
            " 0.68096437 0.04942406 0.39435519 0.77069956 0.10898169 0.7823974\n",
            " 0.30827332 0.35298911 0.64737486 0.07816397 0.6246261  0.91372393\n",
            " 0.09376428 0.2529973  0.01368149 0.51799    0.7309602  0.92639821\n",
            " 0.36802961 0.14875125 0.02908457 0.32500622 0.51222781 0.9007734\n",
            " 0.21645153 0.78129912 0.48091985 0.86753502 0.86306515 0.85769459\n",
            " 0.40134522 0.34620945]\n",
            "angle with constraint is: [-11.55527443   5.4769292   -7.8421116    7.82018574   4.58132707\n",
            "  24.88832613  -9.4522005   -7.50963132 -15.06162245  -1.80459139\n",
            "  16.86801059 -14.45009822  23.07049139 -24.34213586  15.25743651\n",
            "   9.58128709  20.2626737    1.09062557   9.04821832 -22.5287969\n",
            "  -5.28224026  13.53497784 -19.55091568  14.11987015  -9.58633406\n",
            "  -7.3505446    7.3687429  -21.09180137   6.23130505  20.68619625\n",
            " -20.31178611 -12.35013525 -24.31592556   0.89949986  11.54801\n",
            "  21.31991049  -6.59851974 -17.56243764 -23.54577172  -8.74968924\n",
            "   0.61139062  20.03867015 -14.17742341  14.06495618  -0.95400759\n",
            "  18.3767508   18.15325748  17.88472963  -4.93273875  -7.68952729]\n",
            "shape of sample before is: (50, 28, 28)\n",
            "len(sample.shape) 3\n",
            "angle is: [0.20728863 0.22842903 0.61622927 0.96194118 0.60595886 0.41231748\n",
            " 0.24242201 0.65196949 0.21094539 0.09337607 0.09353999 0.85045937\n",
            " 0.38225562 0.9403401  0.49674178 0.69150608 0.82695171 0.87448917\n",
            " 0.16254948 0.21667342 0.15009168 0.44555059 0.15503454 0.65086538\n",
            " 0.36282693 0.96407152 0.81658719 0.72428011 0.68871268 0.03960522\n",
            " 0.0836856  0.43211099 0.91470013 0.09402818 0.42013947 0.79391491\n",
            " 0.3197928  0.92938239 0.93469983 0.05697399 0.61640304 0.1455721\n",
            " 0.44101072 0.89780443 0.07336706 0.93736058 0.99446022 0.67024565\n",
            " 0.35627166 0.25101266]\n",
            "angle with constraint is: [-14.63556829 -13.57854874   5.81146327  23.09705892   5.2979428\n",
            "  -4.38412587 -12.87889969   7.59847466 -14.45273057 -20.33119674\n",
            " -20.32300052  17.52296857  -5.88721915  22.01700505  -0.16291102\n",
            "   9.57530419  16.34758573  18.72445865 -16.87252622 -14.16632913\n",
            " -17.49541604  -2.72247047 -17.24827285   7.54326875  -6.85865333\n",
            "  23.203576    15.82935931  11.21400558   9.43563393 -23.01973909\n",
            " -20.81572023  -3.39445059  20.73500656 -20.2985909   -3.99302634\n",
            "  14.69574566  -9.01035999  21.46911944  21.73499161 -22.15130072\n",
            "   5.82015186 -17.7213948   -2.94946377  19.89022171 -21.33164714\n",
            "  21.86802919  24.72301109   8.51228239  -7.18641715 -12.44936696]\n",
            "shape of sample before is: (50, 28, 28)\n",
            "len(sample.shape) 3\n",
            "angle is: [0.43260769 0.17982662 0.0200565  0.06273863 0.6635656  0.02075552\n",
            " 0.30146175 0.67638939 0.17477789 0.33227702 0.0314416  0.1124225\n",
            " 0.22592523 0.12617689 0.47205994 0.12694748 0.30518203 0.72356831\n",
            " 0.65385274 0.38299908 0.93108806 0.78722255 0.60717656 0.4367787\n",
            " 0.06003618 0.41285273 0.54526625 0.99101751 0.95160631 0.11221158\n",
            " 0.97926614 0.75461763 0.68193566 0.90356097 0.32505548 0.39930282\n",
            " 0.87094695 0.1039913  0.70915985 0.80982219 0.88506295 0.21917279\n",
            " 0.67924649 0.08571797 0.86096233 0.48179937 0.62416498 0.85137541\n",
            " 0.50602374 0.50865852]\n",
            "angle with constraint is: [ -3.36961555 -16.00866918 -23.99717513 -21.86306869   8.1782801\n",
            " -23.96222423  -9.9269123    8.81946942 -16.26110569  -8.38614917\n",
            " -23.42791994 -19.37887514 -13.7037386  -18.69115528  -1.39700287\n",
            " -18.65262621  -9.74089836  11.17841573   7.69263697  -5.85004588\n",
            "  21.55440287  14.36112745   5.35882788  -3.1610649  -21.99819105\n",
            "  -4.35736338   2.26331252  24.55087572  22.58031535 -19.389421\n",
            "  23.96330708  12.73088149   9.09678283  20.17804832  -8.74722613\n",
            "  -5.03485883  18.54734758 -19.80043496  10.45799236  15.49110952\n",
            "  19.25314765 -14.04136043   8.96232456 -20.71410172  18.04811658\n",
            "  -0.91003134   6.2082492   17.56877035   0.30118697   0.43292619]\n",
            "shape of sample before is: (50, 28, 28)\n",
            "len(sample.shape) 3\n",
            "angle is: [0.46465612 0.60069312 0.71732324 0.80516824 0.02980349 0.34807727\n",
            " 0.43252752 0.0986934  0.75162132 0.52287572 0.00188278 0.63137194\n",
            " 0.339022   0.72685435 0.17969514 0.0012095  0.08682392 0.44040008\n",
            " 0.74800974 0.60391403 0.0149666  0.59160829 0.48217352 0.79654502\n",
            " 0.25666609 0.71893131 0.63177675 0.62299113 0.40555544 0.01284831\n",
            " 0.18764229 0.84424952 0.61684421 0.57814077 0.5256911  0.07693152\n",
            " 0.34766931 0.61914982 0.12555009 0.92099411 0.07264803 0.67978604\n",
            " 0.30124198 0.86367461 0.82683701 0.33321133 0.46211328 0.9591114\n",
            " 0.6079017  0.00600233]\n",
            "angle with constraint is: [ -1.76719389   5.03465618  10.86616224  15.25841176 -23.50982556\n",
            "  -7.59613652  -3.3736238  -20.06533021  12.58106614   1.14378589\n",
            " -24.90586088   6.56859716  -8.04890015  11.34271727 -16.01524307\n",
            " -24.93952515 -20.65880399  -2.9799962   12.40048724   5.19570175\n",
            " -24.25166997   4.58041462  -0.89132386  14.82725113 -12.16669528\n",
            "  10.94656526   6.58883768   6.14955626  -4.72222802 -24.35758454\n",
            " -15.61788541  17.21247599   5.84221054   3.90703834   1.28455496\n",
            " -21.15342394  -7.61653458   5.95749086 -18.72249543  21.04970526\n",
            " -21.36759831   8.98930193  -9.93790075  18.18373074  16.34185063\n",
            "  -8.3394333   -1.89433584  22.95556991   5.39508482 -24.69988349]\n",
            "shape of sample before is: (50, 28, 28)\n",
            "len(sample.shape) 3\n",
            "angle is: [0.77724114 0.36131398 0.27584074 0.83214091 0.96752717 0.06204007\n",
            " 0.39035622 0.27971513 0.89775393 0.86769496 0.90111713 0.04265963\n",
            " 0.05010975 0.55140038 0.16690149 0.11265858 0.26035835 0.7094006\n",
            " 0.67165407 0.78519212 0.06275278 0.76641327 0.49061752 0.31299521\n",
            " 0.61028462 0.79953014 0.10387497 0.80729243 0.56943988 0.62005403\n",
            " 0.87895216 0.70998759 0.58352416 0.33602265 0.51031016 0.83656659\n",
            " 0.99560722 0.75615212 0.79016257 0.69941805 0.76695049 0.24317965\n",
            " 0.42383297 0.55599598 0.54946413 0.59726779 0.97353479 0.85527054\n",
            " 0.82783319 0.83037014]\n",
            "angle with constraint is: [ 13.86205706  -6.93430117 -11.20796321  16.60704526  23.37635834\n",
            " -21.89799625  -5.48218876 -11.01424362  19.88769656  18.38474817\n",
            "  20.05585675 -22.86701869 -22.4945127    2.57001923 -16.65492526\n",
            " -19.36707114 -11.98208226  10.47003024   8.58270373  14.25960619\n",
            " -21.862361    13.3206635   -0.46912391  -9.35023932   5.51423075\n",
            "  14.97650692 -19.80625137  15.36462136   3.47199418   6.00270141\n",
            "  18.94760809  10.49937957   4.17620821  -8.19886749   0.51550808\n",
            "  16.82832943  24.78036125  12.80760577  14.50812825   9.97090255\n",
            "  13.34752449 -12.84101737  -3.80835135   2.79979921   2.47320652\n",
            "   4.86338961  23.67673965  17.7635268   16.39165959  16.51850721]\n",
            "Accuracy after combined augmentation (rotation and flipping) with angle constraint 50  is  0.5283\n",
            "shape of sample before is: (50, 28, 28)\n",
            "len(sample.shape) 3\n",
            "angle is: [0.7933332  0.67920351 0.25654252 0.85576659 0.27973083 0.72488858\n",
            " 0.11098371 0.54727849 0.31880059 0.70445725 0.85528679 0.01552717\n",
            " 0.11432192 0.92551682 0.239271   0.73078941 0.81254671 0.74055033\n",
            " 0.03210733 0.73542364 0.96157124 0.36879317 0.71025512 0.2764697\n",
            " 0.99745536 0.20834004 0.30556598 0.16790559 0.95517727 0.57142638\n",
            " 0.24698496 0.13450567 0.87480682 0.06265959 0.64326302 0.61012871\n",
            " 0.77179496 0.68184622 0.83647517 0.03803142 0.43029134 0.0809661\n",
            " 0.40521732 0.56082575 0.59377487 0.92476829 0.92172212 0.3097866\n",
            " 0.69906872 0.71270738]\n",
            "angle with constraint is: [ 17.59999212  10.75221058 -14.60744897  21.34599527 -13.21615006\n",
            "  13.49331463 -23.34097724   2.83670955 -10.87196485  12.26743474\n",
            "  21.31720715 -29.06837006 -23.14068501  25.53100944 -15.64374023\n",
            "  13.84736482  18.75280233  14.43301985 -28.07356036  14.12541844\n",
            "  27.6942744   -7.87240975  12.61530705 -13.41181775  29.84732161\n",
            " -17.4995976  -11.66604122 -19.92566472  27.31063647   4.28558263\n",
            " -15.18090239 -21.92966005  22.48840892 -26.24042487   8.59578095\n",
            "   6.60772284  16.30769745  10.91077336  20.1885102  -27.71811486\n",
            "  -4.18251977 -25.1420341   -5.68696096   3.64954495   5.62649198\n",
            "  25.48609737  25.30332691 -11.41280418  11.94412334  12.76244295]\n",
            "shape of sample before is: (50, 28, 28)\n",
            "len(sample.shape) 3\n",
            "angle is: [0.95715199 0.08393421 0.61715156 0.40726357 0.34732823 0.61749411\n",
            " 0.27953699 0.03586657 0.77779266 0.08679759 0.32819826 0.5949259\n",
            " 0.62373593 0.66626507 0.99450354 0.40138712 0.13749443 0.13794907\n",
            " 0.51024863 0.38373946 0.91316369 0.5109318  0.45195406 0.86235697\n",
            " 0.79610834 0.71387892 0.52735453 0.23467213 0.56747457 0.11576517\n",
            " 0.53681242 0.85144115 0.51501291 0.06847628 0.03131793 0.86048883\n",
            " 0.22428348 0.52569902 0.77678896 0.25321106 0.73744618 0.07529255\n",
            " 0.74861329 0.06398995 0.27713957 0.25670422 0.89141495 0.53448001\n",
            " 0.84307562 0.58227962]\n",
            "angle with constraint is: [ 27.4291193  -24.96394712   7.02909358  -5.56418585  -9.1603061\n",
            "   7.04964685 -13.22778078 -27.84800552  16.66755941 -24.79214469\n",
            " -10.30810448   5.69555418   7.4241559    9.97590448  29.6702122\n",
            "  -5.91677292 -21.75033414 -21.72305561   0.61491805  -6.97563256\n",
            "  24.78982112   0.65590817  -2.88275632  21.7414184   17.76650058\n",
            "  12.83273536   1.64127158 -15.91967225   4.04847429 -23.05408976\n",
            "   2.208745    21.08646913   0.90077469 -25.89142298 -28.12092409\n",
            "  21.62933009 -16.54299145   1.541941    16.60733757 -14.80733612\n",
            "  14.24677092 -25.48244694  14.91679736 -26.16060293 -13.37162608\n",
            " -14.59774654  23.48489708   2.0688004   20.58453705   4.93677698]\n",
            "shape of sample before is: (50, 28, 28)\n",
            "len(sample.shape) 3\n",
            "angle is: [0.80690509 0.55134178 0.44991354 0.65797709 0.28644892 0.91873715\n",
            " 0.90813672 0.07273287 0.91678791 0.18186498 0.68127303 0.82310438\n",
            " 0.24123859 0.11265532 0.75617873 0.44242885 0.48668345 0.76186113\n",
            " 0.25379599 0.09715183 0.95773972 0.69965915 0.65213458 0.3329422\n",
            " 0.99570602 0.22254413 0.17809884 0.31828394 0.73895454 0.23701035\n",
            " 0.31276147 0.52962729 0.64994648 0.14921613 0.65463921 0.38105518\n",
            " 0.34615524 0.07901803 0.97396128 0.69312055 0.09988122 0.36623681\n",
            " 0.08006791 0.5415321  0.70014641 0.05655212 0.9221683  0.37413514\n",
            " 0.23479323 0.12985602]\n",
            "angle with constraint is: [ 18.41430529   3.08050678  -3.00518777   9.47862537 -12.81306493\n",
            "  25.1242292   24.48820342 -25.63602756  25.00727461 -19.08810126\n",
            "  10.87638166  19.38626284 -15.52568471 -23.24068078  15.3707237\n",
            "  -3.4542693   -0.7989931   15.71166804 -14.77224063 -24.17089036\n",
            "  27.46438344  11.9795488    9.1280747  -10.02346821  29.74236124\n",
            " -16.64735206 -19.31406942 -10.90296331  14.33727242 -15.77937874\n",
            " -11.2343117    1.77763712   8.99678901 -21.04703242   9.27835252\n",
            "  -7.13668912  -9.23068567 -25.25891831  28.43767694  11.5872328\n",
            " -24.00712703  -8.02579148 -25.19592542   2.49192575  12.00878487\n",
            " -26.60687279  25.33009793  -7.55189135 -15.91240641 -22.20863885]\n",
            "shape of sample before is: (50, 28, 28)\n",
            "len(sample.shape) 3\n",
            "angle is: [0.14562694 0.84979655 0.48004977 0.79844884 0.22707811 0.31795272\n",
            " 0.41261477 0.45451813 0.0976793  0.04500263 0.99589561 0.666543\n",
            " 0.05476961 0.77256514 0.36111396 0.79646042 0.94980207 0.02657321\n",
            " 0.96429274 0.16576082 0.29723257 0.62694535 0.71592855 0.17023134\n",
            " 0.13682615 0.28654609 0.32559932 0.31822211 0.17131181 0.97080759\n",
            " 0.79807207 0.98002065 0.10365769 0.0755779  0.53597455 0.61446788\n",
            " 0.63515709 0.09325706 0.84379583 0.48971361 0.36813894 0.50443807\n",
            " 0.04046014 0.21507657 0.99849003 0.55255914 0.07854091 0.2928354\n",
            " 0.18477474 0.92470057]\n",
            "angle with constraint is: [-21.26238367  20.98779327  -1.19701354  17.9069306  -16.37531341\n",
            " -10.92283687  -5.24311383  -2.72891233 -24.1392421  -27.299842\n",
            "  29.75373675   9.99257976 -26.71382361  16.35390828  -8.33316211\n",
            "  17.78762491  26.98812434 -28.40560738  27.85756465 -20.05435061\n",
            " -12.16604594   7.61672082  12.95571296 -19.78611968 -21.79043113\n",
            " -12.80723442 -10.46404097 -10.90667347 -19.72129139  28.24845558\n",
            "  17.88432396  28.80123913 -23.7805384  -25.46532578   2.15847301\n",
            "   6.86807266   8.10942539 -24.40457662  20.62774999  -0.61718335\n",
            "  -7.91166337   0.26628449 -27.57239134 -17.09540569  29.90940174\n",
            "   3.15354826 -25.28754545 -12.42987616 -18.91351578  25.48203403]\n",
            "shape of sample before is: (50, 28, 28)\n",
            "len(sample.shape) 3\n",
            "angle is: [0.80621039 0.54690357 0.95178167 0.37286945 0.8649677  0.46754201\n",
            " 0.84863197 0.90068827 0.46296447 0.1780014  0.19237385 0.28886296\n",
            " 0.22294123 0.38825364 0.50668113 0.08711361 0.90964322 0.00243183\n",
            " 0.13829035 0.00841028 0.98652826 0.41065028 0.19602569 0.11867154\n",
            " 0.37041189 0.97589911 0.54872513 0.35421752 0.36454085 0.11733655\n",
            " 0.51700722 0.4241922  0.72885119 0.19194764 0.13733756 0.58146066\n",
            " 0.74200746 0.49750026 0.79003308 0.84108649 0.91662966 0.37817906\n",
            " 0.90434522 0.70905388 0.62491247 0.55377427 0.01971973 0.56033048\n",
            " 0.77899122 0.98836762]\n",
            "angle with constraint is: [ 18.37262351   2.81421412  27.10690006  -7.62783277  21.89806201\n",
            "  -1.94747946  20.91791808  24.04129605  -2.2221317  -19.31991616\n",
            " -18.45756871 -12.66822215 -16.62352595  -6.70478132   0.40086759\n",
            " -24.77318324  24.57859312 -29.85408998 -21.70257925 -29.49538344\n",
            "  29.19169538  -5.36098308 -18.23845852 -22.87970758  -7.77528676\n",
            "  28.55394665   2.92350785  -8.74694856  -8.12754899 -22.95980699\n",
            "   1.02043302  -4.5484679   13.73107131 -18.48314132 -21.7597465\n",
            "   4.88763937  14.52044784  -0.14998436  17.40198452  20.46518942\n",
            "  24.99777976  -7.3092564   24.2607134   12.54323266   7.49474793\n",
            "   3.22645607 -28.81681649   3.61982894  16.73947334  29.3020574 ]\n",
            "Accuracy after combined augmentation (rotation and flipping) with angle constraint 60  is  0.5343\n",
            "shape of sample before is: (50, 28, 28)\n",
            "len(sample.shape) 3\n",
            "angle is: [0.43311467 0.99015784 0.17108864 0.95819998 0.58965511 0.66256959\n",
            " 0.57368016 0.98284639 0.04429732 0.41046497 0.87523233 0.16709282\n",
            " 0.56959401 0.52357763 0.80743008 0.91825295 0.25883501 0.69314406\n",
            " 0.54768799 0.66278635 0.20037782 0.27267339 0.54984643 0.00294558\n",
            " 0.71642527 0.1615682  0.93130185 0.86060719 0.62335115 0.89105767\n",
            " 0.98724506 0.7749565  0.62663247 0.44928175 0.8135623  0.70443579\n",
            " 0.47263999 0.50003468 0.22893596 0.78859007 0.87833078 0.01648358\n",
            " 0.1118989  0.99123574 0.17810753 0.73652847 0.48084272 0.52135121\n",
            " 0.10837753 0.13784774]\n",
            "angle with constraint is: [-4.68197322e+00  3.43110485e+01 -2.30237955e+01  3.20739985e+01\n",
            "  6.27585740e+00  1.13798715e+01  5.15761146e+00  3.37992476e+01\n",
            " -3.18991875e+01 -6.26745216e+00  2.62662633e+01 -2.33035025e+01\n",
            "  4.87158088e+00  1.65043409e+00  2.15201054e+01  2.92777063e+01\n",
            " -1.68815496e+01  1.35200839e+01  3.33815910e+00  1.13950444e+01\n",
            " -2.09735527e+01 -1.59128627e+01  3.48924998e+00 -3.47938094e+01\n",
            "  1.51497692e+01 -2.36902262e+01  3.01911298e+01  2.52425031e+01\n",
            "  8.63458025e+00  2.73740369e+01  3.41071540e+01  1.92469547e+01\n",
            "  8.86427298e+00 -3.55027753e+00  2.19493610e+01  1.43105056e+01\n",
            " -1.91520067e+00  2.42741740e-03 -1.89744828e+01  2.02013051e+01\n",
            "  2.64831548e+01 -3.38461496e+01 -2.71670768e+01  3.43865020e+01\n",
            " -2.25324730e+01  1.65569932e+01 -1.34100934e+00  1.49458457e+00\n",
            " -2.74135726e+01 -2.53506581e+01]\n",
            "shape of sample before is: (50, 28, 28)\n",
            "len(sample.shape) 3\n",
            "angle is: [0.57791052 0.37762976 0.79746209 0.9719781  0.81231686 0.40591602\n",
            " 0.4821806  0.15668802 0.69569166 0.44735844 0.85738372 0.65202963\n",
            " 0.17054324 0.41098295 0.67694899 0.85792229 0.35080649 0.66949426\n",
            " 0.17359283 0.90471272 0.5751698  0.76860022 0.39685145 0.94054118\n",
            " 0.72010682 0.15365744 0.55018554 0.27175197 0.83335956 0.7828244\n",
            " 0.4945452  0.30192662 0.85268697 0.85048433 0.50523589 0.71725691\n",
            " 0.28550065 0.34884989 0.94405601 0.73627684 0.07212053 0.45773342\n",
            " 0.39574488 0.23098926 0.9949418  0.135791   0.31426698 0.84871859\n",
            " 0.13227467 0.37613889]\n",
            "angle with constraint is: [  5.45373621  -8.56591714  20.82234621  33.03846671  21.8621799\n",
            "  -6.5858788   -1.24735781 -24.03183888  13.69841587  -3.68490935\n",
            "  25.01686063  10.64207379 -23.06197312  -6.23119326  12.38642951\n",
            "  25.05455998 -10.44354545  11.86459813 -22.848502    28.3298901\n",
            "   5.26188623  18.80201554  -7.22039865  30.83788294  15.40747726\n",
            " -24.24397942   3.51298779 -15.97736197  23.33516928  19.79770814\n",
            "  -0.38183599 -13.86513627  24.6880876   24.53390299   0.36651235\n",
            "  15.20798371 -15.01495477 -10.58050744  31.08392083  16.53937863\n",
            " -29.95156269  -2.95866056  -7.29785837 -18.83075198  34.64592605\n",
            " -25.49462995 -13.00131129  24.41030154 -25.74077324  -8.67027752]\n",
            "shape of sample before is: (50, 28, 28)\n",
            "len(sample.shape) 3\n",
            "angle is: [0.63419256 0.33689576 0.40882072 0.55011342 0.95268689 0.87090691\n",
            " 0.1119629  0.56942952 0.65329674 0.32576183 0.26419702 0.59773316\n",
            " 0.41497814 0.90506489 0.16355444 0.04108386 0.8996163  0.89612487\n",
            " 0.41677018 0.75388913 0.84571514 0.25489025 0.65444406 0.73714992\n",
            " 0.35749224 0.94599479 0.96715261 0.48672788 0.07599989 0.91896863\n",
            " 0.52297442 0.13882713 0.73209727 0.68715361 0.13985831 0.27485543\n",
            " 0.86426131 0.96958523 0.40525207 0.13458622 0.35198009 0.5076173\n",
            " 0.30042393 0.61130025 0.00792353 0.81647642 0.84465617 0.7835051\n",
            " 0.30343467 0.63237188]\n",
            "angle with constraint is: [  9.39347924 -11.41729687  -6.38254963   3.50793947  31.68808262\n",
            "  25.96348358 -27.16259695   4.86006615  10.73077197 -12.19667187\n",
            " -16.50620856   6.84132121  -5.95153036  28.3545423  -23.55118914\n",
            " -32.12412962  27.97314095  27.7287411   -5.82608748  17.77223932\n",
            "  24.20005985 -17.15768271  10.81108425  16.60049453  -9.97554328\n",
            "  31.21963537  32.70068248  -0.92904871 -29.68000757  29.32780426\n",
            "   1.60820966 -25.28210073  16.24680864  13.10075283 -25.20991855\n",
            " -15.76011966  25.49829192  32.87096615  -6.6323551  -25.57896427\n",
            " -10.36139335   0.53321082 -13.97032512   7.79101783 -34.44535266\n",
            "  22.15334922  24.12593185  19.84535688 -13.75957318   9.26603142]\n",
            "shape of sample before is: (50, 28, 28)\n",
            "len(sample.shape) 3\n",
            "angle is: [0.36521511 0.38927462 0.70910026 0.84354064 0.83099164 0.23108758\n",
            " 0.65802874 0.2670695  0.62844069 0.36720484 0.78995871 0.93746827\n",
            " 0.28998111 0.86881433 0.74000055 0.56602319 0.52496994 0.31930542\n",
            " 0.20328506 0.08338621 0.71244898 0.22244122 0.49538777 0.88981491\n",
            " 0.67110639 0.16923479 0.73445383 0.21483388 0.77990944 0.07771222\n",
            " 0.14170915 0.93419038 0.28028457 0.1506358  0.21490784 0.36109973\n",
            " 0.83761588 0.15252125 0.01575071 0.86499148 0.29965869 0.07691714\n",
            " 0.02776671 0.89957731 0.52314039 0.61049914 0.61605608 0.52219384\n",
            " 0.76926128 0.906086  ]\n",
            "angle with constraint is: [ -9.43494262  -7.75077692  14.6370185   24.0478448   23.16941457\n",
            " -18.82386962  11.06201158 -16.30513523   8.99084832  -9.29566097\n",
            "  20.29710967  30.62277922 -14.70132204  25.81700282  16.80003829\n",
            "   4.62162306   1.7478957  -12.64862062 -20.77004557 -29.16296527\n",
            "  14.87142863 -19.42911465  -0.32285609  27.28704382  11.97744711\n",
            " -23.15356443  16.41176826 -19.96162833  19.59366083 -29.5601448\n",
            " -25.0803595   30.39332641 -15.38007991 -24.45549379 -19.95645131\n",
            "  -9.72301869  23.63311186 -24.32351225 -33.89744998  25.54940349\n",
            " -14.023892   -29.61580009 -33.05633002  27.9704118    1.61982745\n",
            "   7.73493992   8.12392549   1.55356861  18.84828958  28.42602016]\n",
            "shape of sample before is: (50, 28, 28)\n",
            "len(sample.shape) 3\n",
            "angle is: [0.64107734 0.84388414 0.00961582 0.48018821 0.60404757 0.20123155\n",
            " 0.1602969  0.13624372 0.28482009 0.82341107 0.02764876 0.60242778\n",
            " 0.06815387 0.59319631 0.25220784 0.15734246 0.46583277 0.23110634\n",
            " 0.37826709 0.63305068 0.93622998 0.61782141 0.50706822 0.55700009\n",
            " 0.47209298 0.56281065 0.5701774  0.49219505 0.78837201 0.39074532\n",
            " 0.10854735 0.64305217 0.79609636 0.78001777 0.25213164 0.64702097\n",
            " 0.99858764 0.10456507 0.52275531 0.30538744 0.79122324 0.3247277\n",
            " 0.73358343 0.1604543  0.06696746 0.10410233 0.26029181 0.84951428\n",
            " 0.15043378 0.03339048]\n",
            "angle with constraint is: [  9.87541355  24.07188981 -34.32689277  -1.38682502   7.28333015\n",
            " -20.91379166 -23.77921673 -25.46293943 -15.06259396  22.63877477\n",
            " -33.06458684   7.16994434 -30.22922938   6.5237414  -17.34545123\n",
            " -23.98602804  -2.39170586 -18.82255619  -8.52130383   9.31354731\n",
            "  30.53609863   8.24749863   0.49477524   3.99000599  -1.95349116\n",
            "   4.39674519   4.91241823  -0.54634646  20.18604049  -7.64782787\n",
            " -27.40168539  10.01365166  20.72674528  19.60124385 -17.35078544\n",
            "  10.29146768  34.90113491 -27.68044485   1.5928714  -13.62287887\n",
            "  20.38562685 -12.26906114  16.35083987 -23.76819913 -30.31227756\n",
            " -27.71283684 -16.77957302  24.46599976 -24.46963527 -32.66266654]\n",
            "Accuracy after combined augmentation (rotation and flipping) with angle constraint 70  is  0.5361\n",
            "shape of sample before is: (50, 28, 28)\n",
            "len(sample.shape) 3\n",
            "angle is: [0.85346083 0.37488226 0.58873398 0.08379854 0.90734454 0.5044431\n",
            " 0.08956959 0.63381125 0.36556572 0.35340705 0.40821859 0.50812333\n",
            " 0.61932597 0.14641288 0.7543663  0.02714346 0.69917286 0.18329748\n",
            " 0.44682405 0.56155108 0.64737982 0.79103539 0.51619651 0.88012715\n",
            " 0.9550511  0.97604686 0.31956147 0.03217418 0.71579677 0.2518977\n",
            " 0.76768651 0.00500055 0.7771832  0.07014407 0.87934703 0.65131227\n",
            " 0.16171215 0.50782194 0.50520137 0.87903858 0.53233673 0.55047692\n",
            " 0.31899987 0.72850429 0.0502982  0.96795309 0.6062509  0.84566529\n",
            " 0.78106688 0.21815244]\n",
            "angle with constraint is: [ 28.27686645 -10.00941946   7.0987181  -33.29611684  32.58756349\n",
            "   0.35544819 -32.83443284  10.70489988 -10.75474279 -11.72743579\n",
            "  -7.34251276   0.64986607   9.54607725 -28.28696931  20.34930373\n",
            " -37.82852295  15.93382862 -25.33620163  -4.25407597   4.9240865\n",
            "  11.79038594  23.28283159   1.2957209   30.41017215  36.40408767\n",
            "  38.08374879 -14.43508224 -37.42606556  17.26374161 -19.84818415\n",
            "  21.4149211  -39.59995636  22.1746562  -34.38847465  30.34776257\n",
            "  12.10498164 -27.06302783   0.62575533   0.41610959  30.32308648\n",
            "   2.58693817   4.03815377 -14.48001015  18.28034299 -35.97614383\n",
            "  37.43624684   8.5000719   27.65322319  22.48535044 -22.54780449]\n",
            "shape of sample before is: (50, 28, 28)\n",
            "len(sample.shape) 3\n",
            "angle is: [0.28907606 0.27801123 0.22551806 0.01590729 0.82695145 0.53785248\n",
            " 0.59118406 0.49170339 0.12436359 0.43610289 0.29363321 0.89205855\n",
            " 0.70120812 0.16265739 0.70191733 0.54836776 0.08167732 0.0695511\n",
            " 0.14743733 0.81049743 0.82994904 0.60818071 0.01562632 0.31712164\n",
            " 0.4009087  0.28438529 0.58112761 0.06221126 0.01996994 0.58786682\n",
            " 0.26453036 0.68652923 0.77759284 0.61105717 0.98969547 0.64292683\n",
            " 0.77275033 0.64101733 0.80544171 0.3906019  0.43435765 0.33518749\n",
            " 0.57647793 0.37464296 0.98786196 0.60300374 0.33570086 0.50816603\n",
            " 0.7806129  0.80611725]\n",
            "angle with constraint is: [-16.87391502 -17.75910147 -21.95855515 -38.72741663  26.15611607\n",
            "   3.02819842   7.29472441  -0.66372855 -30.05091284  -5.11176891\n",
            " -16.50934305  31.36468373  16.09664967 -26.98740877  16.15338653\n",
            "   3.8694207  -33.4658145  -34.43591166 -28.20501347  24.8397941\n",
            "  26.39592346   8.6544568  -38.74989455 -14.63026913  -7.92730369\n",
            " -17.24917704   6.49020911 -35.02309882 -38.40240462   7.02934525\n",
            " -18.8375711   14.92233834  22.20742699   8.88457336  39.17563776\n",
            "  11.4341467   21.82002658  11.2813867   24.43533668  -8.75184786\n",
            "  -5.25138805 -13.18500093   6.11823467 -10.0285636   39.02895673\n",
            "   8.24029881 -13.14393157   0.65328248  22.44903173  24.48938025]\n",
            "shape of sample before is: (50, 28, 28)\n",
            "len(sample.shape) 3\n",
            "angle is: [0.63710151 0.00233052 0.8686131  0.90980201 0.87164911 0.67111601\n",
            " 0.02709945 0.95078026 0.06780752 0.14948424 0.6279011  0.46180937\n",
            " 0.75475807 0.63314428 0.00418998 0.64281495 0.85821993 0.8521464\n",
            " 0.15740805 0.34736158 0.11952941 0.75148233 0.6275605  0.48443364\n",
            " 0.29975897 0.78709816 0.79143342 0.49118011 0.12442072 0.46535903\n",
            " 0.89606681 0.58408539 0.75400078 0.29466797 0.3431635  0.1171208\n",
            " 0.34280508 0.1696135  0.53897983 0.39380549 0.83575169 0.38272812\n",
            " 0.21233836 0.08423487 0.25257136 0.69736331 0.62623087 0.61994594\n",
            " 0.85817072 0.2528094 ]\n",
            "angle with constraint is: [ 10.96812086 -39.81355841  29.48904776  32.78416113  29.73192865\n",
            "  13.68928061 -37.83204385  36.0624206  -34.57539835 -28.04126046\n",
            "  10.23208807  -3.05525046  20.38064559  10.65154236 -39.66480187\n",
            "  11.42519575  28.65759467  28.17171216 -27.40735602 -12.2110737\n",
            " -30.43764758  20.11858679  10.20483986  -1.24530898 -16.01928267\n",
            "  22.96785316  23.31467359  -0.70559139 -30.04634265  -2.7712779\n",
            "  31.68534506   6.72683134  20.32006259 -16.4265626  -12.54692017\n",
            " -30.63033568 -12.57559389 -26.43091985   3.11838673  -8.4955607\n",
            "  26.86013501  -9.38175036 -23.01293104 -33.26121051 -19.79429105\n",
            "  15.78906507  10.09846937   9.59567522  28.65365783 -19.77524784]\n",
            "shape of sample before is: (50, 28, 28)\n",
            "len(sample.shape) 3\n",
            "angle is: [0.47079259 0.16818443 0.21879485 0.37091847 0.7070799  0.8337094\n",
            " 0.307214   0.3977643  0.88766066 0.7802401  0.69033504 0.4071434\n",
            " 0.34105903 0.72342968 0.09332647 0.5434663  0.06080523 0.6233376\n",
            " 0.56841143 0.05979271 0.41986511 0.19244992 0.79812221 0.91328277\n",
            " 0.31467785 0.02931895 0.89765456 0.8445223  0.79684874 0.35637883\n",
            " 0.07970657 0.974871   0.49341059 0.35661123 0.77721058 0.6707011\n",
            " 0.04186558 0.95839768 0.55606373 0.18823857 0.01596966 0.55223757\n",
            " 0.59404025 0.09962465 0.54492806 0.43172355 0.43762693 0.97526163\n",
            " 0.29588572 0.88416057]\n",
            "angle with constraint is: [ -2.33659242 -26.54524571 -22.49641229 -10.32652272  16.566392\n",
            "  26.69675173 -15.42288023  -8.1788562   31.01285298  22.41920781\n",
            "  15.22680304  -7.42852818 -12.71527726  17.87437456 -32.53388213\n",
            "   3.47730406 -35.13558141   9.86700787   5.47291449 -35.21658316\n",
            "  -6.41079138 -24.60400635  23.84977715  33.06262195 -14.82577197\n",
            " -37.65448431  31.8123648   27.56178412  23.74789894 -11.48969358\n",
            " -33.62347438  37.98968011  -0.52715262 -11.47110185  22.17684624\n",
            "  13.65608809 -36.65075367  36.67181432   4.48509811 -24.94091449\n",
            " -38.72242722   4.17900537   7.52321983 -32.0300278    3.59424463\n",
            "  -5.46211593  -4.98984529  38.02093075 -16.32914274  30.73284536]\n",
            "shape of sample before is: (50, 28, 28)\n",
            "len(sample.shape) 3\n",
            "angle is: [0.34451919 0.1795017  0.15226599 0.94063805 0.02329195 0.21916064\n",
            " 0.34047398 0.65679991 0.37580071 0.02041357 0.51695969 0.88446569\n",
            " 0.88657103 0.99159525 0.34239253 0.1224628  0.06953853 0.86709169\n",
            " 0.74821379 0.62757369 0.49676035 0.45734066 0.49395189 0.36384464\n",
            " 0.47467716 0.21032948 0.11776795 0.21129516 0.97096398 0.99068649\n",
            " 0.75151147 0.83719121 0.10356636 0.12302661 0.09265464 0.06319567\n",
            " 0.7473416  0.05640307 0.94904056 0.65403705 0.17087627 0.81752258\n",
            " 0.82369376 0.56388878 0.09098399 0.40077813 0.54853731 0.74379573\n",
            " 0.29850373 0.87315715]\n",
            "angle with constraint is: [-12.43846456 -25.63986371 -27.81872089  35.25104437 -38.1366441\n",
            " -22.4671489  -12.7620819   12.54399296  -9.93594336 -38.36691412\n",
            "   1.35677559  30.75725514  30.92568269  39.32761964 -12.60859762\n",
            " -30.20297596 -34.43691736  29.36733536  19.85710319  10.20589525\n",
            "  -0.25917202  -3.41274705  -0.48384856 -10.89242895  -2.02582707\n",
            " -23.17364133 -30.57856384 -23.09638681  37.67711861  39.25491943\n",
            "  20.12091748  26.97529663 -31.7146911  -30.15787138 -32.5876287\n",
            " -34.94434657  19.78732777 -35.48775424  35.9232451   12.32296361\n",
            " -26.32989866  25.40180633  25.89550096   5.1111026  -32.72128101\n",
            "  -7.93774951   3.88298501  19.50365873 -16.11970121  29.85257188]\n",
            "Accuracy after combined augmentation (rotation and flipping) with angle constraint 80  is  0.526\n",
            "shape of sample before is: (50, 28, 28)\n",
            "len(sample.shape) 3\n",
            "angle is: [0.25073797 0.99819849 0.1150553  0.8329496  0.13221688 0.75931305\n",
            " 0.86230123 0.31291853 0.10133393 0.99990916 0.97105224 0.75682109\n",
            " 0.38649036 0.13440064 0.41805029 0.72034258 0.15236397 0.01680038\n",
            " 0.90403526 0.69998985 0.69384013 0.94718576 0.52070534 0.31807695\n",
            " 0.90942565 0.98581157 0.02045992 0.33067288 0.36240561 0.11122781\n",
            " 0.22157325 0.0244576  0.69641616 0.10690515 0.88762758 0.58397546\n",
            " 0.35615905 0.80888705 0.65067042 0.7530228  0.87777637 0.80766503\n",
            " 0.77914258 0.72984345 0.37748841 0.65183114 0.56569888 0.96344589\n",
            " 0.50093553 0.22181782]\n",
            "angle with constraint is: [-22.43358261  44.83786417 -34.64502271  29.96546397 -33.1004807\n",
            "  23.3381747   32.60711057 -16.83733226 -35.87994655  44.99182427\n",
            "  42.39470183  23.11389829 -10.21586743 -32.90394204  -7.37547374\n",
            "  19.83083198 -31.28724276 -43.48796622  36.36317329  17.99908694\n",
            "  17.44561159  40.24671814   1.86348051 -16.37307412  36.84830808\n",
            "  43.72304139 -43.15860718 -15.23944098 -12.38349552 -34.98949732\n",
            " -25.05840724 -42.79881629  17.67745413 -35.37853648  34.88648212\n",
            "   7.55779097 -12.94568583  27.7998341   13.56033748  22.77205242\n",
            "  33.99987318  27.68985295  25.12283249  20.68591017 -11.02604326\n",
            "  13.66480268   5.9128995   41.71012979   0.08419801 -25.03639618]\n",
            "shape of sample before is: (50, 28, 28)\n",
            "len(sample.shape) 3\n",
            "angle is: [0.45772835 0.41465011 0.46851636 0.58103043 0.94802251 0.28108033\n",
            " 0.96912882 0.77958262 0.18292093 0.28044061 0.90932525 0.80134308\n",
            " 0.1433608  0.58456859 0.27699326 0.62975034 0.17358201 0.35191292\n",
            " 0.38852847 0.53770876 0.23931698 0.72774635 0.80926671 0.63998969\n",
            " 0.90308151 0.79049519 0.04401442 0.08472123 0.65996862 0.72187548\n",
            " 0.96790494 0.00333254 0.23696051 0.83175095 0.89153357 0.4644322\n",
            " 0.48375546 0.85361934 0.45996868 0.78742831 0.94873013 0.26184623\n",
            " 0.27439991 0.93860271 0.42429929 0.01572714 0.50248973 0.61676015\n",
            " 0.24473777 0.72741039]\n",
            "angle with constraint is: [ -3.80444809  -7.68148998  -2.83352746   7.29273871  40.32202546\n",
            " -19.70277043  42.22159338  25.16243608 -28.53711659 -19.76034541\n",
            "  36.83927248  27.12087734 -32.09752806   7.61117278 -20.07060682\n",
            "  11.67753088 -29.37761933 -13.3278376  -10.03243747   3.39378827\n",
            " -23.46147219  20.49717172  27.83400419  12.59907218  36.27733548\n",
            "  26.14456735 -41.03870175 -37.37508916  14.39717618  19.96879323\n",
            "  42.11144468 -44.70007115 -23.67355416  29.85758581  35.23802159\n",
            "  -3.20110224  -1.46200816  31.82574076  -3.60281879  25.86854819\n",
            "  40.38571213 -21.43383885 -20.304008    39.47424356  -6.81306369\n",
            " -43.58455773   0.22407597  10.50841336 -22.97360105  20.46693468]\n",
            "shape of sample before is: (50, 28, 28)\n",
            "len(sample.shape) 3\n",
            "angle is: [0.23294265 0.11964932 0.24936568 0.53390985 0.85578818 0.52933219\n",
            " 0.84898552 0.06418639 0.37258641 0.4351785  0.80172573 0.61064681\n",
            " 0.78503663 0.33855675 0.93403277 0.81365652 0.91548555 0.26279607\n",
            " 0.00656923 0.61548117 0.49257892 0.77895416 0.0974939  0.59544662\n",
            " 0.19889838 0.51459887 0.15832134 0.91234255 0.18327713 0.57507668\n",
            " 0.00560966 0.15643851 0.4993342  0.04096165 0.54278266 0.18433403\n",
            " 0.72653923 0.86829149 0.75854599 0.06339035 0.4963462  0.11117687\n",
            " 0.40905757 0.83954703 0.04116032 0.251652   0.82657003 0.40592756\n",
            " 0.2353556  0.94941044]\n",
            "angle with constraint is: [-24.03516191 -34.23156084 -22.5570892    3.05188628  32.02093581\n",
            "   2.63989751  31.40869692 -39.22322498 -11.46722267  -5.83393544\n",
            "  27.15531551   9.95821324  25.65329691 -14.52989294  39.06294953\n",
            "  28.22908714  37.39369934 -21.34835384 -44.4087695   10.39330533\n",
            "  -0.66789707  25.10587443 -36.22554909   8.59019578 -27.09914593\n",
            "   1.31389832 -30.75107971  37.11082951 -28.50505798   6.7569008\n",
            " -44.49513052 -30.92053366  -0.05992242 -41.31345115   3.8504391\n",
            " -28.40993749  20.38853083  33.14623402  23.26913932 -39.29486866\n",
            "  -0.32884214 -34.99408127  -8.18481902  30.55923239 -41.29557113\n",
            " -22.3513196   29.3913024   -8.46651971 -23.81799644  40.44693961]\n",
            "shape of sample before is: (50, 28, 28)\n",
            "len(sample.shape) 3\n",
            "angle is: [0.15573032 0.78860792 0.1780776  0.96305209 0.7860712  0.2764285\n",
            " 0.98361421 0.11445964 0.85959688 0.69942939 0.17388436 0.5463714\n",
            " 0.01192481 0.57312768 0.58220356 0.40852622 0.82441579 0.93074703\n",
            " 0.53376187 0.67395356 0.14585587 0.99809803 0.85791613 0.94902775\n",
            " 0.77806423 0.32291441 0.22168145 0.5110476  0.08259933 0.55181849\n",
            " 0.36992    0.72793399 0.62569222 0.24652012 0.73344187 0.31111292\n",
            " 0.24859225 0.41855357 0.15785342 0.32516007 0.25984861 0.02172992\n",
            " 0.30087629 0.46683341 0.82973838 0.18047652 0.32738904 0.02937383\n",
            " 0.07510821 0.3561149 ]\n",
            "angle with constraint is: [-30.98427163  25.9747126  -28.97301556  41.67468841  25.74640774\n",
            " -20.12143511  43.52527925 -34.69863229  32.36371945  17.94864483\n",
            " -29.35040756   4.17342564 -43.92676696   6.58149134   7.39832017\n",
            "  -8.23264063  29.19742069  38.76723225   3.03856804  15.65582043\n",
            " -31.87297127  44.82882238  32.21245197  40.41249783  25.02578082\n",
            " -15.93770305 -25.04866951   0.99428442 -37.56606063   4.66366381\n",
            " -11.70719965  20.51405889  11.31229935 -22.81318955  21.00976867\n",
            " -16.99983704 -22.62669758  -7.33017895 -30.7931926  -15.73559412\n",
            " -21.61362506 -43.04430755 -17.92113406  -2.98499323  29.67645403\n",
            " -28.75711304 -15.53498604 -42.35635566 -38.24026091 -12.94965879]\n",
            "shape of sample before is: (50, 28, 28)\n",
            "len(sample.shape) 3\n",
            "angle is: [0.49992837 0.74826199 0.76318008 0.91397872 0.90779611 0.10149968\n",
            " 0.1120525  0.4967913  0.58947368 0.59789025 0.48627621 0.9811993\n",
            " 0.50895569 0.93531097 0.98819137 0.4440219  0.13376423 0.32591805\n",
            " 0.35853984 0.88832797 0.96169725 0.16965412 0.02007363 0.83066306\n",
            " 0.55864612 0.75117225 0.33167111 0.15851977 0.26466038 0.04847934\n",
            " 0.38584642 0.09922688 0.46377153 0.79922446 0.04763031 0.89671247\n",
            " 0.12315237 0.65598082 0.24053575 0.84491824 0.01035202 0.42138719\n",
            " 0.9619021  0.11289469 0.76064435 0.72661791 0.31917478 0.0604546\n",
            " 0.83309538 0.90487867]\n",
            "angle with constraint is: [-6.44646792e-03  2.23435787e+01  2.36862073e+01  3.72580851e+01\n",
            "  3.67016500e+01 -3.58650286e+01 -3.49152750e+01 -2.88782842e-01\n",
            "  8.05263159e+00  8.81012272e+00 -1.23514105e+00  4.33079369e+01\n",
            "  8.06012502e-01  3.91779870e+01  4.39372231e+01 -5.03802877e+00\n",
            " -3.29612195e+01 -1.56673755e+01 -1.27314142e+01  3.49495169e+01\n",
            "  4.15527522e+01 -2.97311293e+01 -4.31933731e+01  2.97596757e+01\n",
            "  5.27815077e+00  2.26055022e+01 -1.51496000e+01 -3.07332204e+01\n",
            " -2.11805660e+01 -4.06368597e+01 -1.02738218e+01 -3.60695809e+01\n",
            " -3.26056225e+00  2.69302016e+01 -4.07132720e+01  3.57041222e+01\n",
            " -3.39162864e+01  1.40382739e+01 -2.33517829e+01  3.10426415e+01\n",
            " -4.40683181e+01 -7.07515265e+00  4.15711887e+01 -3.48394783e+01\n",
            "  2.34579913e+01  2.03956119e+01 -1.62742696e+01 -3.95590864e+01\n",
            "  2.99785838e+01  3.64390806e+01]\n",
            "Accuracy after combined augmentation (rotation and flipping) with angle constraint 90  is  0.5262\n"
          ]
        }
      ]
    },
    {
      "cell_type": "markdown",
      "source": [
        "It did not really help with the accuracy I guess :(("
      ],
      "metadata": {
        "id": "S-PI4aQ9Xyka"
      }
    },
    {
      "cell_type": "code",
      "source": [],
      "metadata": {
        "id": "6nw5fPF-X3qE"
      },
      "execution_count": null,
      "outputs": []
    }
  ],
  "metadata": {
    "colab": {
      "provenance": [],
      "toc_visible": true
    },
    "kernelspec": {
      "display_name": "Python 3",
      "name": "python3"
    },
    "language_info": {
      "name": "python"
    }
  },
  "nbformat": 4,
  "nbformat_minor": 0
}