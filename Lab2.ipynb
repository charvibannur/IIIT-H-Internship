{
  "nbformat": 4,
  "nbformat_minor": 0,
  "metadata": {
    "colab": {
      "provenance": []
    },
    "kernelspec": {
      "name": "python3",
      "display_name": "Python 3"
    },
    "language_info": {
      "name": "python"
    }
  },
  "cells": [
    {
      "cell_type": "markdown",
      "source": [
        "Name: Charvi Bannur\n",
        "\n",
        "Team: 11\n",
        "\n",
        "Supervisor: Dr Ravi Kiran\n",
        "\n"
      ],
      "metadata": {
        "id": "CgGGKzXkOLZ0"
      }
    },
    {
      "cell_type": "markdown",
      "source": [
        "The task is under the task heading subsection"
      ],
      "metadata": {
        "id": "eVm0tuZgOTWD"
      }
    },
    {
      "cell_type": "markdown",
      "source": [
        "## SRISHTI'23 Tutorial 02<br>\n",
        "Module Coordinator : amit.pandey@research.iiit.ac.in <br>"
      ],
      "metadata": {
        "id": "JN97BfHPX7yo"
      }
    },
    {
      "cell_type": "markdown",
      "source": [
        "### The aim of this lab is to introduce DATA and FEATURES.\n",
        "We will study: Feature extraction and Data Augmentation.\n",
        "Let's get started.\n",
        "\n"
      ],
      "metadata": {
        "id": "Q0DQhRGLo3Tr"
      }
    },
    {
      "cell_type": "markdown",
      "source": [
        "Make a copy before running the cells"
      ],
      "metadata": {
        "id": "o4AtXdwvNRGS"
      }
    },
    {
      "cell_type": "markdown",
      "source": [
        "### Data can be anything like text, image , sound signals, and even a mix of multiple types (multimodal). We need to learn how to handle raw data, and how to use them for our analysis."
      ],
      "metadata": {
        "id": "gkEBupTXa1xo"
      }
    },
    {
      "cell_type": "markdown",
      "metadata": {
        "id": "A6I1yI79fbLD"
      },
      "source": [
        "# Extracting features from data\n",
        "\n",
        "\n",
        " \n",
        "\n"
      ]
    },
    {
      "cell_type": "markdown",
      "source": [
        "## What are features? \n",
        "### Features are individual independent variables that act like an input to your system. \n",
        "A very basic example is: In z = x + y, x and y are the features.\n",
        "We can have simple features like above or even more complex features learned by our machine learning models (we will study these later on)."
      ],
      "metadata": {
        "id": "_f74mfnO8Rd_"
      }
    },
    {
      "cell_type": "markdown",
      "metadata": {
        "id": "2ZJfjIHk-oHV"
      },
      "source": [
        "# Written numbers\n",
        "\n",
        "We will use a subset of the MNIST dataset. Each input character is represented in a 28*28 array. Let us see if we can extract some simple features from these images which can help us distinguish between the digits.\n",
        "\n",
        "Load the dataset:"
      ]
    },
    {
      "cell_type": "code",
      "metadata": {
        "id": "yNsLJSr6wGY0",
        "colab": {
          "base_uri": "https://localhost:8080/"
        },
        "outputId": "c75175a0-d19e-4a7f-a496-d70cf5e5d1e7"
      },
      "source": [
        "from matplotlib import pyplot as plt\n",
        "import numpy as np\n",
        "from keras.datasets import mnist\n",
        " \n",
        "#loading the dataset\n",
        "(train_X, train_y), (test_X, test_y) = mnist.load_data()\n",
        "\n"
      ],
      "execution_count": 1,
      "outputs": [
        {
          "output_type": "stream",
          "name": "stdout",
          "text": [
            "Downloading data from https://storage.googleapis.com/tensorflow/tf-keras-datasets/mnist.npz\n",
            "11490434/11490434 [==============================] - 1s 0us/step\n"
          ]
        }
      ]
    },
    {
      "cell_type": "markdown",
      "metadata": {
        "id": "jVNr144WAUZO"
      },
      "source": [
        "Extract a subset of the data for our experiment:"
      ]
    },
    {
      "cell_type": "code",
      "metadata": {
        "id": "P3MN8ddxAASZ"
      },
      "source": [
        "no1 = train_X[train_y==1,:,:] ## dataset corresponding to number = 1.\n",
        "no0 = train_X[train_y==0,:,:] ## dataset corresponding to number = 0."
      ],
      "execution_count": 2,
      "outputs": []
    },
    {
      "cell_type": "markdown",
      "metadata": {
        "id": "ePXCs0qyCLpc"
      },
      "source": [
        "Let us visualize a few images here:"
      ]
    },
    {
      "cell_type": "code",
      "metadata": {
        "id": "BQeyZSh-Arpc",
        "colab": {
          "base_uri": "https://localhost:8080/",
          "height": 283
        },
        "outputId": "27b7151e-cf1e-4748-e603-d0eeb0cc93ef"
      },
      "source": [
        "for ii in range(5):\n",
        "  plt.subplot(1, 5, ii+1)\n",
        "  plt.imshow(no1[ii,:,:])\n",
        "plt.show()\n",
        "for ii in range(5):\n",
        "  plt.subplot(1, 5, ii+1)\n",
        "  plt.imshow(no0[ii,:,:])\n",
        "plt.show()"
      ],
      "execution_count": 3,
      "outputs": [
        {
          "output_type": "display_data",
          "data": {
            "text/plain": [
              "<Figure size 640x480 with 5 Axes>"
            ],
            "image/png": "[encoded data removed]"
          },
          "metadata": {}
        },
        {
          "output_type": "display_data",
          "data": {
            "text/plain": [
              "<Figure size 640x480 with 5 Axes>"
            ],
            "image/png": "[encoded data removed]"
          },
          "metadata": {}
        }
      ]
    },
    {
      "cell_type": "code",
      "source": [
        "a = no1>0\n",
        "a.shape, no1.shape"
      ],
      "metadata": {
        "colab": {
          "base_uri": "https://localhost:8080/"
        },
        "id": "n2UFfFWhCYzT",
        "outputId": "ad518300-49d6-4c45-9863-5c77048ddfa3"
      },
      "execution_count": 4,
      "outputs": [
        {
          "output_type": "execute_result",
          "data": {
            "text/plain": [
              "((6742, 28, 28), (6742, 28, 28))"
            ]
          },
          "metadata": {},
          "execution_count": 4
        }
      ]
    },
    {
      "cell_type": "code",
      "source": [
        "## to help you understand how the np.sum is working to find count of pixels that are not zero.\n",
        "\n",
        "mtx = np.arange(8).reshape(2,2,2)\n",
        "a = mtx>1\n",
        "a[0][0][0]\n",
        "type(a[0][0][0])\n"
      ],
      "metadata": {
        "colab": {
          "base_uri": "https://localhost:8080/"
        },
        "id": "LHjttKNkDK29",
        "outputId": "d312e4f6-14ff-4544-e00e-95e5f60cdd27"
      },
      "execution_count": 5,
      "outputs": [
        {
          "output_type": "execute_result",
          "data": {
            "text/plain": [
              "numpy.bool_"
            ]
          },
          "metadata": {},
          "execution_count": 5
        }
      ]
    },
    {
      "cell_type": "markdown",
      "source": [
        "## We can even use value of each pixel as a feature. But let us see how to derive other features."
      ],
      "metadata": {
        "id": "2_1n_KXkE3zg"
      }
    },
    {
      "cell_type": "markdown",
      "metadata": {
        "id": "1g-Tg7EKDz96"
      },
      "source": [
        "Now, let us start with a simple feature: the sum of all pixels and see how good this feature is."
      ]
    },
    {
      "cell_type": "code",
      "metadata": {
        "id": "I8SztDk7CyZc"
      },
      "source": [
        "## sum of pixel values.\n",
        "\n",
        "sum1 = np.sum(no1>0, (1,2)) # threshold before adding up\n",
        "sum0 = np.sum(no0>0, (1,2))"
      ],
      "execution_count": 6,
      "outputs": []
    },
    {
      "cell_type": "markdown",
      "metadata": {
        "id": "8oW3XCOCE7Zv"
      },
      "source": [
        "Let us visualize how good this feature is: (X-axis is mean, y-axis is the digit)"
      ]
    },
    {
      "cell_type": "code",
      "source": [
        "sum1.shape"
      ],
      "metadata": {
        "colab": {
          "base_uri": "https://localhost:8080/"
        },
        "id": "LDz2vOp_GAZr",
        "outputId": "84f78091-8b44-47c7-ba0c-2c3e321bbb48"
      },
      "execution_count": 7,
      "outputs": [
        {
          "output_type": "execute_result",
          "data": {
            "text/plain": [
              "(6742,)"
            ]
          },
          "metadata": {},
          "execution_count": 7
        }
      ]
    },
    {
      "cell_type": "code",
      "metadata": {
        "id": "i8PIe8o_DPpU",
        "colab": {
          "base_uri": "https://localhost:8080/",
          "height": 430
        },
        "outputId": "94d73305-8a5c-4cea-c1ab-ceb1e0d7b9e5"
      },
      "source": [
        "plt.hist(sum1, alpha=0.7);\n",
        "plt.hist(sum0, alpha=0.7);\n",
        "\n"
      ],
      "execution_count": 8,
      "outputs": [
        {
          "output_type": "display_data",
          "data": {
            "text/plain": [
              "<Figure size 640x480 with 1 Axes>"
            ],
            "image/png": "[encoded data removed]"
          },
          "metadata": {}
        }
      ]
    },
    {
      "cell_type": "markdown",
      "metadata": {
        "id": "7_hToEepFtl2"
      },
      "source": [
        "We can already see that this feature separates the two classes quite well.\n",
        "\n",
        "Let us look at another, more complicated feature. We will count the number black pixels that are surrounded on four sides by non-black pixels, or \"hole pixels\"."
      ]
    },
    {
      "cell_type": "code",
      "metadata": {
        "id": "HwEnlm6RFFej"
      },
      "source": [
        "def cumArray(img):\n",
        "  img2 = img.copy()\n",
        "  for ii in range(1, img2.shape[1]):\n",
        "    img2[ii,:] = img2[ii,:] + img2[ii-1,:]  # for every row, add up all the rows above it.\n",
        "  #print(img2)\n",
        "  img2 = img2>0\n",
        "  #print(img2)\n",
        "  return img2\n",
        "\n",
        "def getHolePixels(img):\n",
        "  im1 = cumArray(img)\n",
        "  im2 = np.rot90(cumArray(np.rot90(img)), 3) # rotate and cumulate it again for differnt direction\n",
        "  im3 = np.rot90(cumArray(np.rot90(img, 2)), 2)\n",
        "  im4 = np.rot90(cumArray(np.rot90(img, 3)), 1)\n",
        "  hull =  im1 & im2 & im3 & im4 # this will create a binary image with all the holes filled in.\n",
        "  hole = hull & ~ (img>0) # remove the original digit to leave behind the holes\n",
        "  return hole\n",
        "\n",
        "\n"
      ],
      "execution_count": 9,
      "outputs": []
    },
    {
      "cell_type": "markdown",
      "metadata": {
        "id": "iw3HjgnupUEI"
      },
      "source": [
        "Visualize a few:"
      ]
    },
    {
      "cell_type": "code",
      "metadata": {
        "id": "H0sjr23NYEFe",
        "colab": {
          "base_uri": "https://localhost:8080/",
          "height": 557
        },
        "outputId": "27d46297-fa3d-40ab-dbb0-62b2e867dae8"
      },
      "source": [
        "imgs = [no1[456,:,:],  no0[456,:,:]]\n",
        "for img in imgs:\n",
        "  plt.subplot(1,2,1)\n",
        "  plt.imshow(getHolePixels(img))\n",
        "  plt.subplot(1,2,2)\n",
        "  plt.imshow(img)\n",
        "  plt.show()"
      ],
      "execution_count": 10,
      "outputs": [
        {
          "output_type": "display_data",
          "data": {
            "text/plain": [
              "<Figure size 640x480 with 2 Axes>"
            ],
            "image/png": "[encoded data removed]"
          },
          "metadata": {}
        },
        {
          "output_type": "display_data",
          "data": {
            "text/plain": [
              "<Figure size 640x480 with 2 Axes>"
            ],
            "image/png": "[encoded data removed]"
          },
          "metadata": {}
        }
      ]
    },
    {
      "cell_type": "markdown",
      "metadata": {
        "id": "vS-4erNXtxMi"
      },
      "source": [
        "Now let us plot the number of hole pixels and see how this feature behaves"
      ]
    },
    {
      "cell_type": "code",
      "metadata": {
        "id": "Dpm1dRgsety8",
        "colab": {
          "base_uri": "https://localhost:8080/",
          "height": 430
        },
        "outputId": "badfb2fb-eccd-4a2d-9ad6-225b63182399"
      },
      "source": [
        "hole1 = np.array([getHolePixels(i).sum() for i in no1])\n",
        "hole0 = np.array([getHolePixels(i).sum() for i in no0])\n",
        "  \n",
        "plt.hist(hole1, alpha=0.7);\n",
        "plt.hist(hole0, alpha=0.7);"
      ],
      "execution_count": 11,
      "outputs": [
        {
          "output_type": "display_data",
          "data": {
            "text/plain": [
              "<Figure size 640x480 with 1 Axes>"
            ],
            "image/png": "[encoded data removed]"
          },
          "metadata": {}
        }
      ]
    },
    {
      "cell_type": "markdown",
      "metadata": {
        "id": "8UjCBHpJ31yq"
      },
      "source": [
        "This feature works even better to distinguish between one and zero. \n",
        "\n",
        "\n",
        "Now let us try the number of pixels in the 'hull' or the number with the holes filled in:"
      ]
    },
    {
      "cell_type": "markdown",
      "metadata": {
        "id": "OSzH26ElXNri"
      },
      "source": [
        "Let us try one more feature, where we look at the number of boundary pixels in each image."
      ]
    },
    {
      "cell_type": "code",
      "metadata": {
        "id": "h-2czBypXMwT"
      },
      "source": [
        "def minus(a, b):\n",
        "  return a & ~ b\n",
        "\n",
        "def getBoundaryPixels(img):\n",
        "  img = img.copy()>0  # binarize the image\n",
        "  rshift = np.roll(img, 1, 1)\n",
        "  lshift = np.roll(img, -1 ,1)\n",
        "  ushift = np.roll(img, -1, 0)\n",
        "  dshift = np.roll(img, 1, 0)\n",
        "  boundary = minus(img, rshift) | minus(img, lshift) | minus(img, ushift) | minus(img, dshift)\n",
        "  return boundary"
      ],
      "execution_count": 12,
      "outputs": []
    },
    {
      "cell_type": "code",
      "metadata": {
        "id": "u-V688jFerXh",
        "colab": {
          "base_uri": "https://localhost:8080/",
          "height": 557
        },
        "outputId": "508d8207-8352-469b-9f50-3d2b0e00345d"
      },
      "source": [
        "imgs = [no1[456,:,:],  no0[456,:,:]]\n",
        "for img in imgs:\n",
        "  plt.subplot(1,2,1)\n",
        "  plt.imshow(getBoundaryPixels(img))\n",
        "  plt.subplot(1,2,2)\n",
        "  plt.imshow(img)\n",
        "  plt.show()"
      ],
      "execution_count": 13,
      "outputs": [
        {
          "output_type": "display_data",
          "data": {
            "text/plain": [
              "<Figure size 640x480 with 2 Axes>"
            ],
            "image/png": "[encoded data removed]"
          },
          "metadata": {}
        },
        {
          "output_type": "display_data",
          "data": {
            "text/plain": [
              "<Figure size 640x480 with 2 Axes>"
            ],
            "image/png": "[encoded data removed]"
          },
          "metadata": {}
        }
      ]
    },
    {
      "cell_type": "code",
      "metadata": {
        "id": "kSsxsbCNXcNh",
        "colab": {
          "base_uri": "https://localhost:8080/",
          "height": 430
        },
        "outputId": "fc3265bd-0d6a-446d-fa1d-7c2c7802ff24"
      },
      "source": [
        "bound1 = np.array([getBoundaryPixels(i).sum() for i in no1])\n",
        "bound0= np.array([getBoundaryPixels(i).sum() for i in no0])\n",
        "\n",
        "plt.hist(bound1, alpha=0.7);\n",
        "plt.hist(bound0, alpha=0.7);"
      ],
      "execution_count": 14,
      "outputs": [
        {
          "output_type": "display_data",
          "data": {
            "text/plain": [
              "<Figure size 640x480 with 1 Axes>"
            ],
            "image/png": "[encoded data removed]"
          },
          "metadata": {}
        }
      ]
    },
    {
      "cell_type": "markdown",
      "metadata": {
        "id": "WuP04Ao_R0Yz"
      },
      "source": [
        "What will happen if we plot two features together? "
      ]
    },
    {
      "cell_type": "markdown",
      "metadata": {
        "id": "paDGHlFSd5Fu"
      },
      "source": [
        "Feel free to explore the above graph with your mouse. \n",
        "\n",
        "\n",
        "We have seen that we extracted four features from a 28*28 dimensional image.\n",
        "\n",
        "\n",
        "Some questions to explore:\n",
        "1. Which is the best combination of features?\n",
        "2. How would you test or visualize four or more features?\n",
        "3. Can you come up with your own features?\n",
        "4. Will these features work for different classes other than 0 and 1?\n",
        "5. What will happen if we take more that two classes at a time?"
      ]
    },
    {
      "cell_type": "markdown",
      "source": [
        "## Features from CSV file"
      ],
      "metadata": {
        "id": "gIJdT3tYIMyN"
      }
    },
    {
      "cell_type": "code",
      "source": [
        "import pandas as pd\n",
        "\n",
        "df = pd.read_csv('/content/sample_data/california_housing_train.csv')"
      ],
      "metadata": {
        "id": "SfR0jKjRI9fx"
      },
      "execution_count": 15,
      "outputs": []
    },
    {
      "cell_type": "code",
      "source": [
        "df.head()\n"
      ],
      "metadata": {
        "colab": {
          "base_uri": "https://localhost:8080/",
          "height": 270
        },
        "id": "9VU02WsOJLs_",
        "outputId": "3efd88c4-0f41-4bd2-8d58-66bc40debaf0"
      },
      "execution_count": 16,
      "outputs": [
        {
          "output_type": "execute_result",
          "data": {
            "text/plain": [
              "   longitude  latitude  housing_median_age  total_rooms  total_bedrooms  \\\n",
              "0    -114.31     34.19                15.0       5612.0          1283.0   \n",
              "1    -114.47     34.40                19.0       7650.0          1901.0   \n",
              "2    -114.56     33.69                17.0        720.0           174.0   \n",
              "3    -114.57     33.64                14.0       1501.0           337.0   \n",
              "4    -114.57     33.57                20.0       1454.0           326.0   \n",
              "\n",
              "   population  households  median_income  median_house_value  \n",
              "0      1015.0       472.0         1.4936             66900.0  \n",
              "1      1129.0       463.0         1.8200             80100.0  \n",
              "2       333.0       117.0         1.6509             85700.0  \n",
              "3       515.0       226.0         3.1917             73400.0  \n",
              "4       624.0       262.0         1.9250             65500.0  "
            ],
            "text/html": [
              "\n",
              "  <div id=\"df-8709412f-9078-4c54-9d7e-f46988fbf2d6\">\n",
              "    <div class=\"colab-df-container\">\n",
              "      <div>\n",
              "<style scoped>\n",
              "    .dataframe tbody tr th:only-of-type {\n",
              "        vertical-align: middle;\n",
              "    }\n",
              "\n",
              "    .dataframe tbody tr th {\n",
              "        vertical-align: top;\n",
              "    }\n",
              "\n",
              "    .dataframe thead th {\n",
              "        text-align: right;\n",
              "    }\n",
              "</style>\n",
              "<table border=\"1\" class=\"dataframe\">\n",
              "  <thead>\n",
              "    <tr style=\"text-align: right;\">\n",
              "      <th></th>\n",
              "      <th>longitude</th>\n",
              "      <th>latitude</th>\n",
              "      <th>housing_median_age</th>\n",
              "      <th>total_rooms</th>\n",
              "      <th>total_bedrooms</th>\n",
              "      <th>population</th>\n",
              "      <th>households</th>\n",
              "      <th>median_income</th>\n",
              "      <th>median_house_value</th>\n",
              "    </tr>\n",
              "  </thead>\n",
              "  <tbody>\n",
              "    <tr>\n",
              "      <th>0</th>\n",
              "      <td>-114.31</td>\n",
              "      <td>34.19</td>\n",
              "      <td>15.0</td>\n",
              "      <td>5612.0</td>\n",
              "      <td>1283.0</td>\n",
              "      <td>1015.0</td>\n",
              "      <td>472.0</td>\n",
              "      <td>1.4936</td>\n",
              "      <td>66900.0</td>\n",
              "    </tr>\n",
              "    <tr>\n",
              "      <th>1</th>\n",
              "      <td>-114.47</td>\n",
              "      <td>34.40</td>\n",
              "      <td>19.0</td>\n",
              "      <td>7650.0</td>\n",
              "      <td>1901.0</td>\n",
              "      <td>1129.0</td>\n",
              "      <td>463.0</td>\n",
              "      <td>1.8200</td>\n",
              "      <td>80100.0</td>\n",
              "    </tr>\n",
              "    <tr>\n",
              "      <th>2</th>\n",
              "      <td>-114.56</td>\n",
              "      <td>33.69</td>\n",
              "      <td>17.0</td>\n",
              "      <td>720.0</td>\n",
              "      <td>174.0</td>\n",
              "      <td>333.0</td>\n",
              "      <td>117.0</td>\n",
              "      <td>1.6509</td>\n",
              "      <td>85700.0</td>\n",
              "    </tr>\n",
              "    <tr>\n",
              "      <th>3</th>\n",
              "      <td>-114.57</td>\n",
              "      <td>33.64</td>\n",
              "      <td>14.0</td>\n",
              "      <td>1501.0</td>\n",
              "      <td>337.0</td>\n",
              "      <td>515.0</td>\n",
              "      <td>226.0</td>\n",
              "      <td>3.1917</td>\n",
              "      <td>73400.0</td>\n",
              "    </tr>\n",
              "    <tr>\n",
              "      <th>4</th>\n",
              "      <td>-114.57</td>\n",
              "      <td>33.57</td>\n",
              "      <td>20.0</td>\n",
              "      <td>1454.0</td>\n",
              "      <td>326.0</td>\n",
              "      <td>624.0</td>\n",
              "      <td>262.0</td>\n",
              "      <td>1.9250</td>\n",
              "      <td>65500.0</td>\n",
              "    </tr>\n",
              "  </tbody>\n",
              "</table>\n",
              "</div>\n",
              "      <button class=\"colab-df-convert\" onclick=\"convertToInteractive('df-8709412f-9078-4c54-9d7e-f46988fbf2d6')\"\n",
              "              title=\"Convert this dataframe to an interactive table.\"\n",
              "              style=\"display:none;\">\n",
              "        \n",
              "  <svg xmlns=\"http://www.w3.org/2000/svg\" height=\"24px\"viewBox=\"0 0 24 24\"\n",
              "       width=\"24px\">\n",
              "    <path d=\"M0 0h24v24H0V0z\" fill=\"none\"/>\n",
              "    <path d=\"M18.56 5.44l.94 2.06.94-2.06 2.06-.94-2.06-.94-.94-2.06-.94 2.06-2.06.94zm-11 1L8.5 8.5l.94-2.06 2.06-.94-2.06-.94L8.5 2.5l-.94 2.06-2.06.94zm10 10l.94 2.06.94-2.06 2.06-.94-2.06-.94-.94-2.06-.94 2.06-2.06.94z\"/><path d=\"M17.41 7.96l-1.37-1.37c-.4-.4-.92-.59-1.43-.59-.52 0-1.04.2-1.43.59L10.3 9.45l-7.72 7.72c-.78.78-.78 2.05 0 2.83L4 21.41c.39.39.9.59 1.41.59.51 0 1.02-.2 1.41-.59l7.78-7.78 2.81-2.81c.8-.78.8-2.07 0-2.86zM5.41 20L4 18.59l7.72-7.72 1.47 1.35L5.41 20z\"/>\n",
              "  </svg>\n",
              "      </button>\n",
              "      \n",
              "  <style>\n",
              "    .colab-df-container {\n",
              "      display:flex;\n",
              "      flex-wrap:wrap;\n",
              "      gap: 12px;\n",
              "    }\n",
              "\n",
              "    .colab-df-convert {\n",
              "      background-color: #E8F0FE;\n",
              "      border: none;\n",
              "      border-radius: 50%;\n",
              "      cursor: pointer;\n",
              "      display: none;\n",
              "      fill: #1967D2;\n",
              "      height: 32px;\n",
              "      padding: 0 0 0 0;\n",
              "      width: 32px;\n",
              "    }\n",
              "\n",
              "    .colab-df-convert:hover {\n",
              "      background-color: #E2EBFA;\n",
              "      box-shadow: 0px 1px 2px rgba(60, 64, 67, 0.3), 0px 1px 3px 1px rgba(60, 64, 67, 0.15);\n",
              "      fill: #174EA6;\n",
              "    }\n",
              "\n",
              "    [theme=dark] .colab-df-convert {\n",
              "      background-color: #3B4455;\n",
              "      fill: #D2E3FC;\n",
              "    }\n",
              "\n",
              "    [theme=dark] .colab-df-convert:hover {\n",
              "      background-color: #434B5C;\n",
              "      box-shadow: 0px 1px 3px 1px rgba(0, 0, 0, 0.15);\n",
              "      filter: drop-shadow(0px 1px 2px rgba(0, 0, 0, 0.3));\n",
              "      fill: #FFFFFF;\n",
              "    }\n",
              "  </style>\n",
              "\n",
              "      <script>\n",
              "        const buttonEl =\n",
              "          document.querySelector('#df-8709412f-9078-4c54-9d7e-f46988fbf2d6 button.colab-df-convert');\n",
              "        buttonEl.style.display =\n",
              "          google.colab.kernel.accessAllowed ? 'block' : 'none';\n",
              "\n",
              "        async function convertToInteractive(key) {\n",
              "          const element = document.querySelector('#df-8709412f-9078-4c54-9d7e-f46988fbf2d6');\n",
              "          const dataTable =\n",
              "            await google.colab.kernel.invokeFunction('convertToInteractive',\n",
              "                                                     [key], {});\n",
              "          if (!dataTable) return;\n",
              "\n",
              "          const docLinkHtml = 'Like what you see? Visit the ' +\n",
              "            '<a target=\"_blank\" href=https://colab.research.google.com/notebooks/data_table.ipynb>data table notebook</a>'\n",
              "            + ' to learn more about interactive tables.';\n",
              "          element.innerHTML = '';\n",
              "          dataTable['output_type'] = 'display_data';\n",
              "          await google.colab.output.renderOutput(dataTable, element);\n",
              "          const docLink = document.createElement('div');\n",
              "          docLink.innerHTML = docLinkHtml;\n",
              "          element.appendChild(docLink);\n",
              "        }\n",
              "      </script>\n",
              "    </div>\n",
              "  </div>\n",
              "  "
            ]
          },
          "metadata": {},
          "execution_count": 16
        }
      ]
    },
    {
      "cell_type": "code",
      "source": [
        "df.columns\n"
      ],
      "metadata": {
        "colab": {
          "base_uri": "https://localhost:8080/"
        },
        "id": "XCeIl4kMJc59",
        "outputId": "cb4f4e5a-eef8-4b51-c149-457649d865b1"
      },
      "execution_count": 17,
      "outputs": [
        {
          "output_type": "execute_result",
          "data": {
            "text/plain": [
              "Index(['longitude', 'latitude', 'housing_median_age', 'total_rooms',\n",
              "       'total_bedrooms', 'population', 'households', 'median_income',\n",
              "       'median_house_value'],\n",
              "      dtype='object')"
            ]
          },
          "metadata": {},
          "execution_count": 17
        }
      ]
    },
    {
      "cell_type": "code",
      "source": [
        "df = df.rename(columns={'oldName1': 'newName1', 'oldName2': 'newName2'})\n"
      ],
      "metadata": {
        "id": "foQSY_tvJOua"
      },
      "execution_count": 18,
      "outputs": []
    },
    {
      "cell_type": "code",
      "source": [
        "import matplotlib.pyplot as plt\n",
        "import pandas as pd\n",
        "import seaborn as sns\n",
        "from mpl_toolkits.mplot3d import Axes3D\n",
        "\n",
        "\n",
        "sns.set(style = \"darkgrid\")\n",
        "\n",
        "fig = plt.figure()\n",
        "ax = fig.add_subplot(111, projection = '3d')\n",
        "\n",
        "x = df['total_bedrooms'][:50]\n",
        "y = df['housing_median_age'][:50]\n",
        "z = df['median_house_value'][:50]\n",
        "\n",
        "ax.set_xlabel(\"total_bedrooms\")\n",
        "ax.set_ylabel(\"housing_median_age\")\n",
        "ax.set_zlabel(\"median_house_value\")\n",
        "\n",
        "ax.scatter(x, y, z)\n",
        "\n",
        "plt.show()"
      ],
      "metadata": {
        "id": "LaSdj2-HItaG",
        "colab": {
          "base_uri": "https://localhost:8080/",
          "height": 412
        },
        "outputId": "59b31933-a894-4768-eb69-868515b40c84"
      },
      "execution_count": 19,
      "outputs": [
        {
          "output_type": "display_data",
          "data": {
            "text/plain": [
              "<Figure size 640x480 with 1 Axes>"
            ],
            "image/png": "[encoded data removed]"
          },
          "metadata": {}
        }
      ]
    },
    {
      "cell_type": "code",
      "source": [
        "## Task :\n",
        "## Download a CSV file from the internet, upload it to your google drive.\n",
        "## Read the CSV file and plot graphs using different combination of features and write your analysis\n",
        "## Ex : IRIS flower datasaet"
      ],
      "metadata": {
        "id": "vGGbRUz3J8Ju"
      },
      "execution_count": null,
      "outputs": []
    },
    {
      "cell_type": "markdown",
      "source": [
        "## Augmentation\n",
        "It is a technique to increase the diversity of our training set by applying random (but realistic) transformations, such as image rotation, change of color etc. When we have limited training data, we can augment our data with help of these techniques."
      ],
      "metadata": {
        "id": "UEjCCSQh1d7A"
      }
    },
    {
      "cell_type": "code",
      "source": [
        "import numpy as np\n",
        "import matplotlib.pyplot as plt\n",
        "from keras.datasets import mnist\n",
        "# set randomseed\n",
        "rng = np.random.default_rng(seed=42)\n",
        "from sklearn.utils.extmath import cartesian\n",
        "from skimage.transform import rotate, AffineTransform, warp\n",
        "import math"
      ],
      "metadata": {
        "id": "XePcTeKI1dGJ"
      },
      "execution_count": 20,
      "outputs": []
    },
    {
      "cell_type": "markdown",
      "source": [
        "For this lab we will use a subset of MNIST that is very small, to better understand the effect of augmentation."
      ],
      "metadata": {
        "id": "ZP0Z3oOT2Vqo"
      }
    },
    {
      "cell_type": "code",
      "source": [
        "#loading the dataset\n",
        "(train_X, train_y), (test_X, test_y) = mnist.load_data()\n",
        "train_X = train_X/255\n",
        "test_X = test_X/255\n",
        "\n",
        "print(\"original data size:\",train_X.shape)\n"
      ],
      "metadata": {
        "colab": {
          "base_uri": "https://localhost:8080/"
        },
        "id": "7miTQ_032Rxv",
        "outputId": "07798cd8-08d0-4149-8f27-7d78f992f1ca"
      },
      "execution_count": 21,
      "outputs": [
        {
          "output_type": "stream",
          "name": "stdout",
          "text": [
            "original data size: (60000, 28, 28)\n"
          ]
        }
      ]
    },
    {
      "cell_type": "code",
      "source": [
        "print(train_X[0].shape,train_y[0])"
      ],
      "metadata": {
        "colab": {
          "base_uri": "https://localhost:8080/"
        },
        "id": "79iYoK4a2Y8w",
        "outputId": "fffbe77d-dc8f-41f3-b340-b6e69ec15b8e"
      },
      "execution_count": 22,
      "outputs": [
        {
          "output_type": "stream",
          "name": "stdout",
          "text": [
            "(28, 28) 5\n"
          ]
        }
      ]
    },
    {
      "cell_type": "code",
      "source": [
        "plt.imshow(train_X[0])"
      ],
      "metadata": {
        "colab": {
          "base_uri": "https://localhost:8080/",
          "height": 452
        },
        "id": "F-ne2Jrl6R3-",
        "outputId": "69ace9fd-3b9f-4e3a-aa66-d1c4b6d4a6b0"
      },
      "execution_count": 23,
      "outputs": [
        {
          "output_type": "execute_result",
          "data": {
            "text/plain": [
              "<matplotlib.image.AxesImage at 0x7f04d7160430>"
            ]
          },
          "metadata": {},
          "execution_count": 23
        },
        {
          "output_type": "display_data",
          "data": {
            "text/plain": [
              "<Figure size 640x480 with 1 Axes>"
            ],
            "image/png": "[encoded data removed]"
          },
          "metadata": {}
        }
      ]
    },
    {
      "cell_type": "code",
      "source": [
        "train_X = train_X[::1200,:,:].copy() # subsample. Otherwise it will take too long!\n",
        "train_y = train_y[::1200].copy() # do the same to the labels\n",
        "\n",
        "print(\"Now it is:\", train_X.shape)"
      ],
      "metadata": {
        "colab": {
          "base_uri": "https://localhost:8080/"
        },
        "id": "g3YMYR2L6VqQ",
        "outputId": "e8a9551e-dbb4-411f-a055-2b018c421ef3"
      },
      "execution_count": 24,
      "outputs": [
        {
          "output_type": "stream",
          "name": "stdout",
          "text": [
            "Now it is: (50, 28, 28)\n"
          ]
        }
      ]
    },
    {
      "cell_type": "markdown",
      "source": [
        "Augmentation 1: rotation\n",
        "Let us try rotating the image a little. We will use skimage library for this."
      ],
      "metadata": {
        "id": "JgN85vRl6847"
      }
    },
    {
      "cell_type": "code",
      "source": [
        "plt.imshow(train_X[2], cmap='gray')\n",
        "plt.show()\n",
        "print(train_X[2].shape)\n",
        "plt.imshow(rotate(train_X[2],45), cmap='gray')"
      ],
      "metadata": {
        "colab": {
          "base_uri": "https://localhost:8080/",
          "height": 887
        },
        "id": "jStJv7xG6cNI",
        "outputId": "24619927-b24a-45e1-d1c4-01a37e7571da"
      },
      "execution_count": 25,
      "outputs": [
        {
          "output_type": "display_data",
          "data": {
            "text/plain": [
              "<Figure size 640x480 with 1 Axes>"
            ],
            "image/png": "[encoded data removed]"
          },
          "metadata": {}
        },
        {
          "output_type": "stream",
          "name": "stdout",
          "text": [
            "(28, 28)\n"
          ]
        },
        {
          "output_type": "execute_result",
          "data": {
            "text/plain": [
              "<matplotlib.image.AxesImage at 0x7f04e37b63b0>"
            ]
          },
          "metadata": {},
          "execution_count": 25
        },
        {
          "output_type": "display_data",
          "data": {
            "text/plain": [
              "<Figure size 640x480 with 1 Axes>"
            ],
            "image/png": "[encoded data removed]"
          },
          "metadata": {}
        }
      ]
    },
    {
      "cell_type": "markdown",
      "source": [
        "After rotating, the the class of the image is still the same. Let us make a function to rotate multiple images by random angles. We want a slightly different image every time we run this function. So, we generate a random number between 0 and 1 and change it so that it lies between -constraint/2 and +constraint/2"
      ],
      "metadata": {
        "id": "phr4sXEb94Q8"
      }
    },
    {
      "cell_type": "code",
      "source": [
        "def augRotate(sample, angleconstraint):\n",
        "  if angleconstraint==0:\n",
        "    return sample\n",
        "\n",
        "  print(\"shape of sample before is:\", sample.shape)\n",
        "  print(\"len(sample.shape)\", len(sample.shape))\n",
        "  if len(sample.shape)==2:\n",
        "    sample = np.expand_dims(sample, 0)  # make sure the sample is 3 dimensional\n",
        "    print(\"shape of sample is:\", sample.shape)\n",
        "  angle = rng.random(len(sample)) # generate random numbers for angles\n",
        "  print(\"angle is:\", angle)\n",
        "  angle = (angle-0.5)*angleconstraint # make the random angle constrained\n",
        "  print(\"angle with constraint is:\", angle)\n",
        "  nsample = sample.copy() # preallocate the augmented array to make it faster\n",
        "  for ii in range(len(sample)):\n",
        "    nsample[ii] = rotate(sample[ii], angle[ii])\n",
        "  return np.squeeze(nsample) # take care if the input had only one sample."
      ],
      "metadata": {
        "id": "B3ai_7aN7Csn"
      },
      "execution_count": 26,
      "outputs": []
    },
    {
      "cell_type": "markdown",
      "source": [
        "This function returns a slightly different image each time we call it. So we can increase the number of images in the sample by any multiple. "
      ],
      "metadata": {
        "id": "udOWwYj2-Bsy"
      }
    },
    {
      "cell_type": "code",
      "source": [
        "sample = train_X[20]\n",
        "angleconstraint = 70\n",
        "# show the original image\n",
        "plt.imshow(sample, cmap='gray')\n",
        "plt.show()\n",
        "plt.subplot(1,3,1)\n",
        "plt.imshow(augRotate(sample, angleconstraint), cmap='gray') # show an augmented image\n",
        "plt.subplot(1,3,2)\n",
        "plt.imshow(augRotate(sample, angleconstraint), cmap='gray') # show another augmented image from the same sample\n",
        "plt.subplot(1,3,3)\n",
        "plt.imshow(augRotate(sample, angleconstraint), cmap='gray') # one more image from the same sample"
      ],
      "metadata": {
        "colab": {
          "base_uri": "https://localhost:8080/",
          "height": 921
        },
        "id": "vyO8Ap9-98LZ",
        "outputId": "19d16251-4dc2-496d-c1c3-24705a0058d6"
      },
      "execution_count": 27,
      "outputs": [
        {
          "output_type": "display_data",
          "data": {
            "text/plain": [
              "<Figure size 640x480 with 1 Axes>"
            ],
            "image/png": "[encoded data removed]"
          },
          "metadata": {}
        },
        {
          "output_type": "stream",
          "name": "stdout",
          "text": [
            "shape of sample before is: (28, 28)\n",
            "len(sample.shape) 2\n",
            "shape of sample is: (1, 28, 28)\n",
            "angle is: [0.77395605]\n",
            "angle with constraint is: [19.1769234]\n",
            "shape of sample before is: (28, 28)\n",
            "len(sample.shape) 2\n",
            "shape of sample is: (1, 28, 28)\n",
            "angle is: [0.43887844]\n",
            "angle with constraint is: [-4.27850922]\n",
            "shape of sample before is: (28, 28)\n",
            "len(sample.shape) 2\n",
            "shape of sample is: (1, 28, 28)\n",
            "angle is: [0.85859792]\n",
            "angle with constraint is: [25.10185439]\n"
          ]
        },
        {
          "output_type": "execute_result",
          "data": {
            "text/plain": [
              "<matplotlib.image.AxesImage at 0x7f04dd274f10>"
            ]
          },
          "metadata": {},
          "execution_count": 27
        },
        {
          "output_type": "display_data",
          "data": {
            "text/plain": [
              "<Figure size 640x480 with 3 Axes>"
            ],
            "image/png": "[encoded data removed]"
          },
          "metadata": {}
        }
      ]
    },
    {
      "cell_type": "markdown",
      "source": [
        "Let us try one more augmentation, Shear: A transformation in which all points along a given line remain fixed while other points are shifted parallel to by a \n",
        " distance proportional to their perpendicular distance from. Shearing a plane figure does not change its area. "
      ],
      "metadata": {
        "id": "siEhyuX0AyZP"
      }
    },
    {
      "cell_type": "code",
      "source": [
        "def shear(sample, amount):\n",
        "  tform = AffineTransform(shear = amount) # create the shear transform\n",
        "  img = warp(sample, tform) # apply the shear\n",
        "  # this makes the digit off-center. Since all the images in the test set are centralized, we will do the same here\n",
        "  col = img.sum(0).nonzero()[0]\n",
        "  row = img.sum(1).nonzero()[0]\n",
        "  if len(col)>0 and len(row)>0:\n",
        "    xshift = int(sample.shape[0]/2 - (row[0]+row[-1])/2)\n",
        "    yshift = int(sample.shape[1]/2 - (col[0]+col[-1])/2)\n",
        "    img = np.roll(img, (xshift, yshift),(0,1))\n",
        "  return img"
      ],
      "metadata": {
        "id": "46nKQ_Qj-Elg"
      },
      "execution_count": 28,
      "outputs": []
    },
    {
      "cell_type": "code",
      "source": [
        "sample = train_X[2]\n",
        "plt.imshow(sample, cmap='gray')\n",
        "plt.show()\n",
        "\n",
        "# apply shear\n",
        "plt.imshow(shear(sample, 0.4), cmap='gray')"
      ],
      "metadata": {
        "colab": {
          "base_uri": "https://localhost:8080/",
          "height": 869
        },
        "id": "Zae7PZcUBDt8",
        "outputId": "281ea1cc-909e-43a0-9f32-a83224ebd03f"
      },
      "execution_count": 29,
      "outputs": [
        {
          "output_type": "display_data",
          "data": {
            "text/plain": [
              "<Figure size 640x480 with 1 Axes>"
            ],
            "image/png": "[encoded data removed]"
          },
          "metadata": {}
        },
        {
          "output_type": "execute_result",
          "data": {
            "text/plain": [
              "<matplotlib.image.AxesImage at 0x7f04dd3642e0>"
            ]
          },
          "metadata": {},
          "execution_count": 29
        },
        {
          "output_type": "display_data",
          "data": {
            "text/plain": [
              "<Figure size 640x480 with 1 Axes>"
            ],
            "image/png": "[encoded data removed]"
          },
          "metadata": {}
        }
      ]
    },
    {
      "cell_type": "markdown",
      "source": [
        "## Let us also see skeletonization of image"
      ],
      "metadata": {
        "id": "4NglWyeSDtxr"
      }
    },
    {
      "cell_type": "code",
      "source": [
        "from skimage.morphology import skeletonize\n"
      ],
      "metadata": {
        "id": "XQMsvuD5BITy"
      },
      "execution_count": 30,
      "outputs": []
    },
    {
      "cell_type": "code",
      "source": [
        "skeleton = skeletonize(train_X[2],method='lee')\n",
        "plt.imshow(skeleton, cmap='gray')"
      ],
      "metadata": {
        "colab": {
          "base_uri": "https://localhost:8080/",
          "height": 452
        },
        "id": "ze1kf_0BD0YP",
        "outputId": "3a165977-8c63-498a-bcb5-dd50c27714f6"
      },
      "execution_count": 31,
      "outputs": [
        {
          "output_type": "execute_result",
          "data": {
            "text/plain": [
              "<matplotlib.image.AxesImage at 0x7f04dd623f10>"
            ]
          },
          "metadata": {},
          "execution_count": 31
        },
        {
          "output_type": "display_data",
          "data": {
            "text/plain": [
              "<Figure size 640x480 with 1 Axes>"
            ],
            "image/png": "[encoded data removed]"
          },
          "metadata": {}
        }
      ]
    },
    {
      "cell_type": "code",
      "source": [
        "#Structuring elements that are repeatedly used for thinning\n",
        "\n",
        "S1 = np.array([[0,0,0],[-1,1,-1],[1,1,1]]) # -1 for dont care\n",
        "S2 = np.array([[-1,0,0],[1,1,0],[-1,1,-1]])\n",
        "\n",
        "\n",
        "def CheckMatch(window,kernel):\n",
        "  for i in range(window.shape[0]):\n",
        "        for j in range(window.shape[1]):\n",
        "            if kernel[i,j]!=-1 and window[i,j]!=kernel[i,j]:\n",
        "                return False\n",
        "  return True\n",
        "\n",
        "def ApplyKernel(image,kernel): #used\n",
        "  height, width =  image.shape\n",
        "  res = np.copy(image)\n",
        "  for i in range(1,height-1):\n",
        "    for j in range (1,width-1):\n",
        "      window = image[i-1:i+2,j-1:j+2]\n",
        "      #print('window shape',window.shape)\n",
        "      Match_result = CheckMatch(window,kernel)\n",
        "      if (Match_result):\n",
        "        res[i,j]=0\n",
        "  return res\n",
        "\n",
        "\n",
        "\n",
        "def Skeletonization(image):\n",
        "  '''pass binary image'''\n",
        "  #new = np.copy(image)\n",
        "  #old = np.zeros(image.shape,dtype=np.uint8)\n",
        "  count = 1\n",
        "  change = 1000\n",
        "  while (change >0.01):\n",
        "    print('count',count)\n",
        "    new = image\n",
        "    new = ApplyKernel(new,S1)\n",
        "    new = ApplyKernel(new,S2)\n",
        "    new = ApplyKernel(new,np.rot90(S1,1)) #90 degree rotate\n",
        "    new = ApplyKernel(new,np.rot90(S2,1))\n",
        "    new = ApplyKernel(new,np.rot90(S1,2)) # 180 degree rotate\n",
        "    new = ApplyKernel(new,np.rot90(S2,2))\n",
        "    new = ApplyKernel(new,np.rot90(S1,3)) # 270 degree rotate\n",
        "    new = ApplyKernel(new,np.rot90(S2,3))\n",
        "    count+= 1\n",
        "    change = np.mean(np.abs(new-image))\n",
        "    image = new\n",
        "    plt.imshow(new,cmap='gray')\n",
        "    plt.show()\n",
        "  return new"
      ],
      "metadata": {
        "id": "ewpZG5b-D9F3"
      },
      "execution_count": 32,
      "outputs": []
    },
    {
      "cell_type": "code",
      "source": [
        "binarized  =( train_X[0] > 0 ).astype(np.uint8)"
      ],
      "metadata": {
        "id": "LwgK5XObNcjD"
      },
      "execution_count": 33,
      "outputs": []
    },
    {
      "cell_type": "code",
      "source": [
        "skeleton_five = Skeletonization(binarized)"
      ],
      "metadata": {
        "colab": {
          "base_uri": "https://localhost:8080/",
          "height": 1000
        },
        "id": "oyQrnHghLADQ",
        "outputId": "b0881d52-16a9-41c1-c63d-72f6bfe8c936"
      },
      "execution_count": 34,
      "outputs": [
        {
          "output_type": "stream",
          "name": "stdout",
          "text": [
            "count 1\n"
          ]
        },
        {
          "output_type": "display_data",
          "data": {
            "text/plain": [
              "<Figure size 640x480 with 1 Axes>"
            ],
            "image/png": "[encoded data removed]"
          },
          "metadata": {}
        },
        {
          "output_type": "stream",
          "name": "stdout",
          "text": [
            "count 2\n"
          ]
        },
        {
          "output_type": "display_data",
          "data": {
            "text/plain": [
              "<Figure size 640x480 with 1 Axes>"
            ],
            "image/png": "[encoded data removed]"
          },
          "metadata": {}
        },
        {
          "output_type": "stream",
          "name": "stdout",
          "text": [
            "count 3\n"
          ]
        },
        {
          "output_type": "display_data",
          "data": {
            "text/plain": [
              "<Figure size 640x480 with 1 Axes>"
            ],
            "image/png": "[encoded data removed]"
          },
          "metadata": {}
        },
        {
          "output_type": "stream",
          "name": "stdout",
          "text": [
            "count 4\n"
          ]
        },
        {
          "output_type": "display_data",
          "data": {
            "text/plain": [
              "<Figure size 640x480 with 1 Axes>"
            ],
            "image/png": "[encoded data removed]"
          },
          "metadata": {}
        },
        {
          "output_type": "stream",
          "name": "stdout",
          "text": [
            "count 5\n"
          ]
        },
        {
          "output_type": "display_data",
          "data": {
            "text/plain": [
              "<Figure size 640x480 with 1 Axes>"
            ],
            "image/png": "[encoded data removed]"
          },
          "metadata": {}
        }
      ]
    },
    {
      "cell_type": "code",
      "source": [],
      "metadata": {
        "id": "1uZdnNdTMpfn"
      },
      "execution_count": null,
      "outputs": []
    },
    {
      "cell_type": "markdown",
      "source": [
        "# Task"
      ],
      "metadata": {
        "id": "iBui1KFTJ3_E"
      }
    },
    {
      "cell_type": "code",
      "source": [
        "import numpy as np\n",
        "import pandas as pd\n",
        "data = pd.read_csv(\"/content/data.csv\", sep = \",\")\n",
        "data.info()"
      ],
      "metadata": {
        "colab": {
          "base_uri": "https://localhost:8080/"
        },
        "id": "Iehtoj6oJ6PQ",
        "outputId": "21ba3904-a8a9-4415-bc64-cbe4a8115bcc"
      },
      "execution_count": 35,
      "outputs": [
        {
          "output_type": "stream",
          "name": "stdout",
          "text": [
            "<class 'pandas.core.frame.DataFrame'>\n",
            "RangeIndex: 50 entries, 0 to 49\n",
            "Data columns (total 12 columns):\n",
            " #   Column              Non-Null Count  Dtype  \n",
            "---  ------              --------------  -----  \n",
            " 0   layer_height        50 non-null     float64\n",
            " 1   wall_thickness      50 non-null     int64  \n",
            " 2   infill_density      50 non-null     int64  \n",
            " 3   infill_pattern      50 non-null     object \n",
            " 4   nozzle_temperature  50 non-null     int64  \n",
            " 5   bed_temperature     50 non-null     int64  \n",
            " 6   print_speed         50 non-null     int64  \n",
            " 7   material            50 non-null     object \n",
            " 8   fan_speed           50 non-null     int64  \n",
            " 9   roughness           50 non-null     int64  \n",
            " 10  tension_strenght    50 non-null     int64  \n",
            " 11  elongation          50 non-null     float64\n",
            "dtypes: float64(2), int64(8), object(2)\n",
            "memory usage: 4.8+ KB\n"
          ]
        }
      ]
    },
    {
      "cell_type": "markdown",
      "source": [
        "Let's multiply these columns by 100 to make them more understandable."
      ],
      "metadata": {
        "id": "hpY8wnUbMz7Q"
      }
    },
    {
      "cell_type": "code",
      "source": [
        "data.layer_height = data.layer_height*100\n",
        "data.elongation = data.elongation*100\n",
        "data.head()"
      ],
      "metadata": {
        "colab": {
          "base_uri": "https://localhost:8080/",
          "height": 270
        },
        "id": "bO2djxNwMumU",
        "outputId": "48651a94-bd36-4449-ad45-d898d18c719a"
      },
      "execution_count": 36,
      "outputs": [
        {
          "output_type": "execute_result",
          "data": {
            "text/plain": [
              "   layer_height  wall_thickness  infill_density infill_pattern  \\\n",
              "0           2.0               8              90           grid   \n",
              "1           2.0               7              90      honeycomb   \n",
              "2           2.0               1              80           grid   \n",
              "3           2.0               4              70      honeycomb   \n",
              "4           2.0               6              90           grid   \n",
              "\n",
              "   nozzle_temperature  bed_temperature  print_speed material  fan_speed  \\\n",
              "0                 220               60           40      abs          0   \n",
              "1                 225               65           40      abs         25   \n",
              "2                 230               70           40      abs         50   \n",
              "3                 240               75           40      abs         75   \n",
              "4                 250               80           40      abs        100   \n",
              "\n",
              "   roughness  tension_strenght  elongation  \n",
              "0         25                18       120.0  \n",
              "1         32                16       140.0  \n",
              "2         40                 8        80.0  \n",
              "3         68                10        50.0  \n",
              "4         92                 5        70.0  "
            ],
            "text/html": [
              "\n",
              "  <div id=\"df-caccd03f-89ab-4120-b921-11e9ab99e37e\">\n",
              "    <div class=\"colab-df-container\">\n",
              "      <div>\n",
              "<style scoped>\n",
              "    .dataframe tbody tr th:only-of-type {\n",
              "        vertical-align: middle;\n",
              "    }\n",
              "\n",
              "    .dataframe tbody tr th {\n",
              "        vertical-align: top;\n",
              "    }\n",
              "\n",
              "    .dataframe thead th {\n",
              "        text-align: right;\n",
              "    }\n",
              "</style>\n",
              "<table border=\"1\" class=\"dataframe\">\n",
              "  <thead>\n",
              "    <tr style=\"text-align: right;\">\n",
              "      <th></th>\n",
              "      <th>layer_height</th>\n",
              "      <th>wall_thickness</th>\n",
              "      <th>infill_density</th>\n",
              "      <th>infill_pattern</th>\n",
              "      <th>nozzle_temperature</th>\n",
              "      <th>bed_temperature</th>\n",
              "      <th>print_speed</th>\n",
              "      <th>material</th>\n",
              "      <th>fan_speed</th>\n",
              "      <th>roughness</th>\n",
              "      <th>tension_strenght</th>\n",
              "      <th>elongation</th>\n",
              "    </tr>\n",
              "  </thead>\n",
              "  <tbody>\n",
              "    <tr>\n",
              "      <th>0</th>\n",
              "      <td>2.0</td>\n",
              "      <td>8</td>\n",
              "      <td>90</td>\n",
              "      <td>grid</td>\n",
              "      <td>220</td>\n",
              "      <td>60</td>\n",
              "      <td>40</td>\n",
              "      <td>abs</td>\n",
              "      <td>0</td>\n",
              "      <td>25</td>\n",
              "      <td>18</td>\n",
              "      <td>120.0</td>\n",
              "    </tr>\n",
              "    <tr>\n",
              "      <th>1</th>\n",
              "      <td>2.0</td>\n",
              "      <td>7</td>\n",
              "      <td>90</td>\n",
              "      <td>honeycomb</td>\n",
              "      <td>225</td>\n",
              "      <td>65</td>\n",
              "      <td>40</td>\n",
              "      <td>abs</td>\n",
              "      <td>25</td>\n",
              "      <td>32</td>\n",
              "      <td>16</td>\n",
              "      <td>140.0</td>\n",
              "    </tr>\n",
              "    <tr>\n",
              "      <th>2</th>\n",
              "      <td>2.0</td>\n",
              "      <td>1</td>\n",
              "      <td>80</td>\n",
              "      <td>grid</td>\n",
              "      <td>230</td>\n",
              "      <td>70</td>\n",
              "      <td>40</td>\n",
              "      <td>abs</td>\n",
              "      <td>50</td>\n",
              "      <td>40</td>\n",
              "      <td>8</td>\n",
              "      <td>80.0</td>\n",
              "    </tr>\n",
              "    <tr>\n",
              "      <th>3</th>\n",
              "      <td>2.0</td>\n",
              "      <td>4</td>\n",
              "      <td>70</td>\n",
              "      <td>honeycomb</td>\n",
              "      <td>240</td>\n",
              "      <td>75</td>\n",
              "      <td>40</td>\n",
              "      <td>abs</td>\n",
              "      <td>75</td>\n",
              "      <td>68</td>\n",
              "      <td>10</td>\n",
              "      <td>50.0</td>\n",
              "    </tr>\n",
              "    <tr>\n",
              "      <th>4</th>\n",
              "      <td>2.0</td>\n",
              "      <td>6</td>\n",
              "      <td>90</td>\n",
              "      <td>grid</td>\n",
              "      <td>250</td>\n",
              "      <td>80</td>\n",
              "      <td>40</td>\n",
              "      <td>abs</td>\n",
              "      <td>100</td>\n",
              "      <td>92</td>\n",
              "      <td>5</td>\n",
              "      <td>70.0</td>\n",
              "    </tr>\n",
              "  </tbody>\n",
              "</table>\n",
              "</div>\n",
              "      <button class=\"colab-df-convert\" onclick=\"convertToInteractive('df-caccd03f-89ab-4120-b921-11e9ab99e37e')\"\n",
              "              title=\"Convert this dataframe to an interactive table.\"\n",
              "              style=\"display:none;\">\n",
              "        \n",
              "  <svg xmlns=\"http://www.w3.org/2000/svg\" height=\"24px\"viewBox=\"0 0 24 24\"\n",
              "       width=\"24px\">\n",
              "    <path d=\"M0 0h24v24H0V0z\" fill=\"none\"/>\n",
              "    <path d=\"M18.56 5.44l.94 2.06.94-2.06 2.06-.94-2.06-.94-.94-2.06-.94 2.06-2.06.94zm-11 1L8.5 8.5l.94-2.06 2.06-.94-2.06-.94L8.5 2.5l-.94 2.06-2.06.94zm10 10l.94 2.06.94-2.06 2.06-.94-2.06-.94-.94-2.06-.94 2.06-2.06.94z\"/><path d=\"M17.41 7.96l-1.37-1.37c-.4-.4-.92-.59-1.43-.59-.52 0-1.04.2-1.43.59L10.3 9.45l-7.72 7.72c-.78.78-.78 2.05 0 2.83L4 21.41c.39.39.9.59 1.41.59.51 0 1.02-.2 1.41-.59l7.78-7.78 2.81-2.81c.8-.78.8-2.07 0-2.86zM5.41 20L4 18.59l7.72-7.72 1.47 1.35L5.41 20z\"/>\n",
              "  </svg>\n",
              "      </button>\n",
              "      \n",
              "  <style>\n",
              "    .colab-df-container {\n",
              "      display:flex;\n",
              "      flex-wrap:wrap;\n",
              "      gap: 12px;\n",
              "    }\n",
              "\n",
              "    .colab-df-convert {\n",
              "      background-color: #E8F0FE;\n",
              "      border: none;\n",
              "      border-radius: 50%;\n",
              "      cursor: pointer;\n",
              "      display: none;\n",
              "      fill: #1967D2;\n",
              "      height: 32px;\n",
              "      padding: 0 0 0 0;\n",
              "      width: 32px;\n",
              "    }\n",
              "\n",
              "    .colab-df-convert:hover {\n",
              "      background-color: #E2EBFA;\n",
              "      box-shadow: 0px 1px 2px rgba(60, 64, 67, 0.3), 0px 1px 3px 1px rgba(60, 64, 67, 0.15);\n",
              "      fill: #174EA6;\n",
              "    }\n",
              "\n",
              "    [theme=dark] .colab-df-convert {\n",
              "      background-color: #3B4455;\n",
              "      fill: #D2E3FC;\n",
              "    }\n",
              "\n",
              "    [theme=dark] .colab-df-convert:hover {\n",
              "      background-color: #434B5C;\n",
              "      box-shadow: 0px 1px 3px 1px rgba(0, 0, 0, 0.15);\n",
              "      filter: drop-shadow(0px 1px 2px rgba(0, 0, 0, 0.3));\n",
              "      fill: #FFFFFF;\n",
              "    }\n",
              "  </style>\n",
              "\n",
              "      <script>\n",
              "        const buttonEl =\n",
              "          document.querySelector('#df-caccd03f-89ab-4120-b921-11e9ab99e37e button.colab-df-convert');\n",
              "        buttonEl.style.display =\n",
              "          google.colab.kernel.accessAllowed ? 'block' : 'none';\n",
              "\n",
              "        async function convertToInteractive(key) {\n",
              "          const element = document.querySelector('#df-caccd03f-89ab-4120-b921-11e9ab99e37e');\n",
              "          const dataTable =\n",
              "            await google.colab.kernel.invokeFunction('convertToInteractive',\n",
              "                                                     [key], {});\n",
              "          if (!dataTable) return;\n",
              "\n",
              "          const docLinkHtml = 'Like what you see? Visit the ' +\n",
              "            '<a target=\"_blank\" href=https://colab.research.google.com/notebooks/data_table.ipynb>data table notebook</a>'\n",
              "            + ' to learn more about interactive tables.';\n",
              "          element.innerHTML = '';\n",
              "          dataTable['output_type'] = 'display_data';\n",
              "          await google.colab.output.renderOutput(dataTable, element);\n",
              "          const docLink = document.createElement('div');\n",
              "          docLink.innerHTML = docLinkHtml;\n",
              "          element.appendChild(docLink);\n",
              "        }\n",
              "      </script>\n",
              "    </div>\n",
              "  </div>\n",
              "  "
            ]
          },
          "metadata": {},
          "execution_count": 36
        }
      ]
    },
    {
      "cell_type": "code",
      "source": [
        "data.material = [0 if each == \"abs\" else 1 for each in data.material]\n",
        "# abs = 0, pla = 1\n",
        "\n",
        "data.infill_pattern = [0 if each == \"grid\" else 1 for each in data.infill_pattern]\n",
        "# grid = 0, honeycomb = 1"
      ],
      "metadata": {
        "id": "2GZ4Tq6RM9Ff"
      },
      "execution_count": 37,
      "outputs": []
    },
    {
      "cell_type": "markdown",
      "source": [
        "Seperate Input parameters and Prediction Materials.\n",
        "\n",
        "\n"
      ],
      "metadata": {
        "id": "dRsCYY0vNB4t"
      }
    },
    {
      "cell_type": "code",
      "source": [
        "y_data = data.material.values\n",
        "x_data = data.drop([\"material\"],axis=1)"
      ],
      "metadata": {
        "id": "l5j7BDKxNCrb"
      },
      "execution_count": 38,
      "outputs": []
    },
    {
      "cell_type": "code",
      "source": [
        "absm = data[data.material == 0]\n",
        "pla = data[data.material == 1]"
      ],
      "metadata": {
        "id": "xVs5JvWzNIe7"
      },
      "execution_count": 39,
      "outputs": []
    },
    {
      "cell_type": "code",
      "source": [
        "absm.head()"
      ],
      "metadata": {
        "colab": {
          "base_uri": "https://localhost:8080/",
          "height": 270
        },
        "id": "c5GqYqGgNLOh",
        "outputId": "1fc2c01d-da13-4a57-fea4-2f9558ad42e3"
      },
      "execution_count": 40,
      "outputs": [
        {
          "output_type": "execute_result",
          "data": {
            "text/plain": [
              "   layer_height  wall_thickness  infill_density  infill_pattern  \\\n",
              "0           2.0               8              90               0   \n",
              "1           2.0               7              90               1   \n",
              "2           2.0               1              80               0   \n",
              "3           2.0               4              70               1   \n",
              "4           2.0               6              90               0   \n",
              "\n",
              "   nozzle_temperature  bed_temperature  print_speed  material  fan_speed  \\\n",
              "0                 220               60           40         0          0   \n",
              "1                 225               65           40         0         25   \n",
              "2                 230               70           40         0         50   \n",
              "3                 240               75           40         0         75   \n",
              "4                 250               80           40         0        100   \n",
              "\n",
              "   roughness  tension_strenght  elongation  \n",
              "0         25                18       120.0  \n",
              "1         32                16       140.0  \n",
              "2         40                 8        80.0  \n",
              "3         68                10        50.0  \n",
              "4         92                 5        70.0  "
            ],
            "text/html": [
              "\n",
              "  <div id=\"df-1b9eeee2-6570-413e-981c-e8d3c4faa81a\">\n",
              "    <div class=\"colab-df-container\">\n",
              "      <div>\n",
              "<style scoped>\n",
              "    .dataframe tbody tr th:only-of-type {\n",
              "        vertical-align: middle;\n",
              "    }\n",
              "\n",
              "    .dataframe tbody tr th {\n",
              "        vertical-align: top;\n",
              "    }\n",
              "\n",
              "    .dataframe thead th {\n",
              "        text-align: right;\n",
              "    }\n",
              "</style>\n",
              "<table border=\"1\" class=\"dataframe\">\n",
              "  <thead>\n",
              "    <tr style=\"text-align: right;\">\n",
              "      <th></th>\n",
              "      <th>layer_height</th>\n",
              "      <th>wall_thickness</th>\n",
              "      <th>infill_density</th>\n",
              "      <th>infill_pattern</th>\n",
              "      <th>nozzle_temperature</th>\n",
              "      <th>bed_temperature</th>\n",
              "      <th>print_speed</th>\n",
              "      <th>material</th>\n",
              "      <th>fan_speed</th>\n",
              "      <th>roughness</th>\n",
              "      <th>tension_strenght</th>\n",
              "      <th>elongation</th>\n",
              "    </tr>\n",
              "  </thead>\n",
              "  <tbody>\n",
              "    <tr>\n",
              "      <th>0</th>\n",
              "      <td>2.0</td>\n",
              "      <td>8</td>\n",
              "      <td>90</td>\n",
              "      <td>0</td>\n",
              "      <td>220</td>\n",
              "      <td>60</td>\n",
              "      <td>40</td>\n",
              "      <td>0</td>\n",
              "      <td>0</td>\n",
              "      <td>25</td>\n",
              "      <td>18</td>\n",
              "      <td>120.0</td>\n",
              "    </tr>\n",
              "    <tr>\n",
              "      <th>1</th>\n",
              "      <td>2.0</td>\n",
              "      <td>7</td>\n",
              "      <td>90</td>\n",
              "      <td>1</td>\n",
              "      <td>225</td>\n",
              "      <td>65</td>\n",
              "      <td>40</td>\n",
              "      <td>0</td>\n",
              "      <td>25</td>\n",
              "      <td>32</td>\n",
              "      <td>16</td>\n",
              "      <td>140.0</td>\n",
              "    </tr>\n",
              "    <tr>\n",
              "      <th>2</th>\n",
              "      <td>2.0</td>\n",
              "      <td>1</td>\n",
              "      <td>80</td>\n",
              "      <td>0</td>\n",
              "      <td>230</td>\n",
              "      <td>70</td>\n",
              "      <td>40</td>\n",
              "      <td>0</td>\n",
              "      <td>50</td>\n",
              "      <td>40</td>\n",
              "      <td>8</td>\n",
              "      <td>80.0</td>\n",
              "    </tr>\n",
              "    <tr>\n",
              "      <th>3</th>\n",
              "      <td>2.0</td>\n",
              "      <td>4</td>\n",
              "      <td>70</td>\n",
              "      <td>1</td>\n",
              "      <td>240</td>\n",
              "      <td>75</td>\n",
              "      <td>40</td>\n",
              "      <td>0</td>\n",
              "      <td>75</td>\n",
              "      <td>68</td>\n",
              "      <td>10</td>\n",
              "      <td>50.0</td>\n",
              "    </tr>\n",
              "    <tr>\n",
              "      <th>4</th>\n",
              "      <td>2.0</td>\n",
              "      <td>6</td>\n",
              "      <td>90</td>\n",
              "      <td>0</td>\n",
              "      <td>250</td>\n",
              "      <td>80</td>\n",
              "      <td>40</td>\n",
              "      <td>0</td>\n",
              "      <td>100</td>\n",
              "      <td>92</td>\n",
              "      <td>5</td>\n",
              "      <td>70.0</td>\n",
              "    </tr>\n",
              "  </tbody>\n",
              "</table>\n",
              "</div>\n",
              "      <button class=\"colab-df-convert\" onclick=\"convertToInteractive('df-1b9eeee2-6570-413e-981c-e8d3c4faa81a')\"\n",
              "              title=\"Convert this dataframe to an interactive table.\"\n",
              "              style=\"display:none;\">\n",
              "        \n",
              "  <svg xmlns=\"http://www.w3.org/2000/svg\" height=\"24px\"viewBox=\"0 0 24 24\"\n",
              "       width=\"24px\">\n",
              "    <path d=\"M0 0h24v24H0V0z\" fill=\"none\"/>\n",
              "    <path d=\"M18.56 5.44l.94 2.06.94-2.06 2.06-.94-2.06-.94-.94-2.06-.94 2.06-2.06.94zm-11 1L8.5 8.5l.94-2.06 2.06-.94-2.06-.94L8.5 2.5l-.94 2.06-2.06.94zm10 10l.94 2.06.94-2.06 2.06-.94-2.06-.94-.94-2.06-.94 2.06-2.06.94z\"/><path d=\"M17.41 7.96l-1.37-1.37c-.4-.4-.92-.59-1.43-.59-.52 0-1.04.2-1.43.59L10.3 9.45l-7.72 7.72c-.78.78-.78 2.05 0 2.83L4 21.41c.39.39.9.59 1.41.59.51 0 1.02-.2 1.41-.59l7.78-7.78 2.81-2.81c.8-.78.8-2.07 0-2.86zM5.41 20L4 18.59l7.72-7.72 1.47 1.35L5.41 20z\"/>\n",
              "  </svg>\n",
              "      </button>\n",
              "      \n",
              "  <style>\n",
              "    .colab-df-container {\n",
              "      display:flex;\n",
              "      flex-wrap:wrap;\n",
              "      gap: 12px;\n",
              "    }\n",
              "\n",
              "    .colab-df-convert {\n",
              "      background-color: #E8F0FE;\n",
              "      border: none;\n",
              "      border-radius: 50%;\n",
              "      cursor: pointer;\n",
              "      display: none;\n",
              "      fill: #1967D2;\n",
              "      height: 32px;\n",
              "      padding: 0 0 0 0;\n",
              "      width: 32px;\n",
              "    }\n",
              "\n",
              "    .colab-df-convert:hover {\n",
              "      background-color: #E2EBFA;\n",
              "      box-shadow: 0px 1px 2px rgba(60, 64, 67, 0.3), 0px 1px 3px 1px rgba(60, 64, 67, 0.15);\n",
              "      fill: #174EA6;\n",
              "    }\n",
              "\n",
              "    [theme=dark] .colab-df-convert {\n",
              "      background-color: #3B4455;\n",
              "      fill: #D2E3FC;\n",
              "    }\n",
              "\n",
              "    [theme=dark] .colab-df-convert:hover {\n",
              "      background-color: #434B5C;\n",
              "      box-shadow: 0px 1px 3px 1px rgba(0, 0, 0, 0.15);\n",
              "      filter: drop-shadow(0px 1px 2px rgba(0, 0, 0, 0.3));\n",
              "      fill: #FFFFFF;\n",
              "    }\n",
              "  </style>\n",
              "\n",
              "      <script>\n",
              "        const buttonEl =\n",
              "          document.querySelector('#df-1b9eeee2-6570-413e-981c-e8d3c4faa81a button.colab-df-convert');\n",
              "        buttonEl.style.display =\n",
              "          google.colab.kernel.accessAllowed ? 'block' : 'none';\n",
              "\n",
              "        async function convertToInteractive(key) {\n",
              "          const element = document.querySelector('#df-1b9eeee2-6570-413e-981c-e8d3c4faa81a');\n",
              "          const dataTable =\n",
              "            await google.colab.kernel.invokeFunction('convertToInteractive',\n",
              "                                                     [key], {});\n",
              "          if (!dataTable) return;\n",
              "\n",
              "          const docLinkHtml = 'Like what you see? Visit the ' +\n",
              "            '<a target=\"_blank\" href=https://colab.research.google.com/notebooks/data_table.ipynb>data table notebook</a>'\n",
              "            + ' to learn more about interactive tables.';\n",
              "          element.innerHTML = '';\n",
              "          dataTable['output_type'] = 'display_data';\n",
              "          await google.colab.output.renderOutput(dataTable, element);\n",
              "          const docLink = document.createElement('div');\n",
              "          docLink.innerHTML = docLinkHtml;\n",
              "          element.appendChild(docLink);\n",
              "        }\n",
              "      </script>\n",
              "    </div>\n",
              "  </div>\n",
              "  "
            ]
          },
          "metadata": {},
          "execution_count": 40
        }
      ]
    },
    {
      "cell_type": "code",
      "source": [
        "import matplotlib.pyplot as plt"
      ],
      "metadata": {
        "id": "XrGxIiZ1NOUe"
      },
      "execution_count": 41,
      "outputs": []
    },
    {
      "cell_type": "code",
      "source": [
        "plt.scatter(absm.fan_speed,absm.tension_strenght,color=\"red\",label=\"ABS\",alpha= 0.5)\n",
        "plt.scatter(pla.fan_speed,pla.tension_strenght,color=\"green\",label=\"PLA\",alpha= 0.5)\n",
        "plt.xlabel(\"Fan Speed\")\n",
        "plt.ylabel(\"Tension Strength\")\n",
        "plt.legend()\n",
        "plt.show()"
      ],
      "metadata": {
        "colab": {
          "base_uri": "https://localhost:8080/",
          "height": 458
        },
        "id": "UJQNtku4NREH",
        "outputId": "740033dc-5cb2-4918-9cd0-b60db153ca0e"
      },
      "execution_count": 42,
      "outputs": [
        {
          "output_type": "display_data",
          "data": {
            "text/plain": [
              "<Figure size 640x480 with 1 Axes>"
            ],
            "image/png": "[encoded data removed]"
          },
          "metadata": {}
        }
      ]
    },
    {
      "cell_type": "markdown",
      "source": [
        "As you see, the air circulation not good for ABS\n"
      ],
      "metadata": {
        "id": "MGtoNlTFNWES"
      }
    },
    {
      "cell_type": "code",
      "source": [
        "plt.scatter(absm.layer_height,absm.roughness,color=\"blue\",label=\"ABS\",alpha= 0.9)\n",
        "plt.scatter(pla.layer_height,pla.roughness,color=\"pink\",label=\"PLA\",alpha= 0.9)\n",
        "plt.xlabel(\"Layer Height\")\n",
        "plt.ylabel(\"Roughness\")\n",
        "plt.legend()\n",
        "plt.show()"
      ],
      "metadata": {
        "colab": {
          "base_uri": "https://localhost:8080/",
          "height": 458
        },
        "id": "sEGJLkzTNWzO",
        "outputId": "5a90a236-afc2-4d0d-facb-a297ad635f68"
      },
      "execution_count": 43,
      "outputs": [
        {
          "output_type": "display_data",
          "data": {
            "text/plain": [
              "<Figure size 640x480 with 1 Axes>"
            ],
            "image/png": "[encoded data removed]"
          },
          "metadata": {}
        }
      ]
    },
    {
      "cell_type": "markdown",
      "source": [
        "You can see as the layer height increases, the tensile strength increases. But PLA smoother than ABS"
      ],
      "metadata": {
        "id": "PKPBm5UBNcUY"
      }
    },
    {
      "cell_type": "code",
      "source": [
        "from mpl_toolkits.mplot3d import Axes3D\n",
        "import matplotlib.pyplot as plt\n",
        "\n",
        "fig = plt.figure()\n",
        "ax = fig.add_subplot(111, projection='3d')\n",
        "\n",
        "x = data.infill_density\n",
        "y = data.wall_thickness\n",
        "z = data.tension_strenght\n",
        "\n",
        "ax.scatter(x, y, z, c='r', marker='o')\n",
        "\n",
        "ax.set_xlabel('Infill Density')\n",
        "ax.set_ylabel('Wall Thickness')\n",
        "ax.set_zlabel('Tension Strenght')\n",
        "\n",
        "plt.show()"
      ],
      "metadata": {
        "colab": {
          "base_uri": "https://localhost:8080/",
          "height": 408
        },
        "id": "yxQhMmnwNdT_",
        "outputId": "7d7c6c19-1cd2-4c40-b8be-1a9d20b95145"
      },
      "execution_count": 44,
      "outputs": [
        {
          "output_type": "display_data",
          "data": {
            "text/plain": [
              "<Figure size 640x480 with 1 Axes>"
            ],
            "image/png": "[encoded data removed]"
          },
          "metadata": {}
        }
      ]
    },
    {
      "cell_type": "code",
      "source": [
        "min(x_data)"
      ],
      "metadata": {
        "colab": {
          "base_uri": "https://localhost:8080/",
          "height": 36
        },
        "id": "X9uchGcFNhQf",
        "outputId": "5081c879-09c6-4b3b-b22e-f42a3b7ed095"
      },
      "execution_count": 45,
      "outputs": [
        {
          "output_type": "execute_result",
          "data": {
            "text/plain": [
              "'bed_temperature'"
            ],
            "application/vnd.google.colaboratory.intrinsic+json": {
              "type": "string"
            }
          },
          "metadata": {},
          "execution_count": 45
        }
      ]
    },
    {
      "cell_type": "code",
      "source": [
        "check_nan = data['nozzle_temperature'].isnull().values.any()"
      ],
      "metadata": {
        "id": "vJFCka8DNmg9"
      },
      "execution_count": 46,
      "outputs": []
    },
    {
      "cell_type": "code",
      "source": [
        "data['nozzle_temperature'] = data['nozzle_temperature'].replace(np.nan, 0)"
      ],
      "metadata": {
        "id": "apbViYMaNqJD"
      },
      "execution_count": 47,
      "outputs": []
    },
    {
      "cell_type": "code",
      "source": [
        "# normalization \n",
        "x_norm = (x_data - np.min(x_data))/(np.max(x_data)-np.min(x_data))\n",
        "\n",
        "# train test split\n",
        "from sklearn.model_selection import train_test_split\n",
        "x_train, x_test, y_train, y_test = train_test_split(x_norm,y_data,test_size = 0.3,random_state=1)\n",
        "\n",
        "from sklearn.neighbors import KNeighborsClassifier\n",
        "knn = KNeighborsClassifier(n_neighbors = 3) # n_neighbors = k\n",
        "knn.fit(x_train,y_train)\n",
        "prediction = knn.predict(x_test)\n",
        "print(\" {} nn score: {} \".format(3,knn.score(x_test,y_test)))\n",
        "\n",
        "score_list = []\n",
        "for each in range(1,15):\n",
        "    knn2 = KNeighborsClassifier(n_neighbors = each)\n",
        "    knn2.fit(x_train,y_train)\n",
        "    score_list.append(knn2.score(x_test,y_test))\n",
        "    print(\" {} nn score: {} \".format(each,knn2.score(x_test,y_test)))\n",
        "    \n",
        "plt.plot(range(1,15),score_list)\n",
        "plt.xlabel(\"k values\")\n",
        "plt.ylabel(\"accuracy\")\n",
        "plt.show()"
      ],
      "metadata": {
        "colab": {
          "base_uri": "https://localhost:8080/",
          "height": 858
        },
        "id": "9V4Kuv71Nsuz",
        "outputId": "fb1f84e5-b870-44aa-fc6b-6b8c38788444"
      },
      "execution_count": 48,
      "outputs": [
        {
          "output_type": "stream",
          "name": "stderr",
          "text": [
            "/usr/local/lib/python3.10/dist-packages/numpy/core/fromnumeric.py:84: FutureWarning: In a future version, DataFrame.min(axis=None) will return a scalar min over the entire DataFrame. To retain the old behavior, use 'frame.min(axis=0)' or just 'frame.min()'\n",
            "  return reduction(axis=axis, out=out, **passkwargs)\n",
            "/usr/local/lib/python3.10/dist-packages/numpy/core/fromnumeric.py:84: FutureWarning: In a future version, DataFrame.max(axis=None) will return a scalar max over the entire DataFrame. To retain the old behavior, use 'frame.max(axis=0)' or just 'frame.max()'\n",
            "  return reduction(axis=axis, out=out, **passkwargs)\n",
            "/usr/local/lib/python3.10/dist-packages/numpy/core/fromnumeric.py:84: FutureWarning: In a future version, DataFrame.min(axis=None) will return a scalar min over the entire DataFrame. To retain the old behavior, use 'frame.min(axis=0)' or just 'frame.min()'\n",
            "  return reduction(axis=axis, out=out, **passkwargs)\n"
          ]
        },
        {
          "output_type": "stream",
          "name": "stdout",
          "text": [
            " 3 nn score: 0.6 \n",
            " 1 nn score: 0.4666666666666667 \n",
            " 2 nn score: 0.4666666666666667 \n",
            " 3 nn score: 0.6 \n",
            " 4 nn score: 0.6666666666666666 \n",
            " 5 nn score: 0.7333333333333333 \n",
            " 6 nn score: 0.6666666666666666 \n",
            " 7 nn score: 0.7333333333333333 \n",
            " 8 nn score: 0.6 \n",
            " 9 nn score: 0.7333333333333333 \n",
            " 10 nn score: 0.6 \n",
            " 11 nn score: 0.6 \n",
            " 12 nn score: 0.6666666666666666 \n",
            " 13 nn score: 0.7333333333333333 \n",
            " 14 nn score: 0.6 \n"
          ]
        },
        {
          "output_type": "display_data",
          "data": {
            "text/plain": [
              "<Figure size 640x480 with 1 Axes>"
            ],
            "image/png": "[encoded data removed]"
          },
          "metadata": {}
        }
      ]
    },
    {
      "cell_type": "code",
      "source": [
        "import keras\n",
        "from keras.models import Sequential\n",
        "from keras.layers import Dense, Dropout, Activation\n",
        "from keras.layers import Input, Dense, Flatten\n",
        "from keras.optimizers import SGD\n",
        "from tensorflow.keras.layers import BatchNormalization\n",
        "\n",
        "model = Sequential()\n",
        "model.add(Dense(32,input_dim=11))\n",
        "model.add(BatchNormalization(axis = -1))\n",
        "model.add(Activation('relu'))\n",
        "model.add(Dropout(0.25))\n",
        "model.add(Dense(64))\n",
        "model.add(Activation('relu'))\n",
        "model.add(Dropout(0.25))\n",
        "model.add(Dense(32))\n",
        "model.add(Activation('softmax'))\n",
        "\n",
        "model.compile(optimizer='adam', loss = 'sparse_categorical_crossentropy', metrics=['accuracy'])\n",
        "model.fit(x_data,y, epochs=500, batch_size =32, validation_split= 0.20)"
      ],
      "metadata": {
        "colab": {
          "base_uri": "https://localhost:8080/"
        },
        "id": "vj-PbH14Nwn-",
        "outputId": "69916003-3f83-421b-ec5a-3b151573ebba"
      },
      "execution_count": 49,
      "outputs": [
        {
          "output_type": "stream",
          "name": "stdout",
          "text": [
            "Epoch 1/500\n",
            "2/2 [==============================] - 4s 493ms/step - loss: 3.6530 - accuracy: 0.0500 - val_loss: 18.7302 - val_accuracy: 0.2000\n",
            "Epoch 2/500\n",
            "2/2 [==============================] - 0s 89ms/step - loss: 3.6332 - accuracy: 0.0500 - val_loss: 13.2834 - val_accuracy: 0.2000\n",
            "Epoch 3/500\n",
            "2/2 [==============================] - 0s 89ms/step - loss: 3.4554 - accuracy: 0.0750 - val_loss: 9.9515 - val_accuracy: 0.2000\n",
            "Epoch 4/500\n",
            "2/2 [==============================] - 0s 82ms/step - loss: 3.5042 - accuracy: 0.0000e+00 - val_loss: 8.1752 - val_accuracy: 0.2000\n",
            "Epoch 5/500\n",
            "2/2 [==============================] - 0s 75ms/step - loss: 3.3494 - accuracy: 0.0750 - val_loss: 6.8426 - val_accuracy: 0.2000\n",
            "Epoch 6/500\n",
            "2/2 [==============================] - 0s 119ms/step - loss: 3.3346 - accuracy: 0.0250 - val_loss: 5.8901 - val_accuracy: 0.2000\n",
            "Epoch 7/500\n",
            "2/2 [==============================] - 0s 106ms/step - loss: 3.4012 - accuracy: 0.0250 - val_loss: 5.2734 - val_accuracy: 0.2000\n",
            "Epoch 8/500\n",
            "2/2 [==============================] - 0s 81ms/step - loss: 3.3679 - accuracy: 0.0250 - val_loss: 4.8164 - val_accuracy: 0.1000\n",
            "Epoch 9/500\n",
            "2/2 [==============================] - 0s 76ms/step - loss: 3.2163 - accuracy: 0.1000 - val_loss: 4.5385 - val_accuracy: 0.0000e+00\n",
            "Epoch 10/500\n",
            "2/2 [==============================] - 0s 131ms/step - loss: 3.0861 - accuracy: 0.1250 - val_loss: 4.3359 - val_accuracy: 0.0000e+00\n",
            "Epoch 11/500\n",
            "2/2 [==============================] - 0s 136ms/step - loss: 3.0505 - accuracy: 0.1500 - val_loss: 4.2080 - val_accuracy: 0.0000e+00\n",
            "Epoch 12/500\n",
            "2/2 [==============================] - 0s 109ms/step - loss: 3.0377 - accuracy: 0.1750 - val_loss: 4.1542 - val_accuracy: 0.0000e+00\n",
            "Epoch 13/500\n",
            "2/2 [==============================] - 0s 96ms/step - loss: 3.0292 - accuracy: 0.0500 - val_loss: 4.1060 - val_accuracy: 0.0000e+00\n",
            "Epoch 14/500\n",
            "2/2 [==============================] - 0s 82ms/step - loss: 2.9810 - accuracy: 0.1750 - val_loss: 4.1149 - val_accuracy: 0.0000e+00\n",
            "Epoch 15/500\n",
            "2/2 [==============================] - 0s 117ms/step - loss: 2.9076 - accuracy: 0.2000 - val_loss: 4.0956 - val_accuracy: 0.0000e+00\n",
            "Epoch 16/500\n",
            "2/2 [==============================] - 0s 148ms/step - loss: 2.7844 - accuracy: 0.2250 - val_loss: 4.1419 - val_accuracy: 0.0000e+00\n",
            "Epoch 17/500\n",
            "2/2 [==============================] - 0s 132ms/step - loss: 2.7987 - accuracy: 0.1500 - val_loss: 4.1693 - val_accuracy: 0.0000e+00\n",
            "Epoch 18/500\n",
            "2/2 [==============================] - 0s 141ms/step - loss: 2.8129 - accuracy: 0.2000 - val_loss: 4.2340 - val_accuracy: 0.1000\n",
            "Epoch 19/500\n",
            "2/2 [==============================] - 0s 110ms/step - loss: 2.7383 - accuracy: 0.1500 - val_loss: 4.2849 - val_accuracy: 0.1000\n",
            "Epoch 20/500\n",
            "2/2 [==============================] - 0s 104ms/step - loss: 2.7465 - accuracy: 0.1750 - val_loss: 4.3029 - val_accuracy: 0.1000\n",
            "Epoch 21/500\n",
            "2/2 [==============================] - 0s 97ms/step - loss: 2.6387 - accuracy: 0.2500 - val_loss: 4.3282 - val_accuracy: 0.1000\n",
            "Epoch 22/500\n",
            "2/2 [==============================] - 0s 98ms/step - loss: 2.6812 - accuracy: 0.1500 - val_loss: 4.3541 - val_accuracy: 0.1000\n",
            "Epoch 23/500\n",
            "2/2 [==============================] - 0s 147ms/step - loss: 2.4572 - accuracy: 0.3500 - val_loss: 4.3809 - val_accuracy: 0.1000\n",
            "Epoch 24/500\n",
            "2/2 [==============================] - 0s 56ms/step - loss: 2.5077 - accuracy: 0.2500 - val_loss: 4.4131 - val_accuracy: 0.1000\n",
            "Epoch 25/500\n",
            "2/2 [==============================] - 0s 75ms/step - loss: 2.4701 - accuracy: 0.2250 - val_loss: 4.4480 - val_accuracy: 0.1000\n",
            "Epoch 26/500\n",
            "2/2 [==============================] - 0s 70ms/step - loss: 2.4809 - accuracy: 0.2500 - val_loss: 4.4821 - val_accuracy: 0.1000\n",
            "Epoch 27/500\n",
            "2/2 [==============================] - 0s 65ms/step - loss: 2.5473 - accuracy: 0.1250 - val_loss: 4.4970 - val_accuracy: 0.0000e+00\n",
            "Epoch 28/500\n",
            "2/2 [==============================] - 0s 53ms/step - loss: 2.4744 - accuracy: 0.2250 - val_loss: 4.5098 - val_accuracy: 0.0000e+00\n",
            "Epoch 29/500\n",
            "2/2 [==============================] - 0s 74ms/step - loss: 2.4746 - accuracy: 0.2000 - val_loss: 4.5190 - val_accuracy: 0.0000e+00\n",
            "Epoch 30/500\n",
            "2/2 [==============================] - 0s 55ms/step - loss: 2.4585 - accuracy: 0.2500 - val_loss: 4.5122 - val_accuracy: 0.0000e+00\n",
            "Epoch 31/500\n",
            "2/2 [==============================] - 0s 55ms/step - loss: 2.5578 - accuracy: 0.1750 - val_loss: 4.5411 - val_accuracy: 0.0000e+00\n",
            "Epoch 32/500\n",
            "2/2 [==============================] - 0s 71ms/step - loss: 2.3469 - accuracy: 0.2500 - val_loss: 4.5537 - val_accuracy: 0.0000e+00\n",
            "Epoch 33/500\n",
            "2/2 [==============================] - 0s 62ms/step - loss: 2.2421 - accuracy: 0.2750 - val_loss: 4.5670 - val_accuracy: 0.0000e+00\n",
            "Epoch 34/500\n",
            "2/2 [==============================] - 0s 67ms/step - loss: 2.3363 - accuracy: 0.3000 - val_loss: 4.5907 - val_accuracy: 0.0000e+00\n",
            "Epoch 35/500\n",
            "2/2 [==============================] - 0s 72ms/step - loss: 2.2847 - accuracy: 0.2500 - val_loss: 4.5939 - val_accuracy: 0.0000e+00\n",
            "Epoch 36/500\n",
            "2/2 [==============================] - 0s 66ms/step - loss: 2.2279 - accuracy: 0.2750 - val_loss: 4.5963 - val_accuracy: 0.0000e+00\n",
            "Epoch 37/500\n",
            "2/2 [==============================] - 0s 72ms/step - loss: 2.1696 - accuracy: 0.3250 - val_loss: 4.5796 - val_accuracy: 0.0000e+00\n",
            "Epoch 38/500\n",
            "2/2 [==============================] - 0s 72ms/step - loss: 2.1736 - accuracy: 0.2750 - val_loss: 4.5512 - val_accuracy: 0.0000e+00\n",
            "Epoch 39/500\n",
            "2/2 [==============================] - 0s 60ms/step - loss: 2.1116 - accuracy: 0.2750 - val_loss: 4.5406 - val_accuracy: 0.0000e+00\n",
            "Epoch 40/500\n",
            "2/2 [==============================] - 0s 57ms/step - loss: 2.2471 - accuracy: 0.2750 - val_loss: 4.5112 - val_accuracy: 0.0000e+00\n",
            "Epoch 41/500\n",
            "2/2 [==============================] - 0s 35ms/step - loss: 2.2235 - accuracy: 0.1750 - val_loss: 4.5011 - val_accuracy: 0.0000e+00\n",
            "Epoch 42/500\n",
            "2/2 [==============================] - 0s 39ms/step - loss: 2.1422 - accuracy: 0.1750 - val_loss: 4.4736 - val_accuracy: 0.0000e+00\n",
            "Epoch 43/500\n",
            "2/2 [==============================] - 0s 55ms/step - loss: 2.1063 - accuracy: 0.3000 - val_loss: 4.4576 - val_accuracy: 0.0000e+00\n",
            "Epoch 44/500\n",
            "2/2 [==============================] - 0s 53ms/step - loss: 2.2510 - accuracy: 0.2500 - val_loss: 4.4588 - val_accuracy: 0.0000e+00\n",
            "Epoch 45/500\n",
            "2/2 [==============================] - 0s 59ms/step - loss: 2.1675 - accuracy: 0.3000 - val_loss: 4.4506 - val_accuracy: 0.0000e+00\n",
            "Epoch 46/500\n",
            "2/2 [==============================] - 0s 54ms/step - loss: 2.1754 - accuracy: 0.2750 - val_loss: 4.4492 - val_accuracy: 0.0000e+00\n",
            "Epoch 47/500\n",
            "2/2 [==============================] - 0s 37ms/step - loss: 2.0809 - accuracy: 0.3000 - val_loss: 4.4338 - val_accuracy: 0.0000e+00\n",
            "Epoch 48/500\n",
            "2/2 [==============================] - 0s 39ms/step - loss: 2.1319 - accuracy: 0.2250 - val_loss: 4.4147 - val_accuracy: 0.0000e+00\n",
            "Epoch 49/500\n",
            "2/2 [==============================] - 0s 39ms/step - loss: 1.9214 - accuracy: 0.4000 - val_loss: 4.3970 - val_accuracy: 0.0000e+00\n",
            "Epoch 50/500\n",
            "2/2 [==============================] - 0s 45ms/step - loss: 2.1416 - accuracy: 0.3250 - val_loss: 4.3743 - val_accuracy: 0.0000e+00\n",
            "Epoch 51/500\n",
            "2/2 [==============================] - 0s 40ms/step - loss: 1.9448 - accuracy: 0.2500 - val_loss: 4.3577 - val_accuracy: 0.0000e+00\n",
            "Epoch 52/500\n",
            "2/2 [==============================] - 0s 40ms/step - loss: 2.0756 - accuracy: 0.3750 - val_loss: 4.3373 - val_accuracy: 0.0000e+00\n",
            "Epoch 53/500\n",
            "2/2 [==============================] - 0s 58ms/step - loss: 1.8443 - accuracy: 0.4000 - val_loss: 4.3062 - val_accuracy: 0.0000e+00\n",
            "Epoch 54/500\n",
            "2/2 [==============================] - 0s 57ms/step - loss: 2.0007 - accuracy: 0.2500 - val_loss: 4.2803 - val_accuracy: 0.2000\n",
            "Epoch 55/500\n",
            "2/2 [==============================] - 0s 46ms/step - loss: 2.1373 - accuracy: 0.2500 - val_loss: 4.2451 - val_accuracy: 0.2000\n",
            "Epoch 56/500\n",
            "2/2 [==============================] - 0s 37ms/step - loss: 1.8672 - accuracy: 0.4000 - val_loss: 4.2050 - val_accuracy: 0.2000\n",
            "Epoch 57/500\n",
            "2/2 [==============================] - 0s 38ms/step - loss: 1.9674 - accuracy: 0.3750 - val_loss: 4.1665 - val_accuracy: 0.2000\n",
            "Epoch 58/500\n",
            "2/2 [==============================] - 0s 58ms/step - loss: 2.0591 - accuracy: 0.2750 - val_loss: 4.1363 - val_accuracy: 0.2000\n",
            "Epoch 59/500\n",
            "2/2 [==============================] - 0s 63ms/step - loss: 1.8530 - accuracy: 0.4250 - val_loss: 4.1110 - val_accuracy: 0.1000\n",
            "Epoch 60/500\n",
            "2/2 [==============================] - 0s 56ms/step - loss: 1.8591 - accuracy: 0.3750 - val_loss: 4.1052 - val_accuracy: 0.1000\n",
            "Epoch 61/500\n",
            "2/2 [==============================] - 0s 55ms/step - loss: 2.0240 - accuracy: 0.2250 - val_loss: 4.0841 - val_accuracy: 0.1000\n",
            "Epoch 62/500\n",
            "2/2 [==============================] - 0s 38ms/step - loss: 1.9862 - accuracy: 0.2750 - val_loss: 4.0740 - val_accuracy: 0.1000\n",
            "Epoch 63/500\n",
            "2/2 [==============================] - 0s 56ms/step - loss: 1.9448 - accuracy: 0.2750 - val_loss: 4.0577 - val_accuracy: 0.1000\n",
            "Epoch 64/500\n",
            "2/2 [==============================] - 0s 40ms/step - loss: 1.8391 - accuracy: 0.3500 - val_loss: 4.0404 - val_accuracy: 0.1000\n",
            "Epoch 65/500\n",
            "2/2 [==============================] - 0s 41ms/step - loss: 1.8635 - accuracy: 0.3500 - val_loss: 4.0290 - val_accuracy: 0.1000\n",
            "Epoch 66/500\n",
            "2/2 [==============================] - 0s 45ms/step - loss: 1.8611 - accuracy: 0.3500 - val_loss: 4.0241 - val_accuracy: 0.1000\n",
            "Epoch 67/500\n",
            "2/2 [==============================] - 0s 60ms/step - loss: 1.9672 - accuracy: 0.4000 - val_loss: 4.0196 - val_accuracy: 0.1000\n",
            "Epoch 68/500\n",
            "2/2 [==============================] - 0s 58ms/step - loss: 1.8814 - accuracy: 0.3000 - val_loss: 4.0209 - val_accuracy: 0.1000\n",
            "Epoch 69/500\n",
            "2/2 [==============================] - 0s 41ms/step - loss: 1.8989 - accuracy: 0.3500 - val_loss: 4.0272 - val_accuracy: 0.1000\n",
            "Epoch 70/500\n",
            "2/2 [==============================] - 0s 41ms/step - loss: 1.9097 - accuracy: 0.3250 - val_loss: 4.0277 - val_accuracy: 0.1000\n",
            "Epoch 71/500\n",
            "2/2 [==============================] - 0s 49ms/step - loss: 1.8966 - accuracy: 0.4000 - val_loss: 4.0292 - val_accuracy: 0.1000\n",
            "Epoch 72/500\n",
            "2/2 [==============================] - 0s 40ms/step - loss: 1.8340 - accuracy: 0.3750 - val_loss: 4.0209 - val_accuracy: 0.1000\n",
            "Epoch 73/500\n",
            "2/2 [==============================] - 0s 58ms/step - loss: 1.8212 - accuracy: 0.2500 - val_loss: 4.0274 - val_accuracy: 0.1000\n",
            "Epoch 74/500\n",
            "2/2 [==============================] - 0s 40ms/step - loss: 1.8060 - accuracy: 0.3500 - val_loss: 4.0449 - val_accuracy: 0.1000\n",
            "Epoch 75/500\n",
            "2/2 [==============================] - 0s 60ms/step - loss: 1.8654 - accuracy: 0.3000 - val_loss: 4.0655 - val_accuracy: 0.1000\n",
            "Epoch 76/500\n",
            "2/2 [==============================] - 0s 56ms/step - loss: 1.7857 - accuracy: 0.3000 - val_loss: 4.0725 - val_accuracy: 0.1000\n",
            "Epoch 77/500\n",
            "2/2 [==============================] - 0s 57ms/step - loss: 1.8058 - accuracy: 0.3000 - val_loss: 4.0722 - val_accuracy: 0.1000\n",
            "Epoch 78/500\n",
            "2/2 [==============================] - 0s 38ms/step - loss: 1.8415 - accuracy: 0.3750 - val_loss: 4.0805 - val_accuracy: 0.1000\n",
            "Epoch 79/500\n",
            "2/2 [==============================] - 0s 55ms/step - loss: 1.8656 - accuracy: 0.3750 - val_loss: 4.1021 - val_accuracy: 0.1000\n",
            "Epoch 80/500\n",
            "2/2 [==============================] - 0s 59ms/step - loss: 1.6468 - accuracy: 0.4750 - val_loss: 4.1202 - val_accuracy: 0.1000\n",
            "Epoch 81/500\n",
            "2/2 [==============================] - 0s 39ms/step - loss: 1.7170 - accuracy: 0.3750 - val_loss: 4.1370 - val_accuracy: 0.2000\n",
            "Epoch 82/500\n",
            "2/2 [==============================] - 0s 41ms/step - loss: 1.8984 - accuracy: 0.3250 - val_loss: 4.1547 - val_accuracy: 0.2000\n",
            "Epoch 83/500\n",
            "2/2 [==============================] - 0s 44ms/step - loss: 1.8151 - accuracy: 0.3000 - val_loss: 4.1628 - val_accuracy: 0.2000\n",
            "Epoch 84/500\n",
            "2/2 [==============================] - 0s 63ms/step - loss: 1.8996 - accuracy: 0.3250 - val_loss: 4.1594 - val_accuracy: 0.2000\n",
            "Epoch 85/500\n",
            "2/2 [==============================] - 0s 55ms/step - loss: 1.8491 - accuracy: 0.3750 - val_loss: 4.1652 - val_accuracy: 0.2000\n",
            "Epoch 86/500\n",
            "2/2 [==============================] - 0s 58ms/step - loss: 1.8416 - accuracy: 0.3250 - val_loss: 4.1746 - val_accuracy: 0.2000\n",
            "Epoch 87/500\n",
            "2/2 [==============================] - 0s 47ms/step - loss: 1.7908 - accuracy: 0.3250 - val_loss: 4.1791 - val_accuracy: 0.2000\n",
            "Epoch 88/500\n",
            "2/2 [==============================] - 0s 39ms/step - loss: 1.6373 - accuracy: 0.4500 - val_loss: 4.1865 - val_accuracy: 0.1000\n",
            "Epoch 89/500\n",
            "2/2 [==============================] - 0s 56ms/step - loss: 1.8372 - accuracy: 0.2500 - val_loss: 4.1927 - val_accuracy: 0.1000\n",
            "Epoch 90/500\n",
            "2/2 [==============================] - 0s 39ms/step - loss: 1.7083 - accuracy: 0.3750 - val_loss: 4.1815 - val_accuracy: 0.1000\n",
            "Epoch 91/500\n",
            "2/2 [==============================] - 0s 54ms/step - loss: 1.6652 - accuracy: 0.4750 - val_loss: 4.1635 - val_accuracy: 0.1000\n",
            "Epoch 92/500\n",
            "2/2 [==============================] - 0s 101ms/step - loss: 1.7419 - accuracy: 0.3750 - val_loss: 4.1446 - val_accuracy: 0.1000\n",
            "Epoch 93/500\n",
            "2/2 [==============================] - 0s 75ms/step - loss: 1.6918 - accuracy: 0.4000 - val_loss: 4.1286 - val_accuracy: 0.2000\n",
            "Epoch 94/500\n",
            "2/2 [==============================] - 0s 72ms/step - loss: 1.6526 - accuracy: 0.3750 - val_loss: 4.1024 - val_accuracy: 0.2000\n",
            "Epoch 95/500\n",
            "2/2 [==============================] - 0s 69ms/step - loss: 1.7345 - accuracy: 0.4000 - val_loss: 4.0794 - val_accuracy: 0.2000\n",
            "Epoch 96/500\n",
            "2/2 [==============================] - 0s 75ms/step - loss: 1.7041 - accuracy: 0.3750 - val_loss: 4.0526 - val_accuracy: 0.3000\n",
            "Epoch 97/500\n",
            "2/2 [==============================] - 0s 67ms/step - loss: 1.7205 - accuracy: 0.3250 - val_loss: 4.0182 - val_accuracy: 0.3000\n",
            "Epoch 98/500\n",
            "2/2 [==============================] - 0s 71ms/step - loss: 1.7888 - accuracy: 0.3500 - val_loss: 3.9875 - val_accuracy: 0.3000\n",
            "Epoch 99/500\n",
            "2/2 [==============================] - 0s 85ms/step - loss: 1.6766 - accuracy: 0.4000 - val_loss: 3.9609 - val_accuracy: 0.2000\n",
            "Epoch 100/500\n",
            "2/2 [==============================] - 0s 88ms/step - loss: 1.7614 - accuracy: 0.4500 - val_loss: 3.9384 - val_accuracy: 0.2000\n",
            "Epoch 101/500\n",
            "2/2 [==============================] - 0s 157ms/step - loss: 1.7912 - accuracy: 0.3250 - val_loss: 3.9218 - val_accuracy: 0.2000\n",
            "Epoch 102/500\n",
            "2/2 [==============================] - 0s 88ms/step - loss: 1.9191 - accuracy: 0.2250 - val_loss: 3.9048 - val_accuracy: 0.2000\n",
            "Epoch 103/500\n",
            "2/2 [==============================] - 0s 56ms/step - loss: 1.5527 - accuracy: 0.4000 - val_loss: 3.8993 - val_accuracy: 0.2000\n",
            "Epoch 104/500\n",
            "2/2 [==============================] - 0s 71ms/step - loss: 1.7430 - accuracy: 0.3000 - val_loss: 3.8948 - val_accuracy: 0.2000\n",
            "Epoch 105/500\n",
            "2/2 [==============================] - 0s 79ms/step - loss: 1.6837 - accuracy: 0.4500 - val_loss: 3.8787 - val_accuracy: 0.2000\n",
            "Epoch 106/500\n",
            "2/2 [==============================] - 0s 100ms/step - loss: 1.5304 - accuracy: 0.4000 - val_loss: 3.8605 - val_accuracy: 0.2000\n",
            "Epoch 107/500\n",
            "2/2 [==============================] - 0s 66ms/step - loss: 1.7821 - accuracy: 0.3000 - val_loss: 3.8500 - val_accuracy: 0.2000\n",
            "Epoch 108/500\n",
            "2/2 [==============================] - 0s 100ms/step - loss: 1.5130 - accuracy: 0.3750 - val_loss: 3.8427 - val_accuracy: 0.2000\n",
            "Epoch 109/500\n",
            "2/2 [==============================] - 0s 63ms/step - loss: 1.6306 - accuracy: 0.4250 - val_loss: 3.8391 - val_accuracy: 0.2000\n",
            "Epoch 110/500\n",
            "2/2 [==============================] - 0s 80ms/step - loss: 1.5874 - accuracy: 0.4750 - val_loss: 3.8380 - val_accuracy: 0.2000\n",
            "Epoch 111/500\n",
            "2/2 [==============================] - 0s 73ms/step - loss: 1.8096 - accuracy: 0.2250 - val_loss: 3.8456 - val_accuracy: 0.2000\n",
            "Epoch 112/500\n",
            "2/2 [==============================] - 0s 77ms/step - loss: 1.4565 - accuracy: 0.4250 - val_loss: 3.8534 - val_accuracy: 0.2000\n",
            "Epoch 113/500\n",
            "2/2 [==============================] - 0s 62ms/step - loss: 1.5906 - accuracy: 0.4500 - val_loss: 3.8673 - val_accuracy: 0.2000\n",
            "Epoch 114/500\n",
            "2/2 [==============================] - 0s 63ms/step - loss: 1.7202 - accuracy: 0.3750 - val_loss: 3.8768 - val_accuracy: 0.2000\n",
            "Epoch 115/500\n",
            "2/2 [==============================] - 0s 46ms/step - loss: 1.7767 - accuracy: 0.3000 - val_loss: 3.8857 - val_accuracy: 0.2000\n",
            "Epoch 116/500\n",
            "2/2 [==============================] - 0s 58ms/step - loss: 1.7130 - accuracy: 0.3250 - val_loss: 3.8876 - val_accuracy: 0.2000\n",
            "Epoch 117/500\n",
            "2/2 [==============================] - 0s 39ms/step - loss: 1.5974 - accuracy: 0.4250 - val_loss: 3.8981 - val_accuracy: 0.2000\n",
            "Epoch 118/500\n",
            "2/2 [==============================] - 0s 40ms/step - loss: 1.6692 - accuracy: 0.3250 - val_loss: 3.9039 - val_accuracy: 0.2000\n",
            "Epoch 119/500\n",
            "2/2 [==============================] - 0s 58ms/step - loss: 1.8346 - accuracy: 0.2750 - val_loss: 3.9145 - val_accuracy: 0.2000\n",
            "Epoch 120/500\n",
            "2/2 [==============================] - 0s 38ms/step - loss: 1.6203 - accuracy: 0.3500 - val_loss: 3.9083 - val_accuracy: 0.2000\n",
            "Epoch 121/500\n",
            "2/2 [==============================] - 0s 43ms/step - loss: 1.5418 - accuracy: 0.4000 - val_loss: 3.9118 - val_accuracy: 0.2000\n",
            "Epoch 122/500\n",
            "2/2 [==============================] - 0s 47ms/step - loss: 1.6061 - accuracy: 0.5750 - val_loss: 3.9198 - val_accuracy: 0.2000\n",
            "Epoch 123/500\n",
            "2/2 [==============================] - 0s 39ms/step - loss: 1.5551 - accuracy: 0.5000 - val_loss: 3.9399 - val_accuracy: 0.1000\n",
            "Epoch 124/500\n",
            "2/2 [==============================] - 0s 39ms/step - loss: 1.6825 - accuracy: 0.3750 - val_loss: 3.9651 - val_accuracy: 0.1000\n",
            "Epoch 125/500\n",
            "2/2 [==============================] - 0s 56ms/step - loss: 1.5871 - accuracy: 0.3500 - val_loss: 4.0006 - val_accuracy: 0.1000\n",
            "Epoch 126/500\n",
            "2/2 [==============================] - 0s 36ms/step - loss: 1.6620 - accuracy: 0.5500 - val_loss: 4.0387 - val_accuracy: 0.0000e+00\n",
            "Epoch 127/500\n",
            "2/2 [==============================] - 0s 55ms/step - loss: 1.6062 - accuracy: 0.4250 - val_loss: 4.0919 - val_accuracy: 0.0000e+00\n",
            "Epoch 128/500\n",
            "2/2 [==============================] - 0s 56ms/step - loss: 1.5027 - accuracy: 0.5000 - val_loss: 4.1375 - val_accuracy: 0.1000\n",
            "Epoch 129/500\n",
            "2/2 [==============================] - 0s 38ms/step - loss: 1.5883 - accuracy: 0.4000 - val_loss: 4.1739 - val_accuracy: 0.1000\n",
            "Epoch 130/500\n",
            "2/2 [==============================] - 0s 43ms/step - loss: 1.5224 - accuracy: 0.4500 - val_loss: 4.1970 - val_accuracy: 0.1000\n",
            "Epoch 131/500\n",
            "2/2 [==============================] - 0s 43ms/step - loss: 1.5216 - accuracy: 0.4000 - val_loss: 4.2159 - val_accuracy: 0.1000\n",
            "Epoch 132/500\n",
            "2/2 [==============================] - 0s 60ms/step - loss: 1.6024 - accuracy: 0.4000 - val_loss: 4.2329 - val_accuracy: 0.1000\n",
            "Epoch 133/500\n",
            "2/2 [==============================] - 0s 60ms/step - loss: 1.6513 - accuracy: 0.3250 - val_loss: 4.2378 - val_accuracy: 0.1000\n",
            "Epoch 134/500\n",
            "2/2 [==============================] - 0s 46ms/step - loss: 1.6185 - accuracy: 0.4250 - val_loss: 4.2458 - val_accuracy: 0.1000\n",
            "Epoch 135/500\n",
            "2/2 [==============================] - 0s 41ms/step - loss: 1.5011 - accuracy: 0.4500 - val_loss: 4.2465 - val_accuracy: 0.1000\n",
            "Epoch 136/500\n",
            "2/2 [==============================] - 0s 38ms/step - loss: 1.5418 - accuracy: 0.4750 - val_loss: 4.2415 - val_accuracy: 0.1000\n",
            "Epoch 137/500\n",
            "2/2 [==============================] - 0s 37ms/step - loss: 1.5560 - accuracy: 0.3750 - val_loss: 4.2322 - val_accuracy: 0.1000\n",
            "Epoch 138/500\n",
            "2/2 [==============================] - 0s 68ms/step - loss: 1.4935 - accuracy: 0.5000 - val_loss: 4.2334 - val_accuracy: 0.1000\n",
            "Epoch 139/500\n",
            "2/2 [==============================] - 0s 69ms/step - loss: 1.6636 - accuracy: 0.4250 - val_loss: 4.2332 - val_accuracy: 0.1000\n",
            "Epoch 140/500\n",
            "2/2 [==============================] - 0s 213ms/step - loss: 1.4125 - accuracy: 0.4500 - val_loss: 4.2506 - val_accuracy: 0.1000\n",
            "Epoch 141/500\n",
            "2/2 [==============================] - 0s 119ms/step - loss: 1.6367 - accuracy: 0.3750 - val_loss: 4.2685 - val_accuracy: 0.1000\n",
            "Epoch 142/500\n",
            "2/2 [==============================] - 0s 95ms/step - loss: 1.5521 - accuracy: 0.4000 - val_loss: 4.2573 - val_accuracy: 0.1000\n",
            "Epoch 143/500\n",
            "2/2 [==============================] - 0s 61ms/step - loss: 1.5601 - accuracy: 0.4000 - val_loss: 4.2409 - val_accuracy: 0.1000\n",
            "Epoch 144/500\n",
            "2/2 [==============================] - 0s 56ms/step - loss: 1.5041 - accuracy: 0.5000 - val_loss: 4.2207 - val_accuracy: 0.1000\n",
            "Epoch 145/500\n",
            "2/2 [==============================] - 0s 61ms/step - loss: 1.7914 - accuracy: 0.2250 - val_loss: 4.2064 - val_accuracy: 0.1000\n",
            "Epoch 146/500\n",
            "2/2 [==============================] - 0s 81ms/step - loss: 1.5057 - accuracy: 0.5000 - val_loss: 4.1876 - val_accuracy: 0.1000\n",
            "Epoch 147/500\n",
            "2/2 [==============================] - 0s 109ms/step - loss: 1.4469 - accuracy: 0.3500 - val_loss: 4.1611 - val_accuracy: 0.0000e+00\n",
            "Epoch 148/500\n",
            "2/2 [==============================] - 0s 125ms/step - loss: 1.6946 - accuracy: 0.3000 - val_loss: 4.1399 - val_accuracy: 0.0000e+00\n",
            "Epoch 149/500\n",
            "2/2 [==============================] - 0s 111ms/step - loss: 1.4529 - accuracy: 0.4000 - val_loss: 4.1282 - val_accuracy: 0.0000e+00\n",
            "Epoch 150/500\n",
            "2/2 [==============================] - 0s 95ms/step - loss: 1.4881 - accuracy: 0.4000 - val_loss: 4.1111 - val_accuracy: 0.0000e+00\n",
            "Epoch 151/500\n",
            "2/2 [==============================] - 0s 86ms/step - loss: 1.3986 - accuracy: 0.5250 - val_loss: 4.0970 - val_accuracy: 0.0000e+00\n",
            "Epoch 152/500\n",
            "2/2 [==============================] - 0s 91ms/step - loss: 1.6042 - accuracy: 0.4250 - val_loss: 4.0784 - val_accuracy: 0.0000e+00\n",
            "Epoch 153/500\n",
            "2/2 [==============================] - 0s 73ms/step - loss: 1.5811 - accuracy: 0.4000 - val_loss: 4.0573 - val_accuracy: 0.0000e+00\n",
            "Epoch 154/500\n",
            "2/2 [==============================] - 0s 129ms/step - loss: 1.4670 - accuracy: 0.4500 - val_loss: 4.0420 - val_accuracy: 0.0000e+00\n",
            "Epoch 155/500\n",
            "2/2 [==============================] - 0s 130ms/step - loss: 1.4713 - accuracy: 0.5250 - val_loss: 4.0348 - val_accuracy: 0.1000\n",
            "Epoch 156/500\n",
            "2/2 [==============================] - 0s 199ms/step - loss: 1.4882 - accuracy: 0.4250 - val_loss: 4.0248 - val_accuracy: 0.1000\n",
            "Epoch 157/500\n",
            "2/2 [==============================] - 0s 99ms/step - loss: 1.4698 - accuracy: 0.5000 - val_loss: 4.0216 - val_accuracy: 0.1000\n",
            "Epoch 158/500\n",
            "2/2 [==============================] - 0s 83ms/step - loss: 1.5053 - accuracy: 0.4750 - val_loss: 4.0165 - val_accuracy: 0.1000\n",
            "Epoch 159/500\n",
            "2/2 [==============================] - 0s 85ms/step - loss: 1.4349 - accuracy: 0.3250 - val_loss: 4.0147 - val_accuracy: 0.1000\n",
            "Epoch 160/500\n",
            "2/2 [==============================] - 0s 84ms/step - loss: 1.4094 - accuracy: 0.5250 - val_loss: 4.0263 - val_accuracy: 0.1000\n",
            "Epoch 161/500\n",
            "2/2 [==============================] - 0s 87ms/step - loss: 1.5729 - accuracy: 0.4250 - val_loss: 4.0400 - val_accuracy: 0.0000e+00\n",
            "Epoch 162/500\n",
            "2/2 [==============================] - 0s 75ms/step - loss: 1.4796 - accuracy: 0.4000 - val_loss: 4.0508 - val_accuracy: 0.0000e+00\n",
            "Epoch 163/500\n",
            "2/2 [==============================] - 0s 104ms/step - loss: 1.4957 - accuracy: 0.4000 - val_loss: 4.0579 - val_accuracy: 0.0000e+00\n",
            "Epoch 164/500\n",
            "2/2 [==============================] - 0s 103ms/step - loss: 1.4665 - accuracy: 0.5000 - val_loss: 4.0666 - val_accuracy: 0.0000e+00\n",
            "Epoch 165/500\n",
            "2/2 [==============================] - 0s 123ms/step - loss: 1.3706 - accuracy: 0.4500 - val_loss: 4.0794 - val_accuracy: 0.0000e+00\n",
            "Epoch 166/500\n",
            "2/2 [==============================] - 0s 92ms/step - loss: 1.5177 - accuracy: 0.4000 - val_loss: 4.0984 - val_accuracy: 0.0000e+00\n",
            "Epoch 167/500\n",
            "2/2 [==============================] - 0s 148ms/step - loss: 1.4722 - accuracy: 0.4250 - val_loss: 4.1206 - val_accuracy: 0.0000e+00\n",
            "Epoch 168/500\n",
            "2/2 [==============================] - 0s 85ms/step - loss: 1.5067 - accuracy: 0.4750 - val_loss: 4.1430 - val_accuracy: 0.0000e+00\n",
            "Epoch 169/500\n",
            "2/2 [==============================] - 0s 131ms/step - loss: 1.3386 - accuracy: 0.5250 - val_loss: 4.1549 - val_accuracy: 0.0000e+00\n",
            "Epoch 170/500\n",
            "2/2 [==============================] - 0s 140ms/step - loss: 1.2180 - accuracy: 0.5000 - val_loss: 4.1723 - val_accuracy: 0.0000e+00\n",
            "Epoch 171/500\n",
            "2/2 [==============================] - 0s 127ms/step - loss: 1.4449 - accuracy: 0.3750 - val_loss: 4.1979 - val_accuracy: 0.0000e+00\n",
            "Epoch 172/500\n",
            "2/2 [==============================] - 0s 133ms/step - loss: 1.5289 - accuracy: 0.4000 - val_loss: 4.2142 - val_accuracy: 0.0000e+00\n",
            "Epoch 173/500\n",
            "2/2 [==============================] - 0s 113ms/step - loss: 1.4687 - accuracy: 0.4250 - val_loss: 4.2191 - val_accuracy: 0.0000e+00\n",
            "Epoch 174/500\n",
            "2/2 [==============================] - 0s 117ms/step - loss: 1.2961 - accuracy: 0.4750 - val_loss: 4.2325 - val_accuracy: 0.0000e+00\n",
            "Epoch 175/500\n",
            "2/2 [==============================] - 0s 124ms/step - loss: 1.3238 - accuracy: 0.4750 - val_loss: 4.2622 - val_accuracy: 0.0000e+00\n",
            "Epoch 176/500\n",
            "2/2 [==============================] - 0s 100ms/step - loss: 1.5582 - accuracy: 0.3750 - val_loss: 4.2939 - val_accuracy: 0.1000\n",
            "Epoch 177/500\n",
            "2/2 [==============================] - 0s 108ms/step - loss: 1.4987 - accuracy: 0.4250 - val_loss: 4.3097 - val_accuracy: 0.1000\n",
            "Epoch 178/500\n",
            "2/2 [==============================] - 0s 127ms/step - loss: 1.5078 - accuracy: 0.4750 - val_loss: 4.3359 - val_accuracy: 0.1000\n",
            "Epoch 179/500\n",
            "2/2 [==============================] - 0s 154ms/step - loss: 1.3166 - accuracy: 0.5500 - val_loss: 4.3566 - val_accuracy: 0.1000\n",
            "Epoch 180/500\n",
            "2/2 [==============================] - 0s 115ms/step - loss: 1.4347 - accuracy: 0.4250 - val_loss: 4.3694 - val_accuracy: 0.1000\n",
            "Epoch 181/500\n",
            "2/2 [==============================] - 0s 110ms/step - loss: 1.3911 - accuracy: 0.5000 - val_loss: 4.3760 - val_accuracy: 0.1000\n",
            "Epoch 182/500\n",
            "2/2 [==============================] - 0s 112ms/step - loss: 1.4702 - accuracy: 0.4250 - val_loss: 4.3786 - val_accuracy: 0.1000\n",
            "Epoch 183/500\n",
            "2/2 [==============================] - 0s 119ms/step - loss: 1.2739 - accuracy: 0.4750 - val_loss: 4.3820 - val_accuracy: 0.1000\n",
            "Epoch 184/500\n",
            "2/2 [==============================] - 0s 132ms/step - loss: 1.3319 - accuracy: 0.5750 - val_loss: 4.3852 - val_accuracy: 0.1000\n",
            "Epoch 185/500\n",
            "2/2 [==============================] - 0s 109ms/step - loss: 1.5129 - accuracy: 0.4250 - val_loss: 4.3974 - val_accuracy: 0.1000\n",
            "Epoch 186/500\n",
            "2/2 [==============================] - 0s 127ms/step - loss: 1.4229 - accuracy: 0.4250 - val_loss: 4.4178 - val_accuracy: 0.1000\n",
            "Epoch 187/500\n",
            "2/2 [==============================] - 0s 196ms/step - loss: 1.3147 - accuracy: 0.4500 - val_loss: 4.4482 - val_accuracy: 0.1000\n",
            "Epoch 188/500\n",
            "2/2 [==============================] - 0s 128ms/step - loss: 1.4762 - accuracy: 0.4000 - val_loss: 4.4789 - val_accuracy: 0.1000\n",
            "Epoch 189/500\n",
            "2/2 [==============================] - 0s 56ms/step - loss: 1.2407 - accuracy: 0.5750 - val_loss: 4.5189 - val_accuracy: 0.1000\n",
            "Epoch 190/500\n",
            "2/2 [==============================] - 0s 77ms/step - loss: 1.3809 - accuracy: 0.5250 - val_loss: 4.5695 - val_accuracy: 0.1000\n",
            "Epoch 191/500\n",
            "2/2 [==============================] - 0s 115ms/step - loss: 1.4456 - accuracy: 0.3750 - val_loss: 4.6075 - val_accuracy: 0.1000\n",
            "Epoch 192/500\n",
            "2/2 [==============================] - 0s 73ms/step - loss: 1.3917 - accuracy: 0.5000 - val_loss: 4.6395 - val_accuracy: 0.1000\n",
            "Epoch 193/500\n",
            "2/2 [==============================] - 0s 71ms/step - loss: 1.6366 - accuracy: 0.3750 - val_loss: 4.6634 - val_accuracy: 0.1000\n",
            "Epoch 194/500\n",
            "2/2 [==============================] - 0s 78ms/step - loss: 1.4502 - accuracy: 0.4250 - val_loss: 4.6867 - val_accuracy: 0.1000\n",
            "Epoch 195/500\n",
            "2/2 [==============================] - 0s 89ms/step - loss: 1.4299 - accuracy: 0.4750 - val_loss: 4.7118 - val_accuracy: 0.1000\n",
            "Epoch 196/500\n",
            "2/2 [==============================] - 0s 86ms/step - loss: 1.4084 - accuracy: 0.4750 - val_loss: 4.7299 - val_accuracy: 0.1000\n",
            "Epoch 197/500\n",
            "2/2 [==============================] - 0s 58ms/step - loss: 1.4764 - accuracy: 0.4500 - val_loss: 4.7351 - val_accuracy: 0.1000\n",
            "Epoch 198/500\n",
            "2/2 [==============================] - 0s 91ms/step - loss: 1.3355 - accuracy: 0.5500 - val_loss: 4.7147 - val_accuracy: 0.1000\n",
            "Epoch 199/500\n",
            "2/2 [==============================] - 0s 72ms/step - loss: 1.3859 - accuracy: 0.4750 - val_loss: 4.6973 - val_accuracy: 0.1000\n",
            "Epoch 200/500\n",
            "2/2 [==============================] - 0s 101ms/step - loss: 1.3893 - accuracy: 0.4500 - val_loss: 4.6739 - val_accuracy: 0.1000\n",
            "Epoch 201/500\n",
            "2/2 [==============================] - 0s 83ms/step - loss: 1.4055 - accuracy: 0.5000 - val_loss: 4.6684 - val_accuracy: 0.0000e+00\n",
            "Epoch 202/500\n",
            "2/2 [==============================] - 0s 70ms/step - loss: 1.2769 - accuracy: 0.5250 - val_loss: 4.6697 - val_accuracy: 0.0000e+00\n",
            "Epoch 203/500\n",
            "2/2 [==============================] - 0s 76ms/step - loss: 1.3107 - accuracy: 0.5250 - val_loss: 4.6618 - val_accuracy: 0.0000e+00\n",
            "Epoch 204/500\n",
            "2/2 [==============================] - 0s 58ms/step - loss: 1.3292 - accuracy: 0.5250 - val_loss: 4.6535 - val_accuracy: 0.0000e+00\n",
            "Epoch 205/500\n",
            "2/2 [==============================] - 0s 37ms/step - loss: 1.1599 - accuracy: 0.5500 - val_loss: 4.6484 - val_accuracy: 0.0000e+00\n",
            "Epoch 206/500\n",
            "2/2 [==============================] - 0s 61ms/step - loss: 1.4197 - accuracy: 0.3750 - val_loss: 4.6373 - val_accuracy: 0.0000e+00\n",
            "Epoch 207/500\n",
            "2/2 [==============================] - 0s 52ms/step - loss: 1.2224 - accuracy: 0.5750 - val_loss: 4.6315 - val_accuracy: 0.0000e+00\n",
            "Epoch 208/500\n",
            "2/2 [==============================] - 0s 38ms/step - loss: 1.2602 - accuracy: 0.5500 - val_loss: 4.6276 - val_accuracy: 0.0000e+00\n",
            "Epoch 209/500\n",
            "2/2 [==============================] - 0s 55ms/step - loss: 1.3491 - accuracy: 0.4000 - val_loss: 4.6322 - val_accuracy: 0.0000e+00\n",
            "Epoch 210/500\n",
            "2/2 [==============================] - 0s 58ms/step - loss: 1.5011 - accuracy: 0.4000 - val_loss: 4.6457 - val_accuracy: 0.0000e+00\n",
            "Epoch 211/500\n",
            "2/2 [==============================] - 0s 41ms/step - loss: 1.3250 - accuracy: 0.4250 - val_loss: 4.6485 - val_accuracy: 0.0000e+00\n",
            "Epoch 212/500\n",
            "2/2 [==============================] - 0s 40ms/step - loss: 1.2831 - accuracy: 0.5000 - val_loss: 4.6353 - val_accuracy: 0.0000e+00\n",
            "Epoch 213/500\n",
            "2/2 [==============================] - 0s 59ms/step - loss: 1.4658 - accuracy: 0.4500 - val_loss: 4.6225 - val_accuracy: 0.0000e+00\n",
            "Epoch 214/500\n",
            "2/2 [==============================] - 0s 57ms/step - loss: 1.2722 - accuracy: 0.5500 - val_loss: 4.6219 - val_accuracy: 0.0000e+00\n",
            "Epoch 215/500\n",
            "2/2 [==============================] - 0s 42ms/step - loss: 1.3794 - accuracy: 0.4000 - val_loss: 4.6116 - val_accuracy: 0.0000e+00\n",
            "Epoch 216/500\n",
            "2/2 [==============================] - 0s 58ms/step - loss: 1.4896 - accuracy: 0.3750 - val_loss: 4.6124 - val_accuracy: 0.0000e+00\n",
            "Epoch 217/500\n",
            "2/2 [==============================] - 0s 35ms/step - loss: 1.3065 - accuracy: 0.5250 - val_loss: 4.6220 - val_accuracy: 0.0000e+00\n",
            "Epoch 218/500\n",
            "2/2 [==============================] - 0s 40ms/step - loss: 1.3514 - accuracy: 0.4250 - val_loss: 4.6162 - val_accuracy: 0.0000e+00\n",
            "Epoch 219/500\n",
            "2/2 [==============================] - 0s 50ms/step - loss: 1.2939 - accuracy: 0.5750 - val_loss: 4.6016 - val_accuracy: 0.0000e+00\n",
            "Epoch 220/500\n",
            "2/2 [==============================] - 0s 38ms/step - loss: 1.3816 - accuracy: 0.4750 - val_loss: 4.5649 - val_accuracy: 0.0000e+00\n",
            "Epoch 221/500\n",
            "2/2 [==============================] - 0s 39ms/step - loss: 1.2313 - accuracy: 0.5250 - val_loss: 4.5583 - val_accuracy: 0.0000e+00\n",
            "Epoch 222/500\n",
            "2/2 [==============================] - 0s 64ms/step - loss: 1.2701 - accuracy: 0.4750 - val_loss: 4.5599 - val_accuracy: 0.0000e+00\n",
            "Epoch 223/500\n",
            "2/2 [==============================] - 0s 50ms/step - loss: 1.2977 - accuracy: 0.4500 - val_loss: 4.5365 - val_accuracy: 0.0000e+00\n",
            "Epoch 224/500\n",
            "2/2 [==============================] - 0s 38ms/step - loss: 1.4048 - accuracy: 0.4500 - val_loss: 4.5101 - val_accuracy: 0.0000e+00\n",
            "Epoch 225/500\n",
            "2/2 [==============================] - 0s 42ms/step - loss: 1.4042 - accuracy: 0.4250 - val_loss: 4.4846 - val_accuracy: 0.0000e+00\n",
            "Epoch 226/500\n",
            "2/2 [==============================] - 0s 54ms/step - loss: 1.4290 - accuracy: 0.3750 - val_loss: 4.4834 - val_accuracy: 0.0000e+00\n",
            "Epoch 227/500\n",
            "2/2 [==============================] - 0s 58ms/step - loss: 1.2167 - accuracy: 0.5750 - val_loss: 4.5042 - val_accuracy: 0.0000e+00\n",
            "Epoch 228/500\n",
            "2/2 [==============================] - 0s 40ms/step - loss: 1.1923 - accuracy: 0.4500 - val_loss: 4.5304 - val_accuracy: 0.0000e+00\n",
            "Epoch 229/500\n",
            "2/2 [==============================] - 0s 57ms/step - loss: 1.3426 - accuracy: 0.5000 - val_loss: 4.5491 - val_accuracy: 0.0000e+00\n",
            "Epoch 230/500\n",
            "2/2 [==============================] - 0s 57ms/step - loss: 1.2392 - accuracy: 0.5750 - val_loss: 4.5764 - val_accuracy: 0.0000e+00\n",
            "Epoch 231/500\n",
            "2/2 [==============================] - 0s 56ms/step - loss: 1.2976 - accuracy: 0.4750 - val_loss: 4.6131 - val_accuracy: 0.0000e+00\n",
            "Epoch 232/500\n",
            "2/2 [==============================] - 0s 44ms/step - loss: 1.3628 - accuracy: 0.5250 - val_loss: 4.6434 - val_accuracy: 0.0000e+00\n",
            "Epoch 233/500\n",
            "2/2 [==============================] - 0s 42ms/step - loss: 1.2427 - accuracy: 0.5000 - val_loss: 4.6614 - val_accuracy: 0.0000e+00\n",
            "Epoch 234/500\n",
            "2/2 [==============================] - 0s 57ms/step - loss: 1.1017 - accuracy: 0.5250 - val_loss: 4.6665 - val_accuracy: 0.0000e+00\n",
            "Epoch 235/500\n",
            "2/2 [==============================] - 0s 59ms/step - loss: 1.3660 - accuracy: 0.6000 - val_loss: 4.6612 - val_accuracy: 0.0000e+00\n",
            "Epoch 236/500\n",
            "2/2 [==============================] - 0s 44ms/step - loss: 1.3030 - accuracy: 0.4500 - val_loss: 4.6459 - val_accuracy: 0.0000e+00\n",
            "Epoch 237/500\n",
            "2/2 [==============================] - 0s 45ms/step - loss: 1.2369 - accuracy: 0.5000 - val_loss: 4.6372 - val_accuracy: 0.0000e+00\n",
            "Epoch 238/500\n",
            "2/2 [==============================] - 0s 39ms/step - loss: 1.1268 - accuracy: 0.5750 - val_loss: 4.6218 - val_accuracy: 0.0000e+00\n",
            "Epoch 239/500\n",
            "2/2 [==============================] - 0s 58ms/step - loss: 1.2525 - accuracy: 0.5500 - val_loss: 4.6127 - val_accuracy: 0.0000e+00\n",
            "Epoch 240/500\n",
            "2/2 [==============================] - 0s 59ms/step - loss: 1.2787 - accuracy: 0.5000 - val_loss: 4.6181 - val_accuracy: 0.0000e+00\n",
            "Epoch 241/500\n",
            "2/2 [==============================] - 0s 58ms/step - loss: 1.2823 - accuracy: 0.4750 - val_loss: 4.6141 - val_accuracy: 0.0000e+00\n",
            "Epoch 242/500\n",
            "2/2 [==============================] - 0s 42ms/step - loss: 1.1699 - accuracy: 0.5500 - val_loss: 4.5950 - val_accuracy: 0.0000e+00\n",
            "Epoch 243/500\n",
            "2/2 [==============================] - 0s 57ms/step - loss: 1.0779 - accuracy: 0.6250 - val_loss: 4.5788 - val_accuracy: 0.0000e+00\n",
            "Epoch 244/500\n",
            "2/2 [==============================] - 0s 63ms/step - loss: 1.2222 - accuracy: 0.4750 - val_loss: 4.5578 - val_accuracy: 0.0000e+00\n",
            "Epoch 245/500\n",
            "2/2 [==============================] - 0s 49ms/step - loss: 1.0738 - accuracy: 0.6750 - val_loss: 4.5649 - val_accuracy: 0.0000e+00\n",
            "Epoch 246/500\n",
            "2/2 [==============================] - 0s 59ms/step - loss: 1.2920 - accuracy: 0.5250 - val_loss: 4.5896 - val_accuracy: 0.0000e+00\n",
            "Epoch 247/500\n",
            "2/2 [==============================] - 0s 56ms/step - loss: 1.3517 - accuracy: 0.5000 - val_loss: 4.6072 - val_accuracy: 0.0000e+00\n",
            "Epoch 248/500\n",
            "2/2 [==============================] - 0s 57ms/step - loss: 1.3514 - accuracy: 0.5000 - val_loss: 4.6129 - val_accuracy: 0.0000e+00\n",
            "Epoch 249/500\n",
            "2/2 [==============================] - 0s 42ms/step - loss: 1.3375 - accuracy: 0.5750 - val_loss: 4.6307 - val_accuracy: 0.0000e+00\n",
            "Epoch 250/500\n",
            "2/2 [==============================] - 0s 39ms/step - loss: 1.1802 - accuracy: 0.4750 - val_loss: 4.6443 - val_accuracy: 0.0000e+00\n",
            "Epoch 251/500\n",
            "2/2 [==============================] - 0s 60ms/step - loss: 1.2412 - accuracy: 0.5500 - val_loss: 4.6414 - val_accuracy: 0.0000e+00\n",
            "Epoch 252/500\n",
            "2/2 [==============================] - 0s 58ms/step - loss: 1.3408 - accuracy: 0.4500 - val_loss: 4.6527 - val_accuracy: 0.0000e+00\n",
            "Epoch 253/500\n",
            "2/2 [==============================] - 0s 46ms/step - loss: 1.2402 - accuracy: 0.5250 - val_loss: 4.6371 - val_accuracy: 0.0000e+00\n",
            "Epoch 254/500\n",
            "2/2 [==============================] - 0s 66ms/step - loss: 1.1876 - accuracy: 0.5750 - val_loss: 4.5854 - val_accuracy: 0.0000e+00\n",
            "Epoch 255/500\n",
            "2/2 [==============================] - 0s 40ms/step - loss: 1.1677 - accuracy: 0.5750 - val_loss: 4.5222 - val_accuracy: 0.0000e+00\n",
            "Epoch 256/500\n",
            "2/2 [==============================] - 0s 59ms/step - loss: 1.0455 - accuracy: 0.6500 - val_loss: 4.4804 - val_accuracy: 0.0000e+00\n",
            "Epoch 257/500\n",
            "2/2 [==============================] - 0s 42ms/step - loss: 1.2211 - accuracy: 0.6000 - val_loss: 4.4639 - val_accuracy: 0.0000e+00\n",
            "Epoch 258/500\n",
            "2/2 [==============================] - 0s 42ms/step - loss: 1.2551 - accuracy: 0.4500 - val_loss: 4.4534 - val_accuracy: 0.0000e+00\n",
            "Epoch 259/500\n",
            "2/2 [==============================] - 0s 62ms/step - loss: 1.3905 - accuracy: 0.5000 - val_loss: 4.4451 - val_accuracy: 0.0000e+00\n",
            "Epoch 260/500\n",
            "2/2 [==============================] - 0s 57ms/step - loss: 1.2019 - accuracy: 0.6000 - val_loss: 4.4575 - val_accuracy: 0.0000e+00\n",
            "Epoch 261/500\n",
            "2/2 [==============================] - 0s 41ms/step - loss: 1.2208 - accuracy: 0.5500 - val_loss: 4.4806 - val_accuracy: 0.0000e+00\n",
            "Epoch 262/500\n",
            "2/2 [==============================] - 0s 44ms/step - loss: 1.2446 - accuracy: 0.5500 - val_loss: 4.4967 - val_accuracy: 0.0000e+00\n",
            "Epoch 263/500\n",
            "2/2 [==============================] - 0s 60ms/step - loss: 1.1228 - accuracy: 0.5500 - val_loss: 4.4967 - val_accuracy: 0.0000e+00\n",
            "Epoch 264/500\n",
            "2/2 [==============================] - 0s 38ms/step - loss: 1.0997 - accuracy: 0.6750 - val_loss: 4.4615 - val_accuracy: 0.0000e+00\n",
            "Epoch 265/500\n",
            "2/2 [==============================] - 0s 48ms/step - loss: 1.1012 - accuracy: 0.5750 - val_loss: 4.4394 - val_accuracy: 0.0000e+00\n",
            "Epoch 266/500\n",
            "2/2 [==============================] - 0s 60ms/step - loss: 1.2811 - accuracy: 0.4500 - val_loss: 4.4193 - val_accuracy: 0.0000e+00\n",
            "Epoch 267/500\n",
            "2/2 [==============================] - 0s 40ms/step - loss: 1.2461 - accuracy: 0.4750 - val_loss: 4.3930 - val_accuracy: 0.0000e+00\n",
            "Epoch 268/500\n",
            "2/2 [==============================] - 0s 42ms/step - loss: 1.2178 - accuracy: 0.5250 - val_loss: 4.3665 - val_accuracy: 0.0000e+00\n",
            "Epoch 269/500\n",
            "2/2 [==============================] - 0s 42ms/step - loss: 1.1012 - accuracy: 0.5500 - val_loss: 4.3562 - val_accuracy: 0.0000e+00\n",
            "Epoch 270/500\n",
            "2/2 [==============================] - 0s 70ms/step - loss: 1.2166 - accuracy: 0.5250 - val_loss: 4.3399 - val_accuracy: 0.0000e+00\n",
            "Epoch 271/500\n",
            "2/2 [==============================] - 0s 61ms/step - loss: 1.2121 - accuracy: 0.4750 - val_loss: 4.3145 - val_accuracy: 0.0000e+00\n",
            "Epoch 272/500\n",
            "2/2 [==============================] - 0s 39ms/step - loss: 1.2495 - accuracy: 0.5250 - val_loss: 4.2872 - val_accuracy: 0.0000e+00\n",
            "Epoch 273/500\n",
            "2/2 [==============================] - 0s 57ms/step - loss: 1.2946 - accuracy: 0.5500 - val_loss: 4.2580 - val_accuracy: 0.0000e+00\n",
            "Epoch 274/500\n",
            "2/2 [==============================] - 0s 63ms/step - loss: 1.3086 - accuracy: 0.5500 - val_loss: 4.2579 - val_accuracy: 0.0000e+00\n",
            "Epoch 275/500\n",
            "2/2 [==============================] - 0s 61ms/step - loss: 1.2062 - accuracy: 0.4500 - val_loss: 4.2847 - val_accuracy: 0.1000\n",
            "Epoch 276/500\n",
            "2/2 [==============================] - 0s 42ms/step - loss: 1.2076 - accuracy: 0.5750 - val_loss: 4.3180 - val_accuracy: 0.1000\n",
            "Epoch 277/500\n",
            "2/2 [==============================] - 0s 43ms/step - loss: 1.0182 - accuracy: 0.6500 - val_loss: 4.3492 - val_accuracy: 0.1000\n",
            "Epoch 278/500\n",
            "2/2 [==============================] - 0s 42ms/step - loss: 1.1069 - accuracy: 0.5750 - val_loss: 4.3830 - val_accuracy: 0.1000\n",
            "Epoch 279/500\n",
            "2/2 [==============================] - 0s 43ms/step - loss: 1.2111 - accuracy: 0.4750 - val_loss: 4.4339 - val_accuracy: 0.1000\n",
            "Epoch 280/500\n",
            "2/2 [==============================] - 0s 39ms/step - loss: 1.2363 - accuracy: 0.4250 - val_loss: 4.4718 - val_accuracy: 0.1000\n",
            "Epoch 281/500\n",
            "2/2 [==============================] - 0s 44ms/step - loss: 1.2534 - accuracy: 0.5500 - val_loss: 4.4895 - val_accuracy: 0.1000\n",
            "Epoch 282/500\n",
            "2/2 [==============================] - 0s 61ms/step - loss: 1.1455 - accuracy: 0.6500 - val_loss: 4.4822 - val_accuracy: 0.1000\n",
            "Epoch 283/500\n",
            "2/2 [==============================] - 0s 44ms/step - loss: 1.1035 - accuracy: 0.5500 - val_loss: 4.4694 - val_accuracy: 0.1000\n",
            "Epoch 284/500\n",
            "2/2 [==============================] - 0s 56ms/step - loss: 1.1255 - accuracy: 0.5500 - val_loss: 4.4607 - val_accuracy: 0.1000\n",
            "Epoch 285/500\n",
            "2/2 [==============================] - 0s 41ms/step - loss: 1.0632 - accuracy: 0.6750 - val_loss: 4.4745 - val_accuracy: 0.1000\n",
            "Epoch 286/500\n",
            "2/2 [==============================] - 0s 75ms/step - loss: 1.1165 - accuracy: 0.5500 - val_loss: 4.4849 - val_accuracy: 0.0000e+00\n",
            "Epoch 287/500\n",
            "2/2 [==============================] - 0s 43ms/step - loss: 1.0293 - accuracy: 0.6500 - val_loss: 4.4923 - val_accuracy: 0.0000e+00\n",
            "Epoch 288/500\n",
            "2/2 [==============================] - 0s 40ms/step - loss: 1.0788 - accuracy: 0.5500 - val_loss: 4.4971 - val_accuracy: 0.0000e+00\n",
            "Epoch 289/500\n",
            "2/2 [==============================] - 0s 41ms/step - loss: 1.0818 - accuracy: 0.5750 - val_loss: 4.5062 - val_accuracy: 0.0000e+00\n",
            "Epoch 290/500\n",
            "2/2 [==============================] - 0s 38ms/step - loss: 1.2233 - accuracy: 0.4750 - val_loss: 4.5341 - val_accuracy: 0.0000e+00\n",
            "Epoch 291/500\n",
            "2/2 [==============================] - 0s 54ms/step - loss: 1.1934 - accuracy: 0.6000 - val_loss: 4.5806 - val_accuracy: 0.0000e+00\n",
            "Epoch 292/500\n",
            "2/2 [==============================] - 0s 63ms/step - loss: 1.1481 - accuracy: 0.5500 - val_loss: 4.6363 - val_accuracy: 0.0000e+00\n",
            "Epoch 293/500\n",
            "2/2 [==============================] - 0s 41ms/step - loss: 0.9829 - accuracy: 0.7000 - val_loss: 4.6807 - val_accuracy: 0.0000e+00\n",
            "Epoch 294/500\n",
            "2/2 [==============================] - 0s 62ms/step - loss: 1.2299 - accuracy: 0.5000 - val_loss: 4.7059 - val_accuracy: 0.0000e+00\n",
            "Epoch 295/500\n",
            "2/2 [==============================] - 0s 46ms/step - loss: 1.1488 - accuracy: 0.5500 - val_loss: 4.7052 - val_accuracy: 0.0000e+00\n",
            "Epoch 296/500\n",
            "2/2 [==============================] - 0s 38ms/step - loss: 1.1031 - accuracy: 0.5750 - val_loss: 4.7031 - val_accuracy: 0.0000e+00\n",
            "Epoch 297/500\n",
            "2/2 [==============================] - 0s 41ms/step - loss: 1.2333 - accuracy: 0.5500 - val_loss: 4.6969 - val_accuracy: 0.0000e+00\n",
            "Epoch 298/500\n",
            "2/2 [==============================] - 0s 44ms/step - loss: 1.2499 - accuracy: 0.4750 - val_loss: 4.6997 - val_accuracy: 0.0000e+00\n",
            "Epoch 299/500\n",
            "2/2 [==============================] - 0s 56ms/step - loss: 1.1366 - accuracy: 0.5500 - val_loss: 4.6901 - val_accuracy: 0.0000e+00\n",
            "Epoch 300/500\n",
            "2/2 [==============================] - 0s 59ms/step - loss: 1.1505 - accuracy: 0.5000 - val_loss: 4.6823 - val_accuracy: 0.0000e+00\n",
            "Epoch 301/500\n",
            "2/2 [==============================] - 0s 61ms/step - loss: 0.9751 - accuracy: 0.7250 - val_loss: 4.6855 - val_accuracy: 0.0000e+00\n",
            "Epoch 302/500\n",
            "2/2 [==============================] - 0s 70ms/step - loss: 1.1051 - accuracy: 0.5250 - val_loss: 4.7012 - val_accuracy: 0.0000e+00\n",
            "Epoch 303/500\n",
            "2/2 [==============================] - 0s 42ms/step - loss: 1.1446 - accuracy: 0.5500 - val_loss: 4.7172 - val_accuracy: 0.0000e+00\n",
            "Epoch 304/500\n",
            "2/2 [==============================] - 0s 44ms/step - loss: 1.1651 - accuracy: 0.4500 - val_loss: 4.7222 - val_accuracy: 0.0000e+00\n",
            "Epoch 305/500\n",
            "2/2 [==============================] - 0s 61ms/step - loss: 1.0540 - accuracy: 0.5500 - val_loss: 4.7280 - val_accuracy: 0.0000e+00\n",
            "Epoch 306/500\n",
            "2/2 [==============================] - 0s 40ms/step - loss: 1.1228 - accuracy: 0.6250 - val_loss: 4.7528 - val_accuracy: 0.0000e+00\n",
            "Epoch 307/500\n",
            "2/2 [==============================] - 0s 61ms/step - loss: 1.0286 - accuracy: 0.6000 - val_loss: 4.7814 - val_accuracy: 0.0000e+00\n",
            "Epoch 308/500\n",
            "2/2 [==============================] - 0s 62ms/step - loss: 1.1627 - accuracy: 0.5750 - val_loss: 4.8131 - val_accuracy: 0.0000e+00\n",
            "Epoch 309/500\n",
            "2/2 [==============================] - 0s 60ms/step - loss: 1.1283 - accuracy: 0.5250 - val_loss: 4.8152 - val_accuracy: 0.0000e+00\n",
            "Epoch 310/500\n",
            "2/2 [==============================] - 0s 59ms/step - loss: 1.3525 - accuracy: 0.5750 - val_loss: 4.8051 - val_accuracy: 0.0000e+00\n",
            "Epoch 311/500\n",
            "2/2 [==============================] - 0s 45ms/step - loss: 1.0935 - accuracy: 0.5750 - val_loss: 4.8089 - val_accuracy: 0.0000e+00\n",
            "Epoch 312/500\n",
            "2/2 [==============================] - 0s 44ms/step - loss: 1.0635 - accuracy: 0.6500 - val_loss: 4.8419 - val_accuracy: 0.0000e+00\n",
            "Epoch 313/500\n",
            "2/2 [==============================] - 0s 48ms/step - loss: 1.0190 - accuracy: 0.5500 - val_loss: 4.8778 - val_accuracy: 0.0000e+00\n",
            "Epoch 314/500\n",
            "2/2 [==============================] - 0s 41ms/step - loss: 1.1076 - accuracy: 0.6000 - val_loss: 4.9271 - val_accuracy: 0.0000e+00\n",
            "Epoch 315/500\n",
            "2/2 [==============================] - 0s 52ms/step - loss: 1.0018 - accuracy: 0.5750 - val_loss: 4.9665 - val_accuracy: 0.0000e+00\n",
            "Epoch 316/500\n",
            "2/2 [==============================] - 0s 59ms/step - loss: 1.1573 - accuracy: 0.7000 - val_loss: 4.9833 - val_accuracy: 0.0000e+00\n",
            "Epoch 317/500\n",
            "2/2 [==============================] - 0s 41ms/step - loss: 1.0655 - accuracy: 0.5500 - val_loss: 4.9692 - val_accuracy: 0.0000e+00\n",
            "Epoch 318/500\n",
            "2/2 [==============================] - 0s 77ms/step - loss: 1.1188 - accuracy: 0.5500 - val_loss: 4.9093 - val_accuracy: 0.0000e+00\n",
            "Epoch 319/500\n",
            "2/2 [==============================] - 0s 57ms/step - loss: 1.0281 - accuracy: 0.5750 - val_loss: 4.8153 - val_accuracy: 0.0000e+00\n",
            "Epoch 320/500\n",
            "2/2 [==============================] - 0s 43ms/step - loss: 1.0782 - accuracy: 0.5750 - val_loss: 4.7500 - val_accuracy: 0.0000e+00\n",
            "Epoch 321/500\n",
            "2/2 [==============================] - 0s 57ms/step - loss: 1.0170 - accuracy: 0.6000 - val_loss: 4.7093 - val_accuracy: 0.1000\n",
            "Epoch 322/500\n",
            "2/2 [==============================] - 0s 59ms/step - loss: 1.0580 - accuracy: 0.6000 - val_loss: 4.6751 - val_accuracy: 0.1000\n",
            "Epoch 323/500\n",
            "2/2 [==============================] - 0s 60ms/step - loss: 1.0235 - accuracy: 0.5750 - val_loss: 4.6274 - val_accuracy: 0.1000\n",
            "Epoch 324/500\n",
            "2/2 [==============================] - 0s 40ms/step - loss: 1.0830 - accuracy: 0.5500 - val_loss: 4.6051 - val_accuracy: 0.1000\n",
            "Epoch 325/500\n",
            "2/2 [==============================] - 0s 60ms/step - loss: 1.1675 - accuracy: 0.6000 - val_loss: 4.5983 - val_accuracy: 0.1000\n",
            "Epoch 326/500\n",
            "2/2 [==============================] - 0s 41ms/step - loss: 1.0233 - accuracy: 0.5250 - val_loss: 4.6059 - val_accuracy: 0.1000\n",
            "Epoch 327/500\n",
            "2/2 [==============================] - 0s 63ms/step - loss: 1.0791 - accuracy: 0.5750 - val_loss: 4.6232 - val_accuracy: 0.1000\n",
            "Epoch 328/500\n",
            "2/2 [==============================] - 0s 51ms/step - loss: 1.0180 - accuracy: 0.6000 - val_loss: 4.6578 - val_accuracy: 0.1000\n",
            "Epoch 329/500\n",
            "2/2 [==============================] - 0s 36ms/step - loss: 0.9179 - accuracy: 0.6500 - val_loss: 4.7027 - val_accuracy: 0.1000\n",
            "Epoch 330/500\n",
            "2/2 [==============================] - 0s 61ms/step - loss: 0.9826 - accuracy: 0.7000 - val_loss: 4.7418 - val_accuracy: 0.1000\n",
            "Epoch 331/500\n",
            "2/2 [==============================] - 0s 45ms/step - loss: 1.0097 - accuracy: 0.5500 - val_loss: 4.7897 - val_accuracy: 0.0000e+00\n",
            "Epoch 332/500\n",
            "2/2 [==============================] - 0s 59ms/step - loss: 1.0438 - accuracy: 0.6250 - val_loss: 4.8559 - val_accuracy: 0.0000e+00\n",
            "Epoch 333/500\n",
            "2/2 [==============================] - 0s 80ms/step - loss: 1.0526 - accuracy: 0.5750 - val_loss: 4.9037 - val_accuracy: 0.0000e+00\n",
            "Epoch 334/500\n",
            "2/2 [==============================] - 0s 78ms/step - loss: 1.0425 - accuracy: 0.5500 - val_loss: 4.9377 - val_accuracy: 0.0000e+00\n",
            "Epoch 335/500\n",
            "2/2 [==============================] - 0s 72ms/step - loss: 1.0291 - accuracy: 0.6000 - val_loss: 4.9623 - val_accuracy: 0.0000e+00\n",
            "Epoch 336/500\n",
            "2/2 [==============================] - 0s 63ms/step - loss: 1.0771 - accuracy: 0.6000 - val_loss: 4.9891 - val_accuracy: 0.0000e+00\n",
            "Epoch 337/500\n",
            "2/2 [==============================] - 0s 73ms/step - loss: 1.1496 - accuracy: 0.6000 - val_loss: 4.9778 - val_accuracy: 0.0000e+00\n",
            "Epoch 338/500\n",
            "2/2 [==============================] - 0s 70ms/step - loss: 1.0561 - accuracy: 0.6250 - val_loss: 4.9628 - val_accuracy: 0.0000e+00\n",
            "Epoch 339/500\n",
            "2/2 [==============================] - 0s 87ms/step - loss: 1.1067 - accuracy: 0.6250 - val_loss: 4.9549 - val_accuracy: 0.0000e+00\n",
            "Epoch 340/500\n",
            "2/2 [==============================] - 0s 72ms/step - loss: 0.9251 - accuracy: 0.7250 - val_loss: 4.9440 - val_accuracy: 0.0000e+00\n",
            "Epoch 341/500\n",
            "2/2 [==============================] - 0s 74ms/step - loss: 1.2631 - accuracy: 0.5000 - val_loss: 4.9382 - val_accuracy: 0.0000e+00\n",
            "Epoch 342/500\n",
            "2/2 [==============================] - 0s 75ms/step - loss: 0.9968 - accuracy: 0.6250 - val_loss: 4.9335 - val_accuracy: 0.0000e+00\n",
            "Epoch 343/500\n",
            "2/2 [==============================] - 0s 79ms/step - loss: 0.9301 - accuracy: 0.6750 - val_loss: 4.9424 - val_accuracy: 0.0000e+00\n",
            "Epoch 344/500\n",
            "2/2 [==============================] - 0s 82ms/step - loss: 1.0344 - accuracy: 0.6250 - val_loss: 4.9555 - val_accuracy: 0.0000e+00\n",
            "Epoch 345/500\n",
            "2/2 [==============================] - 0s 84ms/step - loss: 0.9971 - accuracy: 0.5500 - val_loss: 4.9530 - val_accuracy: 0.0000e+00\n",
            "Epoch 346/500\n",
            "2/2 [==============================] - 0s 109ms/step - loss: 0.8483 - accuracy: 0.6750 - val_loss: 4.9577 - val_accuracy: 0.0000e+00\n",
            "Epoch 347/500\n",
            "2/2 [==============================] - 0s 93ms/step - loss: 1.0815 - accuracy: 0.6500 - val_loss: 4.9587 - val_accuracy: 0.0000e+00\n",
            "Epoch 348/500\n",
            "2/2 [==============================] - 0s 85ms/step - loss: 1.0539 - accuracy: 0.6000 - val_loss: 4.9689 - val_accuracy: 0.0000e+00\n",
            "Epoch 349/500\n",
            "2/2 [==============================] - 0s 63ms/step - loss: 1.1451 - accuracy: 0.5750 - val_loss: 4.9749 - val_accuracy: 0.0000e+00\n",
            "Epoch 350/500\n",
            "2/2 [==============================] - 0s 77ms/step - loss: 0.9095 - accuracy: 0.6750 - val_loss: 4.9821 - val_accuracy: 0.0000e+00\n",
            "Epoch 351/500\n",
            "2/2 [==============================] - 0s 68ms/step - loss: 0.9925 - accuracy: 0.6500 - val_loss: 4.9973 - val_accuracy: 0.0000e+00\n",
            "Epoch 352/500\n",
            "2/2 [==============================] - 0s 73ms/step - loss: 1.0384 - accuracy: 0.6000 - val_loss: 5.0137 - val_accuracy: 0.0000e+00\n",
            "Epoch 353/500\n",
            "2/2 [==============================] - 0s 74ms/step - loss: 1.0931 - accuracy: 0.6000 - val_loss: 5.0142 - val_accuracy: 0.0000e+00\n",
            "Epoch 354/500\n",
            "2/2 [==============================] - 0s 74ms/step - loss: 1.0055 - accuracy: 0.6500 - val_loss: 5.0374 - val_accuracy: 0.0000e+00\n",
            "Epoch 355/500\n",
            "2/2 [==============================] - 0s 93ms/step - loss: 1.0087 - accuracy: 0.6500 - val_loss: 5.0752 - val_accuracy: 0.0000e+00\n",
            "Epoch 356/500\n",
            "2/2 [==============================] - 0s 78ms/step - loss: 0.9637 - accuracy: 0.7250 - val_loss: 5.1107 - val_accuracy: 0.0000e+00\n",
            "Epoch 357/500\n",
            "2/2 [==============================] - 0s 77ms/step - loss: 0.8778 - accuracy: 0.7250 - val_loss: 5.1346 - val_accuracy: 0.0000e+00\n",
            "Epoch 358/500\n",
            "2/2 [==============================] - 0s 97ms/step - loss: 0.9126 - accuracy: 0.6500 - val_loss: 5.1608 - val_accuracy: 0.0000e+00\n",
            "Epoch 359/500\n",
            "2/2 [==============================] - 0s 97ms/step - loss: 0.9646 - accuracy: 0.7250 - val_loss: 5.2171 - val_accuracy: 0.0000e+00\n",
            "Epoch 360/500\n",
            "2/2 [==============================] - 0s 69ms/step - loss: 1.0182 - accuracy: 0.6250 - val_loss: 5.2702 - val_accuracy: 0.0000e+00\n",
            "Epoch 361/500\n",
            "2/2 [==============================] - 0s 79ms/step - loss: 1.0248 - accuracy: 0.6500 - val_loss: 5.3174 - val_accuracy: 0.0000e+00\n",
            "Epoch 362/500\n",
            "2/2 [==============================] - 0s 91ms/step - loss: 0.9168 - accuracy: 0.6250 - val_loss: 5.3286 - val_accuracy: 0.0000e+00\n",
            "Epoch 363/500\n",
            "2/2 [==============================] - 0s 66ms/step - loss: 1.1051 - accuracy: 0.5750 - val_loss: 5.3198 - val_accuracy: 0.0000e+00\n",
            "Epoch 364/500\n",
            "2/2 [==============================] - 0s 60ms/step - loss: 0.9234 - accuracy: 0.7250 - val_loss: 5.3187 - val_accuracy: 0.0000e+00\n",
            "Epoch 365/500\n",
            "2/2 [==============================] - 0s 82ms/step - loss: 1.0467 - accuracy: 0.6000 - val_loss: 5.3188 - val_accuracy: 0.0000e+00\n",
            "Epoch 366/500\n",
            "2/2 [==============================] - 0s 82ms/step - loss: 1.0372 - accuracy: 0.6000 - val_loss: 5.3233 - val_accuracy: 0.0000e+00\n",
            "Epoch 367/500\n",
            "2/2 [==============================] - 0s 88ms/step - loss: 1.0506 - accuracy: 0.5500 - val_loss: 5.3329 - val_accuracy: 0.0000e+00\n",
            "Epoch 368/500\n",
            "2/2 [==============================] - 0s 78ms/step - loss: 1.0023 - accuracy: 0.6000 - val_loss: 5.3204 - val_accuracy: 0.0000e+00\n",
            "Epoch 369/500\n",
            "2/2 [==============================] - 0s 83ms/step - loss: 0.8453 - accuracy: 0.7250 - val_loss: 5.2845 - val_accuracy: 0.0000e+00\n",
            "Epoch 370/500\n",
            "2/2 [==============================] - 0s 49ms/step - loss: 1.0158 - accuracy: 0.5750 - val_loss: 5.2376 - val_accuracy: 0.0000e+00\n",
            "Epoch 371/500\n",
            "2/2 [==============================] - 0s 63ms/step - loss: 0.9480 - accuracy: 0.6500 - val_loss: 5.1898 - val_accuracy: 0.0000e+00\n",
            "Epoch 372/500\n",
            "2/2 [==============================] - 0s 44ms/step - loss: 0.7817 - accuracy: 0.7250 - val_loss: 5.1509 - val_accuracy: 0.0000e+00\n",
            "Epoch 373/500\n",
            "2/2 [==============================] - 0s 42ms/step - loss: 0.8767 - accuracy: 0.6750 - val_loss: 5.1179 - val_accuracy: 0.0000e+00\n",
            "Epoch 374/500\n",
            "2/2 [==============================] - 0s 46ms/step - loss: 1.0334 - accuracy: 0.6500 - val_loss: 5.0703 - val_accuracy: 0.0000e+00\n",
            "Epoch 375/500\n",
            "2/2 [==============================] - 0s 65ms/step - loss: 1.0030 - accuracy: 0.5750 - val_loss: 5.0079 - val_accuracy: 0.0000e+00\n",
            "Epoch 376/500\n",
            "2/2 [==============================] - 0s 42ms/step - loss: 0.9818 - accuracy: 0.7250 - val_loss: 4.9534 - val_accuracy: 0.0000e+00\n",
            "Epoch 377/500\n",
            "2/2 [==============================] - 0s 73ms/step - loss: 1.0866 - accuracy: 0.6500 - val_loss: 4.9192 - val_accuracy: 0.0000e+00\n",
            "Epoch 378/500\n",
            "2/2 [==============================] - 0s 50ms/step - loss: 0.9074 - accuracy: 0.7250 - val_loss: 4.8944 - val_accuracy: 0.0000e+00\n",
            "Epoch 379/500\n",
            "2/2 [==============================] - 0s 44ms/step - loss: 0.8249 - accuracy: 0.6750 - val_loss: 4.8693 - val_accuracy: 0.0000e+00\n",
            "Epoch 380/500\n",
            "2/2 [==============================] - 0s 46ms/step - loss: 0.9788 - accuracy: 0.5750 - val_loss: 4.8660 - val_accuracy: 0.0000e+00\n",
            "Epoch 381/500\n",
            "2/2 [==============================] - 0s 63ms/step - loss: 1.0065 - accuracy: 0.6750 - val_loss: 4.8794 - val_accuracy: 0.0000e+00\n",
            "Epoch 382/500\n",
            "2/2 [==============================] - 0s 54ms/step - loss: 0.8721 - accuracy: 0.6750 - val_loss: 4.8947 - val_accuracy: 0.0000e+00\n",
            "Epoch 383/500\n",
            "2/2 [==============================] - 0s 65ms/step - loss: 1.0557 - accuracy: 0.6000 - val_loss: 4.9188 - val_accuracy: 0.0000e+00\n",
            "Epoch 384/500\n",
            "2/2 [==============================] - 0s 63ms/step - loss: 0.9480 - accuracy: 0.6500 - val_loss: 4.9329 - val_accuracy: 0.0000e+00\n",
            "Epoch 385/500\n",
            "2/2 [==============================] - 0s 45ms/step - loss: 0.7186 - accuracy: 0.8000 - val_loss: 4.9259 - val_accuracy: 0.0000e+00\n",
            "Epoch 386/500\n",
            "2/2 [==============================] - 0s 51ms/step - loss: 0.9661 - accuracy: 0.6500 - val_loss: 4.9129 - val_accuracy: 0.1000\n",
            "Epoch 387/500\n",
            "2/2 [==============================] - 0s 42ms/step - loss: 0.8455 - accuracy: 0.8250 - val_loss: 4.9025 - val_accuracy: 0.1000\n",
            "Epoch 388/500\n",
            "2/2 [==============================] - 0s 64ms/step - loss: 1.2025 - accuracy: 0.5500 - val_loss: 4.9020 - val_accuracy: 0.1000\n",
            "Epoch 389/500\n",
            "2/2 [==============================] - 0s 41ms/step - loss: 0.8851 - accuracy: 0.6500 - val_loss: 4.9130 - val_accuracy: 0.1000\n",
            "Epoch 390/500\n",
            "2/2 [==============================] - 0s 42ms/step - loss: 0.8766 - accuracy: 0.7500 - val_loss: 4.9353 - val_accuracy: 0.1000\n",
            "Epoch 391/500\n",
            "2/2 [==============================] - 0s 50ms/step - loss: 0.9939 - accuracy: 0.7000 - val_loss: 4.9746 - val_accuracy: 0.1000\n",
            "Epoch 392/500\n",
            "2/2 [==============================] - 0s 61ms/step - loss: 0.9528 - accuracy: 0.6750 - val_loss: 5.0096 - val_accuracy: 0.1000\n",
            "Epoch 393/500\n",
            "2/2 [==============================] - 0s 46ms/step - loss: 0.8928 - accuracy: 0.7500 - val_loss: 5.0231 - val_accuracy: 0.1000\n",
            "Epoch 394/500\n",
            "2/2 [==============================] - 0s 59ms/step - loss: 0.8343 - accuracy: 0.7500 - val_loss: 5.0535 - val_accuracy: 0.1000\n",
            "Epoch 395/500\n",
            "2/2 [==============================] - 0s 39ms/step - loss: 0.9970 - accuracy: 0.5250 - val_loss: 5.0866 - val_accuracy: 0.1000\n",
            "Epoch 396/500\n",
            "2/2 [==============================] - 0s 42ms/step - loss: 1.0099 - accuracy: 0.6500 - val_loss: 5.1029 - val_accuracy: 0.1000\n",
            "Epoch 397/500\n",
            "2/2 [==============================] - 0s 61ms/step - loss: 0.9082 - accuracy: 0.6750 - val_loss: 5.0935 - val_accuracy: 0.1000\n",
            "Epoch 398/500\n",
            "2/2 [==============================] - 0s 51ms/step - loss: 0.9313 - accuracy: 0.6250 - val_loss: 5.0862 - val_accuracy: 0.1000\n",
            "Epoch 399/500\n",
            "2/2 [==============================] - 0s 43ms/step - loss: 0.7747 - accuracy: 0.7500 - val_loss: 5.0891 - val_accuracy: 0.1000\n",
            "Epoch 400/500\n",
            "2/2 [==============================] - 0s 44ms/step - loss: 0.8882 - accuracy: 0.6250 - val_loss: 5.1012 - val_accuracy: 0.1000\n",
            "Epoch 401/500\n",
            "2/2 [==============================] - 0s 44ms/step - loss: 0.8954 - accuracy: 0.6000 - val_loss: 5.1351 - val_accuracy: 0.1000\n",
            "Epoch 402/500\n",
            "2/2 [==============================] - 0s 47ms/step - loss: 0.8336 - accuracy: 0.6750 - val_loss: 5.1638 - val_accuracy: 0.1000\n",
            "Epoch 403/500\n",
            "2/2 [==============================] - 0s 57ms/step - loss: 0.9291 - accuracy: 0.6500 - val_loss: 5.1879 - val_accuracy: 0.1000\n",
            "Epoch 404/500\n",
            "2/2 [==============================] - 0s 40ms/step - loss: 0.9939 - accuracy: 0.5750 - val_loss: 5.2008 - val_accuracy: 0.0000e+00\n",
            "Epoch 405/500\n",
            "2/2 [==============================] - 0s 45ms/step - loss: 1.0072 - accuracy: 0.5500 - val_loss: 5.1968 - val_accuracy: 0.0000e+00\n",
            "Epoch 406/500\n",
            "2/2 [==============================] - 0s 63ms/step - loss: 0.9350 - accuracy: 0.6500 - val_loss: 5.1915 - val_accuracy: 0.1000\n",
            "Epoch 407/500\n",
            "2/2 [==============================] - 0s 55ms/step - loss: 1.0366 - accuracy: 0.7000 - val_loss: 5.1706 - val_accuracy: 0.1000\n",
            "Epoch 408/500\n",
            "2/2 [==============================] - 0s 61ms/step - loss: 0.8327 - accuracy: 0.7000 - val_loss: 5.1582 - val_accuracy: 0.1000\n",
            "Epoch 409/500\n",
            "2/2 [==============================] - 0s 42ms/step - loss: 0.8449 - accuracy: 0.7500 - val_loss: 5.1526 - val_accuracy: 0.1000\n",
            "Epoch 410/500\n",
            "2/2 [==============================] - 0s 61ms/step - loss: 0.8241 - accuracy: 0.7250 - val_loss: 5.1590 - val_accuracy: 0.1000\n",
            "Epoch 411/500\n",
            "2/2 [==============================] - 0s 45ms/step - loss: 0.9503 - accuracy: 0.5750 - val_loss: 5.1538 - val_accuracy: 0.1000\n",
            "Epoch 412/500\n",
            "2/2 [==============================] - 0s 42ms/step - loss: 0.8162 - accuracy: 0.7000 - val_loss: 5.1551 - val_accuracy: 0.1000\n",
            "Epoch 413/500\n",
            "2/2 [==============================] - 0s 68ms/step - loss: 0.8315 - accuracy: 0.7500 - val_loss: 5.1674 - val_accuracy: 0.1000\n",
            "Epoch 414/500\n",
            "2/2 [==============================] - 0s 44ms/step - loss: 0.9327 - accuracy: 0.7000 - val_loss: 5.1852 - val_accuracy: 0.1000\n",
            "Epoch 415/500\n",
            "2/2 [==============================] - 0s 44ms/step - loss: 0.8075 - accuracy: 0.7000 - val_loss: 5.2093 - val_accuracy: 0.1000\n",
            "Epoch 416/500\n",
            "2/2 [==============================] - 0s 42ms/step - loss: 0.8126 - accuracy: 0.7750 - val_loss: 5.2623 - val_accuracy: 0.1000\n",
            "Epoch 417/500\n",
            "2/2 [==============================] - 0s 46ms/step - loss: 0.8440 - accuracy: 0.6500 - val_loss: 5.3077 - val_accuracy: 0.1000\n",
            "Epoch 418/500\n",
            "2/2 [==============================] - 0s 64ms/step - loss: 0.8653 - accuracy: 0.6750 - val_loss: 5.3635 - val_accuracy: 0.1000\n",
            "Epoch 419/500\n",
            "2/2 [==============================] - 0s 63ms/step - loss: 0.7905 - accuracy: 0.8000 - val_loss: 5.4084 - val_accuracy: 0.1000\n",
            "Epoch 420/500\n",
            "2/2 [==============================] - 0s 44ms/step - loss: 0.8776 - accuracy: 0.6500 - val_loss: 5.4229 - val_accuracy: 0.1000\n",
            "Epoch 421/500\n",
            "2/2 [==============================] - 0s 48ms/step - loss: 0.8852 - accuracy: 0.6000 - val_loss: 5.4339 - val_accuracy: 0.1000\n",
            "Epoch 422/500\n",
            "2/2 [==============================] - 0s 65ms/step - loss: 0.7716 - accuracy: 0.8000 - val_loss: 5.4478 - val_accuracy: 0.1000\n",
            "Epoch 423/500\n",
            "2/2 [==============================] - 0s 42ms/step - loss: 0.8182 - accuracy: 0.7500 - val_loss: 5.4563 - val_accuracy: 0.1000\n",
            "Epoch 424/500\n",
            "2/2 [==============================] - 0s 52ms/step - loss: 0.8588 - accuracy: 0.6250 - val_loss: 5.4599 - val_accuracy: 0.1000\n",
            "Epoch 425/500\n",
            "2/2 [==============================] - 0s 62ms/step - loss: 0.7506 - accuracy: 0.6500 - val_loss: 5.4540 - val_accuracy: 0.1000\n",
            "Epoch 426/500\n",
            "2/2 [==============================] - 0s 42ms/step - loss: 0.7158 - accuracy: 0.6750 - val_loss: 5.4193 - val_accuracy: 0.1000\n",
            "Epoch 427/500\n",
            "2/2 [==============================] - 0s 46ms/step - loss: 1.0332 - accuracy: 0.6500 - val_loss: 5.3753 - val_accuracy: 0.1000\n",
            "Epoch 428/500\n",
            "2/2 [==============================] - 0s 63ms/step - loss: 0.6960 - accuracy: 0.7250 - val_loss: 5.3169 - val_accuracy: 0.1000\n",
            "Epoch 429/500\n",
            "2/2 [==============================] - 0s 54ms/step - loss: 0.8887 - accuracy: 0.6250 - val_loss: 5.2771 - val_accuracy: 0.1000\n",
            "Epoch 430/500\n",
            "2/2 [==============================] - 0s 70ms/step - loss: 0.8520 - accuracy: 0.7000 - val_loss: 5.2453 - val_accuracy: 0.1000\n",
            "Epoch 431/500\n",
            "2/2 [==============================] - 0s 44ms/step - loss: 0.7375 - accuracy: 0.7000 - val_loss: 5.2234 - val_accuracy: 0.1000\n",
            "Epoch 432/500\n",
            "2/2 [==============================] - 0s 43ms/step - loss: 0.9743 - accuracy: 0.5500 - val_loss: 5.2032 - val_accuracy: 0.1000\n",
            "Epoch 433/500\n",
            "2/2 [==============================] - 0s 46ms/step - loss: 1.0837 - accuracy: 0.5750 - val_loss: 5.2147 - val_accuracy: 0.1000\n",
            "Epoch 434/500\n",
            "2/2 [==============================] - 0s 64ms/step - loss: 0.6343 - accuracy: 0.8250 - val_loss: 5.2293 - val_accuracy: 0.1000\n",
            "Epoch 435/500\n",
            "2/2 [==============================] - 0s 62ms/step - loss: 0.7070 - accuracy: 0.7250 - val_loss: 5.2430 - val_accuracy: 0.1000\n",
            "Epoch 436/500\n",
            "2/2 [==============================] - 0s 62ms/step - loss: 0.7279 - accuracy: 0.8000 - val_loss: 5.2491 - val_accuracy: 0.1000\n",
            "Epoch 437/500\n",
            "2/2 [==============================] - 0s 45ms/step - loss: 0.8592 - accuracy: 0.7000 - val_loss: 5.2722 - val_accuracy: 0.1000\n",
            "Epoch 438/500\n",
            "2/2 [==============================] - 0s 48ms/step - loss: 0.8074 - accuracy: 0.7250 - val_loss: 5.3050 - val_accuracy: 0.1000\n",
            "Epoch 439/500\n",
            "2/2 [==============================] - 0s 63ms/step - loss: 0.6656 - accuracy: 0.7500 - val_loss: 5.3359 - val_accuracy: 0.1000\n",
            "Epoch 440/500\n",
            "2/2 [==============================] - 0s 41ms/step - loss: 0.9036 - accuracy: 0.6750 - val_loss: 5.3449 - val_accuracy: 0.1000\n",
            "Epoch 441/500\n",
            "2/2 [==============================] - 0s 71ms/step - loss: 0.9701 - accuracy: 0.6000 - val_loss: 5.3288 - val_accuracy: 0.1000\n",
            "Epoch 442/500\n",
            "2/2 [==============================] - 0s 46ms/step - loss: 0.8622 - accuracy: 0.6500 - val_loss: 5.3223 - val_accuracy: 0.1000\n",
            "Epoch 443/500\n",
            "2/2 [==============================] - 0s 42ms/step - loss: 0.8798 - accuracy: 0.7250 - val_loss: 5.2880 - val_accuracy: 0.1000\n",
            "Epoch 444/500\n",
            "2/2 [==============================] - 0s 69ms/step - loss: 0.8086 - accuracy: 0.6750 - val_loss: 5.2504 - val_accuracy: 0.1000\n",
            "Epoch 445/500\n",
            "2/2 [==============================] - 0s 61ms/step - loss: 0.7906 - accuracy: 0.6250 - val_loss: 5.2225 - val_accuracy: 0.1000\n",
            "Epoch 446/500\n",
            "2/2 [==============================] - 0s 46ms/step - loss: 0.8263 - accuracy: 0.7000 - val_loss: 5.1838 - val_accuracy: 0.1000\n",
            "Epoch 447/500\n",
            "2/2 [==============================] - 0s 48ms/step - loss: 0.6261 - accuracy: 0.8500 - val_loss: 5.1576 - val_accuracy: 0.1000\n",
            "Epoch 448/500\n",
            "2/2 [==============================] - 0s 62ms/step - loss: 0.7986 - accuracy: 0.7000 - val_loss: 5.1358 - val_accuracy: 0.1000\n",
            "Epoch 449/500\n",
            "2/2 [==============================] - 0s 55ms/step - loss: 0.9007 - accuracy: 0.6500 - val_loss: 5.1119 - val_accuracy: 0.1000\n",
            "Epoch 450/500\n",
            "2/2 [==============================] - 0s 45ms/step - loss: 0.9027 - accuracy: 0.6250 - val_loss: 5.0884 - val_accuracy: 0.1000\n",
            "Epoch 451/500\n",
            "2/2 [==============================] - 0s 48ms/step - loss: 0.7371 - accuracy: 0.7250 - val_loss: 5.0724 - val_accuracy: 0.1000\n",
            "Epoch 452/500\n",
            "2/2 [==============================] - 0s 49ms/step - loss: 1.0298 - accuracy: 0.6250 - val_loss: 5.0810 - val_accuracy: 0.1000\n",
            "Epoch 453/500\n",
            "2/2 [==============================] - 0s 63ms/step - loss: 0.6594 - accuracy: 0.8500 - val_loss: 5.1004 - val_accuracy: 0.1000\n",
            "Epoch 454/500\n",
            "2/2 [==============================] - 0s 49ms/step - loss: 0.8496 - accuracy: 0.7250 - val_loss: 5.1352 - val_accuracy: 0.1000\n",
            "Epoch 455/500\n",
            "2/2 [==============================] - 0s 68ms/step - loss: 0.8628 - accuracy: 0.7000 - val_loss: 5.1678 - val_accuracy: 0.1000\n",
            "Epoch 456/500\n",
            "2/2 [==============================] - 0s 60ms/step - loss: 0.7884 - accuracy: 0.7500 - val_loss: 5.1953 - val_accuracy: 0.1000\n",
            "Epoch 457/500\n",
            "2/2 [==============================] - 0s 63ms/step - loss: 0.7877 - accuracy: 0.7500 - val_loss: 5.2208 - val_accuracy: 0.0000e+00\n",
            "Epoch 458/500\n",
            "2/2 [==============================] - 0s 58ms/step - loss: 0.7114 - accuracy: 0.8000 - val_loss: 5.2284 - val_accuracy: 0.0000e+00\n",
            "Epoch 459/500\n",
            "2/2 [==============================] - 0s 40ms/step - loss: 0.8270 - accuracy: 0.7500 - val_loss: 5.2447 - val_accuracy: 0.0000e+00\n",
            "Epoch 460/500\n",
            "2/2 [==============================] - 0s 64ms/step - loss: 0.7777 - accuracy: 0.7000 - val_loss: 5.2726 - val_accuracy: 0.1000\n",
            "Epoch 461/500\n",
            "2/2 [==============================] - 0s 44ms/step - loss: 0.7421 - accuracy: 0.7000 - val_loss: 5.3055 - val_accuracy: 0.1000\n",
            "Epoch 462/500\n",
            "2/2 [==============================] - 0s 56ms/step - loss: 0.8936 - accuracy: 0.7000 - val_loss: 5.3334 - val_accuracy: 0.1000\n",
            "Epoch 463/500\n",
            "2/2 [==============================] - 0s 43ms/step - loss: 0.8736 - accuracy: 0.6000 - val_loss: 5.3376 - val_accuracy: 0.1000\n",
            "Epoch 464/500\n",
            "2/2 [==============================] - 0s 47ms/step - loss: 0.8540 - accuracy: 0.6750 - val_loss: 5.3155 - val_accuracy: 0.1000\n",
            "Epoch 465/500\n",
            "2/2 [==============================] - 0s 43ms/step - loss: 0.7636 - accuracy: 0.6750 - val_loss: 5.2965 - val_accuracy: 0.1000\n",
            "Epoch 466/500\n",
            "2/2 [==============================] - 0s 45ms/step - loss: 0.7387 - accuracy: 0.7000 - val_loss: 5.2729 - val_accuracy: 0.1000\n",
            "Epoch 467/500\n",
            "2/2 [==============================] - 0s 62ms/step - loss: 0.7443 - accuracy: 0.7500 - val_loss: 5.2758 - val_accuracy: 0.1000\n",
            "Epoch 468/500\n",
            "2/2 [==============================] - 0s 59ms/step - loss: 0.6935 - accuracy: 0.7750 - val_loss: 5.2707 - val_accuracy: 0.1000\n",
            "Epoch 469/500\n",
            "2/2 [==============================] - 0s 42ms/step - loss: 0.9151 - accuracy: 0.5500 - val_loss: 5.2946 - val_accuracy: 0.1000\n",
            "Epoch 470/500\n",
            "2/2 [==============================] - 0s 41ms/step - loss: 1.0258 - accuracy: 0.7000 - val_loss: 5.3767 - val_accuracy: 0.1000\n",
            "Epoch 471/500\n",
            "2/2 [==============================] - 0s 53ms/step - loss: 0.7518 - accuracy: 0.7000 - val_loss: 5.4648 - val_accuracy: 0.1000\n",
            "Epoch 472/500\n",
            "2/2 [==============================] - 0s 59ms/step - loss: 0.7995 - accuracy: 0.7500 - val_loss: 5.5546 - val_accuracy: 0.1000\n",
            "Epoch 473/500\n",
            "2/2 [==============================] - 0s 46ms/step - loss: 0.7999 - accuracy: 0.6250 - val_loss: 5.6496 - val_accuracy: 0.1000\n",
            "Epoch 474/500\n",
            "2/2 [==============================] - 0s 50ms/step - loss: 0.7041 - accuracy: 0.7000 - val_loss: 5.7205 - val_accuracy: 0.1000\n",
            "Epoch 475/500\n",
            "2/2 [==============================] - 0s 72ms/step - loss: 0.6594 - accuracy: 0.8000 - val_loss: 5.7604 - val_accuracy: 0.1000\n",
            "Epoch 476/500\n",
            "2/2 [==============================] - 0s 63ms/step - loss: 0.8015 - accuracy: 0.6750 - val_loss: 5.7867 - val_accuracy: 0.1000\n",
            "Epoch 477/500\n",
            "2/2 [==============================] - 0s 61ms/step - loss: 0.7517 - accuracy: 0.8500 - val_loss: 5.8231 - val_accuracy: 0.1000\n",
            "Epoch 478/500\n",
            "2/2 [==============================] - 0s 63ms/step - loss: 0.7548 - accuracy: 0.7750 - val_loss: 5.8323 - val_accuracy: 0.1000\n",
            "Epoch 479/500\n",
            "2/2 [==============================] - 0s 64ms/step - loss: 0.9057 - accuracy: 0.6750 - val_loss: 5.8495 - val_accuracy: 0.1000\n",
            "Epoch 480/500\n",
            "2/2 [==============================] - 0s 42ms/step - loss: 0.8515 - accuracy: 0.6000 - val_loss: 5.8423 - val_accuracy: 0.1000\n",
            "Epoch 481/500\n",
            "2/2 [==============================] - 0s 68ms/step - loss: 0.8390 - accuracy: 0.8000 - val_loss: 5.8193 - val_accuracy: 0.1000\n",
            "Epoch 482/500\n",
            "2/2 [==============================] - 0s 48ms/step - loss: 0.8165 - accuracy: 0.7000 - val_loss: 5.8160 - val_accuracy: 0.1000\n",
            "Epoch 483/500\n",
            "2/2 [==============================] - 0s 70ms/step - loss: 0.8121 - accuracy: 0.7000 - val_loss: 5.8221 - val_accuracy: 0.1000\n",
            "Epoch 484/500\n",
            "2/2 [==============================] - 0s 45ms/step - loss: 0.8109 - accuracy: 0.6500 - val_loss: 5.8072 - val_accuracy: 0.1000\n",
            "Epoch 485/500\n",
            "2/2 [==============================] - 0s 45ms/step - loss: 0.6784 - accuracy: 0.7750 - val_loss: 5.7852 - val_accuracy: 0.1000\n",
            "Epoch 486/500\n",
            "2/2 [==============================] - 0s 60ms/step - loss: 0.7631 - accuracy: 0.7250 - val_loss: 5.7475 - val_accuracy: 0.1000\n",
            "Epoch 487/500\n",
            "2/2 [==============================] - 0s 43ms/step - loss: 0.8148 - accuracy: 0.6500 - val_loss: 5.7257 - val_accuracy: 0.1000\n",
            "Epoch 488/500\n",
            "2/2 [==============================] - 0s 59ms/step - loss: 0.7943 - accuracy: 0.7000 - val_loss: 5.7257 - val_accuracy: 0.1000\n",
            "Epoch 489/500\n",
            "2/2 [==============================] - 0s 55ms/step - loss: 0.7339 - accuracy: 0.7500 - val_loss: 5.7283 - val_accuracy: 0.1000\n",
            "Epoch 490/500\n",
            "2/2 [==============================] - 0s 68ms/step - loss: 0.7417 - accuracy: 0.7500 - val_loss: 5.7353 - val_accuracy: 0.1000\n",
            "Epoch 491/500\n",
            "2/2 [==============================] - 0s 50ms/step - loss: 0.7382 - accuracy: 0.7500 - val_loss: 5.7591 - val_accuracy: 0.0000e+00\n",
            "Epoch 492/500\n",
            "2/2 [==============================] - 0s 61ms/step - loss: 0.7490 - accuracy: 0.7500 - val_loss: 5.7885 - val_accuracy: 0.0000e+00\n",
            "Epoch 493/500\n",
            "2/2 [==============================] - 0s 47ms/step - loss: 0.8347 - accuracy: 0.7000 - val_loss: 5.8088 - val_accuracy: 0.0000e+00\n",
            "Epoch 494/500\n",
            "2/2 [==============================] - 0s 43ms/step - loss: 0.8346 - accuracy: 0.7250 - val_loss: 5.7993 - val_accuracy: 0.0000e+00\n",
            "Epoch 495/500\n",
            "2/2 [==============================] - 0s 65ms/step - loss: 0.8441 - accuracy: 0.6750 - val_loss: 5.7926 - val_accuracy: 0.0000e+00\n",
            "Epoch 496/500\n",
            "2/2 [==============================] - 0s 62ms/step - loss: 0.7492 - accuracy: 0.7500 - val_loss: 5.7865 - val_accuracy: 0.0000e+00\n",
            "Epoch 497/500\n",
            "2/2 [==============================] - 0s 63ms/step - loss: 0.5868 - accuracy: 0.9000 - val_loss: 5.7973 - val_accuracy: 0.0000e+00\n",
            "Epoch 498/500\n",
            "2/2 [==============================] - 0s 44ms/step - loss: 0.6788 - accuracy: 0.7750 - val_loss: 5.7941 - val_accuracy: 0.0000e+00\n",
            "Epoch 499/500\n",
            "2/2 [==============================] - 0s 62ms/step - loss: 0.7028 - accuracy: 0.7500 - val_loss: 5.8088 - val_accuracy: 0.0000e+00\n",
            "Epoch 500/500\n",
            "2/2 [==============================] - 0s 47ms/step - loss: 0.7107 - accuracy: 0.6750 - val_loss: 5.8359 - val_accuracy: 0.0000e+00\n"
          ]
        },
        {
          "output_type": "execute_result",
          "data": {
            "text/plain": [
              "<keras.callbacks.History at 0x7f04e27b86a0>"
            ]
          },
          "metadata": {},
          "execution_count": 49
        }
      ]
    }
  ]
}